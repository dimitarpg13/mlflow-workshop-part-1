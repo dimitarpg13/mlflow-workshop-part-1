{
 "cells": [
  {
   "cell_type": "markdown",
   "metadata": {
    "application/vnd.databricks.v1+cell": {
     "cellMetadata": {
      "byteLimit": 2048000,
      "rowLimit": 10000
     },
     "inputWidgets": {},
     "nuid": "7a3b0725-f38d-43f7-9fc6-ac3cd22d4e45",
     "showTitle": false,
     "tableResultSettingsMap": {},
     "title": ""
    }
   },
   "source": [
    "Randorm Forest Classifier class definition `RFCModel`"
   ]
  },
  {
   "cell_type": "code",
   "execution_count": 0,
   "metadata": {
    "application/vnd.databricks.v1+cell": {
     "cellMetadata": {
      "byteLimit": 2048000,
      "rowLimit": 10000
     },
     "inputWidgets": {},
     "nuid": "40c17b9a-005a-430e-b976-be03d9653b9e",
     "showTitle": false,
     "tableResultSettingsMap": {},
     "title": ""
    }
   },
   "outputs": [
    {
     "output_type": "stream",
     "name": "stdout",
     "output_type": "stream",
     "text": [
      "Requirement already satisfied: typing_extensions==4.5.0 in /local_disk0/.ephemeral_nfs/envs/pythonEnv-184635b4-16d8-49a5-83db-996f5690cee5/lib/python3.10/site-packages (4.5.0)\nRequirement already satisfied: mlflow in /local_disk0/.ephemeral_nfs/envs/pythonEnv-184635b4-16d8-49a5-83db-996f5690cee5/lib/python3.10/site-packages (3.1.4)\nRequirement already satisfied: numpy<3 in /databricks/python3/lib/python3.10/site-packages (from mlflow) (1.23.5)\nRequirement already satisfied: scikit-learn<2 in /databricks/python3/lib/python3.10/site-packages (from mlflow) (1.1.1)\nRequirement already satisfied: matplotlib<4 in /databricks/python3/lib/python3.10/site-packages (from mlflow) (3.7.0)\nRequirement already satisfied: alembic!=1.10.0,<2 in /local_disk0/.ephemeral_nfs/envs/pythonEnv-184635b4-16d8-49a5-83db-996f5690cee5/lib/python3.10/site-packages (from mlflow) (1.14.1)\nRequirement already satisfied: Flask<4 in /local_disk0/.ephemeral_nfs/envs/pythonEnv-184635b4-16d8-49a5-83db-996f5690cee5/lib/python3.10/site-packages (from mlflow) (3.1.1)\nRequirement already satisfied: gunicorn<24 in /local_disk0/.ephemeral_nfs/envs/pythonEnv-184635b4-16d8-49a5-83db-996f5690cee5/lib/python3.10/site-packages (from mlflow) (23.0.0)\nRequirement already satisfied: pandas<3 in /databricks/python3/lib/python3.10/site-packages (from mlflow) (1.5.3)\nRequirement already satisfied: pyarrow<21,>=4.0.0 in /databricks/python3/lib/python3.10/site-packages (from mlflow) (8.0.0)\nRequirement already satisfied: sqlalchemy<3,>=1.4.0 in /local_disk0/.ephemeral_nfs/envs/pythonEnv-184635b4-16d8-49a5-83db-996f5690cee5/lib/python3.10/site-packages (from mlflow) (2.0.24)\nRequirement already satisfied: docker<8,>=4.0.0 in /local_disk0/.ephemeral_nfs/envs/pythonEnv-184635b4-16d8-49a5-83db-996f5690cee5/lib/python3.10/site-packages (from mlflow) (7.1.0)\nRequirement already satisfied: scipy<2 in /databricks/python3/lib/python3.10/site-packages (from mlflow) (1.10.0)\nRequirement already satisfied: graphene<4 in /local_disk0/.ephemeral_nfs/envs/pythonEnv-184635b4-16d8-49a5-83db-996f5690cee5/lib/python3.10/site-packages (from mlflow) (3.3)\nRequirement already satisfied: mlflow-skinny==3.1.4 in /local_disk0/.ephemeral_nfs/envs/pythonEnv-184635b4-16d8-49a5-83db-996f5690cee5/lib/python3.10/site-packages (from mlflow) (3.1.4)\nRequirement already satisfied: opentelemetry-sdk<3,>=1.9.0 in /local_disk0/.ephemeral_nfs/envs/pythonEnv-184635b4-16d8-49a5-83db-996f5690cee5/lib/python3.10/site-packages (from mlflow-skinny==3.1.4->mlflow) (1.36.0)\nRequirement already satisfied: cachetools<7,>=5.0.0 in /databricks/python3/lib/python3.10/site-packages (from mlflow-skinny==3.1.4->mlflow) (5.3.2)\nRequirement already satisfied: opentelemetry-api<3,>=1.9.0 in /local_disk0/.ephemeral_nfs/envs/pythonEnv-184635b4-16d8-49a5-83db-996f5690cee5/lib/python3.10/site-packages (from mlflow-skinny==3.1.4->mlflow) (1.36.0)\nRequirement already satisfied: sqlparse<1,>=0.4.0 in /local_disk0/.ephemeral_nfs/envs/pythonEnv-184635b4-16d8-49a5-83db-996f5690cee5/lib/python3.10/site-packages (from mlflow-skinny==3.1.4->mlflow) (0.5.3)\nRequirement already satisfied: databricks-sdk<1,>=0.20.0 in /databricks/python3/lib/python3.10/site-packages (from mlflow-skinny==3.1.4->mlflow) (0.20.0)\nRequirement already satisfied: protobuf<7,>=3.12.0 in /databricks/python3/lib/python3.10/site-packages (from mlflow-skinny==3.1.4->mlflow) (4.25.5)\nRequirement already satisfied: cloudpickle<4 in /local_disk0/.ephemeral_nfs/envs/pythonEnv-184635b4-16d8-49a5-83db-996f5690cee5/lib/python3.10/site-packages (from mlflow-skinny==3.1.4->mlflow) (3.1.1)\nRequirement already satisfied: click<9,>=7.0 in /local_disk0/.ephemeral_nfs/envs/pythonEnv-184635b4-16d8-49a5-83db-996f5690cee5/lib/python3.10/site-packages (from mlflow-skinny==3.1.4->mlflow) (8.2.1)\nRequirement already satisfied: uvicorn<1 in /local_disk0/.ephemeral_nfs/envs/pythonEnv-184635b4-16d8-49a5-83db-996f5690cee5/lib/python3.10/site-packages (from mlflow-skinny==3.1.4->mlflow) (0.35.0)\nRequirement already satisfied: gitpython<4,>=3.1.9 in /local_disk0/.ephemeral_nfs/envs/pythonEnv-184635b4-16d8-49a5-83db-996f5690cee5/lib/python3.10/site-packages (from mlflow-skinny==3.1.4->mlflow) (3.1.45)\nRequirement already satisfied: requests<3,>=2.17.3 in /databricks/python3/lib/python3.10/site-packages (from mlflow-skinny==3.1.4->mlflow) (2.28.1)\nRequirement already satisfied: importlib_metadata!=4.7.0,<9,>=3.7.0 in /local_disk0/.ephemeral_nfs/envs/pythonEnv-184635b4-16d8-49a5-83db-996f5690cee5/lib/python3.10/site-packages (from mlflow-skinny==3.1.4->mlflow) (8.7.0)\nRequirement already satisfied: pyyaml<7,>=5.1 in /local_disk0/.ephemeral_nfs/envs/pythonEnv-184635b4-16d8-49a5-83db-996f5690cee5/lib/python3.10/site-packages (from mlflow-skinny==3.1.4->mlflow) (6.0.2)\nRequirement already satisfied: fastapi<1 in /local_disk0/.ephemeral_nfs/envs/pythonEnv-184635b4-16d8-49a5-83db-996f5690cee5/lib/python3.10/site-packages (from mlflow-skinny==3.1.4->mlflow) (0.103.2)\nRequirement already satisfied: packaging<26 in /databricks/python3/lib/python3.10/site-packages (from mlflow-skinny==3.1.4->mlflow) (23.2)\nRequirement already satisfied: pydantic<3,>=1.10.8 in /local_disk0/.ephemeral_nfs/envs/pythonEnv-184635b4-16d8-49a5-83db-996f5690cee5/lib/python3.10/site-packages (from mlflow-skinny==3.1.4->mlflow) (1.10.22)\nRequirement already satisfied: Mako in /local_disk0/.ephemeral_nfs/envs/pythonEnv-184635b4-16d8-49a5-83db-996f5690cee5/lib/python3.10/site-packages (from alembic!=1.10.0,<2->mlflow) (1.3.10)\nRequirement already satisfied: urllib3>=1.26.0 in /databricks/python3/lib/python3.10/site-packages (from docker<8,>=4.0.0->mlflow) (1.26.14)\nRequirement already satisfied: markupsafe>=2.1.1 in /databricks/python3/lib/python3.10/site-packages (from Flask<4->mlflow) (2.1.1)\nRequirement already satisfied: werkzeug>=3.1.0 in /local_disk0/.ephemeral_nfs/envs/pythonEnv-184635b4-16d8-49a5-83db-996f5690cee5/lib/python3.10/site-packages (from Flask<4->mlflow) (3.1.3)\nRequirement already satisfied: blinker>=1.9.0 in /local_disk0/.ephemeral_nfs/envs/pythonEnv-184635b4-16d8-49a5-83db-996f5690cee5/lib/python3.10/site-packages (from Flask<4->mlflow) (1.9.0)\nRequirement already satisfied: jinja2>=3.1.2 in /databricks/python3/lib/python3.10/site-packages (from Flask<4->mlflow) (3.1.2)\nRequirement already satisfied: itsdangerous>=2.2.0 in /local_disk0/.ephemeral_nfs/envs/pythonEnv-184635b4-16d8-49a5-83db-996f5690cee5/lib/python3.10/site-packages (from Flask<4->mlflow) (2.2.0)\nRequirement already satisfied: graphql-core<3.3,>=3.1 in /local_disk0/.ephemeral_nfs/envs/pythonEnv-184635b4-16d8-49a5-83db-996f5690cee5/lib/python3.10/site-packages (from graphene<4->mlflow) (3.2.6)\nRequirement already satisfied: aniso8601<10,>=8 in /local_disk0/.ephemeral_nfs/envs/pythonEnv-184635b4-16d8-49a5-83db-996f5690cee5/lib/python3.10/site-packages (from graphene<4->mlflow) (9.0.1)\nRequirement already satisfied: graphql-relay<3.3,>=3.1 in /local_disk0/.ephemeral_nfs/envs/pythonEnv-184635b4-16d8-49a5-83db-996f5690cee5/lib/python3.10/site-packages (from graphene<4->mlflow) (3.2.0)\nRequirement already satisfied: fonttools>=4.22.0 in /databricks/python3/lib/python3.10/site-packages (from matplotlib<4->mlflow) (4.25.0)\nRequirement already satisfied: pillow>=6.2.0 in /databricks/python3/lib/python3.10/site-packages (from matplotlib<4->mlflow) (9.4.0)\nRequirement already satisfied: pyparsing>=2.3.1 in /databricks/python3/lib/python3.10/site-packages (from matplotlib<4->mlflow) (3.0.9)\nRequirement already satisfied: contourpy>=1.0.1 in /databricks/python3/lib/python3.10/site-packages (from matplotlib<4->mlflow) (1.0.5)\nRequirement already satisfied: python-dateutil>=2.7 in /databricks/python3/lib/python3.10/site-packages (from matplotlib<4->mlflow) (2.8.2)\nRequirement already satisfied: cycler>=0.10 in /databricks/python3/lib/python3.10/site-packages (from matplotlib<4->mlflow) (0.11.0)\nRequirement already satisfied: kiwisolver>=1.0.1 in /databricks/python3/lib/python3.10/site-packages (from matplotlib<4->mlflow) (1.4.4)\nRequirement already satisfied: pytz>=2020.1 in /databricks/python3/lib/python3.10/site-packages (from pandas<3->mlflow) (2022.7)\nRequirement already satisfied: threadpoolctl>=2.0.0 in /databricks/python3/lib/python3.10/site-packages (from scikit-learn<2->mlflow) (2.2.0)\nRequirement already satisfied: joblib>=1.0.0 in /databricks/python3/lib/python3.10/site-packages (from scikit-learn<2->mlflow) (1.2.0)\nRequirement already satisfied: greenlet!=0.4.17 in /local_disk0/.ephemeral_nfs/envs/pythonEnv-184635b4-16d8-49a5-83db-996f5690cee5/lib/python3.10/site-packages (from sqlalchemy<3,>=1.4.0->mlflow) (3.2.3)\nRequirement already satisfied: google-auth~=2.0 in /databricks/python3/lib/python3.10/site-packages (from databricks-sdk<1,>=0.20.0->mlflow-skinny==3.1.4->mlflow) (2.28.1)\nRequirement already satisfied: anyio<4.0.0,>=3.7.1 in /local_disk0/.ephemeral_nfs/envs/pythonEnv-184635b4-16d8-49a5-83db-996f5690cee5/lib/python3.10/site-packages (from fastapi<1->mlflow-skinny==3.1.4->mlflow) (3.7.1)\nRequirement already satisfied: starlette<0.28.0,>=0.27.0 in /local_disk0/.ephemeral_nfs/envs/pythonEnv-184635b4-16d8-49a5-83db-996f5690cee5/lib/python3.10/site-packages (from fastapi<1->mlflow-skinny==3.1.4->mlflow) (0.27.0)\nRequirement already satisfied: gitdb<5,>=4.0.1 in /local_disk0/.ephemeral_nfs/envs/pythonEnv-184635b4-16d8-49a5-83db-996f5690cee5/lib/python3.10/site-packages (from gitpython<4,>=3.1.9->mlflow-skinny==3.1.4->mlflow) (4.0.12)\nRequirement already satisfied: zipp>=3.20 in /local_disk0/.ephemeral_nfs/envs/pythonEnv-184635b4-16d8-49a5-83db-996f5690cee5/lib/python3.10/site-packages (from importlib_metadata!=4.7.0,<9,>=3.7.0->mlflow-skinny==3.1.4->mlflow) (3.23.0)\nRequirement already satisfied: opentelemetry-semantic-conventions==0.57b0 in /local_disk0/.ephemeral_nfs/envs/pythonEnv-184635b4-16d8-49a5-83db-996f5690cee5/lib/python3.10/site-packages (from opentelemetry-sdk<3,>=1.9.0->mlflow-skinny==3.1.4->mlflow) (0.57b0)\nRequirement already satisfied: six>=1.5 in /usr/lib/python3/dist-packages (from python-dateutil>=2.7->matplotlib<4->mlflow) (1.16.0)\nRequirement already satisfied: certifi>=2017.4.17 in /databricks/python3/lib/python3.10/site-packages (from requests<3,>=2.17.3->mlflow-skinny==3.1.4->mlflow) (2022.12.7)\nRequirement already satisfied: idna<4,>=2.5 in /databricks/python3/lib/python3.10/site-packages (from requests<3,>=2.17.3->mlflow-skinny==3.1.4->mlflow) (3.4)\nRequirement already satisfied: charset-normalizer<3,>=2 in /databricks/python3/lib/python3.10/site-packages (from requests<3,>=2.17.3->mlflow-skinny==3.1.4->mlflow) (2.0.4)\nRequirement already satisfied: h11>=0.8 in /local_disk0/.ephemeral_nfs/envs/pythonEnv-184635b4-16d8-49a5-83db-996f5690cee5/lib/python3.10/site-packages (from uvicorn<1->mlflow-skinny==3.1.4->mlflow) (0.16.0)\nRequirement already satisfied: exceptiongroup in /local_disk0/.ephemeral_nfs/envs/pythonEnv-184635b4-16d8-49a5-83db-996f5690cee5/lib/python3.10/site-packages (from anyio<4.0.0,>=3.7.1->fastapi<1->mlflow-skinny==3.1.4->mlflow) (1.2.2)\nRequirement already satisfied: sniffio>=1.1 in /databricks/python3/lib/python3.10/site-packages (from anyio<4.0.0,>=3.7.1->fastapi<1->mlflow-skinny==3.1.4->mlflow) (1.2.0)\nRequirement already satisfied: smmap<6,>=3.0.1 in /local_disk0/.ephemeral_nfs/envs/pythonEnv-184635b4-16d8-49a5-83db-996f5690cee5/lib/python3.10/site-packages (from gitdb<5,>=4.0.1->gitpython<4,>=3.1.9->mlflow-skinny==3.1.4->mlflow) (5.0.2)\nRequirement already satisfied: rsa<5,>=3.1.4 in /databricks/python3/lib/python3.10/site-packages (from google-auth~=2.0->databricks-sdk<1,>=0.20.0->mlflow-skinny==3.1.4->mlflow) (4.9)\nRequirement already satisfied: pyasn1-modules>=0.2.1 in /databricks/python3/lib/python3.10/site-packages (from google-auth~=2.0->databricks-sdk<1,>=0.20.0->mlflow-skinny==3.1.4->mlflow) (0.3.0)\nRequirement already satisfied: pyasn1<0.6.0,>=0.4.6 in /databricks/python3/lib/python3.10/site-packages (from pyasn1-modules>=0.2.1->google-auth~=2.0->databricks-sdk<1,>=0.20.0->mlflow-skinny==3.1.4->mlflow) (0.5.1)\n\u001B[43mNote: you may need to restart the kernel using %restart_python or dbutils.library.restartPython() to use updated packages.\u001B[0m\n"
     ]
    }
   ],
   "source": [
    "%pip install typing_extensions==4.5.0 mlflow\n",
    "\n",
    "import mlflow.sklearn\n",
    "from sklearn.model_selection import train_test_split\n",
    "from sklearn.preprocessing import StandardScaler\n",
    "from sklearn.ensemble import RandomForestClassifier\n",
    "from sklearn.metrics import classification_report, confusion_matrix, accuracy_score, precision_score\n",
    "\n",
    "class RFCModel():\n",
    "\n",
    "    def __init__(self, params={}):\n",
    "        \"\"\"\n",
    "        Constructor for RandamForestClassifier\n",
    "        :param params: parameters for the constructor such as no of estimators, depth of the tree, random_state etc\n",
    "        \"\"\"\n",
    "        self._rf = RandomForestClassifier(**params)\n",
    "        self._params = params\n",
    "\n",
    "    @classmethod\n",
    "    def new_instance(cls, params={}):\n",
    "        return cls(params)\n",
    "\n",
    "    @property\n",
    "    def model(self):\n",
    "        \"\"\"\n",
    "        Getter for the property the model\n",
    "        :return: return the model\n",
    "        \"\"\"\n",
    "        \n",
    "        return self._rf\n",
    "  \n",
    "    @property \n",
    "    def params(self):\n",
    "      \"\"\"\n",
    "      Getter for the property the model\n",
    "        :return: return the model params\n",
    "      \"\"\"\n",
    "      return self._params\n",
    "    \n",
    "    def mlflow_run(self, df, r_name=\"Lab-2:RF Bank Note Classification Experiment\"):\n",
    "        \"\"\"\n",
    "        This method trains, computes metrics, and logs all metrics, parameters,\n",
    "        and artifacts for the current run\n",
    "        :param df: pandas dataFrame\n",
    "        :param r_name: Name of the experiment as logged by MLflow\n",
    "        :return: MLflow Tuple (ExperimentID, runID)\n",
    "        \"\"\"\n",
    "\n",
    "        with mlflow.start_run(run_name=r_name) as run:\n",
    "          \n",
    "            # get current run and experiment id\n",
    "            runID = run.info.run_id\n",
    "            experimentID = run.info.experiment_id\n",
    "            \n",
    "            # get all rows and columns but the last column, which is our class\n",
    "            X = df.iloc[:, 0:4].values\n",
    "            # get all observed values in the last columns, which is what we want to predict\n",
    "            y = df.iloc[:, 4].values\n",
    "\n",
    "            # create train and test data\n",
    "            X_train, X_test, y_train, y_test = train_test_split(X, y, test_size=0.2, random_state=0)\n",
    "\n",
    "            # Feature Scaling\n",
    "            sc = StandardScaler()\n",
    "            X_train = sc.fit_transform(X_train)\n",
    "            X_test = sc.transform(X_test)\n",
    "\n",
    "            # train and predict\n",
    "            self._rf.fit(X_train, y_train)\n",
    "            y_pred = self._rf.predict(X_test)\n",
    "\n",
    "            # Log model and params using the MLflow sklearn APIs\n",
    "            mlflow.sklearn.log_model(self.model, \"random-forest-class-model\")\n",
    "            mlflow.log_params(self.params)\n",
    "\n",
    "            # compute evaluation metrics\n",
    "            acc = accuracy_score(y_test, y_pred)\n",
    "            precision = precision_score(y_test, y_pred)\n",
    "            conf_matrix = confusion_matrix(y_test,y_pred)\n",
    "            \n",
    "            # ROC = summary of all confusion matrices that each\n",
    "            # threshold produces\n",
    "            roc = metrics.roc_auc_score(y_test, y_pred)\n",
    "\n",
    "            # get confusion matrix values\n",
    "            true_positive = conf_matrix[0][0]\n",
    "            true_negative = conf_matrix[1][1]\n",
    "            false_positive = conf_matrix[0][1]\n",
    "            false_negative = conf_matrix[1][0]\n",
    "\n",
    "            # get classification matrics as a dictionary\n",
    "            class_report = classification_report(y_test,y_pred, output_dict=True)\n",
    "            recall_0 = class_report['0']['recall']\n",
    "            f1_score_0 = class_report['0']['f1-score']\n",
    "            recall_1 = class_report['1']['recall']\n",
    "            f1_score_1 = class_report['1']['f1-score']\n",
    "\n",
    "            # log metrics\n",
    "            mlflow.log_metric(\"accuracy_score\", acc)\n",
    "            mlflow.log_metric(\"precision\", precision)\n",
    "            mlflow.log_metric(\"true_positive\", true_positive)\n",
    "            mlflow.log_metric(\"true_negative\", true_negative)\n",
    "            mlflow.log_metric(\"false_positive\", false_positive)\n",
    "            mlflow.log_metric(\"false_negative\", false_negative)\n",
    "            mlflow.log_metric(\"recall_0\", recall_0)\n",
    "            mlflow.log_metric(\"f1_score_0\", f1_score_0)\n",
    "            mlflow.log_metric(\"recall_1\", recall_1)\n",
    "            mlflow.log_metric(\"f1_score_1\", f1_score_1)\n",
    "            mlflow.log_metric(\"roc\", roc)\n",
    "\n",
    "            # create confusion matrix images\n",
    "            (plt, fig, ax) = Utils.plot_confusion_matrix(y_test, y_pred, y, title=\"Bank Note Classification Confusion Matrix\")\n",
    "\n",
    "            # create temporary artifact file name and log artifact\n",
    "            temp_file_name = Utils.get_temporary_directory_path(\"confusion_matrix-\", \".png\")\n",
    "            temp_name = temp_file_name.name\n",
    "            try:\n",
    "                fig.savefig(temp_name)\n",
    "                mlflow.log_artifact(temp_name, \"confusion_matrix_plots\")\n",
    "            finally:\n",
    "                temp_file_name.close()  # Delete the temp file\n",
    "\n",
    "            # print some data\n",
    "            print(\"-\" * 100)\n",
    "            print(\"Inside MLflow Run with run_id {} and experiment_id {}\".format(runID, experimentID))\n",
    "            print(\"Estimators trees:\", self.params[\"n_estimators\"])\n",
    "            print(conf_matrix)\n",
    "            print(classification_report(y_test,y_pred))\n",
    "            print(\"Accuracy Score:\", acc)\n",
    "            print(\"Precision     :\", precision)\n",
    "            print(\"ROC           :\", roc)\n",
    "\n",
    "            return (experimentID, runID)\n"
   ]
  },
  {
   "cell_type": "code",
   "execution_count": 0,
   "metadata": {
    "application/vnd.databricks.v1+cell": {
     "cellMetadata": {
      "byteLimit": 2048000,
      "rowLimit": 10000
     },
     "inputWidgets": {},
     "nuid": "080158d8-916e-4ab2-bc1b-cd0b7fc5bf1d",
     "showTitle": false,
     "tableResultSettingsMap": {},
     "title": ""
    }
   },
   "outputs": [
    {
     "output_type": "display_data",
     "data": {
      "text/html": [
       "\n",
       "<div>Declared RandomForestClassifierModel Class with methods:</div>\n",
       "<li>Declared <b style=\"color:green\">model()</b> returns existing instance of Random Forest Model</li>\n",
       "<li>Declared <b style=\"color:green\">params()</b> returns existing Random Forest Model's init parameters.</li>\n",
       "<li>Declared <b style=\"color:green\">new_instance(params={...})</b> returns a new instance of RandomForestClassifierModel</li> \n",
       "<li>Declared <b style=\"color:green\"> mlflow_run(DataFrame, run_name=\"name\")</b> returns experiment_ID, run_ID</li>\n",
       "\n",
       "<br/>\n"
      ]
     },
     "metadata": {},
     "output_type": "display_data"
    }
   ],
   "source": [
    "displayHTML(\"\"\"\n",
    "<div>Declared RandomForestClassifierModel Class with methods:</div>\n",
    "<li>Declared <b style=\"color:green\">model()</b> returns existing instance of Random Forest Model</li>\n",
    "<li>Declared <b style=\"color:green\">params()</b> returns existing Random Forest Model's init parameters.</li>\n",
    "<li>Declared <b style=\"color:green\">new_instance(params={...})</b> returns a new instance of RandomForestClassifierModel</li> \n",
    "<li>Declared <b style=\"color:green\"> mlflow_run(DataFrame, run_name=\"name\")</b> returns experiment_ID, run_ID</li>\n",
    "\n",
    "<br/>\n",
    "\"\"\")"
   ]
  }
 ],
 "metadata": {
  "application/vnd.databricks.v1+notebook": {
   "computePreferences": null,
   "dashboards": [],
   "environmentMetadata": null,
   "inputWidgetPreferences": null,
   "language": "python",
   "notebookMetadata": {
    "pythonIndentUnit": 2
   },
   "notebookName": "rfc_classification_cls",
   "widgets": {}
  },
  "language_info": {
   "name": "python"
  }
 },
 "nbformat": 4,
 "nbformat_minor": 0
}