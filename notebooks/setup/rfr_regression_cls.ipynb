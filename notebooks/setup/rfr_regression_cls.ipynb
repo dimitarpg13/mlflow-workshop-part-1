{
 "cells": [
  {
   "cell_type": "markdown",
   "metadata": {
    "application/vnd.databricks.v1+cell": {
     "cellMetadata": {},
     "inputWidgets": {},
     "nuid": "d0898749-ffd5-4770-9ed3-d8f317e4b22c",
     "showTitle": false,
     "tableResultSettingsMap": {},
     "title": ""
    }
   },
   "source": [
    "\n",
    "Random Forest class definition for the `RFRModel`"
   ]
  },
  {
   "cell_type": "code",
   "execution_count": 0,
   "metadata": {
    "application/vnd.databricks.v1+cell": {
     "cellMetadata": {
      "byteLimit": 2048000,
      "rowLimit": 10000
     },
     "inputWidgets": {},
     "nuid": "84e66afc-e5c3-4ac1-9fbb-9dd39ae45480",
     "showTitle": false,
     "tableResultSettingsMap": {},
     "title": ""
    }
   },
   "outputs": [
    {
     "output_type": "stream",
     "name": "stdout",
     "output_type": "stream",
     "text": [
      "Requirement already satisfied: typing_extensions in /local_disk0/.ephemeral_nfs/envs/pythonEnv-204547d0-b2bc-49e1-80e5-44be2e52e2b5/lib/python3.10/site-packages (4.14.1)\nRequirement already satisfied: mlflow in /local_disk0/.ephemeral_nfs/envs/pythonEnv-204547d0-b2bc-49e1-80e5-44be2e52e2b5/lib/python3.10/site-packages (3.1.4)\nRequirement already satisfied: matplotlib<4 in /databricks/python3/lib/python3.10/site-packages (from mlflow) (3.7.0)\nRequirement already satisfied: pyarrow<21,>=4.0.0 in /databricks/python3/lib/python3.10/site-packages (from mlflow) (8.0.0)\nRequirement already satisfied: pandas<3 in /databricks/python3/lib/python3.10/site-packages (from mlflow) (1.5.3)\nRequirement already satisfied: sqlalchemy<3,>=1.4.0 in /local_disk0/.ephemeral_nfs/envs/pythonEnv-204547d0-b2bc-49e1-80e5-44be2e52e2b5/lib/python3.10/site-packages (from mlflow) (2.0.42)\nRequirement already satisfied: graphene<4 in /local_disk0/.ephemeral_nfs/envs/pythonEnv-204547d0-b2bc-49e1-80e5-44be2e52e2b5/lib/python3.10/site-packages (from mlflow) (3.4.3)\nRequirement already satisfied: scipy<2 in /databricks/python3/lib/python3.10/site-packages (from mlflow) (1.10.0)\nRequirement already satisfied: gunicorn<24 in /local_disk0/.ephemeral_nfs/envs/pythonEnv-204547d0-b2bc-49e1-80e5-44be2e52e2b5/lib/python3.10/site-packages (from mlflow) (23.0.0)\nRequirement already satisfied: docker<8,>=4.0.0 in /local_disk0/.ephemeral_nfs/envs/pythonEnv-204547d0-b2bc-49e1-80e5-44be2e52e2b5/lib/python3.10/site-packages (from mlflow) (7.1.0)\nRequirement already satisfied: numpy<3 in /databricks/python3/lib/python3.10/site-packages (from mlflow) (1.23.5)\nRequirement already satisfied: Flask<4 in /local_disk0/.ephemeral_nfs/envs/pythonEnv-204547d0-b2bc-49e1-80e5-44be2e52e2b5/lib/python3.10/site-packages (from mlflow) (3.1.1)\nRequirement already satisfied: mlflow-skinny==3.1.4 in /local_disk0/.ephemeral_nfs/envs/pythonEnv-204547d0-b2bc-49e1-80e5-44be2e52e2b5/lib/python3.10/site-packages (from mlflow) (3.1.4)\nRequirement already satisfied: scikit-learn<2 in /databricks/python3/lib/python3.10/site-packages (from mlflow) (1.1.1)\nRequirement already satisfied: alembic!=1.10.0,<2 in /local_disk0/.ephemeral_nfs/envs/pythonEnv-204547d0-b2bc-49e1-80e5-44be2e52e2b5/lib/python3.10/site-packages (from mlflow) (1.16.4)\nRequirement already satisfied: opentelemetry-api<3,>=1.9.0 in /local_disk0/.ephemeral_nfs/envs/pythonEnv-204547d0-b2bc-49e1-80e5-44be2e52e2b5/lib/python3.10/site-packages (from mlflow-skinny==3.1.4->mlflow) (1.36.0)\nRequirement already satisfied: sqlparse<1,>=0.4.0 in /local_disk0/.ephemeral_nfs/envs/pythonEnv-204547d0-b2bc-49e1-80e5-44be2e52e2b5/lib/python3.10/site-packages (from mlflow-skinny==3.1.4->mlflow) (0.5.3)\nRequirement already satisfied: protobuf<7,>=3.12.0 in /databricks/python3/lib/python3.10/site-packages (from mlflow-skinny==3.1.4->mlflow) (4.25.5)\nRequirement already satisfied: databricks-sdk<1,>=0.20.0 in /databricks/python3/lib/python3.10/site-packages (from mlflow-skinny==3.1.4->mlflow) (0.20.0)\nRequirement already satisfied: click<9,>=7.0 in /local_disk0/.ephemeral_nfs/envs/pythonEnv-204547d0-b2bc-49e1-80e5-44be2e52e2b5/lib/python3.10/site-packages (from mlflow-skinny==3.1.4->mlflow) (8.2.1)\nRequirement already satisfied: cloudpickle<4 in /local_disk0/.ephemeral_nfs/envs/pythonEnv-204547d0-b2bc-49e1-80e5-44be2e52e2b5/lib/python3.10/site-packages (from mlflow-skinny==3.1.4->mlflow) (3.1.1)\nRequirement already satisfied: requests<3,>=2.17.3 in /databricks/python3/lib/python3.10/site-packages (from mlflow-skinny==3.1.4->mlflow) (2.28.1)\nRequirement already satisfied: opentelemetry-sdk<3,>=1.9.0 in /local_disk0/.ephemeral_nfs/envs/pythonEnv-204547d0-b2bc-49e1-80e5-44be2e52e2b5/lib/python3.10/site-packages (from mlflow-skinny==3.1.4->mlflow) (1.36.0)\nRequirement already satisfied: packaging<26 in /databricks/python3/lib/python3.10/site-packages (from mlflow-skinny==3.1.4->mlflow) (23.2)\nRequirement already satisfied: pydantic<3,>=1.10.8 in /local_disk0/.ephemeral_nfs/envs/pythonEnv-204547d0-b2bc-49e1-80e5-44be2e52e2b5/lib/python3.10/site-packages (from mlflow-skinny==3.1.4->mlflow) (2.11.7)\nRequirement already satisfied: fastapi<1 in /local_disk0/.ephemeral_nfs/envs/pythonEnv-204547d0-b2bc-49e1-80e5-44be2e52e2b5/lib/python3.10/site-packages (from mlflow-skinny==3.1.4->mlflow) (0.116.1)\nRequirement already satisfied: uvicorn<1 in /local_disk0/.ephemeral_nfs/envs/pythonEnv-204547d0-b2bc-49e1-80e5-44be2e52e2b5/lib/python3.10/site-packages (from mlflow-skinny==3.1.4->mlflow) (0.35.0)\nRequirement already satisfied: cachetools<7,>=5.0.0 in /databricks/python3/lib/python3.10/site-packages (from mlflow-skinny==3.1.4->mlflow) (5.3.2)\nRequirement already satisfied: importlib_metadata!=4.7.0,<9,>=3.7.0 in /local_disk0/.ephemeral_nfs/envs/pythonEnv-204547d0-b2bc-49e1-80e5-44be2e52e2b5/lib/python3.10/site-packages (from mlflow-skinny==3.1.4->mlflow) (8.7.0)\nRequirement already satisfied: pyyaml<7,>=5.1 in /local_disk0/.ephemeral_nfs/envs/pythonEnv-204547d0-b2bc-49e1-80e5-44be2e52e2b5/lib/python3.10/site-packages (from mlflow-skinny==3.1.4->mlflow) (6.0.2)\nRequirement already satisfied: gitpython<4,>=3.1.9 in /local_disk0/.ephemeral_nfs/envs/pythonEnv-204547d0-b2bc-49e1-80e5-44be2e52e2b5/lib/python3.10/site-packages (from mlflow-skinny==3.1.4->mlflow) (3.1.45)\nRequirement already satisfied: tomli in /databricks/python3/lib/python3.10/site-packages (from alembic!=1.10.0,<2->mlflow) (2.0.1)\nRequirement already satisfied: Mako in /local_disk0/.ephemeral_nfs/envs/pythonEnv-204547d0-b2bc-49e1-80e5-44be2e52e2b5/lib/python3.10/site-packages (from alembic!=1.10.0,<2->mlflow) (1.3.10)\nRequirement already satisfied: urllib3>=1.26.0 in /databricks/python3/lib/python3.10/site-packages (from docker<8,>=4.0.0->mlflow) (1.26.14)\nRequirement already satisfied: werkzeug>=3.1.0 in /local_disk0/.ephemeral_nfs/envs/pythonEnv-204547d0-b2bc-49e1-80e5-44be2e52e2b5/lib/python3.10/site-packages (from Flask<4->mlflow) (3.1.3)\nRequirement already satisfied: markupsafe>=2.1.1 in /databricks/python3/lib/python3.10/site-packages (from Flask<4->mlflow) (2.1.1)\nRequirement already satisfied: jinja2>=3.1.2 in /databricks/python3/lib/python3.10/site-packages (from Flask<4->mlflow) (3.1.2)\nRequirement already satisfied: blinker>=1.9.0 in /local_disk0/.ephemeral_nfs/envs/pythonEnv-204547d0-b2bc-49e1-80e5-44be2e52e2b5/lib/python3.10/site-packages (from Flask<4->mlflow) (1.9.0)\nRequirement already satisfied: itsdangerous>=2.2.0 in /local_disk0/.ephemeral_nfs/envs/pythonEnv-204547d0-b2bc-49e1-80e5-44be2e52e2b5/lib/python3.10/site-packages (from Flask<4->mlflow) (2.2.0)\nRequirement already satisfied: python-dateutil<3,>=2.7.0 in /databricks/python3/lib/python3.10/site-packages (from graphene<4->mlflow) (2.8.2)\nRequirement already satisfied: graphql-relay<3.3,>=3.1 in /local_disk0/.ephemeral_nfs/envs/pythonEnv-204547d0-b2bc-49e1-80e5-44be2e52e2b5/lib/python3.10/site-packages (from graphene<4->mlflow) (3.2.0)\nRequirement already satisfied: graphql-core<3.3,>=3.1 in /local_disk0/.ephemeral_nfs/envs/pythonEnv-204547d0-b2bc-49e1-80e5-44be2e52e2b5/lib/python3.10/site-packages (from graphene<4->mlflow) (3.2.6)\nRequirement already satisfied: fonttools>=4.22.0 in /databricks/python3/lib/python3.10/site-packages (from matplotlib<4->mlflow) (4.25.0)\nRequirement already satisfied: pyparsing>=2.3.1 in /databricks/python3/lib/python3.10/site-packages (from matplotlib<4->mlflow) (3.0.9)\nRequirement already satisfied: cycler>=0.10 in /databricks/python3/lib/python3.10/site-packages (from matplotlib<4->mlflow) (0.11.0)\nRequirement already satisfied: kiwisolver>=1.0.1 in /databricks/python3/lib/python3.10/site-packages (from matplotlib<4->mlflow) (1.4.4)\nRequirement already satisfied: pillow>=6.2.0 in /databricks/python3/lib/python3.10/site-packages (from matplotlib<4->mlflow) (9.4.0)\nRequirement already satisfied: contourpy>=1.0.1 in /databricks/python3/lib/python3.10/site-packages (from matplotlib<4->mlflow) (1.0.5)\nRequirement already satisfied: pytz>=2020.1 in /databricks/python3/lib/python3.10/site-packages (from pandas<3->mlflow) (2022.7)\nRequirement already satisfied: joblib>=1.0.0 in /databricks/python3/lib/python3.10/site-packages (from scikit-learn<2->mlflow) (1.2.0)\nRequirement already satisfied: threadpoolctl>=2.0.0 in /databricks/python3/lib/python3.10/site-packages (from scikit-learn<2->mlflow) (2.2.0)\nRequirement already satisfied: greenlet>=1 in /local_disk0/.ephemeral_nfs/envs/pythonEnv-204547d0-b2bc-49e1-80e5-44be2e52e2b5/lib/python3.10/site-packages (from sqlalchemy<3,>=1.4.0->mlflow) (3.2.3)\nRequirement already satisfied: google-auth~=2.0 in /databricks/python3/lib/python3.10/site-packages (from databricks-sdk<1,>=0.20.0->mlflow-skinny==3.1.4->mlflow) (2.28.1)\nRequirement already satisfied: starlette<0.48.0,>=0.40.0 in /local_disk0/.ephemeral_nfs/envs/pythonEnv-204547d0-b2bc-49e1-80e5-44be2e52e2b5/lib/python3.10/site-packages (from fastapi<1->mlflow-skinny==3.1.4->mlflow) (0.47.2)\nRequirement already satisfied: gitdb<5,>=4.0.1 in /local_disk0/.ephemeral_nfs/envs/pythonEnv-204547d0-b2bc-49e1-80e5-44be2e52e2b5/lib/python3.10/site-packages (from gitpython<4,>=3.1.9->mlflow-skinny==3.1.4->mlflow) (4.0.12)\nRequirement already satisfied: zipp>=3.20 in /local_disk0/.ephemeral_nfs/envs/pythonEnv-204547d0-b2bc-49e1-80e5-44be2e52e2b5/lib/python3.10/site-packages (from importlib_metadata!=4.7.0,<9,>=3.7.0->mlflow-skinny==3.1.4->mlflow) (3.23.0)\nRequirement already satisfied: opentelemetry-semantic-conventions==0.57b0 in /local_disk0/.ephemeral_nfs/envs/pythonEnv-204547d0-b2bc-49e1-80e5-44be2e52e2b5/lib/python3.10/site-packages (from opentelemetry-sdk<3,>=1.9.0->mlflow-skinny==3.1.4->mlflow) (0.57b0)\nRequirement already satisfied: pydantic-core==2.33.2 in /local_disk0/.ephemeral_nfs/envs/pythonEnv-204547d0-b2bc-49e1-80e5-44be2e52e2b5/lib/python3.10/site-packages (from pydantic<3,>=1.10.8->mlflow-skinny==3.1.4->mlflow) (2.33.2)\nRequirement already satisfied: typing-inspection>=0.4.0 in /local_disk0/.ephemeral_nfs/envs/pythonEnv-204547d0-b2bc-49e1-80e5-44be2e52e2b5/lib/python3.10/site-packages (from pydantic<3,>=1.10.8->mlflow-skinny==3.1.4->mlflow) (0.4.1)\nRequirement already satisfied: annotated-types>=0.6.0 in /local_disk0/.ephemeral_nfs/envs/pythonEnv-204547d0-b2bc-49e1-80e5-44be2e52e2b5/lib/python3.10/site-packages (from pydantic<3,>=1.10.8->mlflow-skinny==3.1.4->mlflow) (0.7.0)\nRequirement already satisfied: six>=1.5 in /usr/lib/python3/dist-packages (from python-dateutil<3,>=2.7.0->graphene<4->mlflow) (1.16.0)\nRequirement already satisfied: idna<4,>=2.5 in /databricks/python3/lib/python3.10/site-packages (from requests<3,>=2.17.3->mlflow-skinny==3.1.4->mlflow) (3.4)\nRequirement already satisfied: charset-normalizer<3,>=2 in /databricks/python3/lib/python3.10/site-packages (from requests<3,>=2.17.3->mlflow-skinny==3.1.4->mlflow) (2.0.4)\nRequirement already satisfied: certifi>=2017.4.17 in /databricks/python3/lib/python3.10/site-packages (from requests<3,>=2.17.3->mlflow-skinny==3.1.4->mlflow) (2022.12.7)\nRequirement already satisfied: h11>=0.8 in /local_disk0/.ephemeral_nfs/envs/pythonEnv-204547d0-b2bc-49e1-80e5-44be2e52e2b5/lib/python3.10/site-packages (from uvicorn<1->mlflow-skinny==3.1.4->mlflow) (0.16.0)\nRequirement already satisfied: smmap<6,>=3.0.1 in /local_disk0/.ephemeral_nfs/envs/pythonEnv-204547d0-b2bc-49e1-80e5-44be2e52e2b5/lib/python3.10/site-packages (from gitdb<5,>=4.0.1->gitpython<4,>=3.1.9->mlflow-skinny==3.1.4->mlflow) (5.0.2)\nRequirement already satisfied: rsa<5,>=3.1.4 in /databricks/python3/lib/python3.10/site-packages (from google-auth~=2.0->databricks-sdk<1,>=0.20.0->mlflow-skinny==3.1.4->mlflow) (4.9)\nRequirement already satisfied: pyasn1-modules>=0.2.1 in /databricks/python3/lib/python3.10/site-packages (from google-auth~=2.0->databricks-sdk<1,>=0.20.0->mlflow-skinny==3.1.4->mlflow) (0.3.0)\nRequirement already satisfied: anyio<5,>=3.6.2 in /local_disk0/.ephemeral_nfs/envs/pythonEnv-204547d0-b2bc-49e1-80e5-44be2e52e2b5/lib/python3.10/site-packages (from starlette<0.48.0,>=0.40.0->fastapi<1->mlflow-skinny==3.1.4->mlflow) (4.9.0)\nRequirement already satisfied: exceptiongroup>=1.0.2 in /local_disk0/.ephemeral_nfs/envs/pythonEnv-204547d0-b2bc-49e1-80e5-44be2e52e2b5/lib/python3.10/site-packages (from anyio<5,>=3.6.2->starlette<0.48.0,>=0.40.0->fastapi<1->mlflow-skinny==3.1.4->mlflow) (1.3.0)\nRequirement already satisfied: sniffio>=1.1 in /databricks/python3/lib/python3.10/site-packages (from anyio<5,>=3.6.2->starlette<0.48.0,>=0.40.0->fastapi<1->mlflow-skinny==3.1.4->mlflow) (1.2.0)\nRequirement already satisfied: pyasn1<0.6.0,>=0.4.6 in /databricks/python3/lib/python3.10/site-packages (from pyasn1-modules>=0.2.1->google-auth~=2.0->databricks-sdk<1,>=0.20.0->mlflow-skinny==3.1.4->mlflow) (0.5.1)\n\u001B[43mNote: you may need to restart the kernel using %restart_python or dbutils.library.restartPython() to use updated packages.\u001B[0m\n"
     ]
    }
   ],
   "source": [
    "%pip install --upgrade typing_extensions mlflow\n",
    "\n",
    "import os\n",
    "import numpy as np\n",
    "import mlflow.sklearn\n",
    "\n",
    "from sklearn.model_selection import train_test_split\n",
    "from sklearn.preprocessing import StandardScaler\n",
    "from sklearn.ensemble import RandomForestRegressor\n",
    "from sklearn import metrics\n",
    "\n",
    "\n",
    "class RFRModel():\n",
    "    \"\"\"\n",
    "    General class for Scikit-Learn RandomForestRegressor\n",
    "    \"\"\"\n",
    "    # class wide variables common to all instances\n",
    "    # that keep track of cumulative estimators and rmse\n",
    "    # so we can plot the results to see how it fairs w.r.t\n",
    "    # rmse\n",
    "    rmse = []\n",
    "    estimators = []\n",
    "\n",
    "    def __init__(self, params={}):\n",
    "        \"\"\"\n",
    "        Constructor for the RandomForestRegressor\n",
    "        :param params: dictionary to RandomForestRegressor\n",
    "        \"\"\"\n",
    "        # unpack dictionary as kwargs to the class constructor\n",
    "        self._rf = RandomForestRegressor(**params)\n",
    "        self._params = params\n",
    "\n",
    "    @classmethod\n",
    "    def new_instance(cls, params={}):\n",
    "        return cls(params)\n",
    "\n",
    "    @property\n",
    "    def model(self):\n",
    "        \"\"\"\n",
    "        Getter to return the model created\n",
    "        :return: handle or instance of the RandomForestReqgressor\n",
    "        \"\"\"\n",
    "        return self._rf\n",
    "\n",
    "    @property\n",
    "    def params(self):\n",
    "      \"\"\"\n",
    "      Getter for model parameters \n",
    "      \"\"\"\n",
    "      return self._params\n",
    "      \n",
    "    def mlflow_run(self, df, r_name=\"Lab-1:RF Petrol Regression Experiment\"):\n",
    "        \"\"\"\n",
    "        This method trains, computes metrics, and logs all metrics, parameters,\n",
    "        and artifacts for the current run using the MLflow APIs\n",
    "        :param df: pandas dataFrame\n",
    "        :param r_name: Name of the run as logged by MLflow\n",
    "        :return: MLflow Tuple (ExperimentID, runID)\n",
    "        \"\"\"\n",
    "\n",
    "        with mlflow.start_run(run_name=r_name) as run:\n",
    "\n",
    "            # get current run and experiment id\n",
    "            runID = run.info.run_id\n",
    "            experimentID = run.info.experiment_id\n",
    "            \n",
    "            # extract all feature independent attributes\n",
    "            X = df.iloc[:, 0:4].values\n",
    "            # extract all the values of last columns, dependent variables,\n",
    "            # which is what we want to predict as our values, the petrol consumption\n",
    "            y = df.iloc[:, 4].values\n",
    "\n",
    "            # create train and test data\n",
    "            X_train, X_test, y_train, y_test = train_test_split(X, y, test_size=0.2, random_state=0)\n",
    "\n",
    "            # Feature Scaling, though for RF is not necessary.\n",
    "            # z = (X - u)/ s, where u is the mean, s the standard deviation\n",
    "            # get the handle to the transformer\n",
    "            sc = StandardScaler()\n",
    "            X_train = sc.fit_transform(X_train)\n",
    "            X_test = sc.transform(X_test)\n",
    "\n",
    "            # train and predict\n",
    "            self._rf.fit(X_train, y_train)\n",
    "            y_pred = self._rf.predict(X_test)\n",
    "\n",
    "            # Log model and params using the MLflow APIs\n",
    "            mlflow.sklearn.log_model(self.model, \"random-forest-reg-model\")\n",
    "            mlflow.log_params(self.params)\n",
    "\n",
    "            # compute  regression evaluation metrics \n",
    "            mae = metrics.mean_absolute_error(y_test, y_pred)\n",
    "            mse = metrics.mean_squared_error(y_test, y_pred)\n",
    "            rmse = np.sqrt(mse)\n",
    "            r2 = metrics.r2_score(y_test, y_pred)\n",
    "\n",
    "            # Log metrics\n",
    "            mlflow.log_metric(\"mae\", mae)\n",
    "            mlflow.log_metric(\"mse\", mse)\n",
    "            mlflow.log_metric(\"rmse\", rmse)\n",
    "            mlflow.log_metric(\"r2\", r2)\n",
    "\n",
    "            # update global class instance variable with values\n",
    "            self.rmse.append(rmse)\n",
    "            self.estimators.append(self.params[\"n_estimators\"])\n",
    "\n",
    "            # plot graphs and save as artifacts\n",
    "            (fig, ax) = Utils.plot_graphs(self.estimators, self.rmse, \"Random Forest Estimators\", \"Root Mean Square\", \"Root Mean Square vs Estimators\")\n",
    "\n",
    "            # create temporary artifact file name and log artifact\n",
    "            temp_file_name = Utils.get_temporary_directory_path(\"rmse_estimators-\", \".png\")\n",
    "            temp_name = temp_file_name.name\n",
    "            try:\n",
    "                fig.savefig(temp_name)\n",
    "                mlflow.log_artifact(temp_name, \"rmse_estimators_plots\")\n",
    "            finally:\n",
    "                temp_file_name.close()  # Delete the temp file\n",
    "\n",
    "            # print some data\n",
    "            print(\"-\" * 100)\n",
    "            print(\"Inside MLflow Run with run_id {} and experiment_id {}\".format(runID, experimentID))\n",
    "            print(\"Estimator trees        :\", self.params[\"n_estimators\"])\n",
    "            print('Mean Absolute Error    :', mae)\n",
    "            print('Mean Squared Error     :', mse)\n",
    "            print('Root Mean Squared Error:', rmse)\n",
    "            print('R2                     :', r2)\n",
    "            \n",
    "            return (experimentID, runID)"
   ]
  },
  {
   "cell_type": "code",
   "execution_count": 0,
   "metadata": {
    "application/vnd.databricks.v1+cell": {
     "cellMetadata": {},
     "inputWidgets": {},
     "nuid": "e7d60a59-d1e5-42e4-b705-28da00a01ad7",
     "showTitle": false,
     "tableResultSettingsMap": {},
     "title": ""
    }
   },
   "outputs": [],
   "source": [
    "displayHTML(\"\"\"\n",
    "<div>Declared RandomForestRegress Model Class with methods:</div>\n",
    "<li>Declared <b style=\"color:green\">model()</b> returns existing instance of Random Forest Model</li>\n",
    "<li>Declared <b style=\"color:green\">new_instance(params={...}</b></li> returns a new instance of RandomForestClassifierModel</li> \n",
    "<li>Declared <b style=\"color:green\"> mlflow_run(DataFrame, run_name=\"name\")</b> returns experiment_ID, run_ID</li>\n",
    "\n",
    "<br/>\n",
    "\"\"\")"
   ]
  }
 ],
 "metadata": {
  "application/vnd.databricks.v1+notebook": {
   "computePreferences": null,
   "dashboards": [],
   "environmentMetadata": null,
   "inputWidgetPreferences": null,
   "language": "python",
   "notebookMetadata": {
    "pythonIndentUnit": 2
   },
   "notebookName": "rfr_regression_cls",
   "widgets": {}
  },
  "language_info": {
   "name": "python"
  }
 },
 "nbformat": 4,
 "nbformat_minor": 0
}