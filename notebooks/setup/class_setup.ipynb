{
 "cells": [
  {
   "cell_type": "code",
   "execution_count": 0,
   "metadata": {
    "application/vnd.databricks.v1+cell": {
     "cellMetadata": {
      "byteLimit": 2048000,
      "rowLimit": 10000
     },
     "inputWidgets": {},
     "nuid": "530d8069-83e5-4083-aea3-30204cbe1ad1",
     "showTitle": false,
     "tableResultSettingsMap": {},
     "title": ""
    }
   },
   "outputs": [
    {
     "output_type": "display_data",
     "data": {
      "text/markdown": []
     },
     "metadata": {},
     "output_type": "display_data"
    },
    {
     "output_type": "display_data",
     "data": {
      "text/markdown": [
       "class utilitis definition `Utils`"
      ]
     },
     "metadata": {},
     "output_type": "display_data"
    }
   ],
   "source": [
    "%run ./lab_utils_cls"
   ]
  },
  {
   "cell_type": "code",
   "execution_count": 0,
   "metadata": {
    "application/vnd.databricks.v1+cell": {
     "cellMetadata": {
      "byteLimit": 2048000,
      "rowLimit": 10000
     },
     "inputWidgets": {},
     "nuid": "e93a9af8-6896-499d-8073-10c6ad2be362",
     "showTitle": false,
     "tableResultSettingsMap": {},
     "title": ""
    }
   },
   "outputs": [
    {
     "output_type": "display_data",
     "data": {
      "text/markdown": [
       "\n",
       "Random Forest class definition for the `RFRModel`"
      ]
     },
     "metadata": {},
     "output_type": "display_data"
    },
    {
     "output_type": "display_data",
     "data": {
      "text/html": [
       "\n",
       "<div>Declared various Utitily class utility methods:</div>\n",
       "<li>Declared <b style=\"color:green\">load_data(<i>path:file_name</i>)</b> for data files</li>\n",
       "<li>Declared <b style=\"color:green\">plot_graphs(<i>...</i>)</b> for ploting artifacts</li>\n",
       "<li>Declared <b style=\"color:green\">get_mlflow_directory_path</b> for mlruns path</li>\n",
       "<li>Declared <b style=\"color:green\">get_temporary_directory_path(<i>...</i>)</b> temporary artifact files</li>\n",
       "<li>Declared <b style=\"color:green\">plot_residual_graphs(<i>...</i>)</b> for plotting residues</li>\n",
       "<li>Declared <b style=\"color:green\">print_pandas_dataset(<i>name:String</i>)</b> to print Pandas dataFrame</li>\n",
       "\n",
       "<br/>\n"
      ]
     },
     "metadata": {},
     "output_type": "display_data"
    }
   ],
   "source": [
    "%run ./rfr_regression_cls"
   ]
  },
  {
   "cell_type": "code",
   "execution_count": 0,
   "metadata": {
    "application/vnd.databricks.v1+cell": {
     "cellMetadata": {
      "byteLimit": 2048000,
      "rowLimit": 10000
     },
     "inputWidgets": {},
     "nuid": "b9e9610c-a4b8-41cc-b108-65a58b54a042",
     "showTitle": false,
     "tableResultSettingsMap": {},
     "title": ""
    }
   },
   "outputs": [
    {
     "output_type": "stream",
     "name": "stdout",
     "output_type": "stream",
     "text": [
      "Requirement already satisfied: typing_extensions in /local_disk0/.ephemeral_nfs/envs/pythonEnv-f96a20a9-d705-421c-8a69-6943e90d7629/lib/python3.10/site-packages (4.14.1)\nRequirement already satisfied: mlflow in /local_disk0/.ephemeral_nfs/envs/pythonEnv-f96a20a9-d705-421c-8a69-6943e90d7629/lib/python3.10/site-packages (3.1.4)\nRequirement already satisfied: matplotlib<4 in /databricks/python3/lib/python3.10/site-packages (from mlflow) (3.7.0)\nRequirement already satisfied: scipy<2 in /databricks/python3/lib/python3.10/site-packages (from mlflow) (1.10.0)\nRequirement already satisfied: Flask<4 in /local_disk0/.ephemeral_nfs/envs/pythonEnv-f96a20a9-d705-421c-8a69-6943e90d7629/lib/python3.10/site-packages (from mlflow) (3.1.1)\nRequirement already satisfied: alembic!=1.10.0,<2 in /local_disk0/.ephemeral_nfs/envs/pythonEnv-f96a20a9-d705-421c-8a69-6943e90d7629/lib/python3.10/site-packages (from mlflow) (1.14.1)\nRequirement already satisfied: pandas<3 in /databricks/python3/lib/python3.10/site-packages (from mlflow) (1.5.3)\nRequirement already satisfied: gunicorn<24 in /local_disk0/.ephemeral_nfs/envs/pythonEnv-f96a20a9-d705-421c-8a69-6943e90d7629/lib/python3.10/site-packages (from mlflow) (23.0.0)\nRequirement already satisfied: mlflow-skinny==3.1.4 in /local_disk0/.ephemeral_nfs/envs/pythonEnv-f96a20a9-d705-421c-8a69-6943e90d7629/lib/python3.10/site-packages (from mlflow) (3.1.4)\nRequirement already satisfied: graphene<4 in /local_disk0/.ephemeral_nfs/envs/pythonEnv-f96a20a9-d705-421c-8a69-6943e90d7629/lib/python3.10/site-packages (from mlflow) (3.3)\nRequirement already satisfied: scikit-learn<2 in /databricks/python3/lib/python3.10/site-packages (from mlflow) (1.1.1)\nRequirement already satisfied: docker<8,>=4.0.0 in /local_disk0/.ephemeral_nfs/envs/pythonEnv-f96a20a9-d705-421c-8a69-6943e90d7629/lib/python3.10/site-packages (from mlflow) (7.1.0)\nRequirement already satisfied: numpy<3 in /databricks/python3/lib/python3.10/site-packages (from mlflow) (1.23.5)\nRequirement already satisfied: sqlalchemy<3,>=1.4.0 in /local_disk0/.ephemeral_nfs/envs/pythonEnv-f96a20a9-d705-421c-8a69-6943e90d7629/lib/python3.10/site-packages (from mlflow) (2.0.24)\nRequirement already satisfied: pyarrow<21,>=4.0.0 in /databricks/python3/lib/python3.10/site-packages (from mlflow) (8.0.0)\nRequirement already satisfied: gitpython<4,>=3.1.9 in /local_disk0/.ephemeral_nfs/envs/pythonEnv-f96a20a9-d705-421c-8a69-6943e90d7629/lib/python3.10/site-packages (from mlflow-skinny==3.1.4->mlflow) (3.1.45)\nRequirement already satisfied: importlib_metadata!=4.7.0,<9,>=3.7.0 in /local_disk0/.ephemeral_nfs/envs/pythonEnv-f96a20a9-d705-421c-8a69-6943e90d7629/lib/python3.10/site-packages (from mlflow-skinny==3.1.4->mlflow) (8.7.0)\nRequirement already satisfied: opentelemetry-api<3,>=1.9.0 in /local_disk0/.ephemeral_nfs/envs/pythonEnv-f96a20a9-d705-421c-8a69-6943e90d7629/lib/python3.10/site-packages (from mlflow-skinny==3.1.4->mlflow) (1.36.0)\nRequirement already satisfied: sqlparse<1,>=0.4.0 in /local_disk0/.ephemeral_nfs/envs/pythonEnv-f96a20a9-d705-421c-8a69-6943e90d7629/lib/python3.10/site-packages (from mlflow-skinny==3.1.4->mlflow) (0.5.3)\nRequirement already satisfied: protobuf<7,>=3.12.0 in /databricks/python3/lib/python3.10/site-packages (from mlflow-skinny==3.1.4->mlflow) (4.25.5)\nRequirement already satisfied: cachetools<7,>=5.0.0 in /databricks/python3/lib/python3.10/site-packages (from mlflow-skinny==3.1.4->mlflow) (5.3.2)\nRequirement already satisfied: databricks-sdk<1,>=0.20.0 in /databricks/python3/lib/python3.10/site-packages (from mlflow-skinny==3.1.4->mlflow) (0.20.0)\nRequirement already satisfied: opentelemetry-sdk<3,>=1.9.0 in /local_disk0/.ephemeral_nfs/envs/pythonEnv-f96a20a9-d705-421c-8a69-6943e90d7629/lib/python3.10/site-packages (from mlflow-skinny==3.1.4->mlflow) (1.36.0)\nRequirement already satisfied: click<9,>=7.0 in /local_disk0/.ephemeral_nfs/envs/pythonEnv-f96a20a9-d705-421c-8a69-6943e90d7629/lib/python3.10/site-packages (from mlflow-skinny==3.1.4->mlflow) (8.2.1)\nRequirement already satisfied: pydantic<3,>=1.10.8 in /local_disk0/.ephemeral_nfs/envs/pythonEnv-f96a20a9-d705-421c-8a69-6943e90d7629/lib/python3.10/site-packages (from mlflow-skinny==3.1.4->mlflow) (1.10.22)\nRequirement already satisfied: uvicorn<1 in /local_disk0/.ephemeral_nfs/envs/pythonEnv-f96a20a9-d705-421c-8a69-6943e90d7629/lib/python3.10/site-packages (from mlflow-skinny==3.1.4->mlflow) (0.35.0)\nRequirement already satisfied: cloudpickle<4 in /local_disk0/.ephemeral_nfs/envs/pythonEnv-f96a20a9-d705-421c-8a69-6943e90d7629/lib/python3.10/site-packages (from mlflow-skinny==3.1.4->mlflow) (3.1.1)\nRequirement already satisfied: fastapi<1 in /local_disk0/.ephemeral_nfs/envs/pythonEnv-f96a20a9-d705-421c-8a69-6943e90d7629/lib/python3.10/site-packages (from mlflow-skinny==3.1.4->mlflow) (0.103.2)\nRequirement already satisfied: pyyaml<7,>=5.1 in /local_disk0/.ephemeral_nfs/envs/pythonEnv-f96a20a9-d705-421c-8a69-6943e90d7629/lib/python3.10/site-packages (from mlflow-skinny==3.1.4->mlflow) (6.0.2)\nRequirement already satisfied: requests<3,>=2.17.3 in /databricks/python3/lib/python3.10/site-packages (from mlflow-skinny==3.1.4->mlflow) (2.28.1)\nRequirement already satisfied: packaging<26 in /databricks/python3/lib/python3.10/site-packages (from mlflow-skinny==3.1.4->mlflow) (23.2)\nRequirement already satisfied: Mako in /local_disk0/.ephemeral_nfs/envs/pythonEnv-f96a20a9-d705-421c-8a69-6943e90d7629/lib/python3.10/site-packages (from alembic!=1.10.0,<2->mlflow) (1.3.10)\nRequirement already satisfied: urllib3>=1.26.0 in /databricks/python3/lib/python3.10/site-packages (from docker<8,>=4.0.0->mlflow) (1.26.14)\nRequirement already satisfied: jinja2>=3.1.2 in /databricks/python3/lib/python3.10/site-packages (from Flask<4->mlflow) (3.1.2)\nRequirement already satisfied: werkzeug>=3.1.0 in /local_disk0/.ephemeral_nfs/envs/pythonEnv-f96a20a9-d705-421c-8a69-6943e90d7629/lib/python3.10/site-packages (from Flask<4->mlflow) (3.1.3)\nRequirement already satisfied: markupsafe>=2.1.1 in /databricks/python3/lib/python3.10/site-packages (from Flask<4->mlflow) (2.1.1)\nRequirement already satisfied: blinker>=1.9.0 in /local_disk0/.ephemeral_nfs/envs/pythonEnv-f96a20a9-d705-421c-8a69-6943e90d7629/lib/python3.10/site-packages (from Flask<4->mlflow) (1.9.0)\nRequirement already satisfied: itsdangerous>=2.2.0 in /local_disk0/.ephemeral_nfs/envs/pythonEnv-f96a20a9-d705-421c-8a69-6943e90d7629/lib/python3.10/site-packages (from Flask<4->mlflow) (2.2.0)\nRequirement already satisfied: graphql-core<3.3,>=3.1 in /local_disk0/.ephemeral_nfs/envs/pythonEnv-f96a20a9-d705-421c-8a69-6943e90d7629/lib/python3.10/site-packages (from graphene<4->mlflow) (3.2.6)\nRequirement already satisfied: aniso8601<10,>=8 in /local_disk0/.ephemeral_nfs/envs/pythonEnv-f96a20a9-d705-421c-8a69-6943e90d7629/lib/python3.10/site-packages (from graphene<4->mlflow) (9.0.1)\nRequirement already satisfied: graphql-relay<3.3,>=3.1 in /local_disk0/.ephemeral_nfs/envs/pythonEnv-f96a20a9-d705-421c-8a69-6943e90d7629/lib/python3.10/site-packages (from graphene<4->mlflow) (3.2.0)\nRequirement already satisfied: fonttools>=4.22.0 in /databricks/python3/lib/python3.10/site-packages (from matplotlib<4->mlflow) (4.25.0)\nRequirement already satisfied: pyparsing>=2.3.1 in /databricks/python3/lib/python3.10/site-packages (from matplotlib<4->mlflow) (3.0.9)\nRequirement already satisfied: pillow>=6.2.0 in /databricks/python3/lib/python3.10/site-packages (from matplotlib<4->mlflow) (9.4.0)\nRequirement already satisfied: kiwisolver>=1.0.1 in /databricks/python3/lib/python3.10/site-packages (from matplotlib<4->mlflow) (1.4.4)\nRequirement already satisfied: python-dateutil>=2.7 in /databricks/python3/lib/python3.10/site-packages (from matplotlib<4->mlflow) (2.8.2)\nRequirement already satisfied: cycler>=0.10 in /databricks/python3/lib/python3.10/site-packages (from matplotlib<4->mlflow) (0.11.0)\nRequirement already satisfied: contourpy>=1.0.1 in /databricks/python3/lib/python3.10/site-packages (from matplotlib<4->mlflow) (1.0.5)\nRequirement already satisfied: pytz>=2020.1 in /databricks/python3/lib/python3.10/site-packages (from pandas<3->mlflow) (2022.7)\nRequirement already satisfied: joblib>=1.0.0 in /databricks/python3/lib/python3.10/site-packages (from scikit-learn<2->mlflow) (1.2.0)\nRequirement already satisfied: threadpoolctl>=2.0.0 in /databricks/python3/lib/python3.10/site-packages (from scikit-learn<2->mlflow) (2.2.0)\nRequirement already satisfied: greenlet!=0.4.17 in /local_disk0/.ephemeral_nfs/envs/pythonEnv-f96a20a9-d705-421c-8a69-6943e90d7629/lib/python3.10/site-packages (from sqlalchemy<3,>=1.4.0->mlflow) (3.2.3)\nRequirement already satisfied: google-auth~=2.0 in /databricks/python3/lib/python3.10/site-packages (from databricks-sdk<1,>=0.20.0->mlflow-skinny==3.1.4->mlflow) (2.28.1)\nRequirement already satisfied: anyio<4.0.0,>=3.7.1 in /local_disk0/.ephemeral_nfs/envs/pythonEnv-f96a20a9-d705-421c-8a69-6943e90d7629/lib/python3.10/site-packages (from fastapi<1->mlflow-skinny==3.1.4->mlflow) (3.7.1)\nRequirement already satisfied: starlette<0.28.0,>=0.27.0 in /local_disk0/.ephemeral_nfs/envs/pythonEnv-f96a20a9-d705-421c-8a69-6943e90d7629/lib/python3.10/site-packages (from fastapi<1->mlflow-skinny==3.1.4->mlflow) (0.27.0)\nRequirement already satisfied: gitdb<5,>=4.0.1 in /local_disk0/.ephemeral_nfs/envs/pythonEnv-f96a20a9-d705-421c-8a69-6943e90d7629/lib/python3.10/site-packages (from gitpython<4,>=3.1.9->mlflow-skinny==3.1.4->mlflow) (4.0.12)\nRequirement already satisfied: zipp>=3.20 in /local_disk0/.ephemeral_nfs/envs/pythonEnv-f96a20a9-d705-421c-8a69-6943e90d7629/lib/python3.10/site-packages (from importlib_metadata!=4.7.0,<9,>=3.7.0->mlflow-skinny==3.1.4->mlflow) (3.23.0)\nRequirement already satisfied: opentelemetry-semantic-conventions==0.57b0 in /local_disk0/.ephemeral_nfs/envs/pythonEnv-f96a20a9-d705-421c-8a69-6943e90d7629/lib/python3.10/site-packages (from opentelemetry-sdk<3,>=1.9.0->mlflow-skinny==3.1.4->mlflow) (0.57b0)\nRequirement already satisfied: six>=1.5 in /usr/lib/python3/dist-packages (from python-dateutil>=2.7->matplotlib<4->mlflow) (1.16.0)\nRequirement already satisfied: certifi>=2017.4.17 in /databricks/python3/lib/python3.10/site-packages (from requests<3,>=2.17.3->mlflow-skinny==3.1.4->mlflow) (2022.12.7)\nRequirement already satisfied: charset-normalizer<3,>=2 in /databricks/python3/lib/python3.10/site-packages (from requests<3,>=2.17.3->mlflow-skinny==3.1.4->mlflow) (2.0.4)\nRequirement already satisfied: idna<4,>=2.5 in /databricks/python3/lib/python3.10/site-packages (from requests<3,>=2.17.3->mlflow-skinny==3.1.4->mlflow) (3.4)\nRequirement already satisfied: h11>=0.8 in /local_disk0/.ephemeral_nfs/envs/pythonEnv-f96a20a9-d705-421c-8a69-6943e90d7629/lib/python3.10/site-packages (from uvicorn<1->mlflow-skinny==3.1.4->mlflow) (0.16.0)\nRequirement already satisfied: sniffio>=1.1 in /databricks/python3/lib/python3.10/site-packages (from anyio<4.0.0,>=3.7.1->fastapi<1->mlflow-skinny==3.1.4->mlflow) (1.2.0)\nRequirement already satisfied: exceptiongroup in /local_disk0/.ephemeral_nfs/envs/pythonEnv-f96a20a9-d705-421c-8a69-6943e90d7629/lib/python3.10/site-packages (from anyio<4.0.0,>=3.7.1->fastapi<1->mlflow-skinny==3.1.4->mlflow) (1.2.2)\nRequirement already satisfied: smmap<6,>=3.0.1 in /local_disk0/.ephemeral_nfs/envs/pythonEnv-f96a20a9-d705-421c-8a69-6943e90d7629/lib/python3.10/site-packages (from gitdb<5,>=4.0.1->gitpython<4,>=3.1.9->mlflow-skinny==3.1.4->mlflow) (5.0.2)\nRequirement already satisfied: pyasn1-modules>=0.2.1 in /databricks/python3/lib/python3.10/site-packages (from google-auth~=2.0->databricks-sdk<1,>=0.20.0->mlflow-skinny==3.1.4->mlflow) (0.3.0)\nRequirement already satisfied: rsa<5,>=3.1.4 in /databricks/python3/lib/python3.10/site-packages (from google-auth~=2.0->databricks-sdk<1,>=0.20.0->mlflow-skinny==3.1.4->mlflow) (4.9)\nRequirement already satisfied: pyasn1<0.6.0,>=0.4.6 in /databricks/python3/lib/python3.10/site-packages (from pyasn1-modules>=0.2.1->google-auth~=2.0->databricks-sdk<1,>=0.20.0->mlflow-skinny==3.1.4->mlflow) (0.5.1)\n\u001B[43mNote: you may need to restart the kernel using %restart_python or dbutils.library.restartPython() to use updated packages.\u001B[0m\n"
     ]
    },
    {
     "output_type": "display_data",
     "data": {
      "text/html": [
       "\n",
       "<div>Declared RandomForestRegress Model Class with methods:</div>\n",
       "<li>Declared <b style=\"color:green\">model()</b> returns existing instance of Random Forest Model</li>\n",
       "<li>Declared <b style=\"color:green\">new_instance(params={...}</b></li> returns a new instance of RandomForestClassifierModel</li> \n",
       "<li>Declared <b style=\"color:green\"> mlflow_run(DataFrame, run_name=\"name\")</b> returns experiment_ID, run_ID</li>\n",
       "\n",
       "<br/>\n"
      ]
     },
     "metadata": {},
     "output_type": "display_data"
    },
    {
     "output_type": "display_data",
     "data": {
      "text/markdown": [
       "Randorm Forest Classifier class definition `RFCModel`"
      ]
     },
     "metadata": {},
     "output_type": "display_data"
    },
    {
     "output_type": "stream",
     "name": "stdout",
     "output_type": "stream",
     "text": [
      "Collecting typing_extensions==4.5.0\n  Downloading typing_extensions-4.5.0-py3-none-any.whl (27 kB)\nRequirement already satisfied: mlflow in /local_disk0/.ephemeral_nfs/envs/pythonEnv-f96a20a9-d705-421c-8a69-6943e90d7629/lib/python3.10/site-packages (3.1.4)\nRequirement already satisfied: docker<8,>=4.0.0 in /local_disk0/.ephemeral_nfs/envs/pythonEnv-f96a20a9-d705-421c-8a69-6943e90d7629/lib/python3.10/site-packages (from mlflow) (7.1.0)\nRequirement already satisfied: pandas<3 in /databricks/python3/lib/python3.10/site-packages (from mlflow) (1.5.3)\nRequirement already satisfied: Flask<4 in /local_disk0/.ephemeral_nfs/envs/pythonEnv-f96a20a9-d705-421c-8a69-6943e90d7629/lib/python3.10/site-packages (from mlflow) (3.1.1)\nRequirement already satisfied: matplotlib<4 in /databricks/python3/lib/python3.10/site-packages (from mlflow) (3.7.0)\nRequirement already satisfied: mlflow-skinny==3.1.4 in /local_disk0/.ephemeral_nfs/envs/pythonEnv-f96a20a9-d705-421c-8a69-6943e90d7629/lib/python3.10/site-packages (from mlflow) (3.1.4)\nRequirement already satisfied: numpy<3 in /databricks/python3/lib/python3.10/site-packages (from mlflow) (1.23.5)\nRequirement already satisfied: sqlalchemy<3,>=1.4.0 in /local_disk0/.ephemeral_nfs/envs/pythonEnv-f96a20a9-d705-421c-8a69-6943e90d7629/lib/python3.10/site-packages (from mlflow) (2.0.24)\nRequirement already satisfied: pyarrow<21,>=4.0.0 in /databricks/python3/lib/python3.10/site-packages (from mlflow) (8.0.0)\nRequirement already satisfied: scikit-learn<2 in /databricks/python3/lib/python3.10/site-packages (from mlflow) (1.1.1)\nRequirement already satisfied: alembic!=1.10.0,<2 in /local_disk0/.ephemeral_nfs/envs/pythonEnv-f96a20a9-d705-421c-8a69-6943e90d7629/lib/python3.10/site-packages (from mlflow) (1.14.1)\nRequirement already satisfied: graphene<4 in /local_disk0/.ephemeral_nfs/envs/pythonEnv-f96a20a9-d705-421c-8a69-6943e90d7629/lib/python3.10/site-packages (from mlflow) (3.3)\nRequirement already satisfied: scipy<2 in /databricks/python3/lib/python3.10/site-packages (from mlflow) (1.10.0)\nRequirement already satisfied: gunicorn<24 in /local_disk0/.ephemeral_nfs/envs/pythonEnv-f96a20a9-d705-421c-8a69-6943e90d7629/lib/python3.10/site-packages (from mlflow) (23.0.0)\nRequirement already satisfied: cloudpickle<4 in /local_disk0/.ephemeral_nfs/envs/pythonEnv-f96a20a9-d705-421c-8a69-6943e90d7629/lib/python3.10/site-packages (from mlflow-skinny==3.1.4->mlflow) (3.1.1)\nRequirement already satisfied: fastapi<1 in /local_disk0/.ephemeral_nfs/envs/pythonEnv-f96a20a9-d705-421c-8a69-6943e90d7629/lib/python3.10/site-packages (from mlflow-skinny==3.1.4->mlflow) (0.103.2)\nRequirement already satisfied: opentelemetry-api<3,>=1.9.0 in /local_disk0/.ephemeral_nfs/envs/pythonEnv-f96a20a9-d705-421c-8a69-6943e90d7629/lib/python3.10/site-packages (from mlflow-skinny==3.1.4->mlflow) (1.36.0)\nRequirement already satisfied: opentelemetry-sdk<3,>=1.9.0 in /local_disk0/.ephemeral_nfs/envs/pythonEnv-f96a20a9-d705-421c-8a69-6943e90d7629/lib/python3.10/site-packages (from mlflow-skinny==3.1.4->mlflow) (1.36.0)\nRequirement already satisfied: requests<3,>=2.17.3 in /databricks/python3/lib/python3.10/site-packages (from mlflow-skinny==3.1.4->mlflow) (2.28.1)\nRequirement already satisfied: importlib_metadata!=4.7.0,<9,>=3.7.0 in /local_disk0/.ephemeral_nfs/envs/pythonEnv-f96a20a9-d705-421c-8a69-6943e90d7629/lib/python3.10/site-packages (from mlflow-skinny==3.1.4->mlflow) (8.7.0)\nRequirement already satisfied: click<9,>=7.0 in /local_disk0/.ephemeral_nfs/envs/pythonEnv-f96a20a9-d705-421c-8a69-6943e90d7629/lib/python3.10/site-packages (from mlflow-skinny==3.1.4->mlflow) (8.2.1)\nRequirement already satisfied: gitpython<4,>=3.1.9 in /local_disk0/.ephemeral_nfs/envs/pythonEnv-f96a20a9-d705-421c-8a69-6943e90d7629/lib/python3.10/site-packages (from mlflow-skinny==3.1.4->mlflow) (3.1.45)\nRequirement already satisfied: pyyaml<7,>=5.1 in /local_disk0/.ephemeral_nfs/envs/pythonEnv-f96a20a9-d705-421c-8a69-6943e90d7629/lib/python3.10/site-packages (from mlflow-skinny==3.1.4->mlflow) (6.0.2)\nRequirement already satisfied: cachetools<7,>=5.0.0 in /databricks/python3/lib/python3.10/site-packages (from mlflow-skinny==3.1.4->mlflow) (5.3.2)\nRequirement already satisfied: sqlparse<1,>=0.4.0 in /local_disk0/.ephemeral_nfs/envs/pythonEnv-f96a20a9-d705-421c-8a69-6943e90d7629/lib/python3.10/site-packages (from mlflow-skinny==3.1.4->mlflow) (0.5.3)\nRequirement already satisfied: protobuf<7,>=3.12.0 in /databricks/python3/lib/python3.10/site-packages (from mlflow-skinny==3.1.4->mlflow) (4.25.5)\nRequirement already satisfied: packaging<26 in /databricks/python3/lib/python3.10/site-packages (from mlflow-skinny==3.1.4->mlflow) (23.2)\nRequirement already satisfied: uvicorn<1 in /local_disk0/.ephemeral_nfs/envs/pythonEnv-f96a20a9-d705-421c-8a69-6943e90d7629/lib/python3.10/site-packages (from mlflow-skinny==3.1.4->mlflow) (0.35.0)\nRequirement already satisfied: databricks-sdk<1,>=0.20.0 in /databricks/python3/lib/python3.10/site-packages (from mlflow-skinny==3.1.4->mlflow) (0.20.0)\nRequirement already satisfied: pydantic<3,>=1.10.8 in /local_disk0/.ephemeral_nfs/envs/pythonEnv-f96a20a9-d705-421c-8a69-6943e90d7629/lib/python3.10/site-packages (from mlflow-skinny==3.1.4->mlflow) (1.10.22)\nRequirement already satisfied: Mako in /local_disk0/.ephemeral_nfs/envs/pythonEnv-f96a20a9-d705-421c-8a69-6943e90d7629/lib/python3.10/site-packages (from alembic!=1.10.0,<2->mlflow) (1.3.10)\nRequirement already satisfied: urllib3>=1.26.0 in /databricks/python3/lib/python3.10/site-packages (from docker<8,>=4.0.0->mlflow) (1.26.14)\nRequirement already satisfied: itsdangerous>=2.2.0 in /local_disk0/.ephemeral_nfs/envs/pythonEnv-f96a20a9-d705-421c-8a69-6943e90d7629/lib/python3.10/site-packages (from Flask<4->mlflow) (2.2.0)\nRequirement already satisfied: jinja2>=3.1.2 in /databricks/python3/lib/python3.10/site-packages (from Flask<4->mlflow) (3.1.2)\nRequirement already satisfied: blinker>=1.9.0 in /local_disk0/.ephemeral_nfs/envs/pythonEnv-f96a20a9-d705-421c-8a69-6943e90d7629/lib/python3.10/site-packages (from Flask<4->mlflow) (1.9.0)\nRequirement already satisfied: werkzeug>=3.1.0 in /local_disk0/.ephemeral_nfs/envs/pythonEnv-f96a20a9-d705-421c-8a69-6943e90d7629/lib/python3.10/site-packages (from Flask<4->mlflow) (3.1.3)\nRequirement already satisfied: markupsafe>=2.1.1 in /databricks/python3/lib/python3.10/site-packages (from Flask<4->mlflow) (2.1.1)\nRequirement already satisfied: graphql-core<3.3,>=3.1 in /local_disk0/.ephemeral_nfs/envs/pythonEnv-f96a20a9-d705-421c-8a69-6943e90d7629/lib/python3.10/site-packages (from graphene<4->mlflow) (3.2.6)\nRequirement already satisfied: aniso8601<10,>=8 in /local_disk0/.ephemeral_nfs/envs/pythonEnv-f96a20a9-d705-421c-8a69-6943e90d7629/lib/python3.10/site-packages (from graphene<4->mlflow) (9.0.1)\nRequirement already satisfied: graphql-relay<3.3,>=3.1 in /local_disk0/.ephemeral_nfs/envs/pythonEnv-f96a20a9-d705-421c-8a69-6943e90d7629/lib/python3.10/site-packages (from graphene<4->mlflow) (3.2.0)\nRequirement already satisfied: cycler>=0.10 in /databricks/python3/lib/python3.10/site-packages (from matplotlib<4->mlflow) (0.11.0)\nRequirement already satisfied: kiwisolver>=1.0.1 in /databricks/python3/lib/python3.10/site-packages (from matplotlib<4->mlflow) (1.4.4)\nRequirement already satisfied: python-dateutil>=2.7 in /databricks/python3/lib/python3.10/site-packages (from matplotlib<4->mlflow) (2.8.2)\nRequirement already satisfied: pillow>=6.2.0 in /databricks/python3/lib/python3.10/site-packages (from matplotlib<4->mlflow) (9.4.0)\nRequirement already satisfied: fonttools>=4.22.0 in /databricks/python3/lib/python3.10/site-packages (from matplotlib<4->mlflow) (4.25.0)\nRequirement already satisfied: contourpy>=1.0.1 in /databricks/python3/lib/python3.10/site-packages (from matplotlib<4->mlflow) (1.0.5)\nRequirement already satisfied: pyparsing>=2.3.1 in /databricks/python3/lib/python3.10/site-packages (from matplotlib<4->mlflow) (3.0.9)\nRequirement already satisfied: pytz>=2020.1 in /databricks/python3/lib/python3.10/site-packages (from pandas<3->mlflow) (2022.7)\nRequirement already satisfied: joblib>=1.0.0 in /databricks/python3/lib/python3.10/site-packages (from scikit-learn<2->mlflow) (1.2.0)\nRequirement already satisfied: threadpoolctl>=2.0.0 in /databricks/python3/lib/python3.10/site-packages (from scikit-learn<2->mlflow) (2.2.0)\nRequirement already satisfied: greenlet!=0.4.17 in /local_disk0/.ephemeral_nfs/envs/pythonEnv-f96a20a9-d705-421c-8a69-6943e90d7629/lib/python3.10/site-packages (from sqlalchemy<3,>=1.4.0->mlflow) (3.2.3)\nRequirement already satisfied: google-auth~=2.0 in /databricks/python3/lib/python3.10/site-packages (from databricks-sdk<1,>=0.20.0->mlflow-skinny==3.1.4->mlflow) (2.28.1)\nRequirement already satisfied: anyio<4.0.0,>=3.7.1 in /local_disk0/.ephemeral_nfs/envs/pythonEnv-f96a20a9-d705-421c-8a69-6943e90d7629/lib/python3.10/site-packages (from fastapi<1->mlflow-skinny==3.1.4->mlflow) (3.7.1)\nRequirement already satisfied: starlette<0.28.0,>=0.27.0 in /local_disk0/.ephemeral_nfs/envs/pythonEnv-f96a20a9-d705-421c-8a69-6943e90d7629/lib/python3.10/site-packages (from fastapi<1->mlflow-skinny==3.1.4->mlflow) (0.27.0)\nRequirement already satisfied: gitdb<5,>=4.0.1 in /local_disk0/.ephemeral_nfs/envs/pythonEnv-f96a20a9-d705-421c-8a69-6943e90d7629/lib/python3.10/site-packages (from gitpython<4,>=3.1.9->mlflow-skinny==3.1.4->mlflow) (4.0.12)\nRequirement already satisfied: zipp>=3.20 in /local_disk0/.ephemeral_nfs/envs/pythonEnv-f96a20a9-d705-421c-8a69-6943e90d7629/lib/python3.10/site-packages (from importlib_metadata!=4.7.0,<9,>=3.7.0->mlflow-skinny==3.1.4->mlflow) (3.23.0)\nRequirement already satisfied: opentelemetry-semantic-conventions==0.57b0 in /local_disk0/.ephemeral_nfs/envs/pythonEnv-f96a20a9-d705-421c-8a69-6943e90d7629/lib/python3.10/site-packages (from opentelemetry-sdk<3,>=1.9.0->mlflow-skinny==3.1.4->mlflow) (0.57b0)\nRequirement already satisfied: six>=1.5 in /usr/lib/python3/dist-packages (from python-dateutil>=2.7->matplotlib<4->mlflow) (1.16.0)\nRequirement already satisfied: certifi>=2017.4.17 in /databricks/python3/lib/python3.10/site-packages (from requests<3,>=2.17.3->mlflow-skinny==3.1.4->mlflow) (2022.12.7)\nRequirement already satisfied: charset-normalizer<3,>=2 in /databricks/python3/lib/python3.10/site-packages (from requests<3,>=2.17.3->mlflow-skinny==3.1.4->mlflow) (2.0.4)\nRequirement already satisfied: idna<4,>=2.5 in /databricks/python3/lib/python3.10/site-packages (from requests<3,>=2.17.3->mlflow-skinny==3.1.4->mlflow) (3.4)\nRequirement already satisfied: h11>=0.8 in /local_disk0/.ephemeral_nfs/envs/pythonEnv-f96a20a9-d705-421c-8a69-6943e90d7629/lib/python3.10/site-packages (from uvicorn<1->mlflow-skinny==3.1.4->mlflow) (0.16.0)\nRequirement already satisfied: exceptiongroup in /local_disk0/.ephemeral_nfs/envs/pythonEnv-f96a20a9-d705-421c-8a69-6943e90d7629/lib/python3.10/site-packages (from anyio<4.0.0,>=3.7.1->fastapi<1->mlflow-skinny==3.1.4->mlflow) (1.2.2)\nRequirement already satisfied: sniffio>=1.1 in /databricks/python3/lib/python3.10/site-packages (from anyio<4.0.0,>=3.7.1->fastapi<1->mlflow-skinny==3.1.4->mlflow) (1.2.0)\nRequirement already satisfied: smmap<6,>=3.0.1 in /local_disk0/.ephemeral_nfs/envs/pythonEnv-f96a20a9-d705-421c-8a69-6943e90d7629/lib/python3.10/site-packages (from gitdb<5,>=4.0.1->gitpython<4,>=3.1.9->mlflow-skinny==3.1.4->mlflow) (5.0.2)\nRequirement already satisfied: rsa<5,>=3.1.4 in /databricks/python3/lib/python3.10/site-packages (from google-auth~=2.0->databricks-sdk<1,>=0.20.0->mlflow-skinny==3.1.4->mlflow) (4.9)\nRequirement already satisfied: pyasn1-modules>=0.2.1 in /databricks/python3/lib/python3.10/site-packages (from google-auth~=2.0->databricks-sdk<1,>=0.20.0->mlflow-skinny==3.1.4->mlflow) (0.3.0)\nRequirement already satisfied: pyasn1<0.6.0,>=0.4.6 in /databricks/python3/lib/python3.10/site-packages (from pyasn1-modules>=0.2.1->google-auth~=2.0->databricks-sdk<1,>=0.20.0->mlflow-skinny==3.1.4->mlflow) (0.5.1)\nInstalling collected packages: typing_extensions\n  Attempting uninstall: typing_extensions\n    Found existing installation: typing_extensions 4.14.1\n    Uninstalling typing_extensions-4.14.1:\n      Successfully uninstalled typing_extensions-4.14.1\nERROR: pip's dependency resolver does not currently take into account all the packages that are installed. This behaviour is the source of the following dependency conflicts.\ntyping-inspection 0.4.1 requires typing-extensions>=4.12.0, but you have typing-extensions 4.5.0 which is incompatible.\npydantic-core 2.33.2 requires typing-extensions!=4.7.0,>=4.6.0, but you have typing-extensions 4.5.0 which is incompatible.\nSuccessfully installed typing_extensions-4.5.0\n\u001B[43mNote: you may need to restart the kernel using %restart_python or dbutils.library.restartPython() to use updated packages.\u001B[0m\n"
     ]
    },
    {
     "output_type": "display_data",
     "data": {
      "text/html": [
       "\n",
       "<div>Declared RandomForestClassifierModel Class with methods:</div>\n",
       "<li>Declared <b style=\"color:green\">model()</b> returns existing instance of Random Forest Model</li>\n",
       "<li>Declared <b style=\"color:green\">params()</b> returns existing Random Forest Model's init parameters.</li>\n",
       "<li>Declared <b style=\"color:green\">new_instance(params={...})</b> returns a new instance of RandomForestClassifierModel</li> \n",
       "<li>Declared <b style=\"color:green\"> mlflow_run(DataFrame, run_name=\"name\")</b> returns experiment_ID, run_ID</li>\n",
       "\n",
       "<br/>\n"
      ]
     },
     "metadata": {},
     "output_type": "display_data"
    }
   ],
   "source": [
    "%run ./rfc_classification_cls"
   ]
  },
  {
   "cell_type": "code",
   "execution_count": 0,
   "metadata": {
    "application/vnd.databricks.v1+cell": {
     "cellMetadata": {
      "byteLimit": 2048000,
      "rowLimit": 10000
     },
     "inputWidgets": {},
     "nuid": "b7959680-bee6-447f-acbc-ac4e3896f5cd",
     "showTitle": false,
     "tableResultSettingsMap": {},
     "title": ""
    }
   },
   "outputs": [
    {
     "output_type": "display_data",
     "data": {
      "text/markdown": [
       "Randorm Forest class defintions for:\n",
       " * `RFRBaseModel`\n",
       " * `RFFExperimentModel`"
      ]
     },
     "metadata": {},
     "output_type": "display_data"
    },
    {
     "output_type": "stream",
     "name": "stdout",
     "output_type": "stream",
     "text": [
      "Requirement already satisfied: typing_extensions in /local_disk0/.ephemeral_nfs/envs/pythonEnv-f96a20a9-d705-421c-8a69-6943e90d7629/lib/python3.10/site-packages (4.5.0)\nCollecting typing_extensions\n  Downloading typing_extensions-4.14.1-py3-none-any.whl (43 kB)\n     ━━━━━━━━━━━━━━━━━━━━━━━━━━━━━━━━━━━━━━━━ 43.9/43.9 kB 1.9 MB/s eta 0:00:00\nRequirement already satisfied: mlflow in /local_disk0/.ephemeral_nfs/envs/pythonEnv-f96a20a9-d705-421c-8a69-6943e90d7629/lib/python3.10/site-packages (3.1.4)\nRequirement already satisfied: alembic!=1.10.0,<2 in /local_disk0/.ephemeral_nfs/envs/pythonEnv-f96a20a9-d705-421c-8a69-6943e90d7629/lib/python3.10/site-packages (from mlflow) (1.14.1)\nRequirement already satisfied: pandas<3 in /databricks/python3/lib/python3.10/site-packages (from mlflow) (1.5.3)\nRequirement already satisfied: Flask<4 in /local_disk0/.ephemeral_nfs/envs/pythonEnv-f96a20a9-d705-421c-8a69-6943e90d7629/lib/python3.10/site-packages (from mlflow) (3.1.1)\nRequirement already satisfied: graphene<4 in /local_disk0/.ephemeral_nfs/envs/pythonEnv-f96a20a9-d705-421c-8a69-6943e90d7629/lib/python3.10/site-packages (from mlflow) (3.3)\nRequirement already satisfied: docker<8,>=4.0.0 in /local_disk0/.ephemeral_nfs/envs/pythonEnv-f96a20a9-d705-421c-8a69-6943e90d7629/lib/python3.10/site-packages (from mlflow) (7.1.0)\nRequirement already satisfied: scikit-learn<2 in /databricks/python3/lib/python3.10/site-packages (from mlflow) (1.1.1)\nRequirement already satisfied: gunicorn<24 in /local_disk0/.ephemeral_nfs/envs/pythonEnv-f96a20a9-d705-421c-8a69-6943e90d7629/lib/python3.10/site-packages (from mlflow) (23.0.0)\nRequirement already satisfied: numpy<3 in /databricks/python3/lib/python3.10/site-packages (from mlflow) (1.23.5)\nRequirement already satisfied: sqlalchemy<3,>=1.4.0 in /local_disk0/.ephemeral_nfs/envs/pythonEnv-f96a20a9-d705-421c-8a69-6943e90d7629/lib/python3.10/site-packages (from mlflow) (2.0.24)\nRequirement already satisfied: mlflow-skinny==3.1.4 in /local_disk0/.ephemeral_nfs/envs/pythonEnv-f96a20a9-d705-421c-8a69-6943e90d7629/lib/python3.10/site-packages (from mlflow) (3.1.4)\nRequirement already satisfied: scipy<2 in /databricks/python3/lib/python3.10/site-packages (from mlflow) (1.10.0)\nRequirement already satisfied: matplotlib<4 in /databricks/python3/lib/python3.10/site-packages (from mlflow) (3.7.0)\nRequirement already satisfied: pyarrow<21,>=4.0.0 in /databricks/python3/lib/python3.10/site-packages (from mlflow) (8.0.0)\nRequirement already satisfied: databricks-sdk<1,>=0.20.0 in /databricks/python3/lib/python3.10/site-packages (from mlflow-skinny==3.1.4->mlflow) (0.20.0)\nRequirement already satisfied: click<9,>=7.0 in /local_disk0/.ephemeral_nfs/envs/pythonEnv-f96a20a9-d705-421c-8a69-6943e90d7629/lib/python3.10/site-packages (from mlflow-skinny==3.1.4->mlflow) (8.2.1)\nRequirement already satisfied: cloudpickle<4 in /local_disk0/.ephemeral_nfs/envs/pythonEnv-f96a20a9-d705-421c-8a69-6943e90d7629/lib/python3.10/site-packages (from mlflow-skinny==3.1.4->mlflow) (3.1.1)\nRequirement already satisfied: pydantic<3,>=1.10.8 in /local_disk0/.ephemeral_nfs/envs/pythonEnv-f96a20a9-d705-421c-8a69-6943e90d7629/lib/python3.10/site-packages (from mlflow-skinny==3.1.4->mlflow) (1.10.22)\nRequirement already satisfied: fastapi<1 in /local_disk0/.ephemeral_nfs/envs/pythonEnv-f96a20a9-d705-421c-8a69-6943e90d7629/lib/python3.10/site-packages (from mlflow-skinny==3.1.4->mlflow) (0.103.2)\nRequirement already satisfied: pyyaml<7,>=5.1 in /local_disk0/.ephemeral_nfs/envs/pythonEnv-f96a20a9-d705-421c-8a69-6943e90d7629/lib/python3.10/site-packages (from mlflow-skinny==3.1.4->mlflow) (6.0.2)\nRequirement already satisfied: opentelemetry-sdk<3,>=1.9.0 in /local_disk0/.ephemeral_nfs/envs/pythonEnv-f96a20a9-d705-421c-8a69-6943e90d7629/lib/python3.10/site-packages (from mlflow-skinny==3.1.4->mlflow) (1.36.0)\nRequirement already satisfied: packaging<26 in /databricks/python3/lib/python3.10/site-packages (from mlflow-skinny==3.1.4->mlflow) (23.2)\nRequirement already satisfied: gitpython<4,>=3.1.9 in /local_disk0/.ephemeral_nfs/envs/pythonEnv-f96a20a9-d705-421c-8a69-6943e90d7629/lib/python3.10/site-packages (from mlflow-skinny==3.1.4->mlflow) (3.1.45)\nRequirement already satisfied: protobuf<7,>=3.12.0 in /databricks/python3/lib/python3.10/site-packages (from mlflow-skinny==3.1.4->mlflow) (4.25.5)\nRequirement already satisfied: uvicorn<1 in /local_disk0/.ephemeral_nfs/envs/pythonEnv-f96a20a9-d705-421c-8a69-6943e90d7629/lib/python3.10/site-packages (from mlflow-skinny==3.1.4->mlflow) (0.35.0)\nRequirement already satisfied: requests<3,>=2.17.3 in /databricks/python3/lib/python3.10/site-packages (from mlflow-skinny==3.1.4->mlflow) (2.28.1)\nRequirement already satisfied: cachetools<7,>=5.0.0 in /databricks/python3/lib/python3.10/site-packages (from mlflow-skinny==3.1.4->mlflow) (5.3.2)\nRequirement already satisfied: opentelemetry-api<3,>=1.9.0 in /local_disk0/.ephemeral_nfs/envs/pythonEnv-f96a20a9-d705-421c-8a69-6943e90d7629/lib/python3.10/site-packages (from mlflow-skinny==3.1.4->mlflow) (1.36.0)\nRequirement already satisfied: sqlparse<1,>=0.4.0 in /local_disk0/.ephemeral_nfs/envs/pythonEnv-f96a20a9-d705-421c-8a69-6943e90d7629/lib/python3.10/site-packages (from mlflow-skinny==3.1.4->mlflow) (0.5.3)\nRequirement already satisfied: importlib_metadata!=4.7.0,<9,>=3.7.0 in /local_disk0/.ephemeral_nfs/envs/pythonEnv-f96a20a9-d705-421c-8a69-6943e90d7629/lib/python3.10/site-packages (from mlflow-skinny==3.1.4->mlflow) (8.7.0)\nRequirement already satisfied: Mako in /local_disk0/.ephemeral_nfs/envs/pythonEnv-f96a20a9-d705-421c-8a69-6943e90d7629/lib/python3.10/site-packages (from alembic!=1.10.0,<2->mlflow) (1.3.10)\nRequirement already satisfied: urllib3>=1.26.0 in /databricks/python3/lib/python3.10/site-packages (from docker<8,>=4.0.0->mlflow) (1.26.14)\nRequirement already satisfied: jinja2>=3.1.2 in /databricks/python3/lib/python3.10/site-packages (from Flask<4->mlflow) (3.1.2)\nRequirement already satisfied: blinker>=1.9.0 in /local_disk0/.ephemeral_nfs/envs/pythonEnv-f96a20a9-d705-421c-8a69-6943e90d7629/lib/python3.10/site-packages (from Flask<4->mlflow) (1.9.0)\nRequirement already satisfied: werkzeug>=3.1.0 in /local_disk0/.ephemeral_nfs/envs/pythonEnv-f96a20a9-d705-421c-8a69-6943e90d7629/lib/python3.10/site-packages (from Flask<4->mlflow) (3.1.3)\nRequirement already satisfied: markupsafe>=2.1.1 in /databricks/python3/lib/python3.10/site-packages (from Flask<4->mlflow) (2.1.1)\nRequirement already satisfied: itsdangerous>=2.2.0 in /local_disk0/.ephemeral_nfs/envs/pythonEnv-f96a20a9-d705-421c-8a69-6943e90d7629/lib/python3.10/site-packages (from Flask<4->mlflow) (2.2.0)\nRequirement already satisfied: aniso8601<10,>=8 in /local_disk0/.ephemeral_nfs/envs/pythonEnv-f96a20a9-d705-421c-8a69-6943e90d7629/lib/python3.10/site-packages (from graphene<4->mlflow) (9.0.1)\nRequirement already satisfied: graphql-core<3.3,>=3.1 in /local_disk0/.ephemeral_nfs/envs/pythonEnv-f96a20a9-d705-421c-8a69-6943e90d7629/lib/python3.10/site-packages (from graphene<4->mlflow) (3.2.6)\nRequirement already satisfied: graphql-relay<3.3,>=3.1 in /local_disk0/.ephemeral_nfs/envs/pythonEnv-f96a20a9-d705-421c-8a69-6943e90d7629/lib/python3.10/site-packages (from graphene<4->mlflow) (3.2.0)\nRequirement already satisfied: cycler>=0.10 in /databricks/python3/lib/python3.10/site-packages (from matplotlib<4->mlflow) (0.11.0)\nRequirement already satisfied: pillow>=6.2.0 in /databricks/python3/lib/python3.10/site-packages (from matplotlib<4->mlflow) (9.4.0)\nRequirement already satisfied: kiwisolver>=1.0.1 in /databricks/python3/lib/python3.10/site-packages (from matplotlib<4->mlflow) (1.4.4)\nRequirement already satisfied: contourpy>=1.0.1 in /databricks/python3/lib/python3.10/site-packages (from matplotlib<4->mlflow) (1.0.5)\nRequirement already satisfied: python-dateutil>=2.7 in /databricks/python3/lib/python3.10/site-packages (from matplotlib<4->mlflow) (2.8.2)\nRequirement already satisfied: fonttools>=4.22.0 in /databricks/python3/lib/python3.10/site-packages (from matplotlib<4->mlflow) (4.25.0)\nRequirement already satisfied: pyparsing>=2.3.1 in /databricks/python3/lib/python3.10/site-packages (from matplotlib<4->mlflow) (3.0.9)\nRequirement already satisfied: pytz>=2020.1 in /databricks/python3/lib/python3.10/site-packages (from pandas<3->mlflow) (2022.7)\nRequirement already satisfied: joblib>=1.0.0 in /databricks/python3/lib/python3.10/site-packages (from scikit-learn<2->mlflow) (1.2.0)\nRequirement already satisfied: threadpoolctl>=2.0.0 in /databricks/python3/lib/python3.10/site-packages (from scikit-learn<2->mlflow) (2.2.0)\nRequirement already satisfied: greenlet!=0.4.17 in /local_disk0/.ephemeral_nfs/envs/pythonEnv-f96a20a9-d705-421c-8a69-6943e90d7629/lib/python3.10/site-packages (from sqlalchemy<3,>=1.4.0->mlflow) (3.2.3)\nRequirement already satisfied: google-auth~=2.0 in /databricks/python3/lib/python3.10/site-packages (from databricks-sdk<1,>=0.20.0->mlflow-skinny==3.1.4->mlflow) (2.28.1)\nRequirement already satisfied: anyio<4.0.0,>=3.7.1 in /local_disk0/.ephemeral_nfs/envs/pythonEnv-f96a20a9-d705-421c-8a69-6943e90d7629/lib/python3.10/site-packages (from fastapi<1->mlflow-skinny==3.1.4->mlflow) (3.7.1)\nRequirement already satisfied: starlette<0.28.0,>=0.27.0 in /local_disk0/.ephemeral_nfs/envs/pythonEnv-f96a20a9-d705-421c-8a69-6943e90d7629/lib/python3.10/site-packages (from fastapi<1->mlflow-skinny==3.1.4->mlflow) (0.27.0)\nRequirement already satisfied: gitdb<5,>=4.0.1 in /local_disk0/.ephemeral_nfs/envs/pythonEnv-f96a20a9-d705-421c-8a69-6943e90d7629/lib/python3.10/site-packages (from gitpython<4,>=3.1.9->mlflow-skinny==3.1.4->mlflow) (4.0.12)\nRequirement already satisfied: zipp>=3.20 in /local_disk0/.ephemeral_nfs/envs/pythonEnv-f96a20a9-d705-421c-8a69-6943e90d7629/lib/python3.10/site-packages (from importlib_metadata!=4.7.0,<9,>=3.7.0->mlflow-skinny==3.1.4->mlflow) (3.23.0)\nRequirement already satisfied: opentelemetry-semantic-conventions==0.57b0 in /local_disk0/.ephemeral_nfs/envs/pythonEnv-f96a20a9-d705-421c-8a69-6943e90d7629/lib/python3.10/site-packages (from opentelemetry-sdk<3,>=1.9.0->mlflow-skinny==3.1.4->mlflow) (0.57b0)\nRequirement already satisfied: six>=1.5 in /usr/lib/python3/dist-packages (from python-dateutil>=2.7->matplotlib<4->mlflow) (1.16.0)\nRequirement already satisfied: certifi>=2017.4.17 in /databricks/python3/lib/python3.10/site-packages (from requests<3,>=2.17.3->mlflow-skinny==3.1.4->mlflow) (2022.12.7)\nRequirement already satisfied: idna<4,>=2.5 in /databricks/python3/lib/python3.10/site-packages (from requests<3,>=2.17.3->mlflow-skinny==3.1.4->mlflow) (3.4)\nRequirement already satisfied: charset-normalizer<3,>=2 in /databricks/python3/lib/python3.10/site-packages (from requests<3,>=2.17.3->mlflow-skinny==3.1.4->mlflow) (2.0.4)\nRequirement already satisfied: h11>=0.8 in /local_disk0/.ephemeral_nfs/envs/pythonEnv-f96a20a9-d705-421c-8a69-6943e90d7629/lib/python3.10/site-packages (from uvicorn<1->mlflow-skinny==3.1.4->mlflow) (0.16.0)\nRequirement already satisfied: sniffio>=1.1 in /databricks/python3/lib/python3.10/site-packages (from anyio<4.0.0,>=3.7.1->fastapi<1->mlflow-skinny==3.1.4->mlflow) (1.2.0)\nRequirement already satisfied: exceptiongroup in /local_disk0/.ephemeral_nfs/envs/pythonEnv-f96a20a9-d705-421c-8a69-6943e90d7629/lib/python3.10/site-packages (from anyio<4.0.0,>=3.7.1->fastapi<1->mlflow-skinny==3.1.4->mlflow) (1.2.2)\nRequirement already satisfied: smmap<6,>=3.0.1 in /local_disk0/.ephemeral_nfs/envs/pythonEnv-f96a20a9-d705-421c-8a69-6943e90d7629/lib/python3.10/site-packages (from gitdb<5,>=4.0.1->gitpython<4,>=3.1.9->mlflow-skinny==3.1.4->mlflow) (5.0.2)\nRequirement already satisfied: rsa<5,>=3.1.4 in /databricks/python3/lib/python3.10/site-packages (from google-auth~=2.0->databricks-sdk<1,>=0.20.0->mlflow-skinny==3.1.4->mlflow) (4.9)\nRequirement already satisfied: pyasn1-modules>=0.2.1 in /databricks/python3/lib/python3.10/site-packages (from google-auth~=2.0->databricks-sdk<1,>=0.20.0->mlflow-skinny==3.1.4->mlflow) (0.3.0)\nRequirement already satisfied: pyasn1<0.6.0,>=0.4.6 in /databricks/python3/lib/python3.10/site-packages (from pyasn1-modules>=0.2.1->google-auth~=2.0->databricks-sdk<1,>=0.20.0->mlflow-skinny==3.1.4->mlflow) (0.5.1)\nInstalling collected packages: typing_extensions\n  Attempting uninstall: typing_extensions\n    Found existing installation: typing_extensions 4.5.0\n    Uninstalling typing_extensions-4.5.0:\n      Successfully uninstalled typing_extensions-4.5.0\nSuccessfully installed typing_extensions-4.14.1\n\u001B[43mNote: you may need to restart the kernel using %restart_python or dbutils.library.restartPython() to use updated packages.\u001B[0m\n"
     ]
    },
    {
     "output_type": "display_data",
     "data": {
      "text/html": [
       "\n",
       "<div>Declared RandomForestModel Base Class with methods:</div>\n",
       "<li>Declared <b style=\"color:green\">model()</b> returns existing instance of Random Forest Model</li>\n",
       "<li>Declared <b style=\"color:green\">new_instance(params={...})</b> returns a new instance of RandomForestClassifierModel</li> \n",
       "<li>Declared <b style=\"color:green\"> mlflow_run(DataFrame, run_name=\"name\")</b> returns experiment_ID, run_ID</li>\n",
       "\n",
       "<br/>\n"
      ]
     },
     "metadata": {},
     "output_type": "display_data"
    },
    {
     "output_type": "display_data",
     "data": {
      "text/html": [
       "\n",
       "<div>Declared RFFExperimentModel Extended Class with methods:</div>\n",
       "<li>Declared <b style=\"color:green\">model()</b> returns existing instance of Random Forest Model</li>\n",
       "<li>Declared <b style=\"color:green\">new_instance(params={...})</b> returns a new instance of RandomForestClassifierModel</li> \n",
       "<li>Declared <b style=\"color:green\"> mlflow_run(DataFrame, run_name=\"name\")</b> returns experiment_ID, run_ID</li>\n",
       "\n",
       "<br/>\n"
      ]
     },
     "metadata": {},
     "output_type": "display_data"
    }
   ],
   "source": [
    "%run ./rfr_regression_base_exp_cls"
   ]
  }
 ],
 "metadata": {
  "application/vnd.databricks.v1+notebook": {
   "computePreferences": null,
   "dashboards": [],
   "environmentMetadata": null,
   "inputWidgetPreferences": null,
   "language": "python",
   "notebookMetadata": {
    "pythonIndentUnit": 2
   },
   "notebookName": "class_setup",
   "widgets": {}
  },
  "language_info": {
   "name": "python"
  }
 },
 "nbformat": 4,
 "nbformat_minor": 0
}