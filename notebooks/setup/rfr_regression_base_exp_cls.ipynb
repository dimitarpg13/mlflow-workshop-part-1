{
 "cells": [
  {
   "cell_type": "markdown",
   "metadata": {
    "application/vnd.databricks.v1+cell": {
     "cellMetadata": {
      "byteLimit": 2048000,
      "rowLimit": 10000
     },
     "inputWidgets": {},
     "nuid": "414e0634-9fed-49cb-88a8-58ae189562dd",
     "showTitle": false,
     "tableResultSettingsMap": {},
     "title": ""
    }
   },
   "source": [
    "Randorm Forest class defintions for:\n",
    " * `RFRBaseModel`\n",
    " * `RFFExperimentModel`"
   ]
  },
  {
   "cell_type": "code",
   "execution_count": 0,
   "metadata": {
    "application/vnd.databricks.v1+cell": {
     "cellMetadata": {
      "byteLimit": 2048000,
      "rowLimit": 10000
     },
     "inputWidgets": {},
     "nuid": "a11b0dd0-86ca-46f2-9ff4-68fea9ec02e4",
     "showTitle": false,
     "tableResultSettingsMap": {},
     "title": ""
    }
   },
   "outputs": [
    {
     "output_type": "stream",
     "name": "stdout",
     "output_type": "stream",
     "text": [
      "Requirement already satisfied: typing_extensions in /local_disk0/.ephemeral_nfs/envs/pythonEnv-3ae4fb02-b89e-4cbe-9341-9e8e9085d13b/lib/python3.10/site-packages (4.14.1)\nRequirement already satisfied: mlflow in /local_disk0/.ephemeral_nfs/envs/pythonEnv-3ae4fb02-b89e-4cbe-9341-9e8e9085d13b/lib/python3.10/site-packages (3.1.4)\nRequirement already satisfied: alembic!=1.10.0,<2 in /local_disk0/.ephemeral_nfs/envs/pythonEnv-3ae4fb02-b89e-4cbe-9341-9e8e9085d13b/lib/python3.10/site-packages (from mlflow) (1.14.1)\nRequirement already satisfied: numpy<3 in /databricks/python3/lib/python3.10/site-packages (from mlflow) (1.23.5)\nRequirement already satisfied: sqlalchemy<3,>=1.4.0 in /local_disk0/.ephemeral_nfs/envs/pythonEnv-3ae4fb02-b89e-4cbe-9341-9e8e9085d13b/lib/python3.10/site-packages (from mlflow) (2.0.24)\nRequirement already satisfied: docker<8,>=4.0.0 in /local_disk0/.ephemeral_nfs/envs/pythonEnv-3ae4fb02-b89e-4cbe-9341-9e8e9085d13b/lib/python3.10/site-packages (from mlflow) (7.1.0)\nRequirement already satisfied: pyarrow<21,>=4.0.0 in /databricks/python3/lib/python3.10/site-packages (from mlflow) (8.0.0)\nRequirement already satisfied: Flask<4 in /local_disk0/.ephemeral_nfs/envs/pythonEnv-3ae4fb02-b89e-4cbe-9341-9e8e9085d13b/lib/python3.10/site-packages (from mlflow) (3.1.1)\nRequirement already satisfied: pandas<3 in /databricks/python3/lib/python3.10/site-packages (from mlflow) (1.5.3)\nRequirement already satisfied: matplotlib<4 in /databricks/python3/lib/python3.10/site-packages (from mlflow) (3.7.0)\nRequirement already satisfied: mlflow-skinny==3.1.4 in /local_disk0/.ephemeral_nfs/envs/pythonEnv-3ae4fb02-b89e-4cbe-9341-9e8e9085d13b/lib/python3.10/site-packages (from mlflow) (3.1.4)\nRequirement already satisfied: gunicorn<24 in /local_disk0/.ephemeral_nfs/envs/pythonEnv-3ae4fb02-b89e-4cbe-9341-9e8e9085d13b/lib/python3.10/site-packages (from mlflow) (23.0.0)\nRequirement already satisfied: graphene<4 in /local_disk0/.ephemeral_nfs/envs/pythonEnv-3ae4fb02-b89e-4cbe-9341-9e8e9085d13b/lib/python3.10/site-packages (from mlflow) (3.3)\nRequirement already satisfied: scipy<2 in /databricks/python3/lib/python3.10/site-packages (from mlflow) (1.10.0)\nRequirement already satisfied: scikit-learn<2 in /databricks/python3/lib/python3.10/site-packages (from mlflow) (1.1.1)\nRequirement already satisfied: pyyaml<7,>=5.1 in /local_disk0/.ephemeral_nfs/envs/pythonEnv-3ae4fb02-b89e-4cbe-9341-9e8e9085d13b/lib/python3.10/site-packages (from mlflow-skinny==3.1.4->mlflow) (6.0.2)\nRequirement already satisfied: protobuf<7,>=3.12.0 in /databricks/python3/lib/python3.10/site-packages (from mlflow-skinny==3.1.4->mlflow) (4.25.5)\nRequirement already satisfied: sqlparse<1,>=0.4.0 in /local_disk0/.ephemeral_nfs/envs/pythonEnv-3ae4fb02-b89e-4cbe-9341-9e8e9085d13b/lib/python3.10/site-packages (from mlflow-skinny==3.1.4->mlflow) (0.5.3)\nRequirement already satisfied: requests<3,>=2.17.3 in /databricks/python3/lib/python3.10/site-packages (from mlflow-skinny==3.1.4->mlflow) (2.28.1)\nRequirement already satisfied: cachetools<7,>=5.0.0 in /databricks/python3/lib/python3.10/site-packages (from mlflow-skinny==3.1.4->mlflow) (5.3.2)\nRequirement already satisfied: pydantic<3,>=1.10.8 in /local_disk0/.ephemeral_nfs/envs/pythonEnv-3ae4fb02-b89e-4cbe-9341-9e8e9085d13b/lib/python3.10/site-packages (from mlflow-skinny==3.1.4->mlflow) (1.10.22)\nRequirement already satisfied: cloudpickle<4 in /local_disk0/.ephemeral_nfs/envs/pythonEnv-3ae4fb02-b89e-4cbe-9341-9e8e9085d13b/lib/python3.10/site-packages (from mlflow-skinny==3.1.4->mlflow) (3.1.1)\nRequirement already satisfied: packaging<26 in /databricks/python3/lib/python3.10/site-packages (from mlflow-skinny==3.1.4->mlflow) (23.2)\nRequirement already satisfied: uvicorn<1 in /local_disk0/.ephemeral_nfs/envs/pythonEnv-3ae4fb02-b89e-4cbe-9341-9e8e9085d13b/lib/python3.10/site-packages (from mlflow-skinny==3.1.4->mlflow) (0.35.0)\nRequirement already satisfied: click<9,>=7.0 in /local_disk0/.ephemeral_nfs/envs/pythonEnv-3ae4fb02-b89e-4cbe-9341-9e8e9085d13b/lib/python3.10/site-packages (from mlflow-skinny==3.1.4->mlflow) (8.2.1)\nRequirement already satisfied: importlib_metadata!=4.7.0,<9,>=3.7.0 in /local_disk0/.ephemeral_nfs/envs/pythonEnv-3ae4fb02-b89e-4cbe-9341-9e8e9085d13b/lib/python3.10/site-packages (from mlflow-skinny==3.1.4->mlflow) (8.7.0)\nRequirement already satisfied: fastapi<1 in /local_disk0/.ephemeral_nfs/envs/pythonEnv-3ae4fb02-b89e-4cbe-9341-9e8e9085d13b/lib/python3.10/site-packages (from mlflow-skinny==3.1.4->mlflow) (0.103.2)\nRequirement already satisfied: opentelemetry-api<3,>=1.9.0 in /local_disk0/.ephemeral_nfs/envs/pythonEnv-3ae4fb02-b89e-4cbe-9341-9e8e9085d13b/lib/python3.10/site-packages (from mlflow-skinny==3.1.4->mlflow) (1.36.0)\nRequirement already satisfied: databricks-sdk<1,>=0.20.0 in /databricks/python3/lib/python3.10/site-packages (from mlflow-skinny==3.1.4->mlflow) (0.20.0)\nRequirement already satisfied: opentelemetry-sdk<3,>=1.9.0 in /local_disk0/.ephemeral_nfs/envs/pythonEnv-3ae4fb02-b89e-4cbe-9341-9e8e9085d13b/lib/python3.10/site-packages (from mlflow-skinny==3.1.4->mlflow) (1.36.0)\nRequirement already satisfied: gitpython<4,>=3.1.9 in /local_disk0/.ephemeral_nfs/envs/pythonEnv-3ae4fb02-b89e-4cbe-9341-9e8e9085d13b/lib/python3.10/site-packages (from mlflow-skinny==3.1.4->mlflow) (3.1.45)\nRequirement already satisfied: Mako in /local_disk0/.ephemeral_nfs/envs/pythonEnv-3ae4fb02-b89e-4cbe-9341-9e8e9085d13b/lib/python3.10/site-packages (from alembic!=1.10.0,<2->mlflow) (1.3.10)\nRequirement already satisfied: urllib3>=1.26.0 in /databricks/python3/lib/python3.10/site-packages (from docker<8,>=4.0.0->mlflow) (1.26.14)\nRequirement already satisfied: werkzeug>=3.1.0 in /local_disk0/.ephemeral_nfs/envs/pythonEnv-3ae4fb02-b89e-4cbe-9341-9e8e9085d13b/lib/python3.10/site-packages (from Flask<4->mlflow) (3.1.3)\nRequirement already satisfied: blinker>=1.9.0 in /local_disk0/.ephemeral_nfs/envs/pythonEnv-3ae4fb02-b89e-4cbe-9341-9e8e9085d13b/lib/python3.10/site-packages (from Flask<4->mlflow) (1.9.0)\nRequirement already satisfied: itsdangerous>=2.2.0 in /local_disk0/.ephemeral_nfs/envs/pythonEnv-3ae4fb02-b89e-4cbe-9341-9e8e9085d13b/lib/python3.10/site-packages (from Flask<4->mlflow) (2.2.0)\nRequirement already satisfied: markupsafe>=2.1.1 in /databricks/python3/lib/python3.10/site-packages (from Flask<4->mlflow) (2.1.1)\nRequirement already satisfied: jinja2>=3.1.2 in /databricks/python3/lib/python3.10/site-packages (from Flask<4->mlflow) (3.1.2)\nRequirement already satisfied: aniso8601<10,>=8 in /local_disk0/.ephemeral_nfs/envs/pythonEnv-3ae4fb02-b89e-4cbe-9341-9e8e9085d13b/lib/python3.10/site-packages (from graphene<4->mlflow) (9.0.1)\nRequirement already satisfied: graphql-core<3.3,>=3.1 in /local_disk0/.ephemeral_nfs/envs/pythonEnv-3ae4fb02-b89e-4cbe-9341-9e8e9085d13b/lib/python3.10/site-packages (from graphene<4->mlflow) (3.2.6)\nRequirement already satisfied: graphql-relay<3.3,>=3.1 in /local_disk0/.ephemeral_nfs/envs/pythonEnv-3ae4fb02-b89e-4cbe-9341-9e8e9085d13b/lib/python3.10/site-packages (from graphene<4->mlflow) (3.2.0)\nRequirement already satisfied: fonttools>=4.22.0 in /databricks/python3/lib/python3.10/site-packages (from matplotlib<4->mlflow) (4.25.0)\nRequirement already satisfied: pyparsing>=2.3.1 in /databricks/python3/lib/python3.10/site-packages (from matplotlib<4->mlflow) (3.0.9)\nRequirement already satisfied: kiwisolver>=1.0.1 in /databricks/python3/lib/python3.10/site-packages (from matplotlib<4->mlflow) (1.4.4)\nRequirement already satisfied: contourpy>=1.0.1 in /databricks/python3/lib/python3.10/site-packages (from matplotlib<4->mlflow) (1.0.5)\nRequirement already satisfied: cycler>=0.10 in /databricks/python3/lib/python3.10/site-packages (from matplotlib<4->mlflow) (0.11.0)\nRequirement already satisfied: python-dateutil>=2.7 in /databricks/python3/lib/python3.10/site-packages (from matplotlib<4->mlflow) (2.8.2)\nRequirement already satisfied: pillow>=6.2.0 in /databricks/python3/lib/python3.10/site-packages (from matplotlib<4->mlflow) (9.4.0)\nRequirement already satisfied: pytz>=2020.1 in /databricks/python3/lib/python3.10/site-packages (from pandas<3->mlflow) (2022.7)\nRequirement already satisfied: threadpoolctl>=2.0.0 in /databricks/python3/lib/python3.10/site-packages (from scikit-learn<2->mlflow) (2.2.0)\nRequirement already satisfied: joblib>=1.0.0 in /databricks/python3/lib/python3.10/site-packages (from scikit-learn<2->mlflow) (1.2.0)\nRequirement already satisfied: greenlet!=0.4.17 in /local_disk0/.ephemeral_nfs/envs/pythonEnv-3ae4fb02-b89e-4cbe-9341-9e8e9085d13b/lib/python3.10/site-packages (from sqlalchemy<3,>=1.4.0->mlflow) (3.2.3)\nRequirement already satisfied: google-auth~=2.0 in /databricks/python3/lib/python3.10/site-packages (from databricks-sdk<1,>=0.20.0->mlflow-skinny==3.1.4->mlflow) (2.28.1)\nRequirement already satisfied: starlette<0.28.0,>=0.27.0 in /local_disk0/.ephemeral_nfs/envs/pythonEnv-3ae4fb02-b89e-4cbe-9341-9e8e9085d13b/lib/python3.10/site-packages (from fastapi<1->mlflow-skinny==3.1.4->mlflow) (0.27.0)\nRequirement already satisfied: anyio<4.0.0,>=3.7.1 in /local_disk0/.ephemeral_nfs/envs/pythonEnv-3ae4fb02-b89e-4cbe-9341-9e8e9085d13b/lib/python3.10/site-packages (from fastapi<1->mlflow-skinny==3.1.4->mlflow) (3.7.1)\nRequirement already satisfied: gitdb<5,>=4.0.1 in /local_disk0/.ephemeral_nfs/envs/pythonEnv-3ae4fb02-b89e-4cbe-9341-9e8e9085d13b/lib/python3.10/site-packages (from gitpython<4,>=3.1.9->mlflow-skinny==3.1.4->mlflow) (4.0.12)\nRequirement already satisfied: zipp>=3.20 in /local_disk0/.ephemeral_nfs/envs/pythonEnv-3ae4fb02-b89e-4cbe-9341-9e8e9085d13b/lib/python3.10/site-packages (from importlib_metadata!=4.7.0,<9,>=3.7.0->mlflow-skinny==3.1.4->mlflow) (3.23.0)\nRequirement already satisfied: opentelemetry-semantic-conventions==0.57b0 in /local_disk0/.ephemeral_nfs/envs/pythonEnv-3ae4fb02-b89e-4cbe-9341-9e8e9085d13b/lib/python3.10/site-packages (from opentelemetry-sdk<3,>=1.9.0->mlflow-skinny==3.1.4->mlflow) (0.57b0)\nRequirement already satisfied: six>=1.5 in /usr/lib/python3/dist-packages (from python-dateutil>=2.7->matplotlib<4->mlflow) (1.16.0)\nRequirement already satisfied: certifi>=2017.4.17 in /databricks/python3/lib/python3.10/site-packages (from requests<3,>=2.17.3->mlflow-skinny==3.1.4->mlflow) (2022.12.7)\nRequirement already satisfied: idna<4,>=2.5 in /databricks/python3/lib/python3.10/site-packages (from requests<3,>=2.17.3->mlflow-skinny==3.1.4->mlflow) (3.4)\nRequirement already satisfied: charset-normalizer<3,>=2 in /databricks/python3/lib/python3.10/site-packages (from requests<3,>=2.17.3->mlflow-skinny==3.1.4->mlflow) (2.0.4)\nRequirement already satisfied: h11>=0.8 in /local_disk0/.ephemeral_nfs/envs/pythonEnv-3ae4fb02-b89e-4cbe-9341-9e8e9085d13b/lib/python3.10/site-packages (from uvicorn<1->mlflow-skinny==3.1.4->mlflow) (0.16.0)\nRequirement already satisfied: sniffio>=1.1 in /databricks/python3/lib/python3.10/site-packages (from anyio<4.0.0,>=3.7.1->fastapi<1->mlflow-skinny==3.1.4->mlflow) (1.2.0)\nRequirement already satisfied: exceptiongroup in /local_disk0/.ephemeral_nfs/envs/pythonEnv-3ae4fb02-b89e-4cbe-9341-9e8e9085d13b/lib/python3.10/site-packages (from anyio<4.0.0,>=3.7.1->fastapi<1->mlflow-skinny==3.1.4->mlflow) (1.2.2)\nRequirement already satisfied: smmap<6,>=3.0.1 in /local_disk0/.ephemeral_nfs/envs/pythonEnv-3ae4fb02-b89e-4cbe-9341-9e8e9085d13b/lib/python3.10/site-packages (from gitdb<5,>=4.0.1->gitpython<4,>=3.1.9->mlflow-skinny==3.1.4->mlflow) (5.0.2)\nRequirement already satisfied: pyasn1-modules>=0.2.1 in /databricks/python3/lib/python3.10/site-packages (from google-auth~=2.0->databricks-sdk<1,>=0.20.0->mlflow-skinny==3.1.4->mlflow) (0.3.0)\nRequirement already satisfied: rsa<5,>=3.1.4 in /databricks/python3/lib/python3.10/site-packages (from google-auth~=2.0->databricks-sdk<1,>=0.20.0->mlflow-skinny==3.1.4->mlflow) (4.9)\nRequirement already satisfied: pyasn1<0.6.0,>=0.4.6 in /databricks/python3/lib/python3.10/site-packages (from pyasn1-modules>=0.2.1->google-auth~=2.0->databricks-sdk<1,>=0.20.0->mlflow-skinny==3.1.4->mlflow) (0.5.1)\n\u001B[43mNote: you may need to restart the kernel using %restart_python or dbutils.library.restartPython() to use updated packages.\u001B[0m\n"
     ]
    }
   ],
   "source": [
    "%pip install --upgrade typing_extensions mlflow\n",
    "\n",
    "import os\n",
    "import numpy as np\n",
    "import mlflow.sklearn\n",
    "\n",
    "from sklearn.model_selection import train_test_split\n",
    "from sklearn.preprocessing import StandardScaler\n",
    "from sklearn.ensemble import RandomForestRegressor\n",
    "from sklearn import metrics\n",
    "from  mlflow.tracking import MlflowClient"
   ]
  },
  {
   "cell_type": "code",
   "execution_count": 0,
   "metadata": {
    "application/vnd.databricks.v1+cell": {
     "cellMetadata": {
      "byteLimit": 2048000,
      "rowLimit": 10000
     },
     "inputWidgets": {},
     "nuid": "d13e8fc0-0d12-4821-b361-718397b4c265",
     "showTitle": false,
     "tableResultSettingsMap": {},
     "title": ""
    }
   },
   "outputs": [],
   "source": [
    "class RFRBaseModel():\n",
    "\n",
    "    def __init__(self, params={}):\n",
    "        \"\"\"\n",
    "        Construtor for the RandomForestRegressor\n",
    "        :param params: dictionary to RandomForestRegressor\n",
    "        \"\"\"\n",
    "        self._params = params\n",
    "        self._rf = RandomForestRegressor(**params)\n",
    "\n",
    "    @classmethod\n",
    "    def new_instance(cls, params={}):\n",
    "        return cls(params)\n",
    "\n",
    "    @property \n",
    "    def model(self):\n",
    "        \"\"\"\n",
    "        Getter for the model\n",
    "        :return: return the model\n",
    "        \"\"\"\n",
    "        return self._rf\n",
    "\n",
    "    @property\n",
    "    def params(self):\n",
    "      \"\"\"\n",
    "      Getter for model parameters\n",
    "      returns: Dictionary of model parameters\n",
    "      \"\"\"\n",
    "      return self._params\n",
    "    \n",
    "    def mlflow_run(self, df, r_name=\"Lab-3: Baseline RF Model\"):\n",
    "        \"\"\"\n",
    "        This method trains, computes metrics, and logs all metrics, parameters,\n",
    "        and artifacts for the current run\n",
    "        :param df: pandas dataFrame\n",
    "        :param r_name: Name of the experiment as logged by MLflow\n",
    "        :return: Tuple of MLflow experimentID, runID\n",
    "        \"\"\"\n",
    "        with mlflow.start_run(run_name=r_name) as run:\n",
    "            X_train, X_test, y_train, y_test = train_test_split(df.drop([\"price\"], axis=1), df[[\"price\"]].values.ravel(), random_state=42)\n",
    "            self._rf.fit(X_train, y_train)\n",
    "            predictions = self._rf.predict(X_test)\n",
    "\n",
    "            # Log model and parameters\n",
    "            mlflow.sklearn.log_model(self.model, \"random-forest-model\")\n",
    "            mlflow.log_params(self.params)\n",
    "\n",
    "            # Create metrics\n",
    "            mae = metrics.mean_absolute_error(y_test, predictions)\n",
    "            mse = metrics.mean_squared_error(y_test, predictions)\n",
    "            rmse = np.sqrt(mse)\n",
    "            r2 = metrics.r2_score(y_test, predictions)\n",
    "\n",
    "            # Log metrics\n",
    "            mlflow.log_metric(\"mae\", mae)\n",
    "            mlflow.log_metric(\"mse\", mse)\n",
    "            mlflow.log_metric(\"rmse\", rmse)\n",
    "            mlflow.log_metric(\"r2\", r2)\n",
    "\n",
    "            runID = run.info.run_uuid\n",
    "            experimentID = run.info.experiment_id\n",
    "\n",
    "            # print some data\n",
    "            print(\"-\" * 100)\n",
    "            print(\"Inside MLflow {} Run with run_id {} and experiment_id {}\".format(r_name, runID, experimentID))\n",
    "            print(\"Estimator trees        :\", self.params[\"n_estimators\"])\n",
    "            print('Mean Absolute Error    :', mae)\n",
    "            print('Mean Squared Error     :', mse)\n",
    "            print('Root Mean Squared Error:', rmse)\n",
    "            print('R2                     :', r2)\n",
    "\n",
    "            return (experimentID, runID)"
   ]
  },
  {
   "cell_type": "code",
   "execution_count": 0,
   "metadata": {
    "application/vnd.databricks.v1+cell": {
     "cellMetadata": {
      "byteLimit": 2048000,
      "rowLimit": 10000
     },
     "inputWidgets": {},
     "nuid": "b6419532-5519-40b4-a5aa-829fe674dbd5",
     "showTitle": false,
     "tableResultSettingsMap": {},
     "title": ""
    }
   },
   "outputs": [
    {
     "output_type": "display_data",
     "data": {
      "text/html": [
       "\n",
       "<div>Declared RandomForestModel Base Class with methods:</div>\n",
       "<li>Declared <b style=\"color:green\">model()</b> returns existing instance of Random Forest Model</li>\n",
       "<li>Declared <b style=\"color:green\">new_instance(params={...})</b> returns a new instance of RandomForestClassifierModel</li> \n",
       "<li>Declared <b style=\"color:green\"> mlflow_run(DataFrame, run_name=\"name\")</b> returns experiment_ID, run_ID</li>\n",
       "\n",
       "<br/>\n"
      ]
     },
     "metadata": {},
     "output_type": "display_data"
    }
   ],
   "source": [
    "displayHTML(\"\"\"\n",
    "<div>Declared RandomForestModel Base Class with methods:</div>\n",
    "<li>Declared <b style=\"color:green\">model()</b> returns existing instance of Random Forest Model</li>\n",
    "<li>Declared <b style=\"color:green\">new_instance(params={...})</b> returns a new instance of RandomForestClassifierModel</li> \n",
    "<li>Declared <b style=\"color:green\"> mlflow_run(DataFrame, run_name=\"name\")</b> returns experiment_ID, run_ID</li>\n",
    "\n",
    "<br/>\n",
    "\"\"\")"
   ]
  },
  {
   "cell_type": "code",
   "execution_count": 0,
   "metadata": {
    "application/vnd.databricks.v1+cell": {
     "cellMetadata": {
      "byteLimit": 2048000,
      "rowLimit": 10000
     },
     "inputWidgets": {},
     "nuid": "1c0b08cb-3c93-4121-a88e-30c6f96df13a",
     "showTitle": false,
     "tableResultSettingsMap": {},
     "title": ""
    }
   },
   "outputs": [],
   "source": [
    "class RFFExperimentModel(RFRBaseModel):\n",
    "    \"\"\"\n",
    "    Constructor for the Experimental RandomForestRegressor.\n",
    "    \"\"\"\n",
    "    def __int__(self, params):\n",
    "        \"\"\"\n",
    "        Call the superclass initializer\n",
    "        :param params: parameters for the RandomForestRegressor instance\n",
    "        :return: None\n",
    "        \"\"\"\n",
    "        super(RFRBaseModel, self).__init__(params)\n",
    "\n",
    "    def mlflow_run(self, df, r_name=\"Lab-4:RF Experiment Model\"):\n",
    "        \"\"\"\n",
    "        Override the base class mlflow_run for this epxerimental runs\n",
    "        This method trains the model, evaluates, computes the metrics, logs\n",
    "        all the relevant metrics, artifacts, and models.\n",
    "        :param df: pandas dataFrame\n",
    "        :param r_name: name of the experiment run\n",
    "        :return:  MLflow Tuple (ExperimentID, runID)\n",
    "        \"\"\"\n",
    "\n",
    "        with mlflow.start_run(run_name=r_name) as run:\n",
    "            # get experimentalID and runID\n",
    "            runID = run.info.run_id\n",
    "            experimentID = run.info.experiment_id\n",
    "            \n",
    "            # split train/test and train the model\n",
    "            X_train, X_test, y_train, y_test = train_test_split(df.drop([\"price\"], axis=1), df[[\"price\"]].values.ravel(), random_state=42)\n",
    "            self._rf.fit(X_train, y_train)\n",
    "            predictions = self._rf.predict(X_test)\n",
    "            # create an Actual vs Predicted DataFrame\n",
    "            df_preds = pd.DataFrame({'Actual': y_test.flatten(), 'Predicted': predictions.flatten()})\n",
    "\n",
    "            # Log model and parameters\n",
    "            mlflow.sklearn.log_model(self.model, \"random-forest-model\")\n",
    "\n",
    "            # Note we are logging as a dictionary of all params instead of logging each parameter\n",
    "            mlflow.log_params(self.params)\n",
    "\n",
    "\n",
    "            # Create metrics\n",
    "            mse = metrics.mean_squared_error(y_test, predictions)\n",
    "            rmse = np.sqrt(mse)\n",
    "            mae = metrics.mean_absolute_error(y_test, predictions)\n",
    "            r2 = metrics.r2_score(y_test, predictions)\n",
    "\n",
    "            # Log metrics\n",
    "            mlflow.log_metric(\"mse\", mse)\n",
    "            mlflow.log_metric(\"mae\", mae)\n",
    "            mlflow.log_metric(\"rmse\", rmse)\n",
    "            mlflow.log_metric(\"r2\", r2)\n",
    "            \n",
    "            # Log prediciton/actual values in file as a feature artifact\n",
    "            temp_file_name = Utils.get_temporary_directory_path(\"predicted-actual-\", \".csv\")\n",
    "            temp_name = temp_file_name.name\n",
    "            try:\n",
    "                df_preds.to_csv(temp_name, index=False)\n",
    "                mlflow.log_artifact(temp_name, \"predicted-actual-files\")\n",
    "            finally:\n",
    "                temp_file_name.close()  # Delete the temp file\n",
    "\n",
    "            # Create feature importance and save them as artifact\n",
    "            # This allows us to remove least important features from the dataset\n",
    "            # with each iteration if they don't have any effect on the predictive power of\n",
    "            # the prediction.\n",
    "            importance = pd.DataFrame(list(zip(df.columns, self._rf.feature_importances_)),\n",
    "                                      columns=[\"Feature\", \"Importance\"]\n",
    "                                      ).sort_values(\"Importance\", ascending=False)\n",
    "\n",
    "            # Log importance file as feature artifact\n",
    "            temp_file_name = Utils.get_temporary_directory_path(\"feature-importance-\", \".csv\")\n",
    "            temp_name = temp_file_name.name\n",
    "            try:\n",
    "                importance.to_csv(temp_name, index=False)\n",
    "                mlflow.log_artifact(temp_name, \"feature-importance-files\")\n",
    "            finally:\n",
    "                temp_file_name.close()  # Delete the temp file\n",
    "\n",
    "            # Create residual plots and image directory\n",
    "            # Residuals R = observed value - predicted value\n",
    "            (plt, fig, ax) = Utils.plot_residual_graphs(predictions, y_test, \"Predicted values for Price ($)\", \"Residual\",\n",
    "                                                  \"Residual Plot\")\n",
    "\n",
    "            # Log residuals images\n",
    "            temp_file_name = Utils.get_temporary_directory_path(\"residuals-\", \".png\")\n",
    "            temp_name = temp_file_name.name\n",
    "            try:\n",
    "                fig.savefig(temp_name)\n",
    "                mlflow.log_artifact(temp_name, \"residuals-plots\")\n",
    "            finally:\n",
    "                temp_file_name.close()  # Delete the temp file\n",
    "\n",
    "            print(\"-\" * 100)\n",
    "            print(\"Inside MLflow {} Run with run_id {} and experiment_id {}\".format(r_name, runID, experimentID))\n",
    "            print(\"  mse: {}\".format(mse))\n",
    "            print(\" rmse: {}\".format(rmse))\n",
    "            print(\"  mae: {}\".format(mae))\n",
    "            print(\"  R2 : {}\".format(r2))\n",
    "\n",
    "            return (experimentID, runID)"
   ]
  },
  {
   "cell_type": "code",
   "execution_count": 0,
   "metadata": {
    "application/vnd.databricks.v1+cell": {
     "cellMetadata": {
      "byteLimit": 2048000,
      "rowLimit": 10000
     },
     "inputWidgets": {},
     "nuid": "5007131b-b142-4d1f-9217-55b44a76fd68",
     "showTitle": false,
     "tableResultSettingsMap": {},
     "title": ""
    }
   },
   "outputs": [
    {
     "output_type": "display_data",
     "data": {
      "text/html": [
       "\n",
       "<div>Declared RFFExperimentModel Extended Class with methods:</div>\n",
       "<li>Declared <b style=\"color:green\">model()</b> returns existing instance of Random Forest Model</li>\n",
       "<li>Declared <b style=\"color:green\">new_instance(params={...})</b> returns a new instance of RandomForestClassifierModel</li> \n",
       "<li>Declared <b style=\"color:green\"> mlflow_run(DataFrame, run_name=\"name\")</b> returns experiment_ID, run_ID</li>\n",
       "\n",
       "<br/>\n"
      ]
     },
     "metadata": {},
     "output_type": "display_data"
    }
   ],
   "source": [
    "displayHTML(\"\"\"\n",
    "<div>Declared RFFExperimentModel Extended Class with methods:</div>\n",
    "<li>Declared <b style=\"color:green\">model()</b> returns existing instance of Random Forest Model</li>\n",
    "<li>Declared <b style=\"color:green\">new_instance(params={...})</b> returns a new instance of RandomForestClassifierModel</li> \n",
    "<li>Declared <b style=\"color:green\"> mlflow_run(DataFrame, run_name=\"name\")</b> returns experiment_ID, run_ID</li>\n",
    "\n",
    "<br/>\n",
    "\"\"\")"
   ]
  }
 ],
 "metadata": {
  "application/vnd.databricks.v1+notebook": {
   "computePreferences": null,
   "dashboards": [],
   "environmentMetadata": null,
   "inputWidgetPreferences": null,
   "language": "python",
   "notebookMetadata": {
    "pythonIndentUnit": 2
   },
   "notebookName": "rfr_regression_base_exp_cls",
   "widgets": {}
  },
  "language_info": {
   "name": "python"
  }
 },
 "nbformat": 4,
 "nbformat_minor": 0
}