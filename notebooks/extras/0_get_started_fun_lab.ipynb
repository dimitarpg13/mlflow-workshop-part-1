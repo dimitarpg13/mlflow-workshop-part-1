{
 "cells": [
  {
   "cell_type": "markdown",
   "metadata": {
    "application/vnd.databricks.v1+cell": {
     "cellMetadata": {},
     "inputWidgets": {},
     "nuid": "1ed5b2e5-a1a6-4ce3-9844-9294e1ade7af",
     "showTitle": false,
     "tableResultSettingsMap": {},
     "title": ""
    }
   },
   "source": [
    "#### Problem Lab 0: Fun Regression Model\n",
    "\n",
    "Generating some fake and fun data to predict cup cakes consumption in these awry times...\n",
    "\n",
    "<table>\n",
    "  <tr><td>\n",
    "    <img src=\"https://miro.medium.com/max/593/1*pfmeGgGM5sxmLBQ5IQfQew.png\"\n",
    "         alt=\"Matrix\" width=\"600\">\n",
    "    </td>\n",
    "  <tr><td></td></tr>\n",
    "  <tr><td>Seems like a sweet consumption problem to have ...</td></tr>\n",
    "  <tr><td>\n",
    "    <img src=\"https://encrypted-tbn0.gstatic.com/images?q=tbn%3AANd9GcSfq0lfEMNHr8h65oFR_fFPR_PsukQL60FiKDU16VB7Li17q5Fd&usqp=CAU\" \n",
    "         alt=\"Cup Cakes\" width=\"600\">\n",
    "  </td></tr>\n",
    "</table>"
   ]
  },
  {
   "cell_type": "markdown",
   "metadata": {
    "application/vnd.databricks.v1+cell": {
     "cellMetadata": {},
     "inputWidgets": {},
     "nuid": "df300814-c8c6-4a25-b1b7-53a897f59e27",
     "showTitle": false,
     "tableResultSettingsMap": {},
     "title": ""
    }
   },
   "source": [
    "## Import Modules"
   ]
  },
  {
   "cell_type": "code",
   "execution_count": 0,
   "metadata": {
    "application/vnd.databricks.v1+cell": {
     "cellMetadata": {
      "byteLimit": 2048000,
      "rowLimit": 10000
     },
     "inputWidgets": {},
     "nuid": "94230d4e-938d-4f79-ba81-187e5973210f",
     "showTitle": false,
     "tableResultSettingsMap": {},
     "title": ""
    }
   },
   "outputs": [
    {
     "output_type": "stream",
     "name": "stdout",
     "output_type": "stream",
     "text": [
      "Requirement already satisfied: typing_extensions in /local_disk0/.ephemeral_nfs/envs/pythonEnv-21dafa11-dea5-4388-822f-fb311a0a28a8/lib/python3.10/site-packages (4.14.1)\nRequirement already satisfied: mlflow in /local_disk0/.ephemeral_nfs/envs/pythonEnv-21dafa11-dea5-4388-822f-fb311a0a28a8/lib/python3.10/site-packages (3.1.4)\nRequirement already satisfied: graphene<4 in /local_disk0/.ephemeral_nfs/envs/pythonEnv-21dafa11-dea5-4388-822f-fb311a0a28a8/lib/python3.10/site-packages (from mlflow) (3.4.3)\nRequirement already satisfied: scikit-learn<2 in /databricks/python3/lib/python3.10/site-packages (from mlflow) (1.1.1)\nRequirement already satisfied: alembic!=1.10.0,<2 in /local_disk0/.ephemeral_nfs/envs/pythonEnv-21dafa11-dea5-4388-822f-fb311a0a28a8/lib/python3.10/site-packages (from mlflow) (1.16.4)\nRequirement already satisfied: sqlalchemy<3,>=1.4.0 in /local_disk0/.ephemeral_nfs/envs/pythonEnv-21dafa11-dea5-4388-822f-fb311a0a28a8/lib/python3.10/site-packages (from mlflow) (2.0.42)\nRequirement already satisfied: gunicorn<24 in /local_disk0/.ephemeral_nfs/envs/pythonEnv-21dafa11-dea5-4388-822f-fb311a0a28a8/lib/python3.10/site-packages (from mlflow) (23.0.0)\nRequirement already satisfied: numpy<3 in /databricks/python3/lib/python3.10/site-packages (from mlflow) (1.23.5)\nRequirement already satisfied: mlflow-skinny==3.1.4 in /local_disk0/.ephemeral_nfs/envs/pythonEnv-21dafa11-dea5-4388-822f-fb311a0a28a8/lib/python3.10/site-packages (from mlflow) (3.1.4)\nRequirement already satisfied: pandas<3 in /databricks/python3/lib/python3.10/site-packages (from mlflow) (1.5.3)\nRequirement already satisfied: Flask<4 in /local_disk0/.ephemeral_nfs/envs/pythonEnv-21dafa11-dea5-4388-822f-fb311a0a28a8/lib/python3.10/site-packages (from mlflow) (3.1.1)\nRequirement already satisfied: pyarrow<21,>=4.0.0 in /databricks/python3/lib/python3.10/site-packages (from mlflow) (8.0.0)\nRequirement already satisfied: matplotlib<4 in /databricks/python3/lib/python3.10/site-packages (from mlflow) (3.7.0)\nRequirement already satisfied: docker<8,>=4.0.0 in /local_disk0/.ephemeral_nfs/envs/pythonEnv-21dafa11-dea5-4388-822f-fb311a0a28a8/lib/python3.10/site-packages (from mlflow) (7.1.0)\nRequirement already satisfied: scipy<2 in /databricks/python3/lib/python3.10/site-packages (from mlflow) (1.10.0)\nRequirement already satisfied: databricks-sdk<1,>=0.20.0 in /databricks/python3/lib/python3.10/site-packages (from mlflow-skinny==3.1.4->mlflow) (0.20.0)\nRequirement already satisfied: opentelemetry-sdk<3,>=1.9.0 in /local_disk0/.ephemeral_nfs/envs/pythonEnv-21dafa11-dea5-4388-822f-fb311a0a28a8/lib/python3.10/site-packages (from mlflow-skinny==3.1.4->mlflow) (1.36.0)\nRequirement already satisfied: sqlparse<1,>=0.4.0 in /local_disk0/.ephemeral_nfs/envs/pythonEnv-21dafa11-dea5-4388-822f-fb311a0a28a8/lib/python3.10/site-packages (from mlflow-skinny==3.1.4->mlflow) (0.5.3)\nRequirement already satisfied: pyyaml<7,>=5.1 in /local_disk0/.ephemeral_nfs/envs/pythonEnv-21dafa11-dea5-4388-822f-fb311a0a28a8/lib/python3.10/site-packages (from mlflow-skinny==3.1.4->mlflow) (6.0.2)\nRequirement already satisfied: gitpython<4,>=3.1.9 in /local_disk0/.ephemeral_nfs/envs/pythonEnv-21dafa11-dea5-4388-822f-fb311a0a28a8/lib/python3.10/site-packages (from mlflow-skinny==3.1.4->mlflow) (3.1.45)\nRequirement already satisfied: protobuf<7,>=3.12.0 in /databricks/python3/lib/python3.10/site-packages (from mlflow-skinny==3.1.4->mlflow) (4.25.5)\nRequirement already satisfied: requests<3,>=2.17.3 in /databricks/python3/lib/python3.10/site-packages (from mlflow-skinny==3.1.4->mlflow) (2.28.1)\nRequirement already satisfied: pydantic<3,>=1.10.8 in /local_disk0/.ephemeral_nfs/envs/pythonEnv-21dafa11-dea5-4388-822f-fb311a0a28a8/lib/python3.10/site-packages (from mlflow-skinny==3.1.4->mlflow) (2.11.7)\nRequirement already satisfied: importlib_metadata!=4.7.0,<9,>=3.7.0 in /local_disk0/.ephemeral_nfs/envs/pythonEnv-21dafa11-dea5-4388-822f-fb311a0a28a8/lib/python3.10/site-packages (from mlflow-skinny==3.1.4->mlflow) (8.7.0)\nRequirement already satisfied: packaging<26 in /databricks/python3/lib/python3.10/site-packages (from mlflow-skinny==3.1.4->mlflow) (23.2)\nRequirement already satisfied: uvicorn<1 in /local_disk0/.ephemeral_nfs/envs/pythonEnv-21dafa11-dea5-4388-822f-fb311a0a28a8/lib/python3.10/site-packages (from mlflow-skinny==3.1.4->mlflow) (0.35.0)\nRequirement already satisfied: click<9,>=7.0 in /local_disk0/.ephemeral_nfs/envs/pythonEnv-21dafa11-dea5-4388-822f-fb311a0a28a8/lib/python3.10/site-packages (from mlflow-skinny==3.1.4->mlflow) (8.2.1)\nRequirement already satisfied: cachetools<7,>=5.0.0 in /databricks/python3/lib/python3.10/site-packages (from mlflow-skinny==3.1.4->mlflow) (5.3.2)\nRequirement already satisfied: fastapi<1 in /local_disk0/.ephemeral_nfs/envs/pythonEnv-21dafa11-dea5-4388-822f-fb311a0a28a8/lib/python3.10/site-packages (from mlflow-skinny==3.1.4->mlflow) (0.116.1)\nRequirement already satisfied: cloudpickle<4 in /local_disk0/.ephemeral_nfs/envs/pythonEnv-21dafa11-dea5-4388-822f-fb311a0a28a8/lib/python3.10/site-packages (from mlflow-skinny==3.1.4->mlflow) (3.1.1)\nRequirement already satisfied: opentelemetry-api<3,>=1.9.0 in /local_disk0/.ephemeral_nfs/envs/pythonEnv-21dafa11-dea5-4388-822f-fb311a0a28a8/lib/python3.10/site-packages (from mlflow-skinny==3.1.4->mlflow) (1.36.0)\nRequirement already satisfied: Mako in /local_disk0/.ephemeral_nfs/envs/pythonEnv-21dafa11-dea5-4388-822f-fb311a0a28a8/lib/python3.10/site-packages (from alembic!=1.10.0,<2->mlflow) (1.3.10)\nRequirement already satisfied: tomli in /databricks/python3/lib/python3.10/site-packages (from alembic!=1.10.0,<2->mlflow) (2.0.1)\nRequirement already satisfied: urllib3>=1.26.0 in /databricks/python3/lib/python3.10/site-packages (from docker<8,>=4.0.0->mlflow) (1.26.14)\nRequirement already satisfied: jinja2>=3.1.2 in /databricks/python3/lib/python3.10/site-packages (from Flask<4->mlflow) (3.1.2)\nRequirement already satisfied: blinker>=1.9.0 in /local_disk0/.ephemeral_nfs/envs/pythonEnv-21dafa11-dea5-4388-822f-fb311a0a28a8/lib/python3.10/site-packages (from Flask<4->mlflow) (1.9.0)\nRequirement already satisfied: markupsafe>=2.1.1 in /databricks/python3/lib/python3.10/site-packages (from Flask<4->mlflow) (2.1.1)\nRequirement already satisfied: werkzeug>=3.1.0 in /local_disk0/.ephemeral_nfs/envs/pythonEnv-21dafa11-dea5-4388-822f-fb311a0a28a8/lib/python3.10/site-packages (from Flask<4->mlflow) (3.1.3)\nRequirement already satisfied: itsdangerous>=2.2.0 in /local_disk0/.ephemeral_nfs/envs/pythonEnv-21dafa11-dea5-4388-822f-fb311a0a28a8/lib/python3.10/site-packages (from Flask<4->mlflow) (2.2.0)\nRequirement already satisfied: graphql-core<3.3,>=3.1 in /local_disk0/.ephemeral_nfs/envs/pythonEnv-21dafa11-dea5-4388-822f-fb311a0a28a8/lib/python3.10/site-packages (from graphene<4->mlflow) (3.2.6)\nRequirement already satisfied: graphql-relay<3.3,>=3.1 in /local_disk0/.ephemeral_nfs/envs/pythonEnv-21dafa11-dea5-4388-822f-fb311a0a28a8/lib/python3.10/site-packages (from graphene<4->mlflow) (3.2.0)\nRequirement already satisfied: python-dateutil<3,>=2.7.0 in /databricks/python3/lib/python3.10/site-packages (from graphene<4->mlflow) (2.8.2)\nRequirement already satisfied: cycler>=0.10 in /databricks/python3/lib/python3.10/site-packages (from matplotlib<4->mlflow) (0.11.0)\nRequirement already satisfied: pillow>=6.2.0 in /databricks/python3/lib/python3.10/site-packages (from matplotlib<4->mlflow) (9.4.0)\nRequirement already satisfied: pyparsing>=2.3.1 in /databricks/python3/lib/python3.10/site-packages (from matplotlib<4->mlflow) (3.0.9)\nRequirement already satisfied: contourpy>=1.0.1 in /databricks/python3/lib/python3.10/site-packages (from matplotlib<4->mlflow) (1.0.5)\nRequirement already satisfied: fonttools>=4.22.0 in /databricks/python3/lib/python3.10/site-packages (from matplotlib<4->mlflow) (4.25.0)\nRequirement already satisfied: kiwisolver>=1.0.1 in /databricks/python3/lib/python3.10/site-packages (from matplotlib<4->mlflow) (1.4.4)\nRequirement already satisfied: pytz>=2020.1 in /databricks/python3/lib/python3.10/site-packages (from pandas<3->mlflow) (2022.7)\nRequirement already satisfied: joblib>=1.0.0 in /databricks/python3/lib/python3.10/site-packages (from scikit-learn<2->mlflow) (1.2.0)\nRequirement already satisfied: threadpoolctl>=2.0.0 in /databricks/python3/lib/python3.10/site-packages (from scikit-learn<2->mlflow) (2.2.0)\nRequirement already satisfied: greenlet>=1 in /local_disk0/.ephemeral_nfs/envs/pythonEnv-21dafa11-dea5-4388-822f-fb311a0a28a8/lib/python3.10/site-packages (from sqlalchemy<3,>=1.4.0->mlflow) (3.2.3)\nRequirement already satisfied: google-auth~=2.0 in /databricks/python3/lib/python3.10/site-packages (from databricks-sdk<1,>=0.20.0->mlflow-skinny==3.1.4->mlflow) (2.28.1)\nRequirement already satisfied: starlette<0.48.0,>=0.40.0 in /local_disk0/.ephemeral_nfs/envs/pythonEnv-21dafa11-dea5-4388-822f-fb311a0a28a8/lib/python3.10/site-packages (from fastapi<1->mlflow-skinny==3.1.4->mlflow) (0.47.2)\nRequirement already satisfied: gitdb<5,>=4.0.1 in /local_disk0/.ephemeral_nfs/envs/pythonEnv-21dafa11-dea5-4388-822f-fb311a0a28a8/lib/python3.10/site-packages (from gitpython<4,>=3.1.9->mlflow-skinny==3.1.4->mlflow) (4.0.12)\nRequirement already satisfied: zipp>=3.20 in /local_disk0/.ephemeral_nfs/envs/pythonEnv-21dafa11-dea5-4388-822f-fb311a0a28a8/lib/python3.10/site-packages (from importlib_metadata!=4.7.0,<9,>=3.7.0->mlflow-skinny==3.1.4->mlflow) (3.23.0)\nRequirement already satisfied: opentelemetry-semantic-conventions==0.57b0 in /local_disk0/.ephemeral_nfs/envs/pythonEnv-21dafa11-dea5-4388-822f-fb311a0a28a8/lib/python3.10/site-packages (from opentelemetry-sdk<3,>=1.9.0->mlflow-skinny==3.1.4->mlflow) (0.57b0)\nRequirement already satisfied: annotated-types>=0.6.0 in /local_disk0/.ephemeral_nfs/envs/pythonEnv-21dafa11-dea5-4388-822f-fb311a0a28a8/lib/python3.10/site-packages (from pydantic<3,>=1.10.8->mlflow-skinny==3.1.4->mlflow) (0.7.0)\nRequirement already satisfied: typing-inspection>=0.4.0 in /local_disk0/.ephemeral_nfs/envs/pythonEnv-21dafa11-dea5-4388-822f-fb311a0a28a8/lib/python3.10/site-packages (from pydantic<3,>=1.10.8->mlflow-skinny==3.1.4->mlflow) (0.4.1)\nRequirement already satisfied: pydantic-core==2.33.2 in /local_disk0/.ephemeral_nfs/envs/pythonEnv-21dafa11-dea5-4388-822f-fb311a0a28a8/lib/python3.10/site-packages (from pydantic<3,>=1.10.8->mlflow-skinny==3.1.4->mlflow) (2.33.2)\nRequirement already satisfied: six>=1.5 in /usr/lib/python3/dist-packages (from python-dateutil<3,>=2.7.0->graphene<4->mlflow) (1.16.0)\nRequirement already satisfied: charset-normalizer<3,>=2 in /databricks/python3/lib/python3.10/site-packages (from requests<3,>=2.17.3->mlflow-skinny==3.1.4->mlflow) (2.0.4)\nRequirement already satisfied: certifi>=2017.4.17 in /databricks/python3/lib/python3.10/site-packages (from requests<3,>=2.17.3->mlflow-skinny==3.1.4->mlflow) (2022.12.7)\nRequirement already satisfied: idna<4,>=2.5 in /databricks/python3/lib/python3.10/site-packages (from requests<3,>=2.17.3->mlflow-skinny==3.1.4->mlflow) (3.4)\nRequirement already satisfied: h11>=0.8 in /local_disk0/.ephemeral_nfs/envs/pythonEnv-21dafa11-dea5-4388-822f-fb311a0a28a8/lib/python3.10/site-packages (from uvicorn<1->mlflow-skinny==3.1.4->mlflow) (0.16.0)\nRequirement already satisfied: smmap<6,>=3.0.1 in /local_disk0/.ephemeral_nfs/envs/pythonEnv-21dafa11-dea5-4388-822f-fb311a0a28a8/lib/python3.10/site-packages (from gitdb<5,>=4.0.1->gitpython<4,>=3.1.9->mlflow-skinny==3.1.4->mlflow) (5.0.2)\nRequirement already satisfied: pyasn1-modules>=0.2.1 in /databricks/python3/lib/python3.10/site-packages (from google-auth~=2.0->databricks-sdk<1,>=0.20.0->mlflow-skinny==3.1.4->mlflow) (0.3.0)\nRequirement already satisfied: rsa<5,>=3.1.4 in /databricks/python3/lib/python3.10/site-packages (from google-auth~=2.0->databricks-sdk<1,>=0.20.0->mlflow-skinny==3.1.4->mlflow) (4.9)\nRequirement already satisfied: anyio<5,>=3.6.2 in /local_disk0/.ephemeral_nfs/envs/pythonEnv-21dafa11-dea5-4388-822f-fb311a0a28a8/lib/python3.10/site-packages (from starlette<0.48.0,>=0.40.0->fastapi<1->mlflow-skinny==3.1.4->mlflow) (4.9.0)\nRequirement already satisfied: sniffio>=1.1 in /databricks/python3/lib/python3.10/site-packages (from anyio<5,>=3.6.2->starlette<0.48.0,>=0.40.0->fastapi<1->mlflow-skinny==3.1.4->mlflow) (1.2.0)\nRequirement already satisfied: exceptiongroup>=1.0.2 in /local_disk0/.ephemeral_nfs/envs/pythonEnv-21dafa11-dea5-4388-822f-fb311a0a28a8/lib/python3.10/site-packages (from anyio<5,>=3.6.2->starlette<0.48.0,>=0.40.0->fastapi<1->mlflow-skinny==3.1.4->mlflow) (1.3.0)\nRequirement already satisfied: pyasn1<0.6.0,>=0.4.6 in /databricks/python3/lib/python3.10/site-packages (from pyasn1-modules>=0.2.1->google-auth~=2.0->databricks-sdk<1,>=0.20.0->mlflow-skinny==3.1.4->mlflow) (0.5.1)\n\u001B[43mNote: you may need to restart the kernel using %restart_python or dbutils.library.restartPython() to use updated packages.\u001B[0m\n"
     ]
    }
   ],
   "source": [
    "%pip install --upgrade typing_extensions mlflow\n",
    "\n",
    "import os\n",
    "import shutil\n",
    "import pprint\n",
    "import tempfile\n",
    "from random import random, randint\n",
    "import numpy as np\n",
    "import matplotlib.pyplot as plt\n",
    "import mlflow.sklearn\n",
    "import mlflow\n",
    "from sklearn.ensemble import RandomForestRegressor\n",
    "from sklearn.datasets import make_regression\n",
    "from sklearn.model_selection import train_test_split\n",
    "from sklearn import metrics\n",
    "from mlflow.tracking import MlflowClient"
   ]
  },
  {
   "cell_type": "markdown",
   "metadata": {
    "application/vnd.databricks.v1+cell": {
     "cellMetadata": {},
     "inputWidgets": {},
     "nuid": "c53ec488-f010-41c0-8058-3e27a3988ac5",
     "showTitle": false,
     "tableResultSettingsMap": {},
     "title": ""
    }
   },
   "source": [
    "### Random Text for the Message Artifacts"
   ]
  },
  {
   "cell_type": "code",
   "execution_count": 0,
   "metadata": {
    "application/vnd.databricks.v1+cell": {
     "cellMetadata": {
      "byteLimit": 2048000,
      "rowLimit": 10000
     },
     "inputWidgets": {},
     "nuid": "7abdd90d-d678-4e2a-be32-b68df525271f",
     "showTitle": false,
     "tableResultSettingsMap": {},
     "title": ""
    }
   },
   "outputs": [],
   "source": [
    "RANDOM_TEXTS = [\"Look, Stay home for us, so we can order some cup cakes!\",\n",
    "                \"This shelter-in-placeinduces sweet appetites. Look at the graphs of cupcakes consumption in SF and NYC!\",\n",
    "                \"Don't Despair for those in-place shelters, for help and hope are on the way!\",\n",
    "                \"Guess what, I'll just hack on this MLflow thingy. Seems way cool!\",\n",
    "                \"Trying and learning the new MLflow Tracking component ... Perché No!\",\n",
    "                \"Bonjour! Nice to be virtual now!\"]"
   ]
  },
  {
   "cell_type": "markdown",
   "metadata": {
    "application/vnd.databricks.v1+cell": {
     "cellMetadata": {},
     "inputWidgets": {},
     "nuid": "490dce16-ff4d-4e73-9dcc-0cfadc13fe46",
     "showTitle": false,
     "tableResultSettingsMap": {},
     "title": ""
    }
   },
   "source": [
    "### Utility functions "
   ]
  },
  {
   "cell_type": "code",
   "execution_count": 0,
   "metadata": {
    "application/vnd.databricks.v1+cell": {
     "cellMetadata": {
      "byteLimit": 2048000,
      "rowLimit": 10000
     },
     "inputWidgets": {},
     "nuid": "e32750e4-8b62-4ffd-8d0a-d2830ac75d57",
     "showTitle": false,
     "tableResultSettingsMap": {},
     "title": ""
    }
   },
   "outputs": [],
   "source": [
    "def get_temporary_directory_path(prefix, suffix):\n",
    "  \"\"\"\n",
    "  Get a temporary directory and files for artifacts\n",
    "  :param prefix: name of the file\n",
    "  :param suffix: .csv, .txt, .png etc\n",
    "  :return: object to tempfile.\n",
    "  \"\"\"\n",
    "\n",
    "  temp = tempfile.NamedTemporaryFile(prefix=prefix, suffix=suffix)\n",
    "  return temp\n",
    "\n",
    "def gen_random_text():\n",
    "    \"\"\"\n",
    "    Random text for messages\n",
    "    :return: return string message text\n",
    "    \"\"\"\n",
    "    return RANDOM_TEXTS[randint(0, 5)]\n",
    "\n",
    "\n",
    "def gen_random_scatter_plots(npoints):\n",
    "    \"\"\"\n",
    "    Random scatter plot geneator to save as an MLflow artifact in an MLflow experiment\n",
    "    run\n",
    "    :param npoints: number of data points for the scatter plot\n",
    "    :return: return a tuple\n",
    "    \"\"\"\n",
    "    data = {'a': np.arange(npoints),\n",
    "            'c': np.random.randint(0, npoints, npoints),\n",
    "            'd': np.random.randn(npoints)}\n",
    "    data['b'] = data['a'] + 10 * np.random.randn(npoints)\n",
    "    data['d'] = np.abs(data['d']) * 100\n",
    "\n",
    "    plt.clf()\n",
    "    fig, ax = plt.subplots()\n",
    "\n",
    "    plt.scatter('a', 'b', c='c', s='d', data=data)\n",
    "    plt.title(\"Cupcake Consumption\")\n",
    "    plt.xlabel('Vanilla,Chocolate,Carrot: NYC')\n",
    "    plt.ylabel('Vanilla,Chocolate,Carrot: San Francisco')\n",
    "    return (fig, ax)"
   ]
  },
  {
   "cell_type": "markdown",
   "metadata": {
    "application/vnd.databricks.v1+cell": {
     "cellMetadata": {},
     "inputWidgets": {},
     "nuid": "ee730f86-f18c-455b-b7ae-6db9bd279e94",
     "showTitle": false,
     "tableResultSettingsMap": {},
     "title": ""
    }
   },
   "source": [
    "## Fluent Python MLflow APIs"
   ]
  },
  {
   "cell_type": "markdown",
   "metadata": {
    "application/vnd.databricks.v1+cell": {
     "cellMetadata": {},
     "inputWidgets": {},
     "nuid": "7c1e70d0-491a-4526-9692-5cd5e0c81c5b",
     "showTitle": false,
     "tableResultSettingsMap": {},
     "title": ""
    }
   },
   "source": [
    "MLflow method to record create a model, log model, parameters, metrics, and artifacts for each run"
   ]
  },
  {
   "cell_type": "code",
   "execution_count": 0,
   "metadata": {
    "application/vnd.databricks.v1+cell": {
     "cellMetadata": {
      "byteLimit": 2048000,
      "rowLimit": 10000
     },
     "inputWidgets": {},
     "nuid": "6bc5e0c1-92db-4ae8-835f-71bc47c55788",
     "showTitle": false,
     "tableResultSettingsMap": {},
     "title": ""
    }
   },
   "outputs": [],
   "source": [
    "def mlflow_run(params, run_name=\"MLflow Workshop Part-1\"):\n",
    "    \"\"\"\n",
    "    Function to start a run within a Default experiment\n",
    "    :param params: parameters used for the run, such as arguments to RandomForestRegressor class scikit-learn\n",
    "    :param run_name: label for the name of the run\n",
    "    :return: experiment ID and run ID\n",
    "    \"\"\"\n",
    "\n",
    "    with mlflow.start_run(run_name=run_name) as run:\n",
    "        # Get the run and experimentid\n",
    "        \n",
    "        run_id = run.info.run_id\n",
    "        experiment_id = run.info.experiment_id\n",
    "\n",
    "        # Create our model type instance and some random fake regression data\n",
    "        sk_learn_rfr = RandomForestRegressor(**params)\n",
    "        # https://scikit-learn.org/stable/modules/generated/sklearn.datasets.make_regression.htm\n",
    "        X, y = make_regression(n_features=20, n_samples=5000, random_state=42)\n",
    "        # Train/Test split\n",
    "        X_train, X_test, y_train, y_test = train_test_split(X, y, test_size=0.2, random_state=42)\n",
    "        \n",
    "        # typicaly here you would train and evaluation your model\n",
    "        sk_learn_rfr.fit(X_train, y_train)\n",
    "        y_pred =  sk_learn_rfr.predict(X_test)\n",
    "        \n",
    "        mae = metrics.mean_absolute_error(y_test, y_pred)\n",
    "        mse = metrics.mean_squared_error(y_test, y_pred)\n",
    "        rsme = np.sqrt(mse)\n",
    "\n",
    "        # Log params and metrics using the MLflow APIs\n",
    "        mlflow.log_params(params)\n",
    "        mlflow.log_metric(\"mae\", mae)\n",
    "        mlflow.log_metric(\"mse\", mse)\n",
    "        mlflow.log_metric(\"rsme\", rsme)\n",
    "\n",
    "        # Set the notes for experiment and the Runs\n",
    "        MlflowClient().set_experiment_tag(experiment_id,\n",
    "                                          \"mlflow.note.content\",\n",
    "                                          \"This is a fake cup cake predicion experiment: Getting started with MLflow Workhop Series Part 1 ...\")\n",
    "        MlflowClient().set_tag(run_id,\n",
    "                               \"mlflow.note.content\",\n",
    "                               \"This Run is for getting started as part of MLflow Workhop Series Part 1 ...\")\n",
    "\n",
    "        # Log the model\n",
    "        mlflow.sklearn.log_model(\n",
    "            sk_model=sk_learn_rfr,\n",
    "            artifact_path=\"sklearn-model\")\n",
    "\n",
    "        # Create sample message artifact\n",
    "        if not os.path.exists(\"messages\"):\n",
    "            os.makedirs(\"messages\")\n",
    "        with open(\"messages/message.txt\", \"w\") as f:\n",
    "            f.write(gen_random_text())\n",
    "\n",
    "        mlflow.log_artifact(\"messages\")\n",
    "        shutil.rmtree('messages')\n",
    "\n",
    "        # Create scatter random plot artifacts file and log them a artifacts\n",
    "        for npoints in range(55, 70, 5):\n",
    "            fig, ex = gen_random_scatter_plots(npoints)\n",
    "            temp_file_name = get_temporary_directory_path(\"scatter-plot-\", \".png\")\n",
    "            temp_name = temp_file_name.name\n",
    "            try:\n",
    "                fig.savefig(temp_name)\n",
    "                mlflow.log_artifact(temp_name, \"scatter_plots\")\n",
    "            finally:\n",
    "                temp_file_name.close()  # Delete the temp file\n",
    "\n",
    "        return (run_id, experiment_id)"
   ]
  },
  {
   "cell_type": "markdown",
   "metadata": {
    "application/vnd.databricks.v1+cell": {
     "cellMetadata": {},
     "inputWidgets": {},
     "nuid": "4b7ad887-772d-4438-9487-0870ef9570d8",
     "showTitle": false,
     "tableResultSettingsMap": {},
     "title": ""
    }
   },
   "source": [
    "### Driver to run experiment with three runs"
   ]
  },
  {
   "cell_type": "markdown",
   "metadata": {
    "application/vnd.databricks.v1+cell": {
     "cellMetadata": {},
     "inputWidgets": {},
     "nuid": "ccc3c996-813b-49cc-8c3b-1570c7f792c3",
     "showTitle": false,
     "tableResultSettingsMap": {},
     "title": ""
    }
   },
   "source": [
    "Define parameters for three different runs"
   ]
  },
  {
   "cell_type": "code",
   "execution_count": 0,
   "metadata": {
    "application/vnd.databricks.v1+cell": {
     "cellMetadata": {
      "byteLimit": 2048000,
      "rowLimit": 10000
     },
     "inputWidgets": {},
     "nuid": "2dfd38c3-7127-4340-bc64-a0ae74cf0195",
     "showTitle": false,
     "tableResultSettingsMap": {},
     "title": ""
    }
   },
   "outputs": [],
   "source": [
    "parameters = [ {\"n_estimators\": 3, \"max_depth\":2, \"random_state\": 42},\n",
    "               {\"n_estimators\": 6, \"max_depth\":4, \"random_state\": 42},\n",
    "               {\"n_estimators\": 12, \"max_depth\":6, \"random_state\": 42}]"
   ]
  },
  {
   "cell_type": "code",
   "execution_count": 0,
   "metadata": {
    "application/vnd.databricks.v1+cell": {
     "cellMetadata": {
      "byteLimit": 2048000,
      "rowLimit": 10000
     },
     "inputWidgets": {},
     "nuid": "ede8d637-3b30-436a-a2ad-4494c8e402d4",
     "showTitle": false,
     "tableResultSettingsMap": {},
     "title": ""
    }
   },
   "outputs": [
    {
     "output_type": "stream",
     "name": "stderr",
     "output_type": "stream",
     "text": [
      "2025/07/31 04:35:21 WARNING mlflow.models.model: `artifact_path` is deprecated. Please use `name` instead.\n\uD83D\uDD17 View Logged Model at: https://dbc-b2d30165-76df.cloud.databricks.com/ml/experiments/4230816160263147/models/m-f6183fb654f64e8cbd9689f9238f2342?o=4476931374519718\n\u001B[31m2025/07/31 04:35:26 WARNING mlflow.models.model: Model logged without a signature and input example. Please set `input_example` parameter when logging the model to auto infer the model signature.\u001B[0m\n"
     ]
    },
    {
     "output_type": "stream",
     "name": "stdout",
     "output_type": "stream",
     "text": [
      "run_id=12a5d20334a2414f9cbdaf52ce1f04aa\nexperiment_id=4230816160263147\n"
     ]
    },
    {
     "output_type": "stream",
     "name": "stderr",
     "output_type": "stream",
     "text": [
      "2025/07/31 04:35:31 WARNING mlflow.models.model: `artifact_path` is deprecated. Please use `name` instead.\n\uD83D\uDD17 View Logged Model at: https://dbc-b2d30165-76df.cloud.databricks.com/ml/experiments/4230816160263147/models/m-7872cd8e919e43ca8a910c8c583b68f2?o=4476931374519718\n\u001B[31m2025/07/31 04:35:36 WARNING mlflow.models.model: Model logged without a signature and input example. Please set `input_example` parameter when logging the model to auto infer the model signature.\u001B[0m\n"
     ]
    },
    {
     "output_type": "stream",
     "name": "stdout",
     "output_type": "stream",
     "text": [
      "run_id=34f6716f3365446d985043b78c22ffa5\nexperiment_id=4230816160263147\n"
     ]
    },
    {
     "output_type": "stream",
     "name": "stderr",
     "output_type": "stream",
     "text": [
      "2025/07/31 04:35:41 WARNING mlflow.models.model: `artifact_path` is deprecated. Please use `name` instead.\n\uD83D\uDD17 View Logged Model at: https://dbc-b2d30165-76df.cloud.databricks.com/ml/experiments/4230816160263147/models/m-86e55eb2b2d245e080f7dde50bcf8682?o=4476931374519718\n\u001B[31m2025/07/31 04:35:45 WARNING mlflow.models.model: Model logged without a signature and input example. Please set `input_example` parameter when logging the model to auto infer the model signature.\u001B[0m\n"
     ]
    },
    {
     "output_type": "stream",
     "name": "stdout",
     "output_type": "stream",
     "text": [
      "run_id=a5bc83361f1344b5b8cf07643b9519be\nexperiment_id=4230816160263147\n"
     ]
    },
    {
     "output_type": "display_data",
     "data": {
      "text/plain": [
       "<Figure size 640x480 with 0 Axes>"
      ]
     },
     "metadata": {},
     "output_type": "display_data"
    },
    {
     "output_type": "display_data",
     "data": {
      "text/plain": [
       "<Figure size 640x480 with 0 Axes>"
      ]
     },
     "metadata": {},
     "output_type": "display_data"
    },
    {
     "output_type": "display_data",
     "data": {
      "text/plain": [
       "<Figure size 640x480 with 0 Axes>"
      ]
     },
     "metadata": {},
     "output_type": "display_data"
    },
    {
     "output_type": "display_data",
     "data": {
      "text/plain": [
       "<Figure size 640x480 with 0 Axes>"
      ]
     },
     "metadata": {},
     "output_type": "display_data"
    },
    {
     "output_type": "display_data",
     "data": {
      "text/plain": [
       "<Figure size 640x480 with 0 Axes>"
      ]
     },
     "metadata": {},
     "output_type": "display_data"
    },
    {
     "output_type": "display_data",
     "data": {
      "text/plain": [
       "<Figure size 640x480 with 0 Axes>"
      ]
     },
     "metadata": {},
     "output_type": "display_data"
    },
    {
     "output_type": "display_data",
     "data": {
      "text/plain": [
       "<Figure size 640x480 with 0 Axes>"
      ]
     },
     "metadata": {},
     "output_type": "display_data"
    },
    {
     "output_type": "display_data",
     "data": {
      "text/plain": [
       "<Figure size 640x480 with 0 Axes>"
      ]
     },
     "metadata": {},
     "output_type": "display_data"
    },
    {
     "output_type": "display_data",
     "data": {
      "text/plain": [
       "<Figure size 640x480 with 0 Axes>"
      ]
     },
     "metadata": {},
     "output_type": "display_data"
    },
    {
     "output_type": "display_data",
     "data": {
      "image/png": "[encoded data removed]",
      "text/plain": [
       "<Figure size 640x480 with 1 Axes>"
      ]
     },
     "metadata": {},
     "output_type": "display_data"
    }
   ],
   "source": [
    "# Create multiple runs with different set of parameters\n",
    "for params in parameters:\n",
    "  (run_id, exp_id) = mlflow_run(params)\n",
    "  print(f\"run_id={run_id}\") \n",
    "  print(f\"experiment_id={exp_id}\")"
   ]
  },
  {
   "cell_type": "markdown",
   "metadata": {
    "application/vnd.databricks.v1+cell": {
     "cellMetadata": {},
     "inputWidgets": {},
     "nuid": "9bb2c49a-58ad-4568-8d82-2a81ad2cfa10",
     "showTitle": false,
     "tableResultSettingsMap": {},
     "title": ""
    }
   },
   "source": [
    "### Show the MLflow  UI\n",
    "\n",
    "* Compare Runs pick two best runs\n",
    "* Annotate with descriptions and tags"
   ]
  }
 ],
 "metadata": {
  "application/vnd.databricks.v1+notebook": {
   "computePreferences": null,
   "dashboards": [],
   "environmentMetadata": null,
   "inputWidgetPreferences": null,
   "language": "python",
   "notebookMetadata": {
    "pythonIndentUnit": 2
   },
   "notebookName": "0_get_started_fun_lab",
   "widgets": {}
  },
  "language_info": {
   "name": "python"
  }
 },
 "nbformat": 4,
 "nbformat_minor": 0
}