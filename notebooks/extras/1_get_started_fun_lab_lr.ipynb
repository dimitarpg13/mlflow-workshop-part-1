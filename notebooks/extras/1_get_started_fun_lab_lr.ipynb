{
 "cells": [
  {
   "cell_type": "markdown",
   "metadata": {
    "application/vnd.databricks.v1+cell": {
     "cellMetadata": {},
     "inputWidgets": {},
     "nuid": "5151fe5d-1cee-4e1d-9a09-e8f5594ca01b",
     "showTitle": false,
     "tableResultSettingsMap": {},
     "title": ""
    }
   },
   "source": [
    "#### Problem Lab 0: Simple Regression Model\n",
    "\n",
    "This example uses the only the first feature of the diabetes dataset, in order to illustrate a two-dimensional plot of this regression technique. The straight line can be seen in the plot, showing how linear regression attempts to draw a straight line that will best minimize the residual sum of squares between the observed responses in the [diabetes dataset](https://scikit-learn.org/stable/datasets/index.html#diabetes-dataset), and the responses predicted by the linear approximation.\n",
    "\n",
    "The coefficients, the [residual sum of squares](https://en.wikipedia.org/wiki/Residual_sum_of_squares) and the coefficient of determination are also calculated.\n",
    "\n",
    "[Source](https://scikit-learn.org/stable/auto_examples/linear_model/plot_ols.html#sphx-glr-auto-examples-linear-model-plot-ols-py)\n",
    "\n",
    "Modifed for this tutorial\n",
    "\n",
    "<table>\n",
    "  <tr><td>\n",
    "    <img src=\"https://miro.medium.com/max/593/1*pfmeGgGM5sxmLBQ5IQfQew.png\"\n",
    "         alt=\"Matrix\" width=\"600\">\n",
    "    </td>\n",
    "  <tr><td></td></tr>\n",
    "  <tr><td>Seems like a sweet consumption problem to have ...</td></tr>\n",
    "  <tr><td>\n",
    "    <img src=\"https://encrypted-tbn0.gstatic.com/images?q=tbn%3AANd9GcSfq0lfEMNHr8h65oFR_fFPR_PsukQL60FiKDU16VB7Li17q5Fd&usqp=CAU\" \n",
    "         alt=\"Cup Cakes\" width=\"600\">\n",
    "  </td></tr>\n",
    "</table>"
   ]
  },
  {
   "cell_type": "code",
   "execution_count": 0,
   "metadata": {
    "application/vnd.databricks.v1+cell": {
     "cellMetadata": {
      "byteLimit": 2048000,
      "rowLimit": 10000
     },
     "inputWidgets": {},
     "nuid": "d31b19cd-b40f-4317-baa0-646354c0c94b",
     "showTitle": false,
     "tableResultSettingsMap": {},
     "title": ""
    }
   },
   "outputs": [
    {
     "output_type": "stream",
     "name": "stdout",
     "output_type": "stream",
     "text": [
      "Collecting typing_extensions==4.0.1\n  Downloading typing_extensions-4.0.1-py3-none-any.whl (22 kB)\nRequirement already satisfied: mlflow in /local_disk0/.ephemeral_nfs/envs/pythonEnv-8b672eb0-cd5d-4b3d-8581-b1489f66f1ec/lib/python3.10/site-packages (3.1.4)\nRequirement already satisfied: docker<8,>=4.0.0 in /local_disk0/.ephemeral_nfs/envs/pythonEnv-8b672eb0-cd5d-4b3d-8581-b1489f66f1ec/lib/python3.10/site-packages (from mlflow) (7.1.0)\nRequirement already satisfied: Flask<4 in /local_disk0/.ephemeral_nfs/envs/pythonEnv-8b672eb0-cd5d-4b3d-8581-b1489f66f1ec/lib/python3.10/site-packages (from mlflow) (3.1.1)\nRequirement already satisfied: pandas<3 in /databricks/python3/lib/python3.10/site-packages (from mlflow) (1.5.3)\nRequirement already satisfied: mlflow-skinny==3.1.4 in /local_disk0/.ephemeral_nfs/envs/pythonEnv-8b672eb0-cd5d-4b3d-8581-b1489f66f1ec/lib/python3.10/site-packages (from mlflow) (3.1.4)\nRequirement already satisfied: matplotlib<4 in /databricks/python3/lib/python3.10/site-packages (from mlflow) (3.7.0)\nRequirement already satisfied: sqlalchemy<3,>=1.4.0 in /local_disk0/.ephemeral_nfs/envs/pythonEnv-8b672eb0-cd5d-4b3d-8581-b1489f66f1ec/lib/python3.10/site-packages (from mlflow) (2.0.42)\nRequirement already satisfied: numpy<3 in /databricks/python3/lib/python3.10/site-packages (from mlflow) (1.23.5)\nRequirement already satisfied: scipy<2 in /databricks/python3/lib/python3.10/site-packages (from mlflow) (1.10.0)\nRequirement already satisfied: graphene<4 in /local_disk0/.ephemeral_nfs/envs/pythonEnv-8b672eb0-cd5d-4b3d-8581-b1489f66f1ec/lib/python3.10/site-packages (from mlflow) (3.4.3)\nRequirement already satisfied: gunicorn<24 in /local_disk0/.ephemeral_nfs/envs/pythonEnv-8b672eb0-cd5d-4b3d-8581-b1489f66f1ec/lib/python3.10/site-packages (from mlflow) (23.0.0)\nRequirement already satisfied: alembic!=1.10.0,<2 in /local_disk0/.ephemeral_nfs/envs/pythonEnv-8b672eb0-cd5d-4b3d-8581-b1489f66f1ec/lib/python3.10/site-packages (from mlflow) (1.16.4)\nRequirement already satisfied: scikit-learn<2 in /databricks/python3/lib/python3.10/site-packages (from mlflow) (1.1.1)\nRequirement already satisfied: pyarrow<21,>=4.0.0 in /databricks/python3/lib/python3.10/site-packages (from mlflow) (8.0.0)\nRequirement already satisfied: gitpython<4,>=3.1.9 in /local_disk0/.ephemeral_nfs/envs/pythonEnv-8b672eb0-cd5d-4b3d-8581-b1489f66f1ec/lib/python3.10/site-packages (from mlflow-skinny==3.1.4->mlflow) (3.1.45)\nRequirement already satisfied: sqlparse<1,>=0.4.0 in /local_disk0/.ephemeral_nfs/envs/pythonEnv-8b672eb0-cd5d-4b3d-8581-b1489f66f1ec/lib/python3.10/site-packages (from mlflow-skinny==3.1.4->mlflow) (0.5.3)\nRequirement already satisfied: protobuf<7,>=3.12.0 in /databricks/python3/lib/python3.10/site-packages (from mlflow-skinny==3.1.4->mlflow) (4.25.5)\nRequirement already satisfied: cachetools<7,>=5.0.0 in /databricks/python3/lib/python3.10/site-packages (from mlflow-skinny==3.1.4->mlflow) (5.3.2)\nRequirement already satisfied: requests<3,>=2.17.3 in /databricks/python3/lib/python3.10/site-packages (from mlflow-skinny==3.1.4->mlflow) (2.28.1)\nRequirement already satisfied: cloudpickle<4 in /local_disk0/.ephemeral_nfs/envs/pythonEnv-8b672eb0-cd5d-4b3d-8581-b1489f66f1ec/lib/python3.10/site-packages (from mlflow-skinny==3.1.4->mlflow) (3.1.1)\nRequirement already satisfied: uvicorn<1 in /local_disk0/.ephemeral_nfs/envs/pythonEnv-8b672eb0-cd5d-4b3d-8581-b1489f66f1ec/lib/python3.10/site-packages (from mlflow-skinny==3.1.4->mlflow) (0.35.0)\nRequirement already satisfied: packaging<26 in /databricks/python3/lib/python3.10/site-packages (from mlflow-skinny==3.1.4->mlflow) (23.2)\nRequirement already satisfied: pydantic<3,>=1.10.8 in /local_disk0/.ephemeral_nfs/envs/pythonEnv-8b672eb0-cd5d-4b3d-8581-b1489f66f1ec/lib/python3.10/site-packages (from mlflow-skinny==3.1.4->mlflow) (2.11.7)\nRequirement already satisfied: importlib_metadata!=4.7.0,<9,>=3.7.0 in /local_disk0/.ephemeral_nfs/envs/pythonEnv-8b672eb0-cd5d-4b3d-8581-b1489f66f1ec/lib/python3.10/site-packages (from mlflow-skinny==3.1.4->mlflow) (8.7.0)\nRequirement already satisfied: fastapi<1 in /local_disk0/.ephemeral_nfs/envs/pythonEnv-8b672eb0-cd5d-4b3d-8581-b1489f66f1ec/lib/python3.10/site-packages (from mlflow-skinny==3.1.4->mlflow) (0.116.1)\nRequirement already satisfied: opentelemetry-api<3,>=1.9.0 in /local_disk0/.ephemeral_nfs/envs/pythonEnv-8b672eb0-cd5d-4b3d-8581-b1489f66f1ec/lib/python3.10/site-packages (from mlflow-skinny==3.1.4->mlflow) (1.36.0)\nRequirement already satisfied: opentelemetry-sdk<3,>=1.9.0 in /local_disk0/.ephemeral_nfs/envs/pythonEnv-8b672eb0-cd5d-4b3d-8581-b1489f66f1ec/lib/python3.10/site-packages (from mlflow-skinny==3.1.4->mlflow) (1.36.0)\nRequirement already satisfied: pyyaml<7,>=5.1 in /local_disk0/.ephemeral_nfs/envs/pythonEnv-8b672eb0-cd5d-4b3d-8581-b1489f66f1ec/lib/python3.10/site-packages (from mlflow-skinny==3.1.4->mlflow) (6.0.2)\nRequirement already satisfied: databricks-sdk<1,>=0.20.0 in /databricks/python3/lib/python3.10/site-packages (from mlflow-skinny==3.1.4->mlflow) (0.20.0)\nRequirement already satisfied: click<9,>=7.0 in /local_disk0/.ephemeral_nfs/envs/pythonEnv-8b672eb0-cd5d-4b3d-8581-b1489f66f1ec/lib/python3.10/site-packages (from mlflow-skinny==3.1.4->mlflow) (8.2.1)\nCollecting alembic!=1.10.0,<2\n  Downloading alembic-1.16.3-py3-none-any.whl (246 kB)\n     ━━━━━━━━━━━━━━━━━━━━━━━━━━━━━━━━━━━━━━━ 246.9/246.9 kB 5.2 MB/s eta 0:00:00\n  Downloading alembic-1.16.2-py3-none-any.whl (242 kB)\n     ━━━━━━━━━━━━━━━━━━━━━━━━━━━━━━━━━━━━━━━ 242.7/242.7 kB 6.7 MB/s eta 0:00:00\n  Downloading alembic-1.16.1-py3-none-any.whl (242 kB)\n     ━━━━━━━━━━━━━━━━━━━━━━━━━━━━━━━━━━━━━━━ 242.5/242.5 kB 8.0 MB/s eta 0:00:00\n  Downloading alembic-1.16.0-py3-none-any.whl (242 kB)\n     ━━━━━━━━━━━━━━━━━━━━━━━━━━━━━━━━━━━━━━━ 242.5/242.5 kB 8.5 MB/s eta 0:00:00\n  Downloading alembic-1.15.2-py3-none-any.whl (231 kB)\n     ━━━━━━━━━━━━━━━━━━━━━━━━━━━━━━━━━━━━━━━ 231.9/231.9 kB 9.6 MB/s eta 0:00:00\n  Downloading alembic-1.15.1-py3-none-any.whl (231 kB)\n     ━━━━━━━━━━━━━━━━━━━━━━━━━━━━━━━━━━━━━━ 231.8/231.8 kB 11.1 MB/s eta 0:00:00\n  Downloading alembic-1.14.1-py3-none-any.whl (233 kB)\n     ━━━━━━━━━━━━━━━━━━━━━━━━━━━━━━━━━━━━━━ 233.6/233.6 kB 11.3 MB/s eta 0:00:00\nRequirement already satisfied: Mako in /local_disk0/.ephemeral_nfs/envs/pythonEnv-8b672eb0-cd5d-4b3d-8581-b1489f66f1ec/lib/python3.10/site-packages (from alembic!=1.10.0,<2->mlflow) (1.3.10)\nRequirement already satisfied: urllib3>=1.26.0 in /databricks/python3/lib/python3.10/site-packages (from docker<8,>=4.0.0->mlflow) (1.26.14)\nRequirement already satisfied: markupsafe>=2.1.1 in /databricks/python3/lib/python3.10/site-packages (from Flask<4->mlflow) (2.1.1)\nRequirement already satisfied: blinker>=1.9.0 in /local_disk0/.ephemeral_nfs/envs/pythonEnv-8b672eb0-cd5d-4b3d-8581-b1489f66f1ec/lib/python3.10/site-packages (from Flask<4->mlflow) (1.9.0)\nRequirement already satisfied: jinja2>=3.1.2 in /databricks/python3/lib/python3.10/site-packages (from Flask<4->mlflow) (3.1.2)\nRequirement already satisfied: itsdangerous>=2.2.0 in /local_disk0/.ephemeral_nfs/envs/pythonEnv-8b672eb0-cd5d-4b3d-8581-b1489f66f1ec/lib/python3.10/site-packages (from Flask<4->mlflow) (2.2.0)\nRequirement already satisfied: werkzeug>=3.1.0 in /local_disk0/.ephemeral_nfs/envs/pythonEnv-8b672eb0-cd5d-4b3d-8581-b1489f66f1ec/lib/python3.10/site-packages (from Flask<4->mlflow) (3.1.3)\nRequirement already satisfied: python-dateutil<3,>=2.7.0 in /databricks/python3/lib/python3.10/site-packages (from graphene<4->mlflow) (2.8.2)\nRequirement already satisfied: graphql-core<3.3,>=3.1 in /local_disk0/.ephemeral_nfs/envs/pythonEnv-8b672eb0-cd5d-4b3d-8581-b1489f66f1ec/lib/python3.10/site-packages (from graphene<4->mlflow) (3.2.6)\nCollecting graphene<4\n  Downloading graphene-3.4.2-py2.py3-none-any.whl (114 kB)\n     ━━━━━━━━━━━━━━━━━━━━━━━━━━━━━━━━━━━━━━━ 114.7/114.7 kB 8.3 MB/s eta 0:00:00\n  Downloading graphene-3.4.1-py2.py3-none-any.whl (114 kB)\n     ━━━━━━━━━━━━━━━━━━━━━━━━━━━━━━━━━━━━━━ 114.7/114.7 kB 11.4 MB/s eta 0:00:00\n  Downloading graphene-3.4-py2.py3-none-any.whl (114 kB)\n     ━━━━━━━━━━━━━━━━━━━━━━━━━━━━━━━━━━━━━━ 114.6/114.6 kB 10.4 MB/s eta 0:00:00\n  Downloading graphene-3.3-py2.py3-none-any.whl (128 kB)\n     ━━━━━━━━━━━━━━━━━━━━━━━━━━━━━━━━━━━━━━ 128.2/128.2 kB 10.5 MB/s eta 0:00:00\nCollecting aniso8601<10,>=8\n  Downloading aniso8601-9.0.1-py2.py3-none-any.whl (52 kB)\n     ━━━━━━━━━━━━━━━━━━━━━━━━━━━━━━━━━━━━━━━━ 52.8/52.8 kB 7.4 MB/s eta 0:00:00\nRequirement already satisfied: graphql-relay<3.3,>=3.1 in /local_disk0/.ephemeral_nfs/envs/pythonEnv-8b672eb0-cd5d-4b3d-8581-b1489f66f1ec/lib/python3.10/site-packages (from graphene<4->mlflow) (3.2.0)\nRequirement already satisfied: pyparsing>=2.3.1 in /databricks/python3/lib/python3.10/site-packages (from matplotlib<4->mlflow) (3.0.9)\nRequirement already satisfied: contourpy>=1.0.1 in /databricks/python3/lib/python3.10/site-packages (from matplotlib<4->mlflow) (1.0.5)\nRequirement already satisfied: cycler>=0.10 in /databricks/python3/lib/python3.10/site-packages (from matplotlib<4->mlflow) (0.11.0)\nRequirement already satisfied: kiwisolver>=1.0.1 in /databricks/python3/lib/python3.10/site-packages (from matplotlib<4->mlflow) (1.4.4)\nRequirement already satisfied: pillow>=6.2.0 in /databricks/python3/lib/python3.10/site-packages (from matplotlib<4->mlflow) (9.4.0)\nRequirement already satisfied: fonttools>=4.22.0 in /databricks/python3/lib/python3.10/site-packages (from matplotlib<4->mlflow) (4.25.0)\nRequirement already satisfied: pytz>=2020.1 in /databricks/python3/lib/python3.10/site-packages (from pandas<3->mlflow) (2022.7)\nRequirement already satisfied: threadpoolctl>=2.0.0 in /databricks/python3/lib/python3.10/site-packages (from scikit-learn<2->mlflow) (2.2.0)\nRequirement already satisfied: joblib>=1.0.0 in /databricks/python3/lib/python3.10/site-packages (from scikit-learn<2->mlflow) (1.2.0)\nRequirement already satisfied: greenlet>=1 in /local_disk0/.ephemeral_nfs/envs/pythonEnv-8b672eb0-cd5d-4b3d-8581-b1489f66f1ec/lib/python3.10/site-packages (from sqlalchemy<3,>=1.4.0->mlflow) (3.2.3)\nCollecting sqlalchemy<3,>=1.4.0\n  Downloading sqlalchemy-2.0.41-cp310-cp310-manylinux_2_17_x86_64.manylinux2014_x86_64.whl (3.2 MB)\n     ━━━━━━━━━━━━━━━━━━━━━━━━━━━━━━━━━━━━━━━━ 3.2/3.2 MB 21.3 MB/s eta 0:00:00\n  Downloading sqlalchemy-2.0.40-cp310-cp310-manylinux_2_17_x86_64.manylinux2014_x86_64.whl (3.1 MB)\n     ━━━━━━━━━━━━━━━━━━━━━━━━━━━━━━━━━━━━━━━━ 3.1/3.1 MB 33.5 MB/s eta 0:00:00\n  Downloading sqlalchemy-2.0.39-cp310-cp310-manylinux_2_17_x86_64.manylinux2014_x86_64.whl (3.1 MB)\n     ━━━━━━━━━━━━━━━━━━━━━━━━━━━━━━━━━━━━━━━━ 3.1/3.1 MB 46.8 MB/s eta 0:00:00\n  Downloading SQLAlchemy-2.0.38-cp310-cp310-manylinux_2_17_x86_64.manylinux2014_x86_64.whl (3.1 MB)\n     ━━━━━━━━━━━━━━━━━━━━━━━━━━━━━━━━━━━━━━━━ 3.1/3.1 MB 60.2 MB/s eta 0:00:00\n  Downloading SQLAlchemy-2.0.37-cp310-cp310-manylinux_2_17_x86_64.manylinux2014_x86_64.whl (3.1 MB)\n     ━━━━━━━━━━━━━━━━━━━━━━━━━━━━━━━━━━━━━━━━ 3.1/3.1 MB 60.6 MB/s eta 0:00:00\n  Downloading SQLAlchemy-2.0.36-cp310-cp310-manylinux_2_17_x86_64.manylinux2014_x86_64.whl (3.1 MB)\n     ━━━━━━━━━━━━━━━━━━━━━━━━━━━━━━━━━━━━━━━━ 3.1/3.1 MB 69.7 MB/s eta 0:00:00\n  Downloading SQLAlchemy-2.0.35-cp310-cp310-manylinux_2_17_x86_64.manylinux2014_x86_64.whl (3.1 MB)\n     ━━━━━━━━━━━━━━━━━━━━━━━━━━━━━━━━━━━━━━━━ 3.1/3.1 MB 81.9 MB/s eta 0:00:00\n  Downloading SQLAlchemy-2.0.34-cp310-cp310-manylinux_2_17_x86_64.manylinux2014_x86_64.whl (3.1 MB)\n     ━━━━━━━━━━━━━━━━━━━━━━━━━━━━━━━━━━━━━━━━ 3.1/3.1 MB 93.0 MB/s eta 0:00:00\n  Downloading SQLAlchemy-2.0.33-cp310-cp310-manylinux_2_17_x86_64.manylinux2014_x86_64.whl (3.1 MB)\n     ━━━━━━━━━━━━━━━━━━━━━━━━━━━━━━━━━━━━━━━━ 3.1/3.1 MB 92.5 MB/s eta 0:00:00\n  Downloading SQLAlchemy-2.0.32-cp310-cp310-manylinux_2_17_x86_64.manylinux2014_x86_64.whl (3.1 MB)\n     ━━━━━━━━━━━━━━━━━━━━━━━━━━━━━━━━━━━━━━━━ 3.1/3.1 MB 69.0 MB/s eta 0:00:00\n  Downloading SQLAlchemy-2.0.31-cp310-cp310-manylinux_2_17_x86_64.manylinux2014_x86_64.whl (3.1 MB)\n     ━━━━━━━━━━━━━━━━━━━━━━━━━━━━━━━━━━━━━━━━ 3.1/3.1 MB 97.1 MB/s eta 0:00:00\n  Downloading SQLAlchemy-2.0.30-cp310-cp310-manylinux_2_17_x86_64.manylinux2014_x86_64.whl (3.1 MB)\n     ━━━━━━━━━━━━━━━━━━━━━━━━━━━━━━━━━━━━━━━━ 3.1/3.1 MB 47.0 MB/s eta 0:00:00\n  Downloading SQLAlchemy-2.0.29-cp310-cp310-manylinux_2_17_x86_64.manylinux2014_x86_64.whl (3.1 MB)\n     ━━━━━━━━━━━━━━━━━━━━━━━━━━━━━━━━━━━━━━━━ 3.1/3.1 MB 45.6 MB/s eta 0:00:00\n  Downloading SQLAlchemy-2.0.28-cp310-cp310-manylinux_2_17_x86_64.manylinux2014_x86_64.whl (3.1 MB)\n     ━━━━━━━━━━━━━━━━━━━━━━━━━━━━━━━━━━━━━━━━ 3.1/3.1 MB 83.0 MB/s eta 0:00:00\n  Downloading SQLAlchemy-2.0.27-cp310-cp310-manylinux_2_17_x86_64.manylinux2014_x86_64.whl (3.1 MB)\n     ━━━━━━━━━━━━━━━━━━━━━━━━━━━━━━━━━━━━━━━━ 3.1/3.1 MB 102.4 MB/s eta 0:00:00\n  Downloading SQLAlchemy-2.0.26-cp310-cp310-manylinux_2_17_x86_64.manylinux2014_x86_64.whl (3.1 MB)\n     ━━━━━━━━━━━━━━━━━━━━━━━━━━━━━━━━━━━━━━━━ 3.1/3.1 MB 95.4 MB/s eta 0:00:00\n  Downloading SQLAlchemy-2.0.25-cp310-cp310-manylinux_2_17_x86_64.manylinux2014_x86_64.whl (3.1 MB)\n     ━━━━━━━━━━━━━━━━━━━━━━━━━━━━━━━━━━━━━━━━ 3.1/3.1 MB 92.8 MB/s eta 0:00:00\n  Downloading SQLAlchemy-2.0.24-cp310-cp310-manylinux_2_17_x86_64.manylinux2014_x86_64.whl (3.1 MB)\n     ━━━━━━━━━━━━━━━━━━━━━━━━━━━━━━━━━━━━━━━━ 3.1/3.1 MB 104.4 MB/s eta 0:00:00\n  Downloading SQLAlchemy-2.0.23-cp310-cp310-manylinux_2_17_x86_64.manylinux2014_x86_64.whl (3.0 MB)\n     ━━━━━━━━━━━━━━━━━━━━━━━━━━━━━━━━━━━━━━━━ 3.0/3.0 MB 40.3 MB/s eta 0:00:00\n  Downloading SQLAlchemy-2.0.22-cp310-cp310-manylinux_2_17_x86_64.manylinux2014_x86_64.whl (3.0 MB)\n     ━━━━━━━━━━━━━━━━━━━━━━━━━━━━━━━━━━━━━━━━ 3.0/3.0 MB 112.7 MB/s eta 0:00:00\n  Downloading SQLAlchemy-2.0.21-cp310-cp310-manylinux_2_17_x86_64.manylinux2014_x86_64.whl (3.0 MB)\n     ━━━━━━━━━━━━━━━━━━━━━━━━━━━━━━━━━━━━━━━━ 3.0/3.0 MB 97.6 MB/s eta 0:00:00\n  Downloading SQLAlchemy-2.0.20-cp310-cp310-manylinux_2_17_x86_64.manylinux2014_x86_64.whl (3.0 MB)\n     ━━━━━━━━━━━━━━━━━━━━━━━━━━━━━━━━━━━━━━━━ 3.0/3.0 MB 54.5 MB/s eta 0:00:00\n  Downloading SQLAlchemy-2.0.19-cp310-cp310-manylinux_2_17_x86_64.manylinux2014_x86_64.whl (2.7 MB)\n     ━━━━━━━━━━━━━━━━━━━━━━━━━━━━━━━━━━━━━━━━ 2.7/2.7 MB 98.6 MB/s eta 0:00:00\n  Downloading SQLAlchemy-2.0.18-cp310-cp310-manylinux_2_17_x86_64.manylinux2014_x86_64.whl (2.7 MB)\n     ━━━━━━━━━━━━━━━━━━━━━━━━━━━━━━━━━━━━━━━━ 2.7/2.7 MB 90.5 MB/s eta 0:00:00\n  Downloading SQLAlchemy-2.0.17-cp310-cp310-manylinux_2_17_x86_64.manylinux2014_x86_64.whl (2.7 MB)\n     ━━━━━━━━━━━━━━━━━━━━━━━━━━━━━━━━━━━━━━━━ 2.7/2.7 MB 71.3 MB/s eta 0:00:00\n  Downloading SQLAlchemy-2.0.16-cp310-cp310-manylinux_2_17_x86_64.manylinux2014_x86_64.whl (2.7 MB)\n     ━━━━━━━━━━━━━━━━━━━━━━━━━━━━━━━━━━━━━━━━ 2.7/2.7 MB 84.7 MB/s eta 0:00:00\n  Downloading SQLAlchemy-2.0.15-cp310-cp310-manylinux_2_17_x86_64.manylinux2014_x86_64.whl (2.7 MB)\n     ━━━━━━━━━━━━━━━━━━━━━━━━━━━━━━━━━━━━━━━━ 2.7/2.7 MB 92.1 MB/s eta 0:00:00\n  Downloading SQLAlchemy-2.0.14-cp310-cp310-manylinux_2_17_x86_64.manylinux2014_x86_64.whl (2.7 MB)\n     ━━━━━━━━━━━━━━━━━━━━━━━━━━━━━━━━━━━━━━━━ 2.7/2.7 MB 81.2 MB/s eta 0:00:00\n  Downloading SQLAlchemy-2.0.13-cp310-cp310-manylinux_2_17_x86_64.manylinux2014_x86_64.whl (2.7 MB)\n     ━━━━━━━━━━━━━━━━━━━━━━━━━━━━━━━━━━━━━━━━ 2.7/2.7 MB 90.7 MB/s eta 0:00:00\n  Downloading SQLAlchemy-2.0.12-cp310-cp310-manylinux_2_17_x86_64.manylinux2014_x86_64.whl (2.7 MB)\n     ━━━━━━━━━━━━━━━━━━━━━━━━━━━━━━━━━━━━━━━━ 2.7/2.7 MB 68.8 MB/s eta 0:00:00\n  Downloading SQLAlchemy-2.0.11-cp310-cp310-manylinux_2_17_x86_64.manylinux2014_x86_64.whl (2.7 MB)\n     ━━━━━━━━━━━━━━━━━━━━━━━━━━━━━━━━━━━━━━━━ 2.7/2.7 MB 56.0 MB/s eta 0:00:00\n  Downloading SQLAlchemy-2.0.10-cp310-cp310-manylinux_2_17_x86_64.manylinux2014_x86_64.whl (2.8 MB)\n     ━━━━━━━━━━━━━━━━━━━━━━━━━━━━━━━━━━━━━━━━ 2.8/2.8 MB 73.9 MB/s eta 0:00:00\n  Downloading SQLAlchemy-2.0.9-cp310-cp310-manylinux_2_17_x86_64.manylinux2014_x86_64.whl (2.7 MB)\n     ━━━━━━━━━━━━━━━━━━━━━━━━━━━━━━━━━━━━━━━━ 2.7/2.7 MB 77.5 MB/s eta 0:00:00\n  Downloading SQLAlchemy-2.0.8-cp310-cp310-manylinux_2_17_x86_64.manylinux2014_x86_64.whl (2.7 MB)\n     ━━━━━━━━━━━━━━━━━━━━━━━━━━━━━━━━━━━━━━━━ 2.7/2.7 MB 62.2 MB/s eta 0:00:00\n  Downloading SQLAlchemy-2.0.7-cp310-cp310-manylinux_2_17_x86_64.manylinux2014_x86_64.whl (2.7 MB)\n     ━━━━━━━━━━━━━━━━━━━━━━━━━━━━━━━━━━━━━━━━ 2.7/2.7 MB 60.5 MB/s eta 0:00:00\n  Downloading SQLAlchemy-2.0.6-cp310-cp310-manylinux_2_17_x86_64.manylinux2014_x86_64.whl (2.7 MB)\n     ━━━━━━━━━━━━━━━━━━━━━━━━━━━━━━━━━━━━━━━━ 2.7/2.7 MB 108.5 MB/s eta 0:00:00\n  Downloading SQLAlchemy-2.0.5.post1-cp310-cp310-manylinux_2_17_x86_64.manylinux2014_x86_64.whl (2.7 MB)\n     ━━━━━━━━━━━━━━━━━━━━━━━━━━━━━━━━━━━━━━━━ 2.7/2.7 MB 100.5 MB/s eta 0:00:00\n  Downloading SQLAlchemy-2.0.4-cp310-cp310-manylinux_2_17_x86_64.manylinux2014_x86_64.whl (2.7 MB)\n     ━━━━━━━━━━━━━━━━━━━━━━━━━━━━━━━━━━━━━━━━ 2.7/2.7 MB 104.0 MB/s eta 0:00:00\n  Downloading SQLAlchemy-2.0.3-cp310-cp310-manylinux_2_17_x86_64.manylinux2014_x86_64.whl (2.7 MB)\n     ━━━━━━━━━━━━━━━━━━━━━━━━━━━━━━━━━━━━━━━━ 2.7/2.7 MB 54.6 MB/s eta 0:00:00\n  Downloading SQLAlchemy-2.0.2-cp310-cp310-manylinux_2_17_x86_64.manylinux2014_x86_64.whl (2.7 MB)\n     ━━━━━━━━━━━━━━━━━━━━━━━━━━━━━━━━━━━━━━━━ 2.7/2.7 MB 88.0 MB/s eta 0:00:00\n  Downloading SQLAlchemy-2.0.1-cp310-cp310-manylinux_2_17_x86_64.manylinux2014_x86_64.whl (2.7 MB)\n     ━━━━━━━━━━━━━━━━━━━━━━━━━━━━━━━━━━━━━━━━ 2.7/2.7 MB 106.5 MB/s eta 0:00:00\n  Downloading SQLAlchemy-2.0.0-cp310-cp310-manylinux_2_17_x86_64.manylinux2014_x86_64.whl (2.7 MB)\n     ━━━━━━━━━━━━━━━━━━━━━━━━━━━━━━━━━━━━━━━━ 2.7/2.7 MB 45.3 MB/s eta 0:00:00\n  Downloading SQLAlchemy-1.4.54-cp310-cp310-manylinux_2_5_x86_64.manylinux1_x86_64.manylinux_2_17_x86_64.manylinux2014_x86_64.whl (1.6 MB)\n     ━━━━━━━━━━━━━━━━━━━━━━━━━━━━━━━━━━━━━━━━ 1.6/1.6 MB 100.9 MB/s eta 0:00:00\nRequirement already satisfied: google-auth~=2.0 in /databricks/python3/lib/python3.10/site-packages (from databricks-sdk<1,>=0.20.0->mlflow-skinny==3.1.4->mlflow) (2.28.1)\nCollecting fastapi<1\n  Downloading fastapi-0.116.0-py3-none-any.whl (95 kB)\n     ━━━━━━━━━━━━━━━━━━━━━━━━━━━━━━━━━━━━━━━━ 95.6/95.6 kB 22.3 MB/s eta 0:00:00\n  Downloading fastapi-0.115.14-py3-none-any.whl (95 kB)\n     ━━━━━━━━━━━━━━━━━━━━━━━━━━━━━━━━━━━━━━━━ 95.5/95.5 kB 14.5 MB/s eta 0:00:00\n  Downloading fastapi-0.115.13-py3-none-any.whl (95 kB)\n     ━━━━━━━━━━━━━━━━━━━━━━━━━━━━━━━━━━━━━━━━ 95.3/95.3 kB 28.2 MB/s eta 0:00:00\n  Downloading fastapi-0.115.12-py3-none-any.whl (95 kB)\n     ━━━━━━━━━━━━━━━━━━━━━━━━━━━━━━━━━━━━━━━━ 95.2/95.2 kB 27.3 MB/s eta 0:00:00\n  Downloading fastapi-0.115.11-py3-none-any.whl (94 kB)\n     ━━━━━━━━━━━━━━━━━━━━━━━━━━━━━━━━━━━━━━━━ 94.9/94.9 kB 23.9 MB/s eta 0:00:00\n  Downloading fastapi-0.115.10-py3-none-any.whl (94 kB)\n     ━━━━━━━━━━━━━━━━━━━━━━━━━━━━━━━━━━━━━━━━ 94.9/94.9 kB 9.9 MB/s eta 0:00:00\n  Downloading fastapi-0.115.9-py3-none-any.whl (94 kB)\n     ━━━━━━━━━━━━━━━━━━━━━━━━━━━━━━━━━━━━━━━━ 94.9/94.9 kB 26.4 MB/s eta 0:00:00\n  Downloading fastapi-0.115.8-py3-none-any.whl (94 kB)\n     ━━━━━━━━━━━━━━━━━━━━━━━━━━━━━━━━━━━━━━━━ 94.8/94.8 kB 21.9 MB/s eta 0:00:00\n  Downloading fastapi-0.115.7-py3-none-any.whl (94 kB)\n     ━━━━━━━━━━━━━━━━━━━━━━━━━━━━━━━━━━━━━━━━ 94.8/94.8 kB 14.5 MB/s eta 0:00:00\n  Downloading fastapi-0.115.6-py3-none-any.whl (94 kB)\n     ━━━━━━━━━━━━━━━━━━━━━━━━━━━━━━━━━━━━━━━━ 94.8/94.8 kB 10.3 MB/s eta 0:00:00\n  Downloading fastapi-0.115.5-py3-none-any.whl (94 kB)\n     ━━━━━━━━━━━━━━━━━━━━━━━━━━━━━━━━━━━━━━━━ 94.9/94.9 kB 18.8 MB/s eta 0:00:00\n  Downloading fastapi-0.115.4-py3-none-any.whl (94 kB)\n     ━━━━━━━━━━━━━━━━━━━━━━━━━━━━━━━━━━━━━━━━ 94.7/94.7 kB 25.9 MB/s eta 0:00:00\n  Downloading fastapi-0.115.3-py3-none-any.whl (94 kB)\n     ━━━━━━━━━━━━━━━━━━━━━━━━━━━━━━━━━━━━━━━━ 94.6/94.6 kB 27.9 MB/s eta 0:00:00\n  Downloading fastapi-0.115.2-py3-none-any.whl (94 kB)\n     ━━━━━━━━━━━━━━━━━━━━━━━━━━━━━━━━━━━━━━━━ 94.7/94.7 kB 13.1 MB/s eta 0:00:00\n  Downloading fastapi-0.115.1-py3-none-any.whl (94 kB)\n     ━━━━━━━━━━━━━━━━━━━━━━━━━━━━━━━━━━━━━━━━ 94.6/94.6 kB 9.7 MB/s eta 0:00:00\n  Downloading fastapi-0.115.0-py3-none-any.whl (94 kB)\n     ━━━━━━━━━━━━━━━━━━━━━━━━━━━━━━━━━━━━━━━━ 94.6/94.6 kB 10.2 MB/s eta 0:00:00\n  Downloading fastapi-0.114.2-py3-none-any.whl (94 kB)\n     ━━━━━━━━━━━━━━━━━━━━━━━━━━━━━━━━━━━━━━━━ 94.0/94.0 kB 2.2 MB/s eta 0:00:00\n  Downloading fastapi-0.114.1-py3-none-any.whl (94 kB)\n     ━━━━━━━━━━━━━━━━━━━━━━━━━━━━━━━━━━━━━━━━ 94.0/94.0 kB 14.4 MB/s eta 0:00:00\n  Downloading fastapi-0.114.0-py3-none-any.whl (94 kB)\n     ━━━━━━━━━━━━━━━━━━━━━━━━━━━━━━━━━━━━━━━━ 94.0/94.0 kB 23.0 MB/s eta 0:00:00\n  Downloading fastapi-0.113.0-py3-none-any.whl (93 kB)\n     ━━━━━━━━━━━━━━━━━━━━━━━━━━━━━━━━━━━━━━━━ 94.0/94.0 kB 20.6 MB/s eta 0:00:00\n  Downloading fastapi-0.112.4-py3-none-any.whl (93 kB)\n     ━━━━━━━━━━━━━━━━━━━━━━━━━━━━━━━━━━━━━━━━ 93.9/93.9 kB 8.1 MB/s eta 0:00:00\n  Downloading fastapi-0.112.3-py3-none-any.whl (93 kB)\n     ━━━━━━━━━━━━━━━━━━━━━━━━━━━━━━━━━━━━━━━━ 93.4/93.4 kB 19.1 MB/s eta 0:00:00\n  Downloading fastapi-0.112.2-py3-none-any.whl (93 kB)\n     ━━━━━━━━━━━━━━━━━━━━━━━━━━━━━━━━━━━━━━━━ 93.5/93.5 kB 11.9 MB/s eta 0:00:00\n  Downloading fastapi-0.112.1-py3-none-any.whl (93 kB)\n     ━━━━━━━━━━━━━━━━━━━━━━━━━━━━━━━━━━━━━━━━ 93.2/93.2 kB 9.2 MB/s eta 0:00:00\n  Downloading fastapi-0.112.0-py3-none-any.whl (93 kB)\n     ━━━━━━━━━━━━━━━━━━━━━━━━━━━━━━━━━━━━━━━━ 93.1/93.1 kB 11.0 MB/s eta 0:00:00\n  Downloading fastapi-0.111.1-py3-none-any.whl (92 kB)\n     ━━━━━━━━━━━━━━━━━━━━━━━━━━━━━━━━━━━━━━━━ 92.2/92.2 kB 23.7 MB/s eta 0:00:00\n  Downloading fastapi-0.111.0-py3-none-any.whl (91 kB)\n     ━━━━━━━━━━━━━━━━━━━━━━━━━━━━━━━━━━━━━━━━ 92.0/92.0 kB 23.7 MB/s eta 0:00:00\n  Downloading fastapi-0.110.3-py3-none-any.whl (91 kB)\n     ━━━━━━━━━━━━━━━━━━━━━━━━━━━━━━━━━━━━━━━━ 91.8/91.8 kB 26.5 MB/s eta 0:00:00\n  Downloading fastapi-0.110.2-py3-none-any.whl (91 kB)\n     ━━━━━━━━━━━━━━━━━━━━━━━━━━━━━━━━━━━━━━━━ 91.9/91.9 kB 21.3 MB/s eta 0:00:00\n  Downloading fastapi-0.110.1-py3-none-any.whl (91 kB)\n     ━━━━━━━━━━━━━━━━━━━━━━━━━━━━━━━━━━━━━━━━ 91.9/91.9 kB 15.5 MB/s eta 0:00:00\n  Downloading fastapi-0.110.0-py3-none-any.whl (92 kB)\n     ━━━━━━━━━━━━━━━━━━━━━━━━━━━━━━━━━━━━━━━━ 92.1/92.1 kB 23.3 MB/s eta 0:00:00\n  Downloading fastapi-0.109.2-py3-none-any.whl (92 kB)\n     ━━━━━━━━━━━━━━━━━━━━━━━━━━━━━━━━━━━━━━━━ 92.1/92.1 kB 19.9 MB/s eta 0:00:00\n  Downloading fastapi-0.109.1-py3-none-any.whl (92 kB)\n     ━━━━━━━━━━━━━━━━━━━━━━━━━━━━━━━━━━━━━━━━ 92.1/92.1 kB 22.8 MB/s eta 0:00:00\n  Downloading fastapi-0.109.0-py3-none-any.whl (92 kB)\n     ━━━━━━━━━━━━━━━━━━━━━━━━━━━━━━━━━━━━━━━━ 92.0/92.0 kB 19.3 MB/s eta 0:00:00\n  Downloading fastapi-0.108.0-py3-none-any.whl (92 kB)\n     ━━━━━━━━━━━━━━━━━━━━━━━━━━━━━━━━━━━━━━━━ 92.0/92.0 kB 22.8 MB/s eta 0:00:00\n  Downloading fastapi-0.107.0-py3-none-any.whl (92 kB)\n     ━━━━━━━━━━━━━━━━━━━━━━━━━━━━━━━━━━━━━━━━ 92.1/92.1 kB 22.0 MB/s eta 0:00:00\n  Downloading fastapi-0.106.0-py3-none-any.whl (92 kB)\n     ━━━━━━━━━━━━━━━━━━━━━━━━━━━━━━━━━━━━━━━━ 92.1/92.1 kB 26.3 MB/s eta 0:00:00\n  Downloading fastapi-0.105.0-py3-none-any.whl (93 kB)\n     ━━━━━━━━━━━━━━━━━━━━━━━━━━━━━━━━━━━━━━━━ 93.1/93.1 kB 17.7 MB/s eta 0:00:00\n  Downloading fastapi-0.104.1-py3-none-any.whl (92 kB)\n     ━━━━━━━━━━━━━━━━━━━━━━━━━━━━━━━━━━━━━━━━ 92.9/92.9 kB 16.8 MB/s eta 0:00:00\n  Downloading fastapi-0.104.0-py3-none-any.whl (92 kB)\n     ━━━━━━━━━━━━━━━━━━━━━━━━━━━━━━━━━━━━━━━━ 92.9/92.9 kB 26.0 MB/s eta 0:00:00\n  Downloading fastapi-0.103.2-py3-none-any.whl (66 kB)\n     ━━━━━━━━━━━━━━━━━━━━━━━━━━━━━━━━━━━━━━━━ 66.3/66.3 kB 3.1 MB/s eta 0:00:00\nCollecting anyio<4.0.0,>=3.7.1\n  Downloading anyio-3.7.1-py3-none-any.whl (80 kB)\n     ━━━━━━━━━━━━━━━━━━━━━━━━━━━━━━━━━━━━━━━━ 80.9/80.9 kB 3.3 MB/s eta 0:00:00\nCollecting fastapi<1\n  Downloading fastapi-0.103.1-py3-none-any.whl (66 kB)\n     ━━━━━━━━━━━━━━━━━━━━━━━━━━━━━━━━━━━━━━━ 66.2/66.2 kB 509.1 kB/s eta 0:00:00\n  Downloading fastapi-0.103.0-py3-none-any.whl (66 kB)\n     ━━━━━━━━━━━━━━━━━━━━━━━━━━━━━━━━━━━━━━━━ 66.2/66.2 kB 1.2 MB/s eta 0:00:00\nCollecting starlette<0.28.0,>=0.27.0\n  Downloading starlette-0.27.0-py3-none-any.whl (66 kB)\n     ━━━━━━━━━━━━━━━━━━━━━━━━━━━━━━━━━━━━━━━━ 67.0/67.0 kB 7.2 MB/s eta 0:00:00\nCollecting fastapi<1\n  Downloading fastapi-0.102.0-py3-none-any.whl (66 kB)\n     ━━━━━━━━━━━━━━━━━━━━━━━━━━━━━━━━━━━━━━━━ 66.0/66.0 kB 7.2 MB/s eta 0:00:00\n  Downloading fastapi-0.101.1-py3-none-any.whl (65 kB)\n     ━━━━━━━━━━━━━━━━━━━━━━━━━━━━━━━━━━━━━━━━ 65.8/65.8 kB 16.4 MB/s eta 0:00:00\n  Downloading fastapi-0.101.0-py3-none-any.whl (65 kB)\n     ━━━━━━━━━━━━━━━━━━━━━━━━━━━━━━━━━━━━━━━━ 65.7/65.7 kB 18.6 MB/s eta 0:00:00\n  Downloading fastapi-0.100.1-py3-none-any.whl (65 kB)\n     ━━━━━━━━━━━━━━━━━━━━━━━━━━━━━━━━━━━━━━━━ 65.8/65.8 kB 17.0 MB/s eta 0:00:00\n  Downloading fastapi-0.100.0-py3-none-any.whl (65 kB)\n     ━━━━━━━━━━━━━━━━━━━━━━━━━━━━━━━━━━━━━━━━ 65.7/65.7 kB 18.5 MB/s eta 0:00:00\n  Downloading fastapi-0.99.1-py3-no\n\n*** WARNING: max output size exceeded, skipping output. ***\n\nu might need to provide the dependency resolver with stricter constraints to reduce runtime. See https://pip.pypa.io/warnings/backtracking for guidance. If you want to abort this run, press Ctrl + C.\nINFO: pip is looking at multiple versions of numpy to determine which version is compatible with other requirements. This could take a while.\nCollecting numpy<3\n  Downloading numpy-2.2.6-cp310-cp310-manylinux_2_17_x86_64.manylinux2014_x86_64.whl (16.8 MB)\n     ━━━━━━━━━━━━━━━━━━━━━━━━━━━━━━━━━━━━━━━━ 16.8/16.8 MB 81.3 MB/s eta 0:00:00\n  Downloading numpy-1.26.4-cp310-cp310-manylinux_2_17_x86_64.manylinux2014_x86_64.whl (18.2 MB)\n     ━━━━━━━━━━━━━━━━━━━━━━━━━━━━━━━━━━━━━━━━ 18.2/18.2 MB 76.8 MB/s eta 0:00:00\n  Downloading numpy-1.26.3-cp310-cp310-manylinux_2_17_x86_64.manylinux2014_x86_64.whl (18.2 MB)\n     ━━━━━━━━━━━━━━━━━━━━━━━━━━━━━━━━━━━━━━━━ 18.2/18.2 MB 81.4 MB/s eta 0:00:00\nINFO: pip is looking at multiple versions of scikit-learn to determine which version is compatible with other requirements. This could take a while.\n  Downloading numpy-2.2.5-cp310-cp310-manylinux_2_17_x86_64.manylinux2014_x86_64.whl (16.4 MB)\n     ━━━━━━━━━━━━━━━━━━━━━━━━━━━━━━━━━━━━━━━━ 16.4/16.4 MB 77.4 MB/s eta 0:00:00\nINFO: This is taking longer than usual. You might need to provide the dependency resolver with stricter constraints to reduce runtime. See https://pip.pypa.io/warnings/backtracking for guidance. If you want to abort this run, press Ctrl + C.\nINFO: pip is looking at multiple versions of matplotlib to determine which version is compatible with other requirements. This could take a while.\nCollecting matplotlib<4\n  Downloading matplotlib-3.10.3-cp310-cp310-manylinux_2_17_x86_64.manylinux2014_x86_64.whl (8.6 MB)\n     ━━━━━━━━━━━━━━━━━━━━━━━━━━━━━━━━━━━━━━━━ 8.6/8.6 MB 102.1 MB/s eta 0:00:00\nINFO: pip is looking at multiple versions of pyarrow to determine which version is compatible with other requirements. This could take a while.\n  Downloading matplotlib-3.10.1-cp310-cp310-manylinux_2_17_x86_64.manylinux2014_x86_64.whl (8.6 MB)\n     ━━━━━━━━━━━━━━━━━━━━━━━━━━━━━━━━━━━━━━━━ 8.6/8.6 MB 113.5 MB/s eta 0:00:00\nINFO: This is taking longer than usual. You might need to provide the dependency resolver with stricter constraints to reduce runtime. See https://pip.pypa.io/warnings/backtracking for guidance. If you want to abort this run, press Ctrl + C.\nINFO: pip is looking at multiple versions of gunicorn to determine which version is compatible with other requirements. This could take a while.\nCollecting gunicorn<24\n  Downloading gunicorn-23.0.0-py3-none-any.whl (85 kB)\n     ━━━━━━━━━━━━━━━━━━━━━━━━━━━━━━━━━━━━━━━━ 85.0/85.0 kB 15.0 MB/s eta 0:00:00\nINFO: pip is looking at multiple versions of pandas to determine which version is compatible with other requirements. This could take a while.\nINFO: pip is looking at multiple versions of numpy to determine which version is compatible with other requirements. This could take a while.\n  Downloading gunicorn-22.0.0-py3-none-any.whl (84 kB)\n     ━━━━━━━━━━━━━━━━━━━━━━━━━━━━━━━━━━━━━━━━ 84.4/84.4 kB 18.9 MB/s eta 0:00:00\nINFO: This is taking longer than usual. You might need to provide the dependency resolver with stricter constraints to reduce runtime. See https://pip.pypa.io/warnings/backtracking for guidance. If you want to abort this run, press Ctrl + C.\nINFO: pip is looking at multiple versions of graphene to determine which version is compatible with other requirements. This could take a while.\nCollecting graphene<4\n  Downloading graphene-3.2.2-py2.py3-none-any.whl (125 kB)\n     ━━━━━━━━━━━━━━━━━━━━━━━━━━━━━━━━━━━━━━ 125.6/125.6 kB 28.4 MB/s eta 0:00:00\nINFO: This is taking longer than usual. You might need to provide the dependency resolver with stricter constraints to reduce runtime. See https://pip.pypa.io/warnings/backtracking for guidance. If you want to abort this run, press Ctrl + C.\nINFO: pip is looking at multiple versions of flask to determine which version is compatible with other requirements. This could take a while.\nCollecting Flask<4\n  Downloading flask-3.1.1-py3-none-any.whl (103 kB)\n     ━━━━━━━━━━━━━━━━━━━━━━━━━━━━━━━━━━━━━━ 103.3/103.3 kB 16.5 MB/s eta 0:00:00\nINFO: pip is looking at multiple versions of matplotlib to determine which version is compatible with other requirements. This could take a while.\n  Downloading flask-3.1.0-py3-none-any.whl (102 kB)\n     ━━━━━━━━━━━━━━━━━━━━━━━━━━━━━━━━━━━━━━ 103.0/103.0 kB 15.3 MB/s eta 0:00:00\nINFO: This is taking longer than usual. You might need to provide the dependency resolver with stricter constraints to reduce runtime. See https://pip.pypa.io/warnings/backtracking for guidance. If you want to abort this run, press Ctrl + C.\nINFO: This is taking longer than usual. You might need to provide the dependency resolver with stricter constraints to reduce runtime. See https://pip.pypa.io/warnings/backtracking for guidance. If you want to abort this run, press Ctrl + C.\nINFO: pip is looking at multiple versions of docker to determine which version is compatible with other requirements. This could take a while.\nCollecting docker<8,>=4.0.0\n  Downloading docker-7.1.0-py3-none-any.whl (147 kB)\n     ━━━━━━━━━━━━━━━━━━━━━━━━━━━━━━━━━━━━━━ 147.8/147.8 kB 21.1 MB/s eta 0:00:00\nINFO: pip is looking at multiple versions of gunicorn to determine which version is compatible with other requirements. This could take a while.\n  Downloading docker-7.0.0-py3-none-any.whl (147 kB)\n     ━━━━━━━━━━━━━━━━━━━━━━━━━━━━━━━━━━━━━━ 147.6/147.6 kB 23.6 MB/s eta 0:00:00\nINFO: pip is looking at multiple versions of alembic to determine which version is compatible with other requirements. This could take a while.\nCollecting alembic!=1.10.0,<2\n  Downloading alembic-1.14.0-py3-none-any.whl (233 kB)\n     ━━━━━━━━━━━━━━━━━━━━━━━━━━━━━━━━━━━━━━ 233.5/233.5 kB 28.9 MB/s eta 0:00:00\nINFO: pip is looking at multiple versions of graphene to determine which version is compatible with other requirements. This could take a while.\nINFO: This is taking longer than usual. You might need to provide the dependency resolver with stricter constraints to reduce runtime. See https://pip.pypa.io/warnings/backtracking for guidance. If you want to abort this run, press Ctrl + C.\n  Downloading alembic-1.13.3-py3-none-any.whl (233 kB)\n     ━━━━━━━━━━━━━━━━━━━━━━━━━━━━━━━━━━━━━━ 233.2/233.2 kB 18.4 MB/s eta 0:00:00\nINFO: pip is looking at multiple versions of flask to determine which version is compatible with other requirements. This could take a while.\nINFO: This is taking longer than usual. You might need to provide the dependency resolver with stricter constraints to reduce runtime. See https://pip.pypa.io/warnings/backtracking for guidance. If you want to abort this run, press Ctrl + C.\n  Downloading alembic-1.13.2-py3-none-any.whl (232 kB)\n     ━━━━━━━━━━━━━━━━━━━━━━━━━━━━━━━━━━━━━━ 233.0/233.0 kB 21.1 MB/s eta 0:00:00\nINFO: pip is looking at multiple versions of docker to determine which version is compatible with other requirements. This could take a while.\nINFO: This is taking longer than usual. You might need to provide the dependency resolver with stricter constraints to reduce runtime. See https://pip.pypa.io/warnings/backtracking for guidance. If you want to abort this run, press Ctrl + C.\n  Downloading alembic-1.13.1-py3-none-any.whl (233 kB)\n     ━━━━━━━━━━━━━━━━━━━━━━━━━━━━━━━━━━━━━━ 233.4/233.4 kB 29.6 MB/s eta 0:00:00\nINFO: This is taking longer than usual. You might need to provide the dependency resolver with stricter constraints to reduce runtime. See https://pip.pypa.io/warnings/backtracking for guidance. If you want to abort this run, press Ctrl + C.\n  Downloading alembic-1.13.0-py3-none-any.whl (230 kB)\n     ━━━━━━━━━━━━━━━━━━━━━━━━━━━━━━━━━━━━━━ 230.6/230.6 kB 29.2 MB/s eta 0:00:00\nINFO: This is taking longer than usual. You might need to provide the dependency resolver with stricter constraints to reduce runtime. See https://pip.pypa.io/warnings/backtracking for guidance. If you want to abort this run, press Ctrl + C.\n  Downloading alembic-1.12.1-py3-none-any.whl (226 kB)\n     ━━━━━━━━━━━━━━━━━━━━━━━━━━━━━━━━━━━━━━ 226.8/226.8 kB 30.9 MB/s eta 0:00:00\n  Downloading alembic-1.12.0-py3-none-any.whl (226 kB)\n     ━━━━━━━━━━━━━━━━━━━━━━━━━━━━━━━━━━━━━━ 226.0/226.0 kB 28.0 MB/s eta 0:00:00\nINFO: pip is looking at multiple versions of alembic to determine which version is compatible with other requirements. This could take a while.\n  Downloading alembic-1.11.3-py3-none-any.whl (225 kB)\n     ━━━━━━━━━━━━━━━━━━━━━━━━━━━━━━━━━━━━━━ 225.4/225.4 kB 31.0 MB/s eta 0:00:00\n  Downloading alembic-1.11.2-py3-none-any.whl (225 kB)\n     ━━━━━━━━━━━━━━━━━━━━━━━━━━━━━━━━━━━━━━ 225.3/225.3 kB 29.7 MB/s eta 0:00:00\n  Downloading alembic-1.11.1-py3-none-any.whl (224 kB)\n     ━━━━━━━━━━━━━━━━━━━━━━━━━━━━━━━━━━━━━━ 224.5/224.5 kB 27.6 MB/s eta 0:00:00\n  Downloading alembic-1.11.0-py3-none-any.whl (224 kB)\n     ━━━━━━━━━━━━━━━━━━━━━━━━━━━━━━━━━━━━━━ 224.3/224.3 kB 24.7 MB/s eta 0:00:00\n  Downloading alembic-1.10.4-py3-none-any.whl (212 kB)\n     ━━━━━━━━━━━━━━━━━━━━━━━━━━━━━━━━━━━━━━ 212.9/212.9 kB 23.5 MB/s eta 0:00:00\nINFO: This is taking longer than usual. You might need to provide the dependency resolver with stricter constraints to reduce runtime. See https://pip.pypa.io/warnings/backtracking for guidance. If you want to abort this run, press Ctrl + C.\n  Downloading alembic-1.10.3-py3-none-any.whl (212 kB)\n     ━━━━━━━━━━━━━━━━━━━━━━━━━━━━━━━━━━━━━━ 212.3/212.3 kB 21.0 MB/s eta 0:00:00\n  Downloading alembic-1.10.2-py3-none-any.whl (212 kB)\n     ━━━━━━━━━━━━━━━━━━━━━━━━━━━━━━━━━━━━━━ 212.2/212.2 kB 22.5 MB/s eta 0:00:00\n  Downloading alembic-1.10.1-py3-none-any.whl (212 kB)\n     ━━━━━━━━━━━━━━━━━━━━━━━━━━━━━━━━━━━━━━ 212.2/212.2 kB 21.0 MB/s eta 0:00:00\n  Downloading alembic-1.9.4-py3-none-any.whl (210 kB)\n     ━━━━━━━━━━━━━━━━━━━━━━━━━━━━━━━━━━━━━━ 210.5/210.5 kB 22.7 MB/s eta 0:00:00\n  Downloading alembic-1.9.3-py3-none-any.whl (210 kB)\n     ━━━━━━━━━━━━━━━━━━━━━━━━━━━━━━━━━━━━━━ 210.6/210.6 kB 21.3 MB/s eta 0:00:00\nINFO: pip is looking at multiple versions of mlflow-skinny to determine which version is compatible with other requirements. This could take a while.\nWARNING: Retrying (Retry(total=4, connect=None, read=None, redirect=None, status=None)) after connection broken by 'ProtocolError('Connection aborted.', RemoteDisconnected('Remote end closed connection without response'))': /simple/mlflow-skinny/\nCollecting mlflow-skinny==3.1.4\n  Downloading mlflow_skinny-3.1.4-py3-none-any.whl (1.9 MB)\n     ━━━━━━━━━━━━━━━━━━━━━━━━━━━━━━━━━━━━━━━━ 1.9/1.9 MB 105.6 MB/s eta 0:00:00\nINFO: pip is looking at multiple versions of mlflow to determine which version is compatible with other requirements. This could take a while.\nCollecting mlflow\n  Downloading mlflow-3.1.4-py3-none-any.whl (24.7 MB)\n     ━━━━━━━━━━━━━━━━━━━━━━━━━━━━━━━━━━━━━━━━ 24.7/24.7 MB 55.2 MB/s eta 0:00:00\n  Downloading mlflow-3.1.3-py3-none-any.whl (24.7 MB)\n     ━━━━━━━━━━━━━━━━━━━━━━━━━━━━━━━━━━━━━━━━ 24.7/24.7 MB 61.2 MB/s eta 0:00:00\nCollecting mlflow-skinny==3.1.3\n  Downloading mlflow_skinny-3.1.3-py3-none-any.whl (1.9 MB)\n     ━━━━━━━━━━━━━━━━━━━━━━━━━━━━━━━━━━━━━━━━ 1.9/1.9 MB 52.2 MB/s eta 0:00:00\nCollecting mlflow\n  Downloading mlflow-3.1.1-py3-none-any.whl (24.7 MB)\n     ━━━━━━━━━━━━━━━━━━━━━━━━━━━━━━━━━━━━━━━━ 24.7/24.7 MB 60.1 MB/s eta 0:00:00\nCollecting mlflow-skinny==3.1.1\n  Downloading mlflow_skinny-3.1.1-py3-none-any.whl (1.9 MB)\n     ━━━━━━━━━━━━━━━━━━━━━━━━━━━━━━━━━━━━━━━━ 1.9/1.9 MB 96.6 MB/s eta 0:00:00\nCollecting mlflow\n  Downloading mlflow-3.1.0-py3-none-any.whl (24.7 MB)\n     ━━━━━━━━━━━━━━━━━━━━━━━━━━━━━━━━━━━━━━━━ 24.7/24.7 MB 62.9 MB/s eta 0:00:00\nCollecting mlflow-skinny==3.1.0\n  Downloading mlflow_skinny-3.1.0-py3-none-any.whl (1.9 MB)\n     ━━━━━━━━━━━━━━━━━━━━━━━━━━━━━━━━━━━━━━━━ 1.9/1.9 MB 89.2 MB/s eta 0:00:00\nCollecting mlflow\n  Downloading mlflow-3.0.1-py3-none-any.whl (24.6 MB)\n     ━━━━━━━━━━━━━━━━━━━━━━━━━━━━━━━━━━━━━━━━ 24.6/24.6 MB 66.1 MB/s eta 0:00:00\nCollecting mlflow-skinny==3.0.1\n  Downloading mlflow_skinny-3.0.1-py3-none-any.whl (1.8 MB)\n     ━━━━━━━━━━━━━━━━━━━━━━━━━━━━━━━━━━━━━━━━ 1.8/1.8 MB 49.8 MB/s eta 0:00:00\nCollecting cachetools<6,>=5.0.0\n  Downloading cachetools-5.5.2-py3-none-any.whl (10 kB)\nINFO: pip is looking at multiple versions of mlflow-skinny to determine which version is compatible with other requirements. This could take a while.\nCollecting mlflow\n  Downloading mlflow-3.0.0-py3-none-any.whl (24.6 MB)\n     ━━━━━━━━━━━━━━━━━━━━━━━━━━━━━━━━━━━━━━━━ 24.6/24.6 MB 61.2 MB/s eta 0:00:00\nCollecting mlflow-skinny==3.0.0\n  Downloading mlflow_skinny-3.0.0-py3-none-any.whl (1.8 MB)\n     ━━━━━━━━━━━━━━━━━━━━━━━━━━━━━━━━━━━━━━━━ 1.8/1.8 MB 83.1 MB/s eta 0:00:00\nCollecting mlflow\n  Downloading mlflow-2.22.1-py3-none-any.whl (29.0 MB)\n     ━━━━━━━━━━━━━━━━━━━━━━━━━━━━━━━━━━━━━━━━ 29.0/29.0 MB 47.9 MB/s eta 0:00:00\nCollecting markdown<4,>=3.3\n  Downloading markdown-3.8.2-py3-none-any.whl (106 kB)\n     ━━━━━━━━━━━━━━━━━━━━━━━━━━━━━━━━━━━━━━ 106.8/106.8 kB 23.7 MB/s eta 0:00:00\nCollecting mlflow-skinny==2.22.1\n  Downloading mlflow_skinny-2.22.1-py3-none-any.whl (6.3 MB)\n     ━━━━━━━━━━━━━━━━━━━━━━━━━━━━━━━━━━━━━━━━ 6.3/6.3 MB 114.7 MB/s eta 0:00:00\nCollecting packaging<25\n  Downloading packaging-24.2-py3-none-any.whl (65 kB)\n     ━━━━━━━━━━━━━━━━━━━━━━━━━━━━━━━━━━━━━━━━ 65.5/65.5 kB 15.5 MB/s eta 0:00:00\nINFO: pip is looking at multiple versions of markdown to determine which version is compatible with other requirements. This could take a while.\nCollecting markdown<4,>=3.3\n  Downloading markdown-3.8.1-py3-none-any.whl (106 kB)\n     ━━━━━━━━━━━━━━━━━━━━━━━━━━━━━━━━━━━━━━ 106.6/106.6 kB 26.4 MB/s eta 0:00:00\nINFO: pip is looking at multiple versions of mlflow to determine which version is compatible with other requirements. This could take a while.\nCollecting mlflow\n  Downloading mlflow-2.22.0-py3-none-any.whl (29.0 MB)\n     ━━━━━━━━━━━━━━━━━━━━━━━━━━━━━━━━━━━━━━━━ 29.0/29.0 MB 60.2 MB/s eta 0:00:00\nCollecting mlflow-skinny==2.22.0\n  Downloading mlflow_skinny-2.22.0-py3-none-any.whl (6.3 MB)\n     ━━━━━━━━━━━━━━━━━━━━━━━━━━━━━━━━━━━━━━━━ 6.3/6.3 MB 99.3 MB/s eta 0:00:00\nCollecting mlflow\n  Downloading mlflow-2.21.3-py3-none-any.whl (28.2 MB)\n     ━━━━━━━━━━━━━━━━━━━━━━━━━━━━━━━━━━━━━━━━ 28.2/28.2 MB 68.0 MB/s eta 0:00:00\nCollecting mlflow-skinny==2.21.3\n  Downloading mlflow_skinny-2.21.3-py3-none-any.whl (6.1 MB)\n     ━━━━━━━━━━━━━━━━━━━━━━━━━━━━━━━━━━━━━━━━ 6.1/6.1 MB 133.7 MB/s eta 0:00:00\nCollecting protobuf<6,>=3.12.0\n  Downloading protobuf-5.29.5-cp38-abi3-manylinux2014_x86_64.whl (319 kB)\n     ━━━━━━━━━━━━━━━━━━━━━━━━━━━━━━━━━━━━━━ 319.9/319.9 kB 60.0 MB/s eta 0:00:00\nCollecting mlflow\n  Downloading mlflow-2.21.2-py3-none-any.whl (28.2 MB)\n     ━━━━━━━━━━━━━━━━━━━━━━━━━━━━━━━━━━━━━━━━ 28.2/28.2 MB 53.0 MB/s eta 0:00:00\nCollecting mlflow-skinny==2.21.2\n  Downloading mlflow_skinny-2.21.2-py3-none-any.whl (6.1 MB)\n     ━━━━━━━━━━━━━━━━━━━━━━━━━━━━━━━━━━━━━━━━ 6.1/6.1 MB 61.7 MB/s eta 0:00:00\nINFO: pip is looking at multiple versions of markdown to determine which version is compatible with other requirements. This could take a while.\nINFO: This is taking longer than usual. You might need to provide the dependency resolver with stricter constraints to reduce runtime. See https://pip.pypa.io/warnings/backtracking for guidance. If you want to abort this run, press Ctrl + C.\nCollecting mlflow\n  Downloading mlflow-2.21.1-py3-none-any.whl (28.2 MB)\n     ━━━━━━━━━━━━━━━━━━━━━━━━━━━━━━━━━━━━━━━━ 28.2/28.2 MB 54.9 MB/s eta 0:00:00\nCollecting mlflow-skinny==2.21.1\n  Downloading mlflow_skinny-2.21.1-py3-none-any.whl (6.1 MB)\n     ━━━━━━━━━━━━━━━━━━━━━━━━━━━━━━━━━━━━━━━━ 6.1/6.1 MB 98.2 MB/s eta 0:00:00\nCollecting mlflow\n  Downloading mlflow-2.21.0-py3-none-any.whl (28.2 MB)\n     ━━━━━━━━━━━━━━━━━━━━━━━━━━━━━━━━━━━━━━━━ 28.2/28.2 MB 61.7 MB/s eta 0:00:00\nCollecting mlflow-skinny==2.21.0\n  Downloading mlflow_skinny-2.21.0-py3-none-any.whl (6.1 MB)\n     ━━━━━━━━━━━━━━━━━━━━━━━━━━━━━━━━━━━━━━━━ 6.1/6.1 MB 103.0 MB/s eta 0:00:00\nINFO: This is taking longer than usual. You might need to provide the dependency resolver with stricter constraints to reduce runtime. See https://pip.pypa.io/warnings/backtracking for guidance. If you want to abort this run, press Ctrl + C.\nCollecting mlflow\n  Downloading mlflow-2.20.4-py3-none-any.whl (28.4 MB)\n     ━━━━━━━━━━━━━━━━━━━━━━━━━━━━━━━━━━━━━━━━ 28.4/28.4 MB 56.5 MB/s eta 0:00:00\nCollecting mlflow-skinny==2.20.4\n  Downloading mlflow_skinny-2.20.4-py3-none-any.whl (6.0 MB)\n     ━━━━━━━━━━━━━━━━━━━━━━━━━━━━━━━━━━━━━━━━ 6.0/6.0 MB 85.9 MB/s eta 0:00:00\nINFO: This is taking longer than usual. You might need to provide the dependency resolver with stricter constraints to reduce runtime. See https://pip.pypa.io/warnings/backtracking for guidance. If you want to abort this run, press Ctrl + C.\nCollecting mlflow\n  Downloading mlflow-2.20.3-py3-none-any.whl (28.4 MB)\n     ━━━━━━━━━━━━━━━━━━━━━━━━━━━━━━━━━━━━━━━━ 28.4/28.4 MB 78.2 MB/s eta 0:00:00\nCollecting mlflow-skinny==2.20.3\n  Downloading mlflow_skinny-2.20.3-py3-none-any.whl (6.0 MB)\n     ━━━━━━━━━━━━━━━━━━━━━━━━━━━━━━━━━━━━━━━━ 6.0/6.0 MB 140.3 MB/s eta 0:00:00\nCollecting mlflow\n  Downloading mlflow-2.20.2-py3-none-any.whl (28.4 MB)\n     ━━━━━━━━━━━━━━━━━━━━━━━━━━━━━━━━━━━━━━━━ 28.4/28.4 MB 54.7 MB/s eta 0:00:00\nCollecting mlflow-skinny==2.20.2\n  Downloading mlflow_skinny-2.20.2-py3-none-any.whl (6.0 MB)\n     ━━━━━━━━━━━━━━━━━━━━━━━━━━━━━━━━━━━━━━━━ 6.0/6.0 MB 52.6 MB/s eta 0:00:00\nCollecting pyarrow<19,>=4.0.0\n  Downloading pyarrow-18.1.0-cp310-cp310-manylinux_2_28_x86_64.whl (40.1 MB)\n     ━━━━━━━━━━━━━━━━━━━━━━━━━━━━━━━━━━━━━━━━ 40.1/40.1 MB 42.5 MB/s eta 0:00:00\nCollecting mlflow\n  Downloading mlflow-2.20.1-py3-none-any.whl (28.3 MB)\n     ━━━━━━━━━━━━━━━━━━━━━━━━━━━━━━━━━━━━━━━━ 28.3/28.3 MB 69.2 MB/s eta 0:00:00\nCollecting mlflow-skinny==2.20.1\n  Downloading mlflow_skinny-2.20.1-py3-none-any.whl (6.0 MB)\n     ━━━━━━━━━━━━━━━━━━━━━━━━━━━━━━━━━━━━━━━━ 6.0/6.0 MB 99.2 MB/s eta 0:00:00\nCollecting pydantic<3,>=1.0\n  Downloading pydantic-1.10.7-cp310-cp310-manylinux_2_17_x86_64.manylinux2014_x86_64.whl (3.1 MB)\n     ━━━━━━━━━━━━━━━━━━━━━━━━━━━━━━━━━━━━━━━━ 3.1/3.1 MB 124.1 MB/s eta 0:00:00\n  Downloading pydantic-1.10.6-cp310-cp310-manylinux_2_17_x86_64.manylinux2014_x86_64.whl (3.1 MB)\n     ━━━━━━━━━━━━━━━━━━━━━━━━━━━━━━━━━━━━━━━━ 3.1/3.1 MB 135.4 MB/s eta 0:00:00\n  Downloading pydantic-1.10.5-cp310-cp310-manylinux_2_17_x86_64.manylinux2014_x86_64.whl (3.1 MB)\n     ━━━━━━━━━━━━━━━━━━━━━━━━━━━━━━━━━━━━━━━━ 3.1/3.1 MB 139.7 MB/s eta 0:00:00\n  Downloading pydantic-1.10.4-cp310-cp310-manylinux_2_17_x86_64.manylinux2014_x86_64.whl (3.1 MB)\n     ━━━━━━━━━━━━━━━━━━━━━━━━━━━━━━━━━━━━━━━━ 3.1/3.1 MB 123.8 MB/s eta 0:00:00\n  Downloading pydantic-1.10.2-cp310-cp310-manylinux_2_17_x86_64.manylinux2014_x86_64.whl (12.8 MB)\n     ━━━━━━━━━━━━━━━━━━━━━━━━━━━━━━━━━━━━━━━ 12.8/12.8 MB 115.4 MB/s eta 0:00:00\n  Downloading pydantic-1.10.1-cp310-cp310-manylinux_2_17_x86_64.manylinux2014_x86_64.whl (12.8 MB)\n     ━━━━━━━━━━━━━━━━━━━━━━━━━━━━━━━━━━━━━━━ 12.8/12.8 MB 103.2 MB/s eta 0:00:00\n  Downloading pydantic-1.10.0-cp310-cp310-manylinux_2_17_x86_64.manylinux2014_x86_64.whl (12.7 MB)\n     ━━━━━━━━━━━━━━━━━━━━━━━━━━━━━━━━━━━━━━━━ 12.7/12.7 MB 90.8 MB/s eta 0:00:00\n  Downloading pydantic-1.9.2-cp310-cp310-manylinux_2_17_x86_64.manylinux2014_x86_64.whl (12.0 MB)\n     ━━━━━━━━━━━━━━━━━━━━━━━━━━━━━━━━━━━━━━━━ 12.0/12.0 MB 58.0 MB/s eta 0:00:00\nRequirement already satisfied: six>=1.5 in /usr/lib/python3/dist-packages (from python-dateutil<3,>=2.7.0->graphene<4->mlflow) (1.16.0)\nRequirement already satisfied: idna<4,>=2.5 in /databricks/python3/lib/python3.10/site-packages (from requests<3,>=2.17.3->mlflow-skinny==3.1.4->mlflow) (3.4)\nRequirement already satisfied: charset-normalizer<3,>=2 in /databricks/python3/lib/python3.10/site-packages (from requests<3,>=2.17.3->mlflow-skinny==3.1.4->mlflow) (2.0.4)\nRequirement already satisfied: certifi>=2017.4.17 in /databricks/python3/lib/python3.10/site-packages (from requests<3,>=2.17.3->mlflow-skinny==3.1.4->mlflow) (2022.12.7)\nCollecting wrapt<2,>=1.10\n  Downloading wrapt-1.17.2-cp310-cp310-manylinux_2_5_x86_64.manylinux1_x86_64.manylinux_2_17_x86_64.manylinux2014_x86_64.whl (82 kB)\n     ━━━━━━━━━━━━━━━━━━━━━━━━━━━━━━━━━━━━━━━━ 82.8/82.8 kB 20.8 MB/s eta 0:00:00\nRequirement already satisfied: smmap<6,>=3.0.1 in /local_disk0/.ephemeral_nfs/envs/pythonEnv-8b672eb0-cd5d-4b3d-8581-b1489f66f1ec/lib/python3.10/site-packages (from gitdb<5,>=4.0.1->gitpython<4,>=3.1.9->mlflow-skinny==3.1.4->mlflow) (5.0.2)\nRequirement already satisfied: rsa<5,>=3.1.4 in /databricks/python3/lib/python3.10/site-packages (from google-auth~=2.0->databricks-sdk<1,>=0.20.0->mlflow-skinny==3.1.4->mlflow) (4.9)\nRequirement already satisfied: pyasn1-modules>=0.2.1 in /databricks/python3/lib/python3.10/site-packages (from google-auth~=2.0->databricks-sdk<1,>=0.20.0->mlflow-skinny==3.1.4->mlflow) (0.3.0)\nRequirement already satisfied: pyasn1<0.6.0,>=0.4.6 in /databricks/python3/lib/python3.10/site-packages (from pyasn1-modules>=0.2.1->google-auth~=2.0->databricks-sdk<1,>=0.20.0->mlflow-skinny==3.1.4->mlflow) (0.5.1)\nInstalling collected packages: aniso8601, wrapt, typing_extensions, sqlalchemy, markdown, importlib_metadata, pydantic, graphene, deprecated, alembic, opentelemetry-api, opentelemetry-semantic-conventions, opentelemetry-sdk, mlflow-skinny, mlflow\n  Attempting uninstall: typing_extensions\n    Found existing installation: typing_extensions 4.14.1\n    Uninstalling typing_extensions-4.14.1:\n      Successfully uninstalled typing_extensions-4.14.1\n  Attempting uninstall: sqlalchemy\n    Found existing installation: SQLAlchemy 2.0.42\n    Uninstalling SQLAlchemy-2.0.42:\n      Successfully uninstalled SQLAlchemy-2.0.42\n  Attempting uninstall: importlib_metadata\n    Found existing installation: importlib_metadata 8.7.0\n    Uninstalling importlib_metadata-8.7.0:\n      Successfully uninstalled importlib_metadata-8.7.0\n  Attempting uninstall: pydantic\n    Found existing installation: pydantic 2.11.7\n    Uninstalling pydantic-2.11.7:\n      Successfully uninstalled pydantic-2.11.7\n  Attempting uninstall: graphene\n    Found existing installation: graphene 3.4.3\n    Uninstalling graphene-3.4.3:\n      Successfully uninstalled graphene-3.4.3\n  Attempting uninstall: alembic\n    Found existing installation: alembic 1.16.4\n    Uninstalling alembic-1.16.4:\n      Successfully uninstalled alembic-1.16.4\n  Attempting uninstall: opentelemetry-api\n    Found existing installation: opentelemetry-api 1.36.0\n    Uninstalling opentelemetry-api-1.36.0:\n      Successfully uninstalled opentelemetry-api-1.36.0\n  Attempting uninstall: opentelemetry-semantic-conventions\n    Found existing installation: opentelemetry-semantic-conventions 0.57b0\n    Uninstalling opentelemetry-semantic-conventions-0.57b0:\n      Successfully uninstalled opentelemetry-semantic-conventions-0.57b0\n  Attempting uninstall: opentelemetry-sdk\n    Found existing installation: opentelemetry-sdk 1.36.0\n    Uninstalling opentelemetry-sdk-1.36.0:\n      Successfully uninstalled opentelemetry-sdk-1.36.0\n  Attempting uninstall: mlflow-skinny\n    Found existing installation: mlflow-skinny 3.1.4\n    Uninstalling mlflow-skinny-3.1.4:\n      Successfully uninstalled mlflow-skinny-3.1.4\n  Attempting uninstall: mlflow\n    Found existing installation: mlflow 3.1.4\n    Uninstalling mlflow-3.1.4:\n      Successfully uninstalled mlflow-3.1.4\nERROR: pip's dependency resolver does not currently take into account all the packages that are installed. This behaviour is the source of the following dependency conflicts.\ntyping-inspection 0.4.1 requires typing-extensions>=4.12.0, but you have typing-extensions 4.0.1 which is incompatible.\nstarlette 0.47.2 requires typing-extensions>=4.10.0; python_version < \"3.13\", but you have typing-extensions 4.0.1 which is incompatible.\npydantic-core 2.33.2 requires typing-extensions!=4.7.0,>=4.6.0, but you have typing-extensions 4.0.1 which is incompatible.\nfastapi 0.116.1 requires typing-extensions>=4.8.0, but you have typing-extensions 4.0.1 which is incompatible.\nexceptiongroup 1.3.0 requires typing-extensions>=4.6.0; python_version < \"3.13\", but you have typing-extensions 4.0.1 which is incompatible.\nanyio 4.9.0 requires typing_extensions>=4.5; python_version < \"3.13\", but you have typing-extensions 4.0.1 which is incompatible.\njupyter-server 1.23.4 requires anyio<4,>=3.1.0, but you have anyio 4.9.0 which is incompatible.\nSuccessfully installed alembic-1.14.1 aniso8601-9.0.1 deprecated-1.2.18 graphene-3.3 importlib_metadata-8.6.1 markdown-3.8.2 mlflow-2.20.1 mlflow-skinny-2.20.1 opentelemetry-api-1.33.1 opentelemetry-sdk-1.33.1 opentelemetry-semantic-conventions-0.54b1 pydantic-1.9.2 sqlalchemy-1.4.54 typing_extensions-4.0.1 wrapt-1.17.2\n\u001B[43mNote: you may need to restart the kernel using %restart_python or dbutils.library.restartPython() to use updated packages.\u001B[0m\n"
     ]
    }
   ],
   "source": [
    "%pip install --upgrade typing_extensions==4.0.1 mlflow\n",
    "\n",
    "import mlflow.sklearn\n",
    "import mlflow\n",
    "import matplotlib.pyplot as plt\n",
    "import numpy as np\n",
    "import pandas as pd\n",
    "from sklearn import datasets, linear_model\n",
    "from sklearn.model_selection import train_test_split\n",
    "from sklearn.metrics import mean_squared_error, r2_score\n",
    "from sklearn import metrics\n",
    "import os\n",
    "import shutil\n",
    "import pprint\n",
    "import tempfile\n",
    "from random import random, randint\n",
    "from sklearn import metrics"
   ]
  },
  {
   "cell_type": "markdown",
   "metadata": {
    "application/vnd.databricks.v1+cell": {
     "cellMetadata": {},
     "inputWidgets": {},
     "nuid": "cb867c34-b9d2-40cb-8a14-6e5a202fb915",
     "showTitle": false,
     "tableResultSettingsMap": {},
     "title": ""
    }
   },
   "source": [
    "### Random Text for the Message Artifacts"
   ]
  },
  {
   "cell_type": "code",
   "execution_count": 0,
   "metadata": {
    "application/vnd.databricks.v1+cell": {
     "cellMetadata": {
      "byteLimit": 2048000,
      "rowLimit": 10000
     },
     "inputWidgets": {},
     "nuid": "3e87dbf4-5993-45e7-bfab-b2c44b14f6e7",
     "showTitle": false,
     "tableResultSettingsMap": {},
     "title": ""
    }
   },
   "outputs": [],
   "source": [
    "RANDOM_TEXTS = [\"Look, Stay home for us, so we can order some cup cakes!\",\n",
    "                \"This shelter-in-placeinduces sweet appetites. Look at the graphs of cupcakes consumption in SF !\",\n",
    "                \"Don't Despair for those in-place shelters, for help and hope are on the way!\",\n",
    "                \"Guess what, I'll just hack on this MLflow thingy. Seems way cool!\",\n",
    "                \"Trying and learning the new MLflow Tracking component ... Perché No!\",\n",
    "                \"Bonjour! Nice to be virtual now!\"]"
   ]
  },
  {
   "cell_type": "markdown",
   "metadata": {
    "application/vnd.databricks.v1+cell": {
     "cellMetadata": {},
     "inputWidgets": {},
     "nuid": "43f96744-5066-41bc-bbf5-a4bac3401369",
     "showTitle": false,
     "tableResultSettingsMap": {},
     "title": ""
    }
   },
   "source": [
    "### Utility functions "
   ]
  },
  {
   "cell_type": "code",
   "execution_count": 0,
   "metadata": {
    "application/vnd.databricks.v1+cell": {
     "cellMetadata": {
      "byteLimit": 2048000,
      "rowLimit": 10000
     },
     "inputWidgets": {},
     "nuid": "c9615fb1-9e42-4d47-8e95-1026131ae965",
     "showTitle": false,
     "tableResultSettingsMap": {},
     "title": ""
    }
   },
   "outputs": [],
   "source": [
    "def get_temporary_directory_path(prefix, suffix):\n",
    "  \"\"\"\n",
    "  Get a temporary directory and files for artifacts\n",
    "  :param prefix: name of the file\n",
    "  :param suffix: .csv, .txt, .png etc\n",
    "  :return: object to tempfile.\n",
    "  \"\"\"\n",
    "\n",
    "  temp = tempfile.NamedTemporaryFile(prefix=prefix, suffix=suffix)\n",
    "  return temp\n",
    "\n",
    "def gen_random_text():\n",
    "    \"\"\"\n",
    "    Random text for messages\n",
    "    :return: return string message text\n",
    "    \"\"\"\n",
    "    return RANDOM_TEXTS[randint(0, 5)]\n",
    "  \n",
    "def gen_line_plot():\n",
    "  # Plot outputs\n",
    "  plt.scatter(diabetes_X_test, diabetes_y_test,  color='black')\n",
    "  plt.plot(diabetes_X_test, diabetes_y_pred, color='blue', linewidth=3)\n",
    "  plt.xticks(())\n",
    "  plt.yticks(())\n",
    "  plt.show()\n",
    "  "
   ]
  },
  {
   "cell_type": "markdown",
   "metadata": {
    "application/vnd.databricks.v1+cell": {
     "cellMetadata": {},
     "inputWidgets": {},
     "nuid": "37531f2c-9c32-4767-8c8c-3f18df4d9a5e",
     "showTitle": false,
     "tableResultSettingsMap": {},
     "title": ""
    }
   },
   "source": [
    "### Load Diabetes data"
   ]
  },
  {
   "cell_type": "code",
   "execution_count": 0,
   "metadata": {
    "application/vnd.databricks.v1+cell": {
     "cellMetadata": {
      "byteLimit": 2048000,
      "rowLimit": 10000
     },
     "inputWidgets": {},
     "nuid": "0c0ab885-2188-4ddd-8faa-8d74561c2b4a",
     "showTitle": false,
     "tableResultSettingsMap": {},
     "title": ""
    }
   },
   "outputs": [
    {
     "output_type": "execute_result",
     "data": {
      "text/html": [
       "<div>\n",
       "<style scoped>\n",
       "    .dataframe tbody tr th:only-of-type {\n",
       "        vertical-align: middle;\n",
       "    }\n",
       "\n",
       "    .dataframe tbody tr th {\n",
       "        vertical-align: top;\n",
       "    }\n",
       "\n",
       "    .dataframe thead th {\n",
       "        text-align: right;\n",
       "    }\n",
       "</style>\n",
       "<table border=\"1\" class=\"dataframe\">\n",
       "  <thead>\n",
       "    <tr style=\"text-align: right;\">\n",
       "      <th></th>\n",
       "      <th>0</th>\n",
       "      <th>1</th>\n",
       "      <th>2</th>\n",
       "      <th>3</th>\n",
       "      <th>4</th>\n",
       "      <th>5</th>\n",
       "      <th>6</th>\n",
       "      <th>7</th>\n",
       "      <th>8</th>\n",
       "      <th>9</th>\n",
       "    </tr>\n",
       "  </thead>\n",
       "  <tbody>\n",
       "    <tr>\n",
       "      <th>count</th>\n",
       "      <td>4.420000e+02</td>\n",
       "      <td>4.420000e+02</td>\n",
       "      <td>4.420000e+02</td>\n",
       "      <td>4.420000e+02</td>\n",
       "      <td>4.420000e+02</td>\n",
       "      <td>4.420000e+02</td>\n",
       "      <td>4.420000e+02</td>\n",
       "      <td>4.420000e+02</td>\n",
       "      <td>4.420000e+02</td>\n",
       "      <td>4.420000e+02</td>\n",
       "    </tr>\n",
       "    <tr>\n",
       "      <th>mean</th>\n",
       "      <td>-2.511817e-19</td>\n",
       "      <td>1.230790e-17</td>\n",
       "      <td>-2.245564e-16</td>\n",
       "      <td>-4.797570e-17</td>\n",
       "      <td>-1.381499e-17</td>\n",
       "      <td>3.918434e-17</td>\n",
       "      <td>-5.777179e-18</td>\n",
       "      <td>-9.042540e-18</td>\n",
       "      <td>9.293722e-17</td>\n",
       "      <td>1.130318e-17</td>\n",
       "    </tr>\n",
       "    <tr>\n",
       "      <th>std</th>\n",
       "      <td>4.761905e-02</td>\n",
       "      <td>4.761905e-02</td>\n",
       "      <td>4.761905e-02</td>\n",
       "      <td>4.761905e-02</td>\n",
       "      <td>4.761905e-02</td>\n",
       "      <td>4.761905e-02</td>\n",
       "      <td>4.761905e-02</td>\n",
       "      <td>4.761905e-02</td>\n",
       "      <td>4.761905e-02</td>\n",
       "      <td>4.761905e-02</td>\n",
       "    </tr>\n",
       "    <tr>\n",
       "      <th>min</th>\n",
       "      <td>-1.072256e-01</td>\n",
       "      <td>-4.464164e-02</td>\n",
       "      <td>-9.027530e-02</td>\n",
       "      <td>-1.123988e-01</td>\n",
       "      <td>-1.267807e-01</td>\n",
       "      <td>-1.156131e-01</td>\n",
       "      <td>-1.023071e-01</td>\n",
       "      <td>-7.639450e-02</td>\n",
       "      <td>-1.260971e-01</td>\n",
       "      <td>-1.377672e-01</td>\n",
       "    </tr>\n",
       "    <tr>\n",
       "      <th>25%</th>\n",
       "      <td>-3.729927e-02</td>\n",
       "      <td>-4.464164e-02</td>\n",
       "      <td>-3.422907e-02</td>\n",
       "      <td>-3.665608e-02</td>\n",
       "      <td>-3.424784e-02</td>\n",
       "      <td>-3.035840e-02</td>\n",
       "      <td>-3.511716e-02</td>\n",
       "      <td>-3.949338e-02</td>\n",
       "      <td>-3.324559e-02</td>\n",
       "      <td>-3.317903e-02</td>\n",
       "    </tr>\n",
       "    <tr>\n",
       "      <th>50%</th>\n",
       "      <td>5.383060e-03</td>\n",
       "      <td>-4.464164e-02</td>\n",
       "      <td>-7.283766e-03</td>\n",
       "      <td>-5.670422e-03</td>\n",
       "      <td>-4.320866e-03</td>\n",
       "      <td>-3.819065e-03</td>\n",
       "      <td>-6.584468e-03</td>\n",
       "      <td>-2.592262e-03</td>\n",
       "      <td>-1.947171e-03</td>\n",
       "      <td>-1.077698e-03</td>\n",
       "    </tr>\n",
       "    <tr>\n",
       "      <th>75%</th>\n",
       "      <td>3.807591e-02</td>\n",
       "      <td>5.068012e-02</td>\n",
       "      <td>3.124802e-02</td>\n",
       "      <td>3.564379e-02</td>\n",
       "      <td>2.835801e-02</td>\n",
       "      <td>2.984439e-02</td>\n",
       "      <td>2.931150e-02</td>\n",
       "      <td>3.430886e-02</td>\n",
       "      <td>3.243232e-02</td>\n",
       "      <td>2.791705e-02</td>\n",
       "    </tr>\n",
       "    <tr>\n",
       "      <th>max</th>\n",
       "      <td>1.107267e-01</td>\n",
       "      <td>5.068012e-02</td>\n",
       "      <td>1.705552e-01</td>\n",
       "      <td>1.320436e-01</td>\n",
       "      <td>1.539137e-01</td>\n",
       "      <td>1.987880e-01</td>\n",
       "      <td>1.811791e-01</td>\n",
       "      <td>1.852344e-01</td>\n",
       "      <td>1.335973e-01</td>\n",
       "      <td>1.356118e-01</td>\n",
       "    </tr>\n",
       "  </tbody>\n",
       "</table>\n",
       "</div>"
      ],
      "text/plain": [
       "                  0             1  ...             8             9\n",
       "count  4.420000e+02  4.420000e+02  ...  4.420000e+02  4.420000e+02\n",
       "mean  -2.511817e-19  1.230790e-17  ...  9.293722e-17  1.130318e-17\n",
       "std    4.761905e-02  4.761905e-02  ...  4.761905e-02  4.761905e-02\n",
       "min   -1.072256e-01 -4.464164e-02  ... -1.260971e-01 -1.377672e-01\n",
       "25%   -3.729927e-02 -4.464164e-02  ... -3.324559e-02 -3.317903e-02\n",
       "50%    5.383060e-03 -4.464164e-02  ... -1.947171e-03 -1.077698e-03\n",
       "75%    3.807591e-02  5.068012e-02  ...  3.243232e-02  2.791705e-02\n",
       "max    1.107267e-01  5.068012e-02  ...  1.335973e-01  1.356118e-01\n",
       "\n",
       "[8 rows x 10 columns]"
      ]
     },
     "execution_count": 6,
     "metadata": {},
     "output_type": "execute_result"
    }
   ],
   "source": [
    "# Load the diabetes dataset\n",
    "diabetes_X, diabetes_y = datasets.load_diabetes(return_X_y=True)\n",
    "df_x = pd.DataFrame(diabetes_X)\n",
    "df_x.describe()"
   ]
  },
  {
   "cell_type": "markdown",
   "metadata": {
    "application/vnd.databricks.v1+cell": {
     "cellMetadata": {},
     "inputWidgets": {},
     "nuid": "13abc06e-958c-4c16-b0c8-2e2aa720b3f8",
     "showTitle": false,
     "tableResultSettingsMap": {},
     "title": ""
    }
   },
   "source": [
    "### Create train/test split"
   ]
  },
  {
   "cell_type": "code",
   "execution_count": 0,
   "metadata": {
    "application/vnd.databricks.v1+cell": {
     "cellMetadata": {
      "byteLimit": 2048000,
      "rowLimit": 10000
     },
     "inputWidgets": {},
     "nuid": "617ca0ec-f584-4a6f-9cd9-4651b83a69e2",
     "showTitle": false,
     "tableResultSettingsMap": {},
     "title": ""
    }
   },
   "outputs": [
    {
     "output_type": "execute_result",
     "data": {
      "text/html": [
       "<div>\n",
       "<style scoped>\n",
       "    .dataframe tbody tr th:only-of-type {\n",
       "        vertical-align: middle;\n",
       "    }\n",
       "\n",
       "    .dataframe tbody tr th {\n",
       "        vertical-align: top;\n",
       "    }\n",
       "\n",
       "    .dataframe thead th {\n",
       "        text-align: right;\n",
       "    }\n",
       "</style>\n",
       "<table border=\"1\" class=\"dataframe\">\n",
       "  <thead>\n",
       "    <tr style=\"text-align: right;\">\n",
       "      <th></th>\n",
       "      <th>0</th>\n",
       "    </tr>\n",
       "  </thead>\n",
       "  <tbody>\n",
       "    <tr>\n",
       "      <th>count</th>\n",
       "      <td>353.000000</td>\n",
       "    </tr>\n",
       "    <tr>\n",
       "      <th>mean</th>\n",
       "      <td>0.001736</td>\n",
       "    </tr>\n",
       "    <tr>\n",
       "      <th>std</th>\n",
       "      <td>0.047275</td>\n",
       "    </tr>\n",
       "    <tr>\n",
       "      <th>min</th>\n",
       "      <td>-0.089197</td>\n",
       "    </tr>\n",
       "    <tr>\n",
       "      <th>25%</th>\n",
       "      <td>-0.032073</td>\n",
       "    </tr>\n",
       "    <tr>\n",
       "      <th>50%</th>\n",
       "      <td>-0.005128</td>\n",
       "    </tr>\n",
       "    <tr>\n",
       "      <th>75%</th>\n",
       "      <td>0.032595</td>\n",
       "    </tr>\n",
       "    <tr>\n",
       "      <th>max</th>\n",
       "      <td>0.160855</td>\n",
       "    </tr>\n",
       "  </tbody>\n",
       "</table>\n",
       "</div>"
      ],
      "text/plain": [
       "                0\n",
       "count  353.000000\n",
       "mean     0.001736\n",
       "std      0.047275\n",
       "min     -0.089197\n",
       "25%     -0.032073\n",
       "50%     -0.005128\n",
       "75%      0.032595\n",
       "max      0.160855"
      ]
     },
     "execution_count": 7,
     "metadata": {},
     "output_type": "execute_result"
    }
   ],
   "source": [
    "# Use only one feature, and reshape it as scikit-learn expects 2D array as input to the \n",
    "# fit method\n",
    "diabetes_X = diabetes_X[:, np.newaxis, 2]\n",
    "# Split the data into training/testing sets\n",
    "diabetes_X_train, diabetes_X_test, diabetes_y_train,diabetes_y_test = train_test_split(diabetes_X, diabetes_y, test_size=0.2, random_state=42)\n",
    "df = pd.DataFrame(diabetes_X_train)\n",
    "df.describe()"
   ]
  },
  {
   "cell_type": "code",
   "execution_count": 0,
   "metadata": {
    "application/vnd.databricks.v1+cell": {
     "cellMetadata": {
      "byteLimit": 2048000,
      "rowLimit": 10000
     },
     "inputWidgets": {},
     "nuid": "e2de752e-dbe4-4405-93e1-060ca44002fd",
     "showTitle": false,
     "tableResultSettingsMap": {},
     "title": ""
    }
   },
   "outputs": [],
   "source": [
    "def mlflow_run(run_name=\"MLflow Workshop Part-1\", params=None):\n",
    "    \"\"\"\n",
    "    Function to start a run within a Default experiment\n",
    "    :param params: parameters used for the run, such as arguments to RandomForestRegressor class scikit-learn\n",
    "    :param run_name: label for the name of the run\n",
    "    :return: experiment ID and run ID\n",
    "    \"\"\"\n",
    "\n",
    "    with mlflow.start_run(run_name=run_name) as run:\n",
    "        # Get the run and experimentid\n",
    "        run_id = run.info.run_id\n",
    "        experiment_id = run.info.experiment_id\n",
    "        \n",
    "        # Create linear regression object\n",
    "        regr = linear_model.LinearRegression() if params is None else linear_model.LinearRegression(**params)\n",
    "\n",
    "        # Train the model using the training sets\n",
    "        regr.fit(diabetes_X_train, diabetes_y_train)\n",
    "\n",
    "        # Make predictions using the testing set\n",
    "        diabetes_y_pred = regr.predict(diabetes_X_test)\n",
    "        \n",
    "        mae = metrics.mean_absolute_error(diabetes_y_test, diabetes_y_pred)\n",
    "        mse = metrics.mean_squared_error(diabetes_y_test, diabetes_y_pred)\n",
    "        rsme = np.sqrt(mse)\n",
    "        r2 = r2_score(diabetes_y_test, diabetes_y_pred)\n",
    "        \n",
    "        # The coefficient of determination: 1 is perfect prediction\n",
    "        print(f'Coefficients: {regr.coef_}')\n",
    "        print(f'Mean squared error: {mse}')\n",
    "        print(f'Root mean square error: {rsme}')\n",
    "        print(f'R2 score = {r2}')\n",
    "     \n",
    "       \n",
    "        # Log metrics\n",
    "        mlflow.log_metric(\"mae\", mae)\n",
    "        mlflow.log_metric(\"mse\", mse)\n",
    "        mlflow.log_metric(\"rmse\", rsme)\n",
    "        mlflow.log_metric(\"r2_score\", r2)\n",
    "                      \n",
    "        # Log the model\n",
    "        mlflow.sklearn.log_model(\n",
    "            sk_model=regr,\n",
    "            artifact_path=\"sklearn-model\")\n",
    "        \n",
    "        # Create sample message artifact\n",
    "        if not os.path.exists(\"messages\"):\n",
    "            os.makedirs(\"messages\")\n",
    "        with open(\"messages/message.txt\", \"w\") as f:\n",
    "            f.write(gen_random_text())\n",
    "\n",
    "        mlflow.log_artifact(\"messages\")\n",
    "        shutil.rmtree(\"messages\")\n",
    "        \n",
    "        \"\"\"\n",
    "        # Create plot artifacts\n",
    "        fig = gen_line_plot()\n",
    "        temp_file_name = get_temporary_directory_path(\"scatter-plot-\", \".png\")\n",
    "        temp_name = temp_file_name.name\n",
    "        try:\n",
    "          fig.savefig(temp_name)\n",
    "          mlflow.log_artifact(temp_name, \"scatter_plots\")\n",
    "        finally:\n",
    "          temp_file_name.close()  # Delete the temp file\n",
    "        \"\"\"\n",
    "        return (run_id, experiment_id)"
   ]
  },
  {
   "cell_type": "code",
   "execution_count": 0,
   "metadata": {
    "application/vnd.databricks.v1+cell": {
     "cellMetadata": {
      "byteLimit": 2048000,
      "rowLimit": 10000
     },
     "inputWidgets": {},
     "nuid": "da20133c-6938-431e-aa0d-a276e23afc82",
     "showTitle": false,
     "tableResultSettingsMap": {},
     "title": ""
    }
   },
   "outputs": [
    {
     "output_type": "stream",
     "name": "stdout",
     "output_type": "stream",
     "text": [
      "Coefficients: [998.57768914]\nMean squared error: 4061.8259284949268\nRoot mean square error: 63.73245584860925\nR2 score = 0.23335039815872138\n"
     ]
    },
    {
     "output_type": "stream",
     "name": "stderr",
     "output_type": "stream",
     "text": [
      "\u001B[31m2025/07/31 05:07:58 WARNING mlflow.models.model: Model logged without a signature and input example. Please set `input_example` parameter when logging the model to auto infer the model signature.\u001B[0m\n"
     ]
    },
    {
     "output_type": "stream",
     "name": "stdout",
     "output_type": "stream",
     "text": [
      "run_id=4230816160263163\nexperiment_id=220d79b2b88e4048844513a5aa4bf6e6\n"
     ]
    }
   ],
   "source": [
    "(exp_id, run_id) = mlflow_run()\n",
    "print(f\"run_id={run_id}\") \n",
    "print(f\"experiment_id={exp_id}\")"
   ]
  },
  {
   "cell_type": "code",
   "execution_count": 0,
   "metadata": {
    "application/vnd.databricks.v1+cell": {
     "cellMetadata": {
      "byteLimit": 2048000,
      "rowLimit": 10000
     },
     "inputWidgets": {},
     "nuid": "35b1fa54-aca3-4d76-8926-316f3bc67e17",
     "showTitle": false,
     "tableResultSettingsMap": {},
     "title": ""
    }
   },
   "outputs": [
    {
     "output_type": "display_data",
     "data": {
      "image/png": "[encoded data removed]",
      "text/plain": [
       "<Figure size 640x480 with 1 Axes>"
      ]
     },
     "metadata": {},
     "output_type": "display_data"
    },
    {
     "output_type": "display_data",
     "data": {
      "text/plain": [
       "\u001B[0;31m---------------------------------------------------------------------------\u001B[0m\n",
       "\u001B[0;31mNameError\u001B[0m                                 Traceback (most recent call last)\n",
       "File \u001B[0;32m<command-4230816160263176>, line 1\u001B[0m\n",
       "\u001B[0;32m----> 1\u001B[0m \u001B[43mgen_line_plot\u001B[49m\u001B[43m(\u001B[49m\u001B[43m)\u001B[49m\n",
       "\n",
       "File \u001B[0;32m<command-4230816160263169>, line 22\u001B[0m, in \u001B[0;36mgen_line_plot\u001B[0;34m()\u001B[0m\n",
       "\u001B[1;32m     19\u001B[0m \u001B[38;5;28;01mdef\u001B[39;00m \u001B[38;5;21mgen_line_plot\u001B[39m():\n",
       "\u001B[1;32m     20\u001B[0m   \u001B[38;5;66;03m# Plot outputs\u001B[39;00m\n",
       "\u001B[1;32m     21\u001B[0m   plt\u001B[38;5;241m.\u001B[39mscatter(diabetes_X_test, diabetes_y_test,  color\u001B[38;5;241m=\u001B[39m\u001B[38;5;124m'\u001B[39m\u001B[38;5;124mblack\u001B[39m\u001B[38;5;124m'\u001B[39m)\n",
       "\u001B[0;32m---> 22\u001B[0m   plt\u001B[38;5;241m.\u001B[39mplot(diabetes_X_test, \u001B[43mdiabetes_y_pred\u001B[49m, color\u001B[38;5;241m=\u001B[39m\u001B[38;5;124m'\u001B[39m\u001B[38;5;124mblue\u001B[39m\u001B[38;5;124m'\u001B[39m, linewidth\u001B[38;5;241m=\u001B[39m\u001B[38;5;241m3\u001B[39m)\n",
       "\u001B[1;32m     23\u001B[0m   plt\u001B[38;5;241m.\u001B[39mxticks(())\n",
       "\u001B[1;32m     24\u001B[0m   plt\u001B[38;5;241m.\u001B[39myticks(())\n",
       "\n",
       "\u001B[0;31mNameError\u001B[0m: name 'diabetes_y_pred' is not defined"
      ]
     },
     "metadata": {
      "application/vnd.databricks.v1+output": {
       "addedWidgets": {},
       "arguments": {},
       "datasetInfos": [],
       "jupyterProps": {
        "ename": "NameError",
        "evalue": "name 'diabetes_y_pred' is not defined"
       },
       "metadata": {
        "errorSummary": "<span class='ansi-red-fg'>NameError</span>: name 'diabetes_y_pred' is not defined"
       },
       "removedWidgets": [],
       "sqlProps": null,
       "stackFrames": [
        "\u001B[0;31m---------------------------------------------------------------------------\u001B[0m",
        "\u001B[0;31mNameError\u001B[0m                                 Traceback (most recent call last)",
        "File \u001B[0;32m<command-4230816160263176>, line 1\u001B[0m\n\u001B[0;32m----> 1\u001B[0m \u001B[43mgen_line_plot\u001B[49m\u001B[43m(\u001B[49m\u001B[43m)\u001B[49m\n",
        "File \u001B[0;32m<command-4230816160263169>, line 22\u001B[0m, in \u001B[0;36mgen_line_plot\u001B[0;34m()\u001B[0m\n\u001B[1;32m     19\u001B[0m \u001B[38;5;28;01mdef\u001B[39;00m \u001B[38;5;21mgen_line_plot\u001B[39m():\n\u001B[1;32m     20\u001B[0m   \u001B[38;5;66;03m# Plot outputs\u001B[39;00m\n\u001B[1;32m     21\u001B[0m   plt\u001B[38;5;241m.\u001B[39mscatter(diabetes_X_test, diabetes_y_test,  color\u001B[38;5;241m=\u001B[39m\u001B[38;5;124m'\u001B[39m\u001B[38;5;124mblack\u001B[39m\u001B[38;5;124m'\u001B[39m)\n\u001B[0;32m---> 22\u001B[0m   plt\u001B[38;5;241m.\u001B[39mplot(diabetes_X_test, \u001B[43mdiabetes_y_pred\u001B[49m, color\u001B[38;5;241m=\u001B[39m\u001B[38;5;124m'\u001B[39m\u001B[38;5;124mblue\u001B[39m\u001B[38;5;124m'\u001B[39m, linewidth\u001B[38;5;241m=\u001B[39m\u001B[38;5;241m3\u001B[39m)\n\u001B[1;32m     23\u001B[0m   plt\u001B[38;5;241m.\u001B[39mxticks(())\n\u001B[1;32m     24\u001B[0m   plt\u001B[38;5;241m.\u001B[39myticks(())\n",
        "\u001B[0;31mNameError\u001B[0m: name 'diabetes_y_pred' is not defined"
       ],
       "type": "baseError"
      }
     },
     "output_type": "display_data"
    }
   ],
   "source": [
    "gen_line_plot()"
   ]
  },
  {
   "cell_type": "code",
   "execution_count": 0,
   "metadata": {
    "application/vnd.databricks.v1+cell": {
     "cellMetadata": {},
     "inputWidgets": {},
     "nuid": "b2872b86-880b-4adb-983d-1ed46bba0359",
     "showTitle": false,
     "tableResultSettingsMap": {},
     "title": ""
    }
   },
   "outputs": [],
   "source": []
  }
 ],
 "metadata": {
  "application/vnd.databricks.v1+notebook": {
   "computePreferences": null,
   "dashboards": [],
   "environmentMetadata": null,
   "inputWidgetPreferences": null,
   "language": "python",
   "notebookMetadata": {
    "pythonIndentUnit": 2
   },
   "notebookName": "1_get_started_fun_lab_lr",
   "widgets": {}
  },
  "language_info": {
   "name": "python"
  }
 },
 "nbformat": 4,
 "nbformat_minor": 0
}