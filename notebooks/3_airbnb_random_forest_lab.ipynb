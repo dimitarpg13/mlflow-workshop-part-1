{
 "cells": [
  {
   "cell_type": "markdown",
   "metadata": {
    "application/vnd.databricks.v1+cell": {
     "cellMetadata": {},
     "inputWidgets": {},
     "nuid": "7d78a924-cbcf-4e65-b4b3-4d3c27a144b8",
     "showTitle": false,
     "tableResultSettingsMap": {},
     "title": ""
    }
   },
   "source": [
    "#### Problem - Tutorial 3: Regression\n",
    "\n",
    "<table>\n",
    "  <tr><td>\n",
    "    <img src=\"https://brokeassstuart.com/wp-content/pictsnShit/2019/07/inside-airbnb-1263x560.jpg\"\n",
    "         alt=\"Bank Note \" width=\"600\">\n",
    "  </td></tr>\n",
    "  <tr><td></td></tr>\n",
    "  <tr><td>\n",
    "  <img src=\"https://miro.medium.com/max/593/1*pfmeGgGM5sxmLBQ5IQfQew.png\"\n",
    "         alt=\"Matrix\" width=\"600\">\n",
    "  <tr><td></td></tr>\n",
    "  <tr><td>Can we predict AirBnB prices in SF ...</td></tr>\n",
    "</table>\n",
    "\n",
    "source: Databricks Learning Academy MLflow Course\n",
    "\n",
    "Refactored code to modularize it\n",
    "\n",
    "While iterating or build models, data scientists will often create a base line model to see how the model performs.\n",
    "And then iterate with experiments, changing or altering parameters to ascertain how the new parameters or\n",
    "hyper-parameters move the metrics closer to their confidence level.\n",
    "\n",
    "This is our base line model using RandomForestRegressor model to predict AirBnb house prices in SF.\n",
    "Given 22 features, can we predict what the next house price will be?\n",
    "\n",
    "We will compute standard evalution metrics and log them.\n",
    "\n",
    "Aim of this module is:\n",
    "\n",
    "1. Introduce tracking ML experiments in MLflow\n",
    "2. Log a base experiment and explore the results in the UI\n",
    "3. Record parameters, metrics, and a model\n",
    "\n",
    "Some Resources:\n",
    "* https://mlflow.org/docs/latest/python_api/mlflow.html\n",
    "* https://www.saedsayad.com/decision_tree_reg.htm\n",
    "* https://stackabuse.com/random-forest-algorithm-with-python-and-scikit-learn/\n",
    "* https://towardsdatascience.com/understanding-random-forest-58381e0602d2\n",
    "* https://scikit-learn.org/stable/modules/generated/sklearn.ensemble.RandomForestRegressor.html\n",
    "* https://towardsdatascience.com/explaining-feature-importance-by-example-of-a-random-forest-d9166011959e\n",
    "* https://seaborn.pydata.org/tutorial/regression.html"
   ]
  },
  {
   "cell_type": "code",
   "execution_count": 0,
   "metadata": {
    "application/vnd.databricks.v1+cell": {
     "cellMetadata": {
      "byteLimit": 2048000,
      "rowLimit": 10000
     },
     "inputWidgets": {},
     "nuid": "bd58ae3f-1c6f-4edf-a386-9e8150d08eb5",
     "showTitle": false,
     "tableResultSettingsMap": {},
     "title": ""
    }
   },
   "outputs": [
    {
     "output_type": "display_data",
     "data": {
      "text/markdown": []
     },
     "metadata": {},
     "output_type": "display_data"
    },
    {
     "output_type": "display_data",
     "data": {
      "text/markdown": [
       "class utilitis definition `Utils`"
      ]
     },
     "metadata": {},
     "output_type": "display_data"
    },
    {
     "output_type": "display_data",
     "data": {
      "text/html": [
       "\n",
       "<div>Declared various Utitily class utility methods:</div>\n",
       "<li>Declared <b style=\"color:green\">load_data(<i>path:file_name</i>)</b> for data files</li>\n",
       "<li>Declared <b style=\"color:green\">plot_graphs(<i>...</i>)</b> for ploting artifacts</li>\n",
       "<li>Declared <b style=\"color:green\">get_mlflow_directory_path</b> for mlruns path</li>\n",
       "<li>Declared <b style=\"color:green\">get_temporary_directory_path(<i>...</i>)</b> temporary artifact files</li>\n",
       "<li>Declared <b style=\"color:green\">plot_residual_graphs(<i>...</i>)</b> for plotting residues</li>\n",
       "<li>Declared <b style=\"color:green\">print_pandas_dataset(<i>name:String</i>)</b> to print Pandas dataFrame</li>\n",
       "\n",
       "<br/>\n"
      ]
     },
     "metadata": {},
     "output_type": "display_data"
    },
    {
     "output_type": "display_data",
     "data": {
      "text/markdown": [
       "\n",
       "Random Forest class definition for the `RFRModel`"
      ]
     },
     "metadata": {},
     "output_type": "display_data"
    },
    {
     "output_type": "stream",
     "name": "stdout",
     "output_type": "stream",
     "text": [
      "Requirement already satisfied: typing_extensions in /local_disk0/.ephemeral_nfs/envs/pythonEnv-231c8729-59ea-47db-ad24-8cf2b8762dfa/lib/python3.10/site-packages (4.14.1)\nRequirement already satisfied: mlflow in /local_disk0/.ephemeral_nfs/envs/pythonEnv-231c8729-59ea-47db-ad24-8cf2b8762dfa/lib/python3.10/site-packages (3.1.4)\nRequirement already satisfied: alembic!=1.10.0,<2 in /local_disk0/.ephemeral_nfs/envs/pythonEnv-231c8729-59ea-47db-ad24-8cf2b8762dfa/lib/python3.10/site-packages (from mlflow) (1.16.4)\nRequirement already satisfied: pyarrow<21,>=4.0.0 in /databricks/python3/lib/python3.10/site-packages (from mlflow) (8.0.0)\nRequirement already satisfied: gunicorn<24 in /local_disk0/.ephemeral_nfs/envs/pythonEnv-231c8729-59ea-47db-ad24-8cf2b8762dfa/lib/python3.10/site-packages (from mlflow) (23.0.0)\nRequirement already satisfied: sqlalchemy<3,>=1.4.0 in /local_disk0/.ephemeral_nfs/envs/pythonEnv-231c8729-59ea-47db-ad24-8cf2b8762dfa/lib/python3.10/site-packages (from mlflow) (2.0.42)\nRequirement already satisfied: graphene<4 in /local_disk0/.ephemeral_nfs/envs/pythonEnv-231c8729-59ea-47db-ad24-8cf2b8762dfa/lib/python3.10/site-packages (from mlflow) (3.4.3)\nRequirement already satisfied: mlflow-skinny==3.1.4 in /local_disk0/.ephemeral_nfs/envs/pythonEnv-231c8729-59ea-47db-ad24-8cf2b8762dfa/lib/python3.10/site-packages (from mlflow) (3.1.4)\nRequirement already satisfied: scipy<2 in /databricks/python3/lib/python3.10/site-packages (from mlflow) (1.10.0)\nRequirement already satisfied: Flask<4 in /local_disk0/.ephemeral_nfs/envs/pythonEnv-231c8729-59ea-47db-ad24-8cf2b8762dfa/lib/python3.10/site-packages (from mlflow) (3.1.1)\nRequirement already satisfied: docker<8,>=4.0.0 in /local_disk0/.ephemeral_nfs/envs/pythonEnv-231c8729-59ea-47db-ad24-8cf2b8762dfa/lib/python3.10/site-packages (from mlflow) (7.1.0)\nRequirement already satisfied: numpy<3 in /databricks/python3/lib/python3.10/site-packages (from mlflow) (1.23.5)\nRequirement already satisfied: scikit-learn<2 in /databricks/python3/lib/python3.10/site-packages (from mlflow) (1.1.1)\nRequirement already satisfied: matplotlib<4 in /databricks/python3/lib/python3.10/site-packages (from mlflow) (3.7.0)\nRequirement already satisfied: pandas<3 in /databricks/python3/lib/python3.10/site-packages (from mlflow) (1.5.3)\nRequirement already satisfied: gitpython<4,>=3.1.9 in /local_disk0/.ephemeral_nfs/envs/pythonEnv-231c8729-59ea-47db-ad24-8cf2b8762dfa/lib/python3.10/site-packages (from mlflow-skinny==3.1.4->mlflow) (3.1.45)\nRequirement already satisfied: importlib_metadata!=4.7.0,<9,>=3.7.0 in /local_disk0/.ephemeral_nfs/envs/pythonEnv-231c8729-59ea-47db-ad24-8cf2b8762dfa/lib/python3.10/site-packages (from mlflow-skinny==3.1.4->mlflow) (8.7.0)\nRequirement already satisfied: opentelemetry-api<3,>=1.9.0 in /local_disk0/.ephemeral_nfs/envs/pythonEnv-231c8729-59ea-47db-ad24-8cf2b8762dfa/lib/python3.10/site-packages (from mlflow-skinny==3.1.4->mlflow) (1.36.0)\nRequirement already satisfied: click<9,>=7.0 in /local_disk0/.ephemeral_nfs/envs/pythonEnv-231c8729-59ea-47db-ad24-8cf2b8762dfa/lib/python3.10/site-packages (from mlflow-skinny==3.1.4->mlflow) (8.2.1)\nRequirement already satisfied: sqlparse<1,>=0.4.0 in /local_disk0/.ephemeral_nfs/envs/pythonEnv-231c8729-59ea-47db-ad24-8cf2b8762dfa/lib/python3.10/site-packages (from mlflow-skinny==3.1.4->mlflow) (0.5.3)\nRequirement already satisfied: databricks-sdk<1,>=0.20.0 in /databricks/python3/lib/python3.10/site-packages (from mlflow-skinny==3.1.4->mlflow) (0.20.0)\nRequirement already satisfied: uvicorn<1 in /local_disk0/.ephemeral_nfs/envs/pythonEnv-231c8729-59ea-47db-ad24-8cf2b8762dfa/lib/python3.10/site-packages (from mlflow-skinny==3.1.4->mlflow) (0.35.0)\nRequirement already satisfied: requests<3,>=2.17.3 in /databricks/python3/lib/python3.10/site-packages (from mlflow-skinny==3.1.4->mlflow) (2.28.1)\nRequirement already satisfied: cloudpickle<4 in /local_disk0/.ephemeral_nfs/envs/pythonEnv-231c8729-59ea-47db-ad24-8cf2b8762dfa/lib/python3.10/site-packages (from mlflow-skinny==3.1.4->mlflow) (3.1.1)\nRequirement already satisfied: opentelemetry-sdk<3,>=1.9.0 in /local_disk0/.ephemeral_nfs/envs/pythonEnv-231c8729-59ea-47db-ad24-8cf2b8762dfa/lib/python3.10/site-packages (from mlflow-skinny==3.1.4->mlflow) (1.36.0)\nRequirement already satisfied: pydantic<3,>=1.10.8 in /local_disk0/.ephemeral_nfs/envs/pythonEnv-231c8729-59ea-47db-ad24-8cf2b8762dfa/lib/python3.10/site-packages (from mlflow-skinny==3.1.4->mlflow) (2.11.7)\nRequirement already satisfied: fastapi<1 in /local_disk0/.ephemeral_nfs/envs/pythonEnv-231c8729-59ea-47db-ad24-8cf2b8762dfa/lib/python3.10/site-packages (from mlflow-skinny==3.1.4->mlflow) (0.116.1)\nRequirement already satisfied: packaging<26 in /databricks/python3/lib/python3.10/site-packages (from mlflow-skinny==3.1.4->mlflow) (23.2)\nRequirement already satisfied: pyyaml<7,>=5.1 in /local_disk0/.ephemeral_nfs/envs/pythonEnv-231c8729-59ea-47db-ad24-8cf2b8762dfa/lib/python3.10/site-packages (from mlflow-skinny==3.1.4->mlflow) (6.0.2)\nRequirement already satisfied: cachetools<7,>=5.0.0 in /databricks/python3/lib/python3.10/site-packages (from mlflow-skinny==3.1.4->mlflow) (5.3.2)\nRequirement already satisfied: protobuf<7,>=3.12.0 in /databricks/python3/lib/python3.10/site-packages (from mlflow-skinny==3.1.4->mlflow) (4.25.5)\nRequirement already satisfied: tomli in /databricks/python3/lib/python3.10/site-packages (from alembic!=1.10.0,<2->mlflow) (2.0.1)\nRequirement already satisfied: Mako in /local_disk0/.ephemeral_nfs/envs/pythonEnv-231c8729-59ea-47db-ad24-8cf2b8762dfa/lib/python3.10/site-packages (from alembic!=1.10.0,<2->mlflow) (1.3.10)\nRequirement already satisfied: urllib3>=1.26.0 in /databricks/python3/lib/python3.10/site-packages (from docker<8,>=4.0.0->mlflow) (1.26.14)\nRequirement already satisfied: werkzeug>=3.1.0 in /local_disk0/.ephemeral_nfs/envs/pythonEnv-231c8729-59ea-47db-ad24-8cf2b8762dfa/lib/python3.10/site-packages (from Flask<4->mlflow) (3.1.3)\nRequirement already satisfied: markupsafe>=2.1.1 in /databricks/python3/lib/python3.10/site-packages (from Flask<4->mlflow) (2.1.1)\nRequirement already satisfied: jinja2>=3.1.2 in /databricks/python3/lib/python3.10/site-packages (from Flask<4->mlflow) (3.1.2)\nRequirement already satisfied: itsdangerous>=2.2.0 in /local_disk0/.ephemeral_nfs/envs/pythonEnv-231c8729-59ea-47db-ad24-8cf2b8762dfa/lib/python3.10/site-packages (from Flask<4->mlflow) (2.2.0)\nRequirement already satisfied: blinker>=1.9.0 in /local_disk0/.ephemeral_nfs/envs/pythonEnv-231c8729-59ea-47db-ad24-8cf2b8762dfa/lib/python3.10/site-packages (from Flask<4->mlflow) (1.9.0)\nRequirement already satisfied: graphql-core<3.3,>=3.1 in /local_disk0/.ephemeral_nfs/envs/pythonEnv-231c8729-59ea-47db-ad24-8cf2b8762dfa/lib/python3.10/site-packages (from graphene<4->mlflow) (3.2.6)\nRequirement already satisfied: python-dateutil<3,>=2.7.0 in /databricks/python3/lib/python3.10/site-packages (from graphene<4->mlflow) (2.8.2)\nRequirement already satisfied: graphql-relay<3.3,>=3.1 in /local_disk0/.ephemeral_nfs/envs/pythonEnv-231c8729-59ea-47db-ad24-8cf2b8762dfa/lib/python3.10/site-packages (from graphene<4->mlflow) (3.2.0)\nRequirement already satisfied: pillow>=6.2.0 in /databricks/python3/lib/python3.10/site-packages (from matplotlib<4->mlflow) (9.4.0)\nRequirement already satisfied: fonttools>=4.22.0 in /databricks/python3/lib/python3.10/site-packages (from matplotlib<4->mlflow) (4.25.0)\nRequirement already satisfied: kiwisolver>=1.0.1 in /databricks/python3/lib/python3.10/site-packages (from matplotlib<4->mlflow) (1.4.4)\nRequirement already satisfied: contourpy>=1.0.1 in /databricks/python3/lib/python3.10/site-packages (from matplotlib<4->mlflow) (1.0.5)\nRequirement already satisfied: pyparsing>=2.3.1 in /databricks/python3/lib/python3.10/site-packages (from matplotlib<4->mlflow) (3.0.9)\nRequirement already satisfied: cycler>=0.10 in /databricks/python3/lib/python3.10/site-packages (from matplotlib<4->mlflow) (0.11.0)\nRequirement already satisfied: pytz>=2020.1 in /databricks/python3/lib/python3.10/site-packages (from pandas<3->mlflow) (2022.7)\nRequirement already satisfied: threadpoolctl>=2.0.0 in /databricks/python3/lib/python3.10/site-packages (from scikit-learn<2->mlflow) (2.2.0)\nRequirement already satisfied: joblib>=1.0.0 in /databricks/python3/lib/python3.10/site-packages (from scikit-learn<2->mlflow) (1.2.0)\nRequirement already satisfied: greenlet>=1 in /local_disk0/.ephemeral_nfs/envs/pythonEnv-231c8729-59ea-47db-ad24-8cf2b8762dfa/lib/python3.10/site-packages (from sqlalchemy<3,>=1.4.0->mlflow) (3.2.3)\nRequirement already satisfied: google-auth~=2.0 in /databricks/python3/lib/python3.10/site-packages (from databricks-sdk<1,>=0.20.0->mlflow-skinny==3.1.4->mlflow) (2.28.1)\nRequirement already satisfied: starlette<0.48.0,>=0.40.0 in /local_disk0/.ephemeral_nfs/envs/pythonEnv-231c8729-59ea-47db-ad24-8cf2b8762dfa/lib/python3.10/site-packages (from fastapi<1->mlflow-skinny==3.1.4->mlflow) (0.47.2)\nRequirement already satisfied: gitdb<5,>=4.0.1 in /local_disk0/.ephemeral_nfs/envs/pythonEnv-231c8729-59ea-47db-ad24-8cf2b8762dfa/lib/python3.10/site-packages (from gitpython<4,>=3.1.9->mlflow-skinny==3.1.4->mlflow) (4.0.12)\nRequirement already satisfied: zipp>=3.20 in /local_disk0/.ephemeral_nfs/envs/pythonEnv-231c8729-59ea-47db-ad24-8cf2b8762dfa/lib/python3.10/site-packages (from importlib_metadata!=4.7.0,<9,>=3.7.0->mlflow-skinny==3.1.4->mlflow) (3.23.0)\nRequirement already satisfied: opentelemetry-semantic-conventions==0.57b0 in /local_disk0/.ephemeral_nfs/envs/pythonEnv-231c8729-59ea-47db-ad24-8cf2b8762dfa/lib/python3.10/site-packages (from opentelemetry-sdk<3,>=1.9.0->mlflow-skinny==3.1.4->mlflow) (0.57b0)\nRequirement already satisfied: pydantic-core==2.33.2 in /local_disk0/.ephemeral_nfs/envs/pythonEnv-231c8729-59ea-47db-ad24-8cf2b8762dfa/lib/python3.10/site-packages (from pydantic<3,>=1.10.8->mlflow-skinny==3.1.4->mlflow) (2.33.2)\nRequirement already satisfied: typing-inspection>=0.4.0 in /local_disk0/.ephemeral_nfs/envs/pythonEnv-231c8729-59ea-47db-ad24-8cf2b8762dfa/lib/python3.10/site-packages (from pydantic<3,>=1.10.8->mlflow-skinny==3.1.4->mlflow) (0.4.1)\nRequirement already satisfied: annotated-types>=0.6.0 in /local_disk0/.ephemeral_nfs/envs/pythonEnv-231c8729-59ea-47db-ad24-8cf2b8762dfa/lib/python3.10/site-packages (from pydantic<3,>=1.10.8->mlflow-skinny==3.1.4->mlflow) (0.7.0)\nRequirement already satisfied: six>=1.5 in /usr/lib/python3/dist-packages (from python-dateutil<3,>=2.7.0->graphene<4->mlflow) (1.16.0)\nRequirement already satisfied: certifi>=2017.4.17 in /databricks/python3/lib/python3.10/site-packages (from requests<3,>=2.17.3->mlflow-skinny==3.1.4->mlflow) (2022.12.7)\nRequirement already satisfied: idna<4,>=2.5 in /databricks/python3/lib/python3.10/site-packages (from requests<3,>=2.17.3->mlflow-skinny==3.1.4->mlflow) (3.4)\nRequirement already satisfied: charset-normalizer<3,>=2 in /databricks/python3/lib/python3.10/site-packages (from requests<3,>=2.17.3->mlflow-skinny==3.1.4->mlflow) (2.0.4)\nRequirement already satisfied: h11>=0.8 in /local_disk0/.ephemeral_nfs/envs/pythonEnv-231c8729-59ea-47db-ad24-8cf2b8762dfa/lib/python3.10/site-packages (from uvicorn<1->mlflow-skinny==3.1.4->mlflow) (0.16.0)\nRequirement already satisfied: smmap<6,>=3.0.1 in /local_disk0/.ephemeral_nfs/envs/pythonEnv-231c8729-59ea-47db-ad24-8cf2b8762dfa/lib/python3.10/site-packages (from gitdb<5,>=4.0.1->gitpython<4,>=3.1.9->mlflow-skinny==3.1.4->mlflow) (5.0.2)\nRequirement already satisfied: pyasn1-modules>=0.2.1 in /databricks/python3/lib/python3.10/site-packages (from google-auth~=2.0->databricks-sdk<1,>=0.20.0->mlflow-skinny==3.1.4->mlflow) (0.3.0)\nRequirement already satisfied: rsa<5,>=3.1.4 in /databricks/python3/lib/python3.10/site-packages (from google-auth~=2.0->databricks-sdk<1,>=0.20.0->mlflow-skinny==3.1.4->mlflow) (4.9)\nRequirement already satisfied: anyio<5,>=3.6.2 in /local_disk0/.ephemeral_nfs/envs/pythonEnv-231c8729-59ea-47db-ad24-8cf2b8762dfa/lib/python3.10/site-packages (from starlette<0.48.0,>=0.40.0->fastapi<1->mlflow-skinny==3.1.4->mlflow) (4.9.0)\nRequirement already satisfied: exceptiongroup>=1.0.2 in /local_disk0/.ephemeral_nfs/envs/pythonEnv-231c8729-59ea-47db-ad24-8cf2b8762dfa/lib/python3.10/site-packages (from anyio<5,>=3.6.2->starlette<0.48.0,>=0.40.0->fastapi<1->mlflow-skinny==3.1.4->mlflow) (1.3.0)\nRequirement already satisfied: sniffio>=1.1 in /databricks/python3/lib/python3.10/site-packages (from anyio<5,>=3.6.2->starlette<0.48.0,>=0.40.0->fastapi<1->mlflow-skinny==3.1.4->mlflow) (1.2.0)\nRequirement already satisfied: pyasn1<0.6.0,>=0.4.6 in /databricks/python3/lib/python3.10/site-packages (from pyasn1-modules>=0.2.1->google-auth~=2.0->databricks-sdk<1,>=0.20.0->mlflow-skinny==3.1.4->mlflow) (0.5.1)\n\u001B[43mNote: you may need to restart the kernel using %restart_python or dbutils.library.restartPython() to use updated packages.\u001B[0m\n"
     ]
    },
    {
     "output_type": "display_data",
     "data": {
      "text/html": [
       "\n",
       "<div>Declared RandomForestRegress Model Class with methods:</div>\n",
       "<li>Declared <b style=\"color:green\">model()</b> returns existing instance of Random Forest Model</li>\n",
       "<li>Declared <b style=\"color:green\">new_instance(params={...}</b></li> returns a new instance of RandomForestClassifierModel</li> \n",
       "<li>Declared <b style=\"color:green\"> mlflow_run(DataFrame, run_name=\"name\")</b> returns experiment_ID, run_ID</li>\n",
       "\n",
       "<br/>\n"
      ]
     },
     "metadata": {},
     "output_type": "display_data"
    },
    {
     "output_type": "display_data",
     "data": {
      "text/markdown": [
       "Randorm Forest Classifier class definition `RFCModel`"
      ]
     },
     "metadata": {},
     "output_type": "display_data"
    },
    {
     "output_type": "stream",
     "name": "stdout",
     "output_type": "stream",
     "text": [
      "Collecting typing_extensions==4.5.0\n  Downloading typing_extensions-4.5.0-py3-none-any.whl (27 kB)\nRequirement already satisfied: mlflow in /local_disk0/.ephemeral_nfs/envs/pythonEnv-231c8729-59ea-47db-ad24-8cf2b8762dfa/lib/python3.10/site-packages (3.1.4)\nRequirement already satisfied: mlflow-skinny==3.1.4 in /local_disk0/.ephemeral_nfs/envs/pythonEnv-231c8729-59ea-47db-ad24-8cf2b8762dfa/lib/python3.10/site-packages (from mlflow) (3.1.4)\nRequirement already satisfied: scikit-learn<2 in /databricks/python3/lib/python3.10/site-packages (from mlflow) (1.1.1)\nRequirement already satisfied: Flask<4 in /local_disk0/.ephemeral_nfs/envs/pythonEnv-231c8729-59ea-47db-ad24-8cf2b8762dfa/lib/python3.10/site-packages (from mlflow) (3.1.1)\nRequirement already satisfied: matplotlib<4 in /databricks/python3/lib/python3.10/site-packages (from mlflow) (3.7.0)\nRequirement already satisfied: pandas<3 in /databricks/python3/lib/python3.10/site-packages (from mlflow) (1.5.3)\nRequirement already satisfied: numpy<3 in /databricks/python3/lib/python3.10/site-packages (from mlflow) (1.23.5)\nRequirement already satisfied: docker<8,>=4.0.0 in /local_disk0/.ephemeral_nfs/envs/pythonEnv-231c8729-59ea-47db-ad24-8cf2b8762dfa/lib/python3.10/site-packages (from mlflow) (7.1.0)\nRequirement already satisfied: pyarrow<21,>=4.0.0 in /databricks/python3/lib/python3.10/site-packages (from mlflow) (8.0.0)\nRequirement already satisfied: sqlalchemy<3,>=1.4.0 in /local_disk0/.ephemeral_nfs/envs/pythonEnv-231c8729-59ea-47db-ad24-8cf2b8762dfa/lib/python3.10/site-packages (from mlflow) (2.0.42)\nRequirement already satisfied: gunicorn<24 in /local_disk0/.ephemeral_nfs/envs/pythonEnv-231c8729-59ea-47db-ad24-8cf2b8762dfa/lib/python3.10/site-packages (from mlflow) (23.0.0)\nRequirement already satisfied: scipy<2 in /databricks/python3/lib/python3.10/site-packages (from mlflow) (1.10.0)\nRequirement already satisfied: alembic!=1.10.0,<2 in /local_disk0/.ephemeral_nfs/envs/pythonEnv-231c8729-59ea-47db-ad24-8cf2b8762dfa/lib/python3.10/site-packages (from mlflow) (1.16.4)\nRequirement already satisfied: graphene<4 in /local_disk0/.ephemeral_nfs/envs/pythonEnv-231c8729-59ea-47db-ad24-8cf2b8762dfa/lib/python3.10/site-packages (from mlflow) (3.4.3)\nRequirement already satisfied: gitpython<4,>=3.1.9 in /local_disk0/.ephemeral_nfs/envs/pythonEnv-231c8729-59ea-47db-ad24-8cf2b8762dfa/lib/python3.10/site-packages (from mlflow-skinny==3.1.4->mlflow) (3.1.45)\nRequirement already satisfied: pyyaml<7,>=5.1 in /local_disk0/.ephemeral_nfs/envs/pythonEnv-231c8729-59ea-47db-ad24-8cf2b8762dfa/lib/python3.10/site-packages (from mlflow-skinny==3.1.4->mlflow) (6.0.2)\nRequirement already satisfied: uvicorn<1 in /local_disk0/.ephemeral_nfs/envs/pythonEnv-231c8729-59ea-47db-ad24-8cf2b8762dfa/lib/python3.10/site-packages (from mlflow-skinny==3.1.4->mlflow) (0.35.0)\nRequirement already satisfied: databricks-sdk<1,>=0.20.0 in /databricks/python3/lib/python3.10/site-packages (from mlflow-skinny==3.1.4->mlflow) (0.20.0)\nRequirement already satisfied: pydantic<3,>=1.10.8 in /local_disk0/.ephemeral_nfs/envs/pythonEnv-231c8729-59ea-47db-ad24-8cf2b8762dfa/lib/python3.10/site-packages (from mlflow-skinny==3.1.4->mlflow) (2.11.7)\nRequirement already satisfied: cloudpickle<4 in /local_disk0/.ephemeral_nfs/envs/pythonEnv-231c8729-59ea-47db-ad24-8cf2b8762dfa/lib/python3.10/site-packages (from mlflow-skinny==3.1.4->mlflow) (3.1.1)\nRequirement already satisfied: fastapi<1 in /local_disk0/.ephemeral_nfs/envs/pythonEnv-231c8729-59ea-47db-ad24-8cf2b8762dfa/lib/python3.10/site-packages (from mlflow-skinny==3.1.4->mlflow) (0.116.1)\nRequirement already satisfied: importlib_metadata!=4.7.0,<9,>=3.7.0 in /local_disk0/.ephemeral_nfs/envs/pythonEnv-231c8729-59ea-47db-ad24-8cf2b8762dfa/lib/python3.10/site-packages (from mlflow-skinny==3.1.4->mlflow) (8.7.0)\nRequirement already satisfied: cachetools<7,>=5.0.0 in /databricks/python3/lib/python3.10/site-packages (from mlflow-skinny==3.1.4->mlflow) (5.3.2)\nRequirement already satisfied: click<9,>=7.0 in /local_disk0/.ephemeral_nfs/envs/pythonEnv-231c8729-59ea-47db-ad24-8cf2b8762dfa/lib/python3.10/site-packages (from mlflow-skinny==3.1.4->mlflow) (8.2.1)\nRequirement already satisfied: opentelemetry-api<3,>=1.9.0 in /local_disk0/.ephemeral_nfs/envs/pythonEnv-231c8729-59ea-47db-ad24-8cf2b8762dfa/lib/python3.10/site-packages (from mlflow-skinny==3.1.4->mlflow) (1.36.0)\nRequirement already satisfied: protobuf<7,>=3.12.0 in /databricks/python3/lib/python3.10/site-packages (from mlflow-skinny==3.1.4->mlflow) (4.25.5)\nRequirement already satisfied: requests<3,>=2.17.3 in /databricks/python3/lib/python3.10/site-packages (from mlflow-skinny==3.1.4->mlflow) (2.28.1)\nRequirement already satisfied: sqlparse<1,>=0.4.0 in /local_disk0/.ephemeral_nfs/envs/pythonEnv-231c8729-59ea-47db-ad24-8cf2b8762dfa/lib/python3.10/site-packages (from mlflow-skinny==3.1.4->mlflow) (0.5.3)\nRequirement already satisfied: packaging<26 in /databricks/python3/lib/python3.10/site-packages (from mlflow-skinny==3.1.4->mlflow) (23.2)\nRequirement already satisfied: opentelemetry-sdk<3,>=1.9.0 in /local_disk0/.ephemeral_nfs/envs/pythonEnv-231c8729-59ea-47db-ad24-8cf2b8762dfa/lib/python3.10/site-packages (from mlflow-skinny==3.1.4->mlflow) (1.36.0)\nRequirement already satisfied: Mako in /local_disk0/.ephemeral_nfs/envs/pythonEnv-231c8729-59ea-47db-ad24-8cf2b8762dfa/lib/python3.10/site-packages (from alembic!=1.10.0,<2->mlflow) (1.3.10)\nCollecting alembic!=1.10.0,<2\n  Downloading alembic-1.16.3-py3-none-any.whl (246 kB)\n     ━━━━━━━━━━━━━━━━━━━━━━━━━━━━━━━━━━━━━━━ 246.9/246.9 kB 9.7 MB/s eta 0:00:00\n  Downloading alembic-1.16.2-py3-none-any.whl (242 kB)\n     ━━━━━━━━━━━━━━━━━━━━━━━━━━━━━━━━━━━━━━ 242.7/242.7 kB 46.0 MB/s eta 0:00:00\n  Downloading alembic-1.16.1-py3-none-any.whl (242 kB)\n     ━━━━━━━━━━━━━━━━━━━━━━━━━━━━━━━━━━━━━━ 242.5/242.5 kB 36.2 MB/s eta 0:00:00\n  Downloading alembic-1.16.0-py3-none-any.whl (242 kB)\n     ━━━━━━━━━━━━━━━━━━━━━━━━━━━━━━━━━━━━━━ 242.5/242.5 kB 40.9 MB/s eta 0:00:00\n  Downloading alembic-1.15.2-py3-none-any.whl (231 kB)\n     ━━━━━━━━━━━━━━━━━━━━━━━━━━━━━━━━━━━━━━ 231.9/231.9 kB 35.4 MB/s eta 0:00:00\n  Downloading alembic-1.15.1-py3-none-any.whl (231 kB)\n     ━━━━━━━━━━━━━━━━━━━━━━━━━━━━━━━━━━━━━━ 231.8/231.8 kB 49.7 MB/s eta 0:00:00\n  Downloading alembic-1.14.1-py3-none-any.whl (233 kB)\n     ━━━━━━━━━━━━━━━━━━━━━━━━━━━━━━━━━━━━━━ 233.6/233.6 kB 48.7 MB/s eta 0:00:00\nRequirement already satisfied: urllib3>=1.26.0 in /databricks/python3/lib/python3.10/site-packages (from docker<8,>=4.0.0->mlflow) (1.26.14)\nRequirement already satisfied: markupsafe>=2.1.1 in /databricks/python3/lib/python3.10/site-packages (from Flask<4->mlflow) (2.1.1)\nRequirement already satisfied: jinja2>=3.1.2 in /databricks/python3/lib/python3.10/site-packages (from Flask<4->mlflow) (3.1.2)\nRequirement already satisfied: itsdangerous>=2.2.0 in /local_disk0/.ephemeral_nfs/envs/pythonEnv-231c8729-59ea-47db-ad24-8cf2b8762dfa/lib/python3.10/site-packages (from Flask<4->mlflow) (2.2.0)\nRequirement already satisfied: werkzeug>=3.1.0 in /local_disk0/.ephemeral_nfs/envs/pythonEnv-231c8729-59ea-47db-ad24-8cf2b8762dfa/lib/python3.10/site-packages (from Flask<4->mlflow) (3.1.3)\nRequirement already satisfied: blinker>=1.9.0 in /local_disk0/.ephemeral_nfs/envs/pythonEnv-231c8729-59ea-47db-ad24-8cf2b8762dfa/lib/python3.10/site-packages (from Flask<4->mlflow) (1.9.0)\nRequirement already satisfied: python-dateutil<3,>=2.7.0 in /databricks/python3/lib/python3.10/site-packages (from graphene<4->mlflow) (2.8.2)\nCollecting graphene<4\n  Downloading graphene-3.4.2-py2.py3-none-any.whl (114 kB)\n     ━━━━━━━━━━━━━━━━━━━━━━━━━━━━━━━━━━━━━━ 114.7/114.7 kB 13.0 MB/s eta 0:00:00\n  Downloading graphene-3.4.1-py2.py3-none-any.whl (114 kB)\n     ━━━━━━━━━━━━━━━━━━━━━━━━━━━━━━━━━━━━━━ 114.7/114.7 kB 20.5 MB/s eta 0:00:00\n  Downloading graphene-3.4-py2.py3-none-any.whl (114 kB)\n     ━━━━━━━━━━━━━━━━━━━━━━━━━━━━━━━━━━━━━━ 114.6/114.6 kB 21.1 MB/s eta 0:00:00\n  Downloading graphene-3.3-py2.py3-none-any.whl (128 kB)\n     ━━━━━━━━━━━━━━━━━━━━━━━━━━━━━━━━━━━━━━ 128.2/128.2 kB 27.7 MB/s eta 0:00:00\nCollecting aniso8601<10,>=8\n  Downloading aniso8601-9.0.1-py2.py3-none-any.whl (52 kB)\n     ━━━━━━━━━━━━━━━━━━━━━━━━━━━━━━━━━━━━━━━━ 52.8/52.8 kB 13.1 MB/s eta 0:00:00\nRequirement already satisfied: graphql-core<3.3,>=3.1 in /local_disk0/.ephemeral_nfs/envs/pythonEnv-231c8729-59ea-47db-ad24-8cf2b8762dfa/lib/python3.10/site-packages (from graphene<4->mlflow) (3.2.6)\nRequirement already satisfied: graphql-relay<3.3,>=3.1 in /local_disk0/.ephemeral_nfs/envs/pythonEnv-231c8729-59ea-47db-ad24-8cf2b8762dfa/lib/python3.10/site-packages (from graphene<4->mlflow) (3.2.0)\nRequirement already satisfied: cycler>=0.10 in /databricks/python3/lib/python3.10/site-packages (from matplotlib<4->mlflow) (0.11.0)\nRequirement already satisfied: pillow>=6.2.0 in /databricks/python3/lib/python3.10/site-packages (from matplotlib<4->mlflow) (9.4.0)\nRequirement already satisfied: pyparsing>=2.3.1 in /databricks/python3/lib/python3.10/site-packages (from matplotlib<4->mlflow) (3.0.9)\nRequirement already satisfied: kiwisolver>=1.0.1 in /databricks/python3/lib/python3.10/site-packages (from matplotlib<4->mlflow) (1.4.4)\nRequirement already satisfied: fonttools>=4.22.0 in /databricks/python3/lib/python3.10/site-packages (from matplotlib<4->mlflow) (4.25.0)\nRequirement already satisfied: contourpy>=1.0.1 in /databricks/python3/lib/python3.10/site-packages (from matplotlib<4->mlflow) (1.0.5)\nRequirement already satisfied: pytz>=2020.1 in /databricks/python3/lib/python3.10/site-packages (from pandas<3->mlflow) (2022.7)\nRequirement already satisfied: joblib>=1.0.0 in /databricks/python3/lib/python3.10/site-packages (from scikit-learn<2->mlflow) (1.2.0)\nRequirement already satisfied: threadpoolctl>=2.0.0 in /databricks/python3/lib/python3.10/site-packages (from scikit-learn<2->mlflow) (2.2.0)\nCollecting sqlalchemy<3,>=1.4.0\n  Downloading sqlalchemy-2.0.41-cp310-cp310-manylinux_2_17_x86_64.manylinux2014_x86_64.whl (3.2 MB)\n     ━━━━━━━━━━━━━━━━━━━━━━━━━━━━━━━━━━━━━━━━ 3.2/3.2 MB 82.8 MB/s eta 0:00:00\n  Downloading sqlalchemy-2.0.40-cp310-cp310-manylinux_2_17_x86_64.manylinux2014_x86_64.whl (3.1 MB)\n     ━━━━━━━━━━━━━━━━━━━━━━━━━━━━━━━━━━━━━━━━ 3.1/3.1 MB 105.4 MB/s eta 0:00:00\n  Downloading sqlalchemy-2.0.39-cp310-cp310-manylinux_2_17_x86_64.manylinux2014_x86_64.whl (3.1 MB)\n     ━━━━━━━━━━━━━━━━━━━━━━━━━━━━━━━━━━━━━━━━ 3.1/3.1 MB 68.8 MB/s eta 0:00:00\n  Downloading SQLAlchemy-2.0.38-cp310-cp310-manylinux_2_17_x86_64.manylinux2014_x86_64.whl (3.1 MB)\n     ━━━━━━━━━━━━━━━━━━━━━━━━━━━━━━━━━━━━━━━━ 3.1/3.1 MB 121.1 MB/s eta 0:00:00\n  Downloading SQLAlchemy-2.0.37-cp310-cp310-manylinux_2_17_x86_64.manylinux2014_x86_64.whl (3.1 MB)\n     ━━━━━━━━━━━━━━━━━━━━━━━━━━━━━━━━━━━━━━━━ 3.1/3.1 MB 101.4 MB/s eta 0:00:00\n  Downloading SQLAlchemy-2.0.36-cp310-cp310-manylinux_2_17_x86_64.manylinux2014_x86_64.whl (3.1 MB)\n     ━━━━━━━━━━━━━━━━━━━━━━━━━━━━━━━━━━━━━━━━ 3.1/3.1 MB 74.7 MB/s eta 0:00:00\n  Downloading SQLAlchemy-2.0.35-cp310-cp310-manylinux_2_17_x86_64.manylinux2014_x86_64.whl (3.1 MB)\n     ━━━━━━━━━━━━━━━━━━━━━━━━━━━━━━━━━━━━━━━━ 3.1/3.1 MB 77.8 MB/s eta 0:00:00\n  Downloading SQLAlchemy-2.0.34-cp310-cp310-manylinux_2_17_x86_64.manylinux2014_x86_64.whl (3.1 MB)\n     ━━━━━━━━━━━━━━━━━━━━━━━━━━━━━━━━━━━━━━━━ 3.1/3.1 MB 88.0 MB/s eta 0:00:00\n  Downloading SQLAlchemy-2.0.33-cp310-cp310-manylinux_2_17_x86_64.manylinux2014_x86_64.whl (3.1 MB)\n     ━━━━━━━━━━━━━━━━━━━━━━━━━━━━━━━━━━━━━━━━ 3.1/3.1 MB 86.5 MB/s eta 0:00:00\n  Downloading SQLAlchemy-2.0.32-cp310-cp310-manylinux_2_17_x86_64.manylinux2014_x86_64.whl (3.1 MB)\n     ━━━━━━━━━━━━━━━━━━━━━━━━━━━━━━━━━━━━━━━━ 3.1/3.1 MB 77.0 MB/s eta 0:00:00\n  Downloading SQLAlchemy-2.0.31-cp310-cp310-manylinux_2_17_x86_64.manylinux2014_x86_64.whl (3.1 MB)\n     ━━━━━━━━━━━━━━━━━━━━━━━━━━━━━━━━━━━━━━━━ 3.1/3.1 MB 44.9 MB/s eta 0:00:00\n  Downloading SQLAlchemy-2.0.30-cp310-cp310-manylinux_2_17_x86_64.manylinux2014_x86_64.whl (3.1 MB)\n     ━━━━━━━━━━━━━━━━━━━━━━━━━━━━━━━━━━━━━━━━ 3.1/3.1 MB 83.2 MB/s eta 0:00:00\n  Downloading SQLAlchemy-2.0.29-cp310-cp310-manylinux_2_17_x86_64.manylinux2014_x86_64.whl (3.1 MB)\n     ━━━━━━━━━━━━━━━━━━━━━━━━━━━━━━━━━━━━━━━━ 3.1/3.1 MB 90.5 MB/s eta 0:00:00\n  Downloading SQLAlchemy-2.0.28-cp310-cp310-manylinux_2_17_x86_64.manylinux2014_x86_64.whl (3.1 MB)\n     ━━━━━━━━━━━━━━━━━━━━━━━━━━━━━━━━━━━━━━━━ 3.1/3.1 MB 85.8 MB/s eta 0:00:00\n  Downloading SQLAlchemy-2.0.27-cp310-cp310-manylinux_2_17_x86_64.manylinux2014_x86_64.whl (3.1 MB)\n     ━━━━━━━━━━━━━━━━━━━━━━━━━━━━━━━━━━━━━━━━ 3.1/3.1 MB 39.3 MB/s eta 0:00:00\n  Downloading SQLAlchemy-2.0.26-cp310-cp310-manylinux_2_17_x86_64.manylinux2014_x86_64.whl (3.1 MB)\n     ━━━━━━━━━━━━━━━━━━━━━━━━━━━━━━━━━━━━━━━━ 3.1/3.1 MB 49.1 MB/s eta 0:00:00\n  Downloading SQLAlchemy-2.0.25-cp310-cp310-manylinux_2_17_x86_64.manylinux2014_x86_64.whl (3.1 MB)\n     ━━━━━━━━━━━━━━━━━━━━━━━━━━━━━━━━━━━━━━━━ 3.1/3.1 MB 52.1 MB/s eta 0:00:00\n  Downloading SQLAlchemy-2.0.24-cp310-cp310-manylinux_2_17_x86_64.manylinux2014_x86_64.whl (3.1 MB)\n     ━━━━━━━━━━━━━━━━━━━━━━━━━━━━━━━━━━━━━━━━ 3.1/3.1 MB 87.3 MB/s eta 0:00:00\nRequirement already satisfied: greenlet!=0.4.17 in /local_disk0/.ephemeral_nfs/envs/pythonEnv-231c8729-59ea-47db-ad24-8cf2b8762dfa/lib/python3.10/site-packages (from sqlalchemy<3,>=1.4.0->mlflow) (3.2.3)\nRequirement already satisfied: google-auth~=2.0 in /databricks/python3/lib/python3.10/site-packages (from databricks-sdk<1,>=0.20.0->mlflow-skinny==3.1.4->mlflow) (2.28.1)\nRequirement already satisfied: starlette<0.48.0,>=0.40.0 in /local_disk0/.ephemeral_nfs/envs/pythonEnv-231c8729-59ea-47db-ad24-8cf2b8762dfa/lib/python3.10/site-packages (from fastapi<1->mlflow-skinny==3.1.4->mlflow) (0.47.2)\nCollecting fastapi<1\n  Downloading fastapi-0.116.0-py3-none-any.whl (95 kB)\n     ━━━━━━━━━━━━━━━━━━━━━━━━━━━━━━━━━━━━━━━━ 95.6/95.6 kB 22.6 MB/s eta 0:00:00\n  Downloading fastapi-0.115.14-py3-none-any.whl (95 kB)\n     ━━━━━━━━━━━━━━━━━━━━━━━━━━━━━━━━━━━━━━━━ 95.5/95.5 kB 23.8 MB/s eta 0:00:00\n  Downloading fastapi-0.115.13-py3-none-any.whl (95 kB)\n     ━━━━━━━━━━━━━━━━━━━━━━━━━━━━━━━━━━━━━━━━ 95.3/95.3 kB 16.5 MB/s eta 0:00:00\n  Downloading fastapi-0.115.12-py3-none-any.whl (95 kB)\n     ━━━━━━━━━━━━━━━━━━━━━━━━━━━━━━━━━━━━━━━━ 95.2/95.2 kB 6.9 MB/s eta 0:00:00\n  Downloading fastapi-0.115.11-py3-none-any.whl (94 kB)\n     ━━━━━━━━━━━━━━━━━━━━━━━━━━━━━━━━━━━━━━━━ 94.9/94.9 kB 23.8 MB/s eta 0:00:00\n  Downloading fastapi-0.115.10-py3-none-any.whl (94 kB)\n     ━━━━━━━━━━━━━━━━━━━━━━━━━━━━━━━━━━━━━━━━ 94.9/94.9 kB 21.1 MB/s eta 0:00:00\n  Downloading fastapi-0.115.9-py3-none-any.whl (94 kB)\n     ━━━━━━━━━━━━━━━━━━━━━━━━━━━━━━━━━━━━━━━━ 94.9/94.9 kB 11.6 MB/s eta 0:00:00\n  Downloading fastapi-0.115.8-py3-none-any.whl (94 kB)\n     ━━━━━━━━━━━━━━━━━━━━━━━━━━━━━━━━━━━━━━━━ 94.8/94.8 kB 24.2 MB/s eta 0:00:00\n  Downloading fastapi-0.115.7-py3-none-any.whl (94 kB)\n     ━━━━━━━━━━━━━━━━━━━━━━━━━━━━━━━━━━━━━━━━ 94.8/94.8 kB 17.8 MB/s eta 0:00:00\n  Downloading fastapi-0.115.6-py3-none-any.whl (94 kB)\n     ━━━━━━━━━━━━━━━━━━━━━━━━━━━━━━━━━━━━━━━━ 94.8/94.8 kB 22.6 MB/s eta 0:00:00\nCollecting starlette<0.42.0,>=0.40.0\n  Downloading starlette-0.41.3-py3-none-any.whl (73 kB)\n     ━━━━━━━━━━━━━━━━━━━━━━━━━━━━━━━━━━━━━━━━ 73.2/73.2 kB 10.9 MB/s eta 0:00:00\nCollecting fastapi<1\n  Downloading fastapi-0.115.5-py3-none-any.whl (94 kB)\n     ━━━━━━━━━━━━━━━━━━━━━━━━━━━━━━━━━━━━━━━━ 94.9/94.9 kB 19.2 MB/s eta 0:00:00\n  Downloading fastapi-0.115.4-py3-none-any.whl (94 kB)\n     ━━━━━━━━━━━━━━━━━━━━━━━━━━━━━━━━━━━━━━━━ 94.7/94.7 kB 17.1 MB/s eta 0:00:00\n  Downloading fastapi-0.115.3-py3-none-any.whl (94 kB)\n     ━━━━━━━━━━━━━━━━━━━━━━━━━━━━━━━━━━━━━━━━ 94.6/94.6 kB 8.5 MB/s eta 0:00:00\n  Downloading fastapi-0.115.2-py3-none-any.whl (94 kB)\n     ━━━━━━━━━━━━━━━━━━━━━━━━━━━━━━━━━━━━━━━━ 94.7/94.7 kB 21.5 MB/s eta 0:00:00\n  Downloading fastapi-0.115.1-py3-none-any.whl (94 kB)\n     ━━━━━━━━━━━━━━━━━━━━━━━━━━━━━━━━━━━━━━━━ 94.6/94.6 kB 15.2 MB/s eta 0:00:00\n  Downloading fastapi-0.115.0-py3-none-any.whl (94 kB)\n     ━━━━━━━━━━━━━━━━━━━━━━━━━━━━━━━━━━━━━━━━ 94.6/94.6 kB 24.1 MB/s eta 0:00:00\n  Downloading fastapi-0.114.2-py3-none-any.whl (94 kB)\n     ━━━━━━━━━━━━━━━━━━━━━━━━━━━━━━━━━━━━━━━━ 94.0/94.0 kB 17.3 MB/s eta 0:00:00\n  Downloading fastapi-0.114.1-py3-none-any.whl (94 kB)\n     ━━━━━━━━━━━━━━━━━━━━━━━━━━━━━━━━━━━━━━━━ 94.0/94.0 kB 15.4 MB/s eta 0:00:00\n  Downloading fastapi-0.114.0-py3-none-any.whl (94 kB)\n     ━━━━━━━━━━━━━━━━━━━━━━━━━━━━━━━━━━━━━━━━ 94.0/94.0 kB 24.9 MB/s eta 0:00:00\n  Downloading fastapi-0.113.0-py3-none-any.whl (93 kB)\n     ━━━━━━━━━━━━━━━━━━━━━━━━━━━━━━━━━━━━━━━━ 94.0/94.0 kB 22.7 MB/s eta 0:00:00\n  Downloading fastapi-0.112.4-py3-none-any.whl (93 kB)\n     ━━━━━━━━━━━━━━━━━━━━━━━━━━━━━━━━━━━━━━━━ 93.9/93.9 kB 21.9 MB/s eta 0:00:00\n  Downloading fastapi-0.112.3-py3-none-any.whl (93 kB)\n     ━━━━━━━━━━━━━━━━━━━━━━━━━━━━━━━━━━━━━━━━ 93.4/93.4 kB 17.4 MB/s eta 0:00:00\n  Downloading fastapi-0.112.2-py3-none-any.whl (93 kB)\n     ━━━━━━━━━━━━━━━━━━━━━━━━━━━━━━━━━━━━━━━━ 93.5/93.5 kB 13.0 MB/s eta 0:00:00\n  Downloading fastapi-0.112.1-py3-none-any.whl (93 kB)\n     ━━━━━━━━━━━━━━━━━━━━━━━━━━━━━━━━━━━━━━━━ 93.2/93.2 kB 18.7 MB/s eta 0:00:00\n  Downloading fastapi-0.112.0-py3-none-any.whl (93 kB)\n     ━━━━━━━━━━━━━━━━━━━━━━━━━━━━━━━━━━━━━━━━ 93.1/93.1 kB 16.4 MB/s eta 0:00:00\nCollecting starlette<0.38.0,>=0.37.2\n  Downloading starlette-0.37.2-py3-none-any.whl (71 kB)\n     ━━━━━━━━━━━━━━━━━━━━━━━━━━━━━━━━━━━━━━━━ 71.9/71.9 kB 13.4 MB/s eta 0:00:00\nCollecting fastapi<1\n  Downloading fastapi-0.111.1-py3-none-any.whl (92 kB)\n     ━━━━━━━━━━━━━━━━━━━━━━━━━━━━━━━━━━━━━━━━ 92.2/92.2 kB 10.1 MB/s eta 0:00:00\nCollecting httpx>=0.23.0\n  Downloading httpx-0.28.1-py3-none-any.whl (73 kB)\n     ━━━━━━━━━━━━━━━━━━━━━━━━━━━━━━━━━━━━━━━━ 73.5/73.5 kB 17.4 MB/s eta 0:00:00\nCollecting fastapi<1\n  Downloading fastapi-0.111.0-py3-none-any.whl (91 kB)\n     ━━━━━━━━━━━━━━━━━━━━━━━━━━━━━━━━━━━━━━━━ 92.0/92.0 kB 9.7 MB/s eta 0:00:00\n  Downloading fastapi-0.110.3-py3-none-any.whl (91 kB)\n     ━━━━━━━━━━━━━━━━━━━━━━━━━━━━━━━━━━━━━━━━ 91.8/91.8 kB 19.3 MB/s eta 0:00:00\n  Downloading fastapi-0.110.2-py3-none-any.whl (91 kB)\n     ━━━━━━━━━━━━━━━━━━━━━━━━━━━━━━━━━━━━━━━━ 91.9/91.9 kB 20.5 MB/s eta 0:00:00\n  Downloading fastapi-0.110.1-py3-none-any.whl (91 kB)\n     ━━━━━━━━━━━━━━━━━━━━━━━━━━━━━━━━━━━━━━━━ 91.9/91.9 kB 23.3 MB/s eta 0:00:00\n  Downloading fastapi-0.110.0-py3-none-any.whl (92 kB)\n     ━━━━━━━━━━━━━━━━━━━━━━━━━━━━━━━━━━━━━━━━ 92.1/92.1 kB 24.4 MB/s eta 0:00:00\n  Downloading fastapi-0.109.2-py3-none-any.whl (92 kB)\n     ━━━━━━━━━━━━━━━━━━━━━━━━━━━━━━━━━━━━━━━━ 92.1/92.1 kB 21.9 MB/s eta 0:00:00\n  Downloading fastapi-0.109.1-py3-none-any.whl (92 kB)\n     ━━━━━━━━━━━━━━━━━━━━━━━━━━━━━━━━━━━━━━━━ 92.1/92.1 kB 22.2 MB/s eta 0:00:00\nCollecting starlette<0.36.0,>=0.35.0\n  Downloading starlette-0.35.1-py3-none-any.whl (71 kB)\n     ━━━━━━━━━━━━━━━━━━━━━━━━━━━━━━━━━━━━━━━━ 71.1/71.1 kB 17.4 MB/s eta 0:00:00\nCollecting fastapi<1\n  Downloading fastapi-0.109.0-py3-none-any.whl (92 kB)\n     ━━━━━━━━━━━━━━━━━━━━━━━━━━━━━━━━━━━━━━━━ 92.0/92.0 kB 23.7 MB/s eta 0:00:00\n  Downloading fastapi-0.108.0-py3-none-any.whl (92 kB)\n     ━━━━━━━━━━━━━━━━━━━━━━━━━━━━━━━━━━━━━━━━ 92.0/92.0 kB 21.6 MB/s eta 0:00:00\n  Downloading fastapi-0.107.0-py3-none-any.whl (92 kB)\n     ━━━━━━━━━━━━━━━━━━━━━━━━━━━━━━━━━━━━━━━━ 92.1/92.1 kB 21.6 MB/s eta 0:00:00\n  Downloading fastapi-0.106.0-py3-none-any.whl (92 kB)\n     ━━━━━━━━━━━━━━━━━━━━━━━━━━━━━━━━━━━━━━━━ 92.1/92.1 kB 21.5 MB/s eta 0:00:00\nCollecting starlette<0.28.0,>=0.27.0\n  Downloading starlette-0.27.0-py3-none-any.whl (66 kB)\n     ━━━━━━━━━━━━━━━━━━━━━━━━━━━━━━━━━━━━━━━━ 67.0/67.0 kB 16.8 MB/s eta 0:00:00\nCollecting fastapi<1\n  Downloading fastapi-0.105.0-py3-none-any.whl (93 kB)\n     ━━━━━━━━━━━━━━━━━━━━━━━━━━━━━━━━━━━━━━━━ 93.1/93.1 kB 8.5 MB/s eta 0:00:00\n  Downloading fastapi-0.104.1-py3-none-any.whl (92 kB)\n     ━━━━━━━━━━━━━━━━━━━━━━━━━━━━━━━━━━━━━━━━ 92.9/92.9 kB 11.8 MB/s eta 0:00:00\n  Downloading fastapi-0.104.0-py3-none-any.whl (92 kB)\n     ━━━━━━━━━━━━━━━━━━━━━━━━━━━━━━━━━━━━━━━━ 92.9/92.9 kB 11.7 MB/s eta 0:00:00\n  Downloading fastapi-0.103.2-py3-none-any.whl (66 kB)\n     ━━━━━━━━━━━━━━━━━━━━━━━━━━━━━━━━━━━━━━━━ 66.3/66.3 kB 16.0 MB/s eta 0:00:00\nCollecting anyio<4.0.0,>=3.7.1\n  Downloading anyio-3.7.1-py3-none-any.whl (80 kB)\n     ━━━━━━━━━━━━━━━━━━━━━━━━━━━━━━━━━━━━━━━━ 80.9/80.9 kB 20.9 MB/s eta 0:00:00\nRequirement already satisfied: gitdb<5,>=4.0.1 in /local_disk0/.ephemeral_nfs/envs/pythonEnv-231c8729-59ea-47db-ad24-8cf2b8762dfa/lib/python3.10/site-packages (from gitpython<4,>=3.1.9->mlflow-skinny==3.1.4->mlflow) (4.0.12)\nRequirement already satisfied: zipp>=3.20 in /local_disk0/.ephemeral_nfs/envs/pythonEnv-231c8729-59ea-47db-ad24-8cf2b8762dfa/lib/python3.10/site-packages (from importlib_metadata!=4.7.0,<9,>=3.7.0->mlflow-skinny==3.1.4->mlflow) (3.23.0)\nRequirement already satisfied: opentelemetry-semantic-conventions==0.57b0 in /local_disk0/.ephemeral_nfs/envs/pythonEnv-231c8729-59ea-47db-ad24-8cf2b8762dfa/lib/python3.10/site-packages (from opentelemetry-sdk<3,>=1.9.0->mlflow-skinny==3.1.4->mlflow) (0.57b0)\nRequirement already satisfied: typing-inspection>=0.4.0 in /local_disk0/.ephemeral_nfs/envs/pythonEnv-231c8729-59ea-47db-ad24-8cf2b8762dfa/lib/python3.10/site-packages (from pydantic<3,>=1.10.8->mlflow-skinny==3.1.4->mlflow) (0.4.1)\nRequirement already satisfied: pydantic-core==2.33.2 in /local_disk0/.ephemeral_nfs/envs/pythonEnv-231c8729-59ea-47db-ad24-8cf2b8762dfa/lib/python3.10/site-packages (from pydantic<3,>=1.10.8->mlflow-skinny==3.1.4->mlflow) (2.33.2)\nRequirement already satisfied: annotated-types>=0.6.0 in /local_disk0/.ephemeral_nfs/envs/pythonEnv-231c8729-59ea-47db-ad24-8cf2b8762dfa/lib/python3.10/site-packages (from pydantic<3,>=1.10.8->mlflow-skinny==3.1.4->mlflow) (0.7.0)\nCollecting pydantic<3,>=1.10.8\n  Downloading pydantic-2.11.6-py3-none-any.whl (444 kB)\n     ━━━━━━━━━━━━━━━━━━━━━━━━━━━━━━━━━━━━━━ 444.7/444.7 kB 43.6 MB/s eta 0:00:00\n  Downloading pydantic-2.11.5-py3-none-any.whl (444 kB)\n     ━━━━━━━━━━━━━━━━━━━━━━━━━━━━━━━━━━━━━━ 444.2/444.2 kB 37.7 MB/s eta 0:00:00\n  Downloading pydantic-2.11.4-py3-none-any.whl (443 kB)\n     ━━━━━━━━━━━━━━━━━━━━━━━━━━━━━━━━━━━━━━ 443.9/443.9 kB 59.4 MB/s eta 0:00:00\n  Downloading pydantic-2.11.3-py3-none-any.whl (443 kB)\n     ━━━━━━━━━━━━━━━━━━━━━━━━━━━━━━━━━━━━━━ 443.6/443.6 kB 35.5 MB/s eta 0:00:00\nCollecting pydantic-core==2.33.1\n  Downloading pydantic_core-2.33.1-cp310-cp310-manylinux_2_17_x86_64.manylinux2014_x86_64.whl (2.0 MB)\n     ━━━━━━━━━━━━━━━━━━━━━━━━━━━━━━━━━━━━━━━━ 2.0/2.0 MB 69.7 MB/s eta 0:00:00\nCollecting pydantic<3,>=1.10.8\n  Downloading pydantic-2.11.2-py3-none-any.whl (443 kB)\n     ━━━━━━━━━━━━━━━━━━━━━━━━━━━━━━━━━━━━━━ 443.3/443.3 kB 60.0 MB/s eta 0:00:00\n  Downloading pydantic-2.11.1-py3-none-any.whl (442 kB)\n     ━━━━━━━━━━━━━━━━━━━━━━━━━━━━━━━━━━━━━━ 442.6/442.6 kB 64.0 MB/s eta 0:00:00\nCollecting pydantic-core==2.33.0\n  Downloading pydantic_core-2.33.0-cp310-cp310-manylinux_2_17_x86_64.manylinux2014_x86_64.whl (2.0 MB)\n     ━━━━━━━━━━━━━━━━━━━━━━━━━━━━━━━━━━━━━━━━ 2.0/2.0 MB 85.6 MB/s eta 0:00:00\nCollecting pydantic<3,>=1.10.8\n  Downloading pydantic-2.11.0-py3-none-any.whl (442 kB)\n     ━━━━━━━━━━━━━━━━━━━━━━━━━━━━━━━━━━━━━━ 442.6/442.6 kB 65.6 MB/s eta 0:00:00\n  Downloading pydantic-2.10.6-py3-none-any.whl (431 kB)\n     ━━━━━━━━━━━━━━━━━━━━━━━━━━━━━━━━━━━━━━ 431.7/431.7 kB 68.8 MB/s eta 0:00:00\nCollecting pydantic-core==2.27.2\n  Downloading pydantic_core-2.27.2-cp310-cp310-manylinux_2_17_x86_64.manylinux2014_x86_64.whl (2.0 MB)\n     ━━━━━━━━━━━━━━━━━━━━━━━━━━━━━━━━━━━━━━━━ 2.0/2.0 MB 82.5 MB/s eta 0:00:00\nCollecting pydantic<3,>=1.10.8\n  Downloading pydantic-2.10.5-py3-none-any.whl (431 kB)\n     ━━━━━━━━━━━━━━━━━━━━━━━━━━━━━━━━━━━━━━ 431.4/431.4 kB 61.4 MB/s eta 0:00:00\n  Downloading pydantic-2.10.4-py3-none-any.whl (431 kB)\n     ━━━━━━━━━━━━━━━━━━━━━━━━━━━━━━━━━━━━━━ 431.8/431.8 kB 55.1 MB/s eta 0:00:00\n  Downloading pydantic-2.10.3-py3-none-any.whl (456 kB)\n     ━━━━━━━━━━━━━━━━━━━━━━━━━━━━━━━━━━━━━━ 457.0/457.0 kB 76.8 MB/s eta 0:00:00\nCollecting pydantic-core==2.27.1\n  Downloading pydantic_core-2.27.1-cp310-cp310-manylinux_2_17_x86_64.manylinux2014_x86_64.whl (2.1 MB)\n     ━━━━━━━━━━━━━━━━━━━━━━━━━━━━━━━━━━━━━━━━ 2.1/2.1 MB 77.1 MB/s eta 0:00:00\nCollecting pydantic<3,>=1.10.8\n  Downloading pydantic-2.10.2-py3-none-any.whl (456 kB)\n     ━━━━━━━━━━━━━━━━━━━━━━━━━━━━━━━━━━━━━━ 456.4/456.4 kB 43.8 MB/s eta 0:00:00\n  Downloading pydantic-2.10.1-py3-none-any.whl (455 kB)\n     ━━━━━━━━━━━━━━━━━━━━━━━━━━━━━━━━━━━━━━ 455.3/455.3 kB 64.6 MB/s eta 0:00:00\n  Downloading pydantic-2.10.0-py3-none-any.whl (454 kB)\n     ━━━━━━━━━━━━━━━━━━━━━━━━━━━━━━━━━━━━━━ 454.3/454.3 kB 41.5 MB/s eta 0:00:00\n  Downloading pydantic-2.9.2-py3-none-any.whl (434 kB)\n     ━━━━━━━━━━━━━━━━━━━━━━━━━━━━━━━━━━━━━━ 434.9/434.9 kB 58.1 MB/s eta 0:00:00\nCollecting pydantic-core==2.23.4\n  Downloading pydantic_core-2.23.4-cp310-cp310-manylinux_2_17_x86_64.manylinux2014_x86_64.whl (2.1 MB)\n     ━━━━━━━━━━━━━━━━━━━━━━━━━━━━━━━━━━━━━━━━ 2.1/2.1 MB 69.5 MB/s eta 0:00:00\nCollecting pydantic<3,>=1.10.8\n  Downloading pydantic-2.9.1-py3-none-any.whl (434 kB)\n     ━━━━━━━━━━━━━━━━━━━━━━━━━━━━━━━━━━━━━━ 434.4/434.4 kB 71.8 MB/s eta 0:00:00\nCollecting pydantic-core==2.23.3\n  Downloading pydantic_core-2.23.3-cp310-cp310-manylinux_2_17_x86_64.manylinux2014_x86_64.whl (2.1 MB)\n     ━━━━━━━━━━━━━━━━━━━━━━━━━━━━━━━━━━━━━━━━ 2.1/2.1 MB 98.9 MB/s eta 0:00:00\nCollecting pydantic<3,>=1.10.8\n  Downloading pydantic-2.9.0-py3-none-any.whl (434 kB)\n     ━━━━━━━━━━━━━━━━━━━━━━━━━━━━━━━━━━━━━━ 434.3/434.3 kB 36.4 MB/s eta 0:00:00\nCollecting tzdata\n  Downloading tzdata-2025.2-py2.py3-none-any.whl (347 kB)\n     ━━━━━━━━━━━━━━━━━━━━━━━━━━━━━━━━━━━━━━ 347.8/347.8 kB 36.5 MB/s eta 0:00:00\nCollecting pydantic<3,>=1.10.8\n  Downloading pydantic-2.8.2-py3-none-any.whl (423 kB)\n     ━━━━━━━━━━━━━━━━━━━━━━━━━━━━━━━━━━━━━━ 423.9/423.9 kB 54.7 MB/s eta 0:00:00\n  Downloading pydantic-2.8.1-py3-none-any.whl (423 kB)\n     ━━━━━━━━━━━━━━━━━━━━━━━━━━━━━━━━━━━━━━ 423.7/423.7 kB 60.3 MB/s eta 0:00:00\n  Downloading pydantic-2.8.0-py3-none-any.whl (423 kB)\n     ━━━━━━━━━━━━━━━━━━━━━━━━━━━━━━━━━━━━━━ 423.1/423.1 kB 50.3 MB/s eta 0:00:00\nCollecting pydantic-core==2.20.0\n  Downloading pydantic_core-2.20.0-cp310-cp310-manylinux_2_17_x86_64.manylinux2014_x86_64.whl (2.1 MB)\n     ━━━━━━━━━━━━━━━━━━━━━━━━━━━━━━━━━━━━━━━━ 2.1/2.1 MB 29.7 MB/s eta 0:00:00\nCollecting pydantic<3,>=1.10.8\n  Downloading pydantic-2.7.4-py3-none-any.whl (409 kB)\n     ━━━━━━━━━━━━━━━━━━━━━━━━━━━━━━━━━━━━━━ 409.0/409.0 kB 73.9 MB/s eta 0:00:00\n  Downloading pydantic-2.7.3-py3-none-any.whl (409 kB)\n     ━━━━━━━━━━━━━━━━━━━━━━━━━━━━━━━━━━━━━━ 409.6/409.6 kB 57.5 MB/s eta 0:00:00\n  Downloading pydantic-2.7.2-py3-none-any.whl (409 kB)\n     ━━━━━━━━━━━━━━━━━━━━━━━━━━━━━━━━━━━━━━ 409.5/409.5 kB 56.3 MB/s eta 0:00:00\n  Downloading pydantic-2.7.1-py3-none-any.whl (409 kB)\n     ━━━━━━━━━━━━━━━━━━━━━━━━━━━━━━━━━━━━━━ 409.3/409.3 kB 48.9 MB/s eta 0:00:00\n  Downloading pydantic-2.7.0-py3-none-any.whl (407 kB)\n     ━━━━━━━━━━━━━━━━━━━━━━━━━━━━━━━━━━━━━━ 407.9/407.9 kB 58.2 MB/s eta 0:00:00\nCollecting pydantic-core==2.18.1\n  Downloading pydantic_core-2.18.1-cp310-cp310-manylinux_2_17_x86_64.manylinux2014_x86_64.whl (2.1 MB)\n     ━━━━━━━━━━━━━━━━━━━━━━━━━━━━━━━━━━━━━━━━ 2.1/2.1 MB 88.1 MB/s eta 0:00:00\nCollecting pydantic<3,>=1.10.8\n  Downloading pydantic-2.6.4-py3-none-any.whl (394 kB)\n     ━━━━━━━━━━━━━━━━━━━━━━━━━━━━━━━━━━━━━━ 394.9/394.9 kB 43.6 MB/s eta 0:00:00\n  Downloading pydantic-2.6.3-py3-none-any.whl (395 kB)\n     ━━━━━━━━━━━━━━━━━━━━━━━━━━━━━━━━━━━━━━ 395.2/395.2 kB 30.8 MB/s eta 0:00:00\n  Downloading pydantic-2.6.2-py3-none-any.whl (394 kB)\n     ━━━━━━━━━━━━━━━━━━━━━━━━━━━━━━━━━━━━━━ 394.9/394.9 kB 42.7 MB/s eta 0:00:00\n  Downloading pydantic-2.6.1-py3-none-any.whl (394 kB)\n     ━━━━━━━━━━━━━━━━━━━━━━━━━━━━━━━━━━━━━━ 394.8/394.8 kB 58.8 MB/s eta 0:00:00\nCollecting pydantic-core==2.16.2\n  Downloading pydantic_core-2.16.2-cp310-cp310-manylinux_2_17_x86_64.manylinux2014_x86_64.whl (2.2 MB)\n     ━━━━━━━━━━━━━━━━━━━━━━━━━━━━━━━━━━━━━━━━ 2.2/2.2 MB 42.9 MB/s eta 0:00:00\nCollecting pydantic<3,>=1.10.8\n  Downloading pydantic-2.6.0-py3-none-any.whl (394 kB)\n     ━━━━━━━━━━━━━━━━━━━━━━━━━━━━━━━━━━━━━━ 394.2/394.2 kB 10.3 MB/s eta 0:00:00\n  Downloading pydantic-2.5.3-py3-none-any.whl (381 kB)\n     ━━━━━━━━━━━━━━━━━━━━━━━━━━━━━━━━━━━━━━ 381.9/381.9 kB 26.4 MB/s eta 0:00:00\nCollecting pydantic-core==2.14.6\n  Downloading pydantic_core-2.14.6-cp310-cp310-manylinux_2_17_x86_64.manylinux2014_x86_64.whl (2.1 MB)\n     ━━━━━━━━━━━━━━━━━━━━━━━━━━━━━━━━━━━━━━━━ 2.1/2.1 MB 86.3 MB/s eta 0:00:00\nCollecting pydantic<3,>=1.10.8\n  Downloading pydantic-2.5.2-py3-none-any.whl (381 kB)\n     ━━━━━━━━━━━━━━━━━━━━━━━━━━━━━━━━━━━━━━ 381.9/381.9 kB 62.0 MB/s eta 0:00:00\nCollecting pydantic-core==2.14.5\n  Downloading pydantic_core-2.14.5-cp310-cp310-manylinux_2_17_x86_64.manylinux2014_x86_64.whl (2.1 MB)\n     ━━━━━━━━━━━━━━━━━━━━━━━━━━━━━━━━━━━━━━━━ 2.1/2.1 MB 105.1 MB/s eta 0:00:00\nCollecting pydantic<3,>=1.10.8\n  Downloading pydantic-2.5.1-py3-none-any.whl (381 kB)\n     ━━━━━━━━━━━━━━━━━━━━━━━━━━━━━━━━━━━━━━ 381.6/381.6 kB 18.2 MB/s eta 0:00:00\nCollecting pydantic-core==2.14.3\n  Downloading pydantic_core-2.14.3-cp310-cp310-manylinux_2_17_x86_64.manylinux2014_x86_64.whl (2.1 MB)\n     ━━━━━━━━━━━━━━━━━━━━━━━━━━━━━━━━━━━━━━━━ 2.1/2.1 MB 40.6 MB/s eta 0:00:00\nCollecting pydantic<3,>=1.10.8\n  Downloading pydantic-2.5.0-py3-none-any.whl (407 kB)\n     ━━━━━━━━━━━━━━━━━━━━━━━━━━━━━━━━━━━━━━ 407.5/407.5 kB 26.4 MB/s eta 0:00:00\nCollecting pydantic-core==2.14.1\n  Downloading pydantic_core-2.14.1-cp310-cp310-manylinux_2_17_x86_64.manylinux2014_x86_64.whl (2.1 MB)\n     ━━━━━━━━━━━━━━━━━━━━━━━━━━━━━━━━━━━━━━━━ 2.1/2.1 MB 48.5 MB/s eta 0:00:00\nCollecting pydantic<3,>=1.10.8\n  Downloading pydantic-2.4.2-py3-none-any.whl (395 kB)\n     ━━━━━━━━━━━━━━━━━━━━━━━━━━━━━━━━━━━━━━ 395.8/395.8 kB 50.8 MB/s eta 0:00:00\nCollecting pydantic-core==2.10.1\n  Downloading pydantic_core-2.10.1-cp310-cp310-manylinux_2_17_x86_64.manylinux2014_x86_64.whl (2.0 MB)\n     ━━━━━━━━━━━━━━━━━━━━━━━━━━━━━━━━━━━━━━━━ 2.0/2.0 MB 43.0 MB/s eta 0:00:00\nCollecting pydantic<3,>=1.10.8\n  Downloading pydantic-2.4.1-py3-none-any.whl (395 kB)\n     ━━━━━━━━━━━━━━━━━━━━━━━━━━━━━━━━━━━━━━ 395.3/395.3 kB 52.2 MB/s eta 0:00:00\n  Downloading pydantic-2.4.0-py3-none-any.whl (395 kB)\n     ━━━━━━━━━━━━━━━━━━━━━━━━━━━━━━━━━━━━━━ 395.4/395.4 kB 28.3 MB/s eta 0:00:00\nCollecting pydantic-core==2.10.0\n  Downloading pydantic_core-2.10.0-cp310-cp310-manylinux_2_17_x86_64.manylinux2014_x86_64.whl (2.0 MB)\n     ━━━━━━━━━━━━━━━━━━━━━━━━━━━━━━━━━━━━━━━━ 2.0/2.0 MB 75.3 MB/s eta 0:00:00\nCollecting pydantic<3,>=1.10.8\n  Downloading pydantic-2.3.0-py3-none-any.whl (374 kB)\n     ━━━━━━━━━━━━━━━━━━━━━━━━━━━━━━━━━━━━━━ 374.5/374.5 kB 56.4 MB/s eta 0:00:00\nCollecting pydantic-core==2.6.3\n  Downloading pydantic_core-2.6.3-cp310-cp310-manylinux_2_17_x86_64.manylinux2014_x86_64.whl (1.9 MB)\n     ━━━━━━━━━━━━━━━━━━━━━━━━━━━━━━━━━━━━━━━━ 1.9/1.9 MB 102.1 MB/s eta 0:00:00\nCollecting pydantic<3,>=1.10.8\n  Downloading pydantic-2.2.1-py3-none-any.whl (373 kB)\n     ━━━━━━━━━━━━━━━━━━━━━━━━━━━━━━━━━━━━━━ 373.4/373.4 kB 55.7 MB/s eta 0:00:00\nCollecting pydantic-core==2.6.1\n  Downloading pydantic_core-2.6.1-cp310-cp310-manylinux_2_17_x86_64.manylinux2014_x86_64.whl (1.9 MB)\n     ━━━━━━━━━━━━━━━━━━━━━━━━━━━━━━━━━━━━━━━━ 1.9/1.9 MB 96.8 MB/s eta 0:00:00\nCollecting pydantic<3,>=1.10.8\n  Downloading pydantic-2.2.0-py3-none-any.whl (373 kB)\n     ━━━━━━━━━━━━━━━━━━━━━━━━━━━━━━━━━━━━━━ 373.2/373.2 kB 52.4 MB/s eta 0:00:00\nCollecting pydantic-core==2.6.0\n  Downloading pydantic_core-2.6.0-cp310-cp310-manylinux_2_17_x86_64.manylinux2014_x86_64.whl (1.9 MB)\n     ━━━━━━━━━━━━━━━━━━━━━━━━━━━━━━━━━━━━━━━━ 1.9/1.9 MB 71.6 MB/s eta 0:00:00\nCollecting pydantic<3,>=1.10.8\n  Downloading pydantic-2.1.1-py3-none-any.whl (370 kB)\n     ━━━━━━━━━━━━━━━━━━━━━━━━━━━━━━━━━━━━━━ 370.9/370.9 kB 20.1 MB/s eta 0:00:00\nCollecting pydantic-core==2.4.0\n  Downloading pydantic_core-2.4.0-cp310-cp310-manylinux_2_17_x86_64.manylinux2014_x86_64.whl (1.9 MB)\n     ━━━━━━━━━━━━━━━━━━━━━━━━━━━━━━━━━━━━━━━━ 1.9/1.9 MB 60.7 MB/s eta 0:00:00\nCollecting pydantic<3,>=1.10.8\n  Downloading pydantic-2.0.3-py3-none-any.whl (364 kB)\n     ━━━━━━━━━━━━━━━━━━━━━━━━━━━━━━━━━━━━━━ 364.0/364.0 kB 33.0 MB/s eta 0:00:00\nCollecting pydantic-core==2.3.0\n  Downloading pydantic_core-2.3.0-cp310-cp310-manylinux_2_17_x86_64.manylinux2014_x86_64.whl (1.8 MB)\n     ━━━━━━━━━━━━━━━━━━━━━━━━━━━━━━━━━━━━━━━━ 1.8/1.8 MB 56.7 MB/s eta 0:00:00\nCollecting pydantic<3,>=1.10.8\n  Downloading pydantic-2.0.2-py3-none-any.whl (359 kB)\n     ━━━━━━━━━━━━━━━━━━━━━━━━━━━━━━━━━━━━━━ 359.1/359.1 kB 54.5 MB/s eta 0:00:00\nCollecting pydantic-core==2.1.2\n  Downloading pydantic_core-2.1.2-cp310-cp310-manylinux_2_17_x86_64.manylinux2014_x86_64.whl (1.8 MB)\n     ━━━━━━━━━━━━━━━━━━━━━━━━━━━━━━━━━━━━━━━━ 1.8/1.8 MB 84.4 MB/s eta 0:00:00\nCollecting pydantic<3,>=1.10.8\n  Downloading pydantic-1.10.22-cp310-cp310-manylinux_2_17_x86_64.manylinux2014_x86_64.whl (3.3 MB)\n     ━━━━━━━━━━━━━━━━━━━━━━━━━━━━━━━━━━━━━━━━ 3.3/3.3 MB 76.2 MB/s eta 0:00:00\nRequirement already satisfied: six>=1.5 in /usr/lib/python3/dist-packages (from python-dateutil<3,>=2.7.0->graphene<4->mlflow) (1.16.0)\nRequirement already satisfied: certifi>=2017.4.17 in /databricks/python3/lib/python3.10/site-packages (from requests<3,>=2.17.3->mlflow-skinny==3.1.4->mlflow) (2022.12.7)\nRequirement already satisfied: idna<4,>=2.5 in /databricks/python3/lib/python3.10/site-packages (from requests<3,>=2.17.3->mlflow-skinny==3.1.4->mlflow) (3.4)\nRequirement already satisfied: charset-normalizer<3,>=2 in /databricks/python3/lib/python3.10/site-packages (from requests<3,>=2.17.3->mlflow-skinny==3.1.4->mlflow) (2.0.4)\nRequirement already satisfied: h11>=0.8 in /local_disk0/.ephemeral_nfs/envs/pythonEnv-231c8729-59ea-47db-ad24-8cf2b8762dfa/lib/python3.10/site-packages (from uvicorn<1->mlflow-skinny==3.1.4->mlflow) (0.16.0)\nRequirement already satisfied: sniffio>=1.1 in /databricks/python3/lib/python3.10/site-packages (from anyio<4.0.0,>=3.7.1->fastapi<1->mlflow-skinny==3.1.4->mlflow) (1.2.0)\nRequirement already satisfied: exceptiongroup in /local_disk0/.ephemeral_nfs/envs/pythonEnv-231c8729-59ea-47db-ad24-8cf2b8762dfa/lib/python3.10/site-packages (from anyio<4.0.0,>=3.7.1->fastapi<1->mlflow-skinny==3.1.4->mlflow) (1.3.0)\nRequirement already satisfied: smmap<6,>=3.0.1 in /local_disk0/.ephemeral_nfs/envs/pythonEnv-231c8729-59ea-47db-ad24-8cf2b8762dfa/lib/python3.10/site-packages (from gitdb<5,>=4.0.1->gitpython<4,>=3.1.9->mlflow-skinny==3.1.4->mlflow) (5.0.2)\nRequirement already satisfied: rsa<5,>=3.1.4 in /databricks/python3/lib/python3.10/site-packages (from google-auth~=2.0->databricks-sdk<1,>=0.20.0->mlflow-skinny==3.1.4->mlflow) (4.9)\nRequirement already satisfied: pyasn1-modules>=0.2.1 in /databricks/python3/lib/python3.10/site-packages (from google-auth~=2.0->databricks-sdk<1,>=0.20.0->mlflow-skinny==3.1.4->mlflow) (0.3.0)\nRequirement already satisfied: pyasn1<0.6.0,>=0.4.6 in /databricks/python3/lib/python3.10/site-packages (from pyasn1-modules>=0.2.1->google-auth~=2.0->databricks-sdk<1,>=0.20.0->mlflow-skinny==3.1.4->mlflow) (0.5.1)\nCollecting exceptiongroup\n  Downloading exceptiongroup-1.2.2-py3-none-any.whl (16 kB)\nInstalling collected packages: aniso8601, typing_extensions, exceptiongroup, sqlalchemy, pydantic, graphene, anyio, starlette, alembic, fastapi\n  Attempting uninstall: typing_extensions\n    Found existing installation: typing_extensions 4.14.1\n    Uninstalling typing_extensions-4.14.1:\n      Successfully uninstalled typing_extensions-4.14.1\n  Attempting uninstall: exceptiongroup\n    Found existing installation: exceptiongroup 1.3.0\n    Uninstalling exceptiongroup-1.3.0:\n      Successfully uninstalled exceptiongroup-1.3.0\n  Attempting uninstall: sqlalchemy\n    Found existing installation: SQLAlchemy 2.0.42\n    Uninstalling SQLAlchemy-2.0.42:\n      Successfully uninstalled SQLAlchemy-2.0.42\n  Attempting uninstall: pydantic\n    Found existing installation: pydantic 2.11.7\n    Uninstalling pydantic-2.11.7:\n      Successfully uninstalled pydantic-2.11.7\n  Attempting uninstall: graphene\n    Found existing installation: graphene 3.4.3\n    Uninstalling graphene-3.4.3:\n      Successfully uninstalled graphene-3.4.3\n  Attempting uninstall: anyio\n    Found existing installation: anyio 4.9.0\n    Uninstalling anyio-4.9.0:\n      Successfully uninstalled anyio-4.9.0\n  Attempting uninstall: starlette\n    Found existing installation: starlette 0.47.2\n    Uninstalling starlette-0.47.2:\n      Successfully uninstalled starlette-0.47.2\n  Attempting uninstall: alembic\n    Found existing installation: alembic 1.16.4\n    Uninstalling alembic-1.16.4:\n      Successfully uninstalled alembic-1.16.4\n  Attempting uninstall: fastapi\n    Found existing installation: fastapi 0.116.1\n    Uninstalling fastapi-0.116.1:\n      Successfully uninstalled fastapi-0.116.1\nERROR: pip's dependency resolver does not currently take into account all the packages that are installed. This behaviour is the source of the following dependency conflicts.\ntyping-inspection 0.4.1 requires typing-extensions>=4.12.0, but you have typing-extensions 4.5.0 which is incompatible.\npydantic-core 2.33.2 requires typing-extensions!=4.7.0,>=4.6.0, but you have typing-extensions 4.5.0 which is incompatible.\nSuccessfully installed alembic-1.14.1 aniso8601-9.0.1 anyio-3.7.1 exceptiongroup-1.2.2 fastapi-0.103.2 graphene-3.3 pydantic-1.10.22 sqlalchemy-2.0.24 starlette-0.27.0 typing_extensions-4.5.0\n\u001B[43mNote: you may need to restart the kernel using %restart_python or dbutils.library.restartPython() to use updated packages.\u001B[0m\n"
     ]
    },
    {
     "output_type": "display_data",
     "data": {
      "text/html": [
       "\n",
       "<div>Declared RandomForestClassifierModel Class with methods:</div>\n",
       "<li>Declared <b style=\"color:green\">model()</b> returns existing instance of Random Forest Model</li>\n",
       "<li>Declared <b style=\"color:green\">params()</b> returns existing Random Forest Model's init parameters.</li>\n",
       "<li>Declared <b style=\"color:green\">new_instance(params={...})</b> returns a new instance of RandomForestClassifierModel</li> \n",
       "<li>Declared <b style=\"color:green\"> mlflow_run(DataFrame, run_name=\"name\")</b> returns experiment_ID, run_ID</li>\n",
       "\n",
       "<br/>\n"
      ]
     },
     "metadata": {},
     "output_type": "display_data"
    },
    {
     "output_type": "display_data",
     "data": {
      "text/markdown": [
       "Randorm Forest class defintions for:\n",
       " * `RFRBaseModel`\n",
       " * `RFFExperimentModel`"
      ]
     },
     "metadata": {},
     "output_type": "display_data"
    },
    {
     "output_type": "stream",
     "name": "stdout",
     "output_type": "stream",
     "text": [
      "Requirement already satisfied: typing_extensions in /local_disk0/.ephemeral_nfs/envs/pythonEnv-231c8729-59ea-47db-ad24-8cf2b8762dfa/lib/python3.10/site-packages (4.5.0)\nCollecting typing_extensions\n  Downloading typing_extensions-4.14.1-py3-none-any.whl (43 kB)\n     ━━━━━━━━━━━━━━━━━━━━━━━━━━━━━━━━━━━━━━━━ 43.9/43.9 kB 1.8 MB/s eta 0:00:00\nRequirement already satisfied: mlflow in /local_disk0/.ephemeral_nfs/envs/pythonEnv-231c8729-59ea-47db-ad24-8cf2b8762dfa/lib/python3.10/site-packages (3.1.4)\nRequirement already satisfied: Flask<4 in /local_disk0/.ephemeral_nfs/envs/pythonEnv-231c8729-59ea-47db-ad24-8cf2b8762dfa/lib/python3.10/site-packages (from mlflow) (3.1.1)\nRequirement already satisfied: scipy<2 in /databricks/python3/lib/python3.10/site-packages (from mlflow) (1.10.0)\nRequirement already satisfied: alembic!=1.10.0,<2 in /local_disk0/.ephemeral_nfs/envs/pythonEnv-231c8729-59ea-47db-ad24-8cf2b8762dfa/lib/python3.10/site-packages (from mlflow) (1.14.1)\nRequirement already satisfied: docker<8,>=4.0.0 in /local_disk0/.ephemeral_nfs/envs/pythonEnv-231c8729-59ea-47db-ad24-8cf2b8762dfa/lib/python3.10/site-packages (from mlflow) (7.1.0)\nRequirement already satisfied: numpy<3 in /databricks/python3/lib/python3.10/site-packages (from mlflow) (1.23.5)\nRequirement already satisfied: graphene<4 in /local_disk0/.ephemeral_nfs/envs/pythonEnv-231c8729-59ea-47db-ad24-8cf2b8762dfa/lib/python3.10/site-packages (from mlflow) (3.3)\nRequirement already satisfied: gunicorn<24 in /local_disk0/.ephemeral_nfs/envs/pythonEnv-231c8729-59ea-47db-ad24-8cf2b8762dfa/lib/python3.10/site-packages (from mlflow) (23.0.0)\nRequirement already satisfied: scikit-learn<2 in /databricks/python3/lib/python3.10/site-packages (from mlflow) (1.1.1)\nRequirement already satisfied: mlflow-skinny==3.1.4 in /local_disk0/.ephemeral_nfs/envs/pythonEnv-231c8729-59ea-47db-ad24-8cf2b8762dfa/lib/python3.10/site-packages (from mlflow) (3.1.4)\nRequirement already satisfied: pandas<3 in /databricks/python3/lib/python3.10/site-packages (from mlflow) (1.5.3)\nRequirement already satisfied: matplotlib<4 in /databricks/python3/lib/python3.10/site-packages (from mlflow) (3.7.0)\nRequirement already satisfied: sqlalchemy<3,>=1.4.0 in /local_disk0/.ephemeral_nfs/envs/pythonEnv-231c8729-59ea-47db-ad24-8cf2b8762dfa/lib/python3.10/site-packages (from mlflow) (2.0.24)\nRequirement already satisfied: pyarrow<21,>=4.0.0 in /databricks/python3/lib/python3.10/site-packages (from mlflow) (8.0.0)\nRequirement already satisfied: sqlparse<1,>=0.4.0 in /local_disk0/.ephemeral_nfs/envs/pythonEnv-231c8729-59ea-47db-ad24-8cf2b8762dfa/lib/python3.10/site-packages (from mlflow-skinny==3.1.4->mlflow) (0.5.3)\nRequirement already satisfied: protobuf<7,>=3.12.0 in /databricks/python3/lib/python3.10/site-packages (from mlflow-skinny==3.1.4->mlflow) (4.25.5)\nRequirement already satisfied: importlib_metadata!=4.7.0,<9,>=3.7.0 in /local_disk0/.ephemeral_nfs/envs/pythonEnv-231c8729-59ea-47db-ad24-8cf2b8762dfa/lib/python3.10/site-packages (from mlflow-skinny==3.1.4->mlflow) (8.7.0)\nRequirement already satisfied: fastapi<1 in /local_disk0/.ephemeral_nfs/envs/pythonEnv-231c8729-59ea-47db-ad24-8cf2b8762dfa/lib/python3.10/site-packages (from mlflow-skinny==3.1.4->mlflow) (0.103.2)\nRequirement already satisfied: packaging<26 in /databricks/python3/lib/python3.10/site-packages (from mlflow-skinny==3.1.4->mlflow) (23.2)\nRequirement already satisfied: requests<3,>=2.17.3 in /databricks/python3/lib/python3.10/site-packages (from mlflow-skinny==3.1.4->mlflow) (2.28.1)\nRequirement already satisfied: uvicorn<1 in /local_disk0/.ephemeral_nfs/envs/pythonEnv-231c8729-59ea-47db-ad24-8cf2b8762dfa/lib/python3.10/site-packages (from mlflow-skinny==3.1.4->mlflow) (0.35.0)\nRequirement already satisfied: opentelemetry-api<3,>=1.9.0 in /local_disk0/.ephemeral_nfs/envs/pythonEnv-231c8729-59ea-47db-ad24-8cf2b8762dfa/lib/python3.10/site-packages (from mlflow-skinny==3.1.4->mlflow) (1.36.0)\nRequirement already satisfied: pyyaml<7,>=5.1 in /local_disk0/.ephemeral_nfs/envs/pythonEnv-231c8729-59ea-47db-ad24-8cf2b8762dfa/lib/python3.10/site-packages (from mlflow-skinny==3.1.4->mlflow) (6.0.2)\nRequirement already satisfied: opentelemetry-sdk<3,>=1.9.0 in /local_disk0/.ephemeral_nfs/envs/pythonEnv-231c8729-59ea-47db-ad24-8cf2b8762dfa/lib/python3.10/site-packages (from mlflow-skinny==3.1.4->mlflow) (1.36.0)\nRequirement already satisfied: databricks-sdk<1,>=0.20.0 in /databricks/python3/lib/python3.10/site-packages (from mlflow-skinny==3.1.4->mlflow) (0.20.0)\nRequirement already satisfied: click<9,>=7.0 in /local_disk0/.ephemeral_nfs/envs/pythonEnv-231c8729-59ea-47db-ad24-8cf2b8762dfa/lib/python3.10/site-packages (from mlflow-skinny==3.1.4->mlflow) (8.2.1)\nRequirement already satisfied: cloudpickle<4 in /local_disk0/.ephemeral_nfs/envs/pythonEnv-231c8729-59ea-47db-ad24-8cf2b8762dfa/lib/python3.10/site-packages (from mlflow-skinny==3.1.4->mlflow) (3.1.1)\nRequirement already satisfied: pydantic<3,>=1.10.8 in /local_disk0/.ephemeral_nfs/envs/pythonEnv-231c8729-59ea-47db-ad24-8cf2b8762dfa/lib/python3.10/site-packages (from mlflow-skinny==3.1.4->mlflow) (1.10.22)\nRequirement already satisfied: gitpython<4,>=3.1.9 in /local_disk0/.ephemeral_nfs/envs/pythonEnv-231c8729-59ea-47db-ad24-8cf2b8762dfa/lib/python3.10/site-packages (from mlflow-skinny==3.1.4->mlflow) (3.1.45)\nRequirement already satisfied: cachetools<7,>=5.0.0 in /databricks/python3/lib/python3.10/site-packages (from mlflow-skinny==3.1.4->mlflow) (5.3.2)\nRequirement already satisfied: Mako in /local_disk0/.ephemeral_nfs/envs/pythonEnv-231c8729-59ea-47db-ad24-8cf2b8762dfa/lib/python3.10/site-packages (from alembic!=1.10.0,<2->mlflow) (1.3.10)\nRequirement already satisfied: urllib3>=1.26.0 in /databricks/python3/lib/python3.10/site-packages (from docker<8,>=4.0.0->mlflow) (1.26.14)\nRequirement already satisfied: blinker>=1.9.0 in /local_disk0/.ephemeral_nfs/envs/pythonEnv-231c8729-59ea-47db-ad24-8cf2b8762dfa/lib/python3.10/site-packages (from Flask<4->mlflow) (1.9.0)\nRequirement already satisfied: jinja2>=3.1.2 in /databricks/python3/lib/python3.10/site-packages (from Flask<4->mlflow) (3.1.2)\nRequirement already satisfied: itsdangerous>=2.2.0 in /local_disk0/.ephemeral_nfs/envs/pythonEnv-231c8729-59ea-47db-ad24-8cf2b8762dfa/lib/python3.10/site-packages (from Flask<4->mlflow) (2.2.0)\nRequirement already satisfied: markupsafe>=2.1.1 in /databricks/python3/lib/python3.10/site-packages (from Flask<4->mlflow) (2.1.1)\nRequirement already satisfied: werkzeug>=3.1.0 in /local_disk0/.ephemeral_nfs/envs/pythonEnv-231c8729-59ea-47db-ad24-8cf2b8762dfa/lib/python3.10/site-packages (from Flask<4->mlflow) (3.1.3)\nRequirement already satisfied: graphql-relay<3.3,>=3.1 in /local_disk0/.ephemeral_nfs/envs/pythonEnv-231c8729-59ea-47db-ad24-8cf2b8762dfa/lib/python3.10/site-packages (from graphene<4->mlflow) (3.2.0)\nRequirement already satisfied: graphql-core<3.3,>=3.1 in /local_disk0/.ephemeral_nfs/envs/pythonEnv-231c8729-59ea-47db-ad24-8cf2b8762dfa/lib/python3.10/site-packages (from graphene<4->mlflow) (3.2.6)\nRequirement already satisfied: aniso8601<10,>=8 in /local_disk0/.ephemeral_nfs/envs/pythonEnv-231c8729-59ea-47db-ad24-8cf2b8762dfa/lib/python3.10/site-packages (from graphene<4->mlflow) (9.0.1)\nRequirement already satisfied: contourpy>=1.0.1 in /databricks/python3/lib/python3.10/site-packages (from matplotlib<4->mlflow) (1.0.5)\nRequirement already satisfied: fonttools>=4.22.0 in /databricks/python3/lib/python3.10/site-packages (from matplotlib<4->mlflow) (4.25.0)\nRequirement already satisfied: kiwisolver>=1.0.1 in /databricks/python3/lib/python3.10/site-packages (from matplotlib<4->mlflow) (1.4.4)\nRequirement already satisfied: pyparsing>=2.3.1 in /databricks/python3/lib/python3.10/site-packages (from matplotlib<4->mlflow) (3.0.9)\nRequirement already satisfied: python-dateutil>=2.7 in /databricks/python3/lib/python3.10/site-packages (from matplotlib<4->mlflow) (2.8.2)\nRequirement already satisfied: cycler>=0.10 in /databricks/python3/lib/python3.10/site-packages (from matplotlib<4->mlflow) (0.11.0)\nRequirement already satisfied: pillow>=6.2.0 in /databricks/python3/lib/python3.10/site-packages (from matplotlib<4->mlflow) (9.4.0)\nRequirement already satisfied: pytz>=2020.1 in /databricks/python3/lib/python3.10/site-packages (from pandas<3->mlflow) (2022.7)\nRequirement already satisfied: threadpoolctl>=2.0.0 in /databricks/python3/lib/python3.10/site-packages (from scikit-learn<2->mlflow) (2.2.0)\nRequirement already satisfied: joblib>=1.0.0 in /databricks/python3/lib/python3.10/site-packages (from scikit-learn<2->mlflow) (1.2.0)\nRequirement already satisfied: greenlet!=0.4.17 in /local_disk0/.ephemeral_nfs/envs/pythonEnv-231c8729-59ea-47db-ad24-8cf2b8762dfa/lib/python3.10/site-packages (from sqlalchemy<3,>=1.4.0->mlflow) (3.2.3)\nRequirement already satisfied: google-auth~=2.0 in /databricks/python3/lib/python3.10/site-packages (from databricks-sdk<1,>=0.20.0->mlflow-skinny==3.1.4->mlflow) (2.28.1)\nRequirement already satisfied: anyio<4.0.0,>=3.7.1 in /local_disk0/.ephemeral_nfs/envs/pythonEnv-231c8729-59ea-47db-ad24-8cf2b8762dfa/lib/python3.10/site-packages (from fastapi<1->mlflow-skinny==3.1.4->mlflow) (3.7.1)\nRequirement already satisfied: starlette<0.28.0,>=0.27.0 in /local_disk0/.ephemeral_nfs/envs/pythonEnv-231c8729-59ea-47db-ad24-8cf2b8762dfa/lib/python3.10/site-packages (from fastapi<1->mlflow-skinny==3.1.4->mlflow) (0.27.0)\nRequirement already satisfied: gitdb<5,>=4.0.1 in /local_disk0/.ephemeral_nfs/envs/pythonEnv-231c8729-59ea-47db-ad24-8cf2b8762dfa/lib/python3.10/site-packages (from gitpython<4,>=3.1.9->mlflow-skinny==3.1.4->mlflow) (4.0.12)\nRequirement already satisfied: zipp>=3.20 in /local_disk0/.ephemeral_nfs/envs/pythonEnv-231c8729-59ea-47db-ad24-8cf2b8762dfa/lib/python3.10/site-packages (from importlib_metadata!=4.7.0,<9,>=3.7.0->mlflow-skinny==3.1.4->mlflow) (3.23.0)\nRequirement already satisfied: opentelemetry-semantic-conventions==0.57b0 in /local_disk0/.ephemeral_nfs/envs/pythonEnv-231c8729-59ea-47db-ad24-8cf2b8762dfa/lib/python3.10/site-packages (from opentelemetry-sdk<3,>=1.9.0->mlflow-skinny==3.1.4->mlflow) (0.57b0)\nRequirement already satisfied: six>=1.5 in /usr/lib/python3/dist-packages (from python-dateutil>=2.7->matplotlib<4->mlflow) (1.16.0)\nRequirement already satisfied: certifi>=2017.4.17 in /databricks/python3/lib/python3.10/site-packages (from requests<3,>=2.17.3->mlflow-skinny==3.1.4->mlflow) (2022.12.7)\nRequirement already satisfied: charset-normalizer<3,>=2 in /databricks/python3/lib/python3.10/site-packages (from requests<3,>=2.17.3->mlflow-skinny==3.1.4->mlflow) (2.0.4)\nRequirement already satisfied: idna<4,>=2.5 in /databricks/python3/lib/python3.10/site-packages (from requests<3,>=2.17.3->mlflow-skinny==3.1.4->mlflow) (3.4)\nRequirement already satisfied: h11>=0.8 in /local_disk0/.ephemeral_nfs/envs/pythonEnv-231c8729-59ea-47db-ad24-8cf2b8762dfa/lib/python3.10/site-packages (from uvicorn<1->mlflow-skinny==3.1.4->mlflow) (0.16.0)\nRequirement already satisfied: exceptiongroup in /local_disk0/.ephemeral_nfs/envs/pythonEnv-231c8729-59ea-47db-ad24-8cf2b8762dfa/lib/python3.10/site-packages (from anyio<4.0.0,>=3.7.1->fastapi<1->mlflow-skinny==3.1.4->mlflow) (1.2.2)\nRequirement already satisfied: sniffio>=1.1 in /databricks/python3/lib/python3.10/site-packages (from anyio<4.0.0,>=3.7.1->fastapi<1->mlflow-skinny==3.1.4->mlflow) (1.2.0)\nRequirement already satisfied: smmap<6,>=3.0.1 in /local_disk0/.ephemeral_nfs/envs/pythonEnv-231c8729-59ea-47db-ad24-8cf2b8762dfa/lib/python3.10/site-packages (from gitdb<5,>=4.0.1->gitpython<4,>=3.1.9->mlflow-skinny==3.1.4->mlflow) (5.0.2)\nRequirement already satisfied: rsa<5,>=3.1.4 in /databricks/python3/lib/python3.10/site-packages (from google-auth~=2.0->databricks-sdk<1,>=0.20.0->mlflow-skinny==3.1.4->mlflow) (4.9)\nRequirement already satisfied: pyasn1-modules>=0.2.1 in /databricks/python3/lib/python3.10/site-packages (from google-auth~=2.0->databricks-sdk<1,>=0.20.0->mlflow-skinny==3.1.4->mlflow) (0.3.0)\nRequirement already satisfied: pyasn1<0.6.0,>=0.4.6 in /databricks/python3/lib/python3.10/site-packages (from pyasn1-modules>=0.2.1->google-auth~=2.0->databricks-sdk<1,>=0.20.0->mlflow-skinny==3.1.4->mlflow) (0.5.1)\nInstalling collected packages: typing_extensions\n  Attempting uninstall: typing_extensions\n    Found existing installation: typing_extensions 4.5.0\n    Uninstalling typing_extensions-4.5.0:\n      Successfully uninstalled typing_extensions-4.5.0\nSuccessfully installed typing_extensions-4.14.1\n\u001B[43mNote: you may need to restart the kernel using %restart_python or dbutils.library.restartPython() to use updated packages.\u001B[0m\n"
     ]
    },
    {
     "output_type": "display_data",
     "data": {
      "text/html": [
       "\n",
       "<div>Declared RandomForestModel Base Class with methods:</div>\n",
       "<li>Declared <b style=\"color:green\">model()</b> returns existing instance of Random Forest Model</li>\n",
       "<li>Declared <b style=\"color:green\">new_instance(params={...})</b> returns a new instance of RandomForestClassifierModel</li> \n",
       "<li>Declared <b style=\"color:green\"> mlflow_run(DataFrame, run_name=\"name\")</b> returns experiment_ID, run_ID</li>\n",
       "\n",
       "<br/>\n"
      ]
     },
     "metadata": {},
     "output_type": "display_data"
    },
    {
     "output_type": "display_data",
     "data": {
      "text/html": [
       "\n",
       "<div>Declared RFFExperimentModel Extended Class with methods:</div>\n",
       "<li>Declared <b style=\"color:green\">model()</b> returns existing instance of Random Forest Model</li>\n",
       "<li>Declared <b style=\"color:green\">new_instance(params={...})</b> returns a new instance of RandomForestClassifierModel</li> \n",
       "<li>Declared <b style=\"color:green\"> mlflow_run(DataFrame, run_name=\"name\")</b> returns experiment_ID, run_ID</li>\n",
       "\n",
       "<br/>\n"
      ]
     },
     "metadata": {},
     "output_type": "display_data"
    }
   ],
   "source": [
    "%run ./setup/class_setup"
   ]
  },
  {
   "cell_type": "code",
   "execution_count": 0,
   "metadata": {
    "application/vnd.databricks.v1+cell": {
     "cellMetadata": {
      "byteLimit": 2048000,
      "rowLimit": 10000
     },
     "inputWidgets": {},
     "nuid": "0c4f3083-15e5-46e0-8c28-37d94110e516",
     "showTitle": false,
     "tableResultSettingsMap": {},
     "title": ""
    }
   },
   "outputs": [
    {
     "output_type": "execute_result",
     "data": {
      "text/html": [
       "<div>\n",
       "<style scoped>\n",
       "    .dataframe tbody tr th:only-of-type {\n",
       "        vertical-align: middle;\n",
       "    }\n",
       "\n",
       "    .dataframe tbody tr th {\n",
       "        vertical-align: top;\n",
       "    }\n",
       "\n",
       "    .dataframe thead th {\n",
       "        text-align: right;\n",
       "    }\n",
       "</style>\n",
       "<table border=\"1\" class=\"dataframe\">\n",
       "  <thead>\n",
       "    <tr style=\"text-align: right;\">\n",
       "      <th></th>\n",
       "      <th>host_total_listings_count</th>\n",
       "      <th>neighbourhood_cleansed</th>\n",
       "      <th>zipcode</th>\n",
       "      <th>latitude</th>\n",
       "      <th>longitude</th>\n",
       "      <th>property_type</th>\n",
       "      <th>room_type</th>\n",
       "      <th>accommodates</th>\n",
       "      <th>bathrooms</th>\n",
       "      <th>bedrooms</th>\n",
       "      <th>beds</th>\n",
       "      <th>bed_type</th>\n",
       "      <th>minimum_nights</th>\n",
       "      <th>number_of_reviews</th>\n",
       "      <th>review_scores_rating</th>\n",
       "      <th>review_scores_accuracy</th>\n",
       "      <th>review_scores_cleanliness</th>\n",
       "      <th>review_scores_checkin</th>\n",
       "      <th>review_scores_communication</th>\n",
       "      <th>review_scores_location</th>\n",
       "      <th>review_scores_value</th>\n",
       "      <th>price</th>\n",
       "    </tr>\n",
       "  </thead>\n",
       "  <tbody>\n",
       "    <tr>\n",
       "      <th>0</th>\n",
       "      <td>1.0</td>\n",
       "      <td>0</td>\n",
       "      <td>0</td>\n",
       "      <td>37.769310</td>\n",
       "      <td>-122.433856</td>\n",
       "      <td>0</td>\n",
       "      <td>0</td>\n",
       "      <td>3.0</td>\n",
       "      <td>1.0</td>\n",
       "      <td>1.0</td>\n",
       "      <td>2.0</td>\n",
       "      <td>0</td>\n",
       "      <td>1.0</td>\n",
       "      <td>127.0</td>\n",
       "      <td>97.0</td>\n",
       "      <td>10.0</td>\n",
       "      <td>10.0</td>\n",
       "      <td>10.0</td>\n",
       "      <td>10.0</td>\n",
       "      <td>10.0</td>\n",
       "      <td>10.0</td>\n",
       "      <td>170.0</td>\n",
       "    </tr>\n",
       "    <tr>\n",
       "      <th>1</th>\n",
       "      <td>2.0</td>\n",
       "      <td>1</td>\n",
       "      <td>1</td>\n",
       "      <td>37.745112</td>\n",
       "      <td>-122.421018</td>\n",
       "      <td>0</td>\n",
       "      <td>0</td>\n",
       "      <td>5.0</td>\n",
       "      <td>1.0</td>\n",
       "      <td>2.0</td>\n",
       "      <td>3.0</td>\n",
       "      <td>0</td>\n",
       "      <td>30.0</td>\n",
       "      <td>112.0</td>\n",
       "      <td>98.0</td>\n",
       "      <td>10.0</td>\n",
       "      <td>10.0</td>\n",
       "      <td>10.0</td>\n",
       "      <td>10.0</td>\n",
       "      <td>10.0</td>\n",
       "      <td>9.0</td>\n",
       "      <td>235.0</td>\n",
       "    </tr>\n",
       "    <tr>\n",
       "      <th>2</th>\n",
       "      <td>10.0</td>\n",
       "      <td>2</td>\n",
       "      <td>0</td>\n",
       "      <td>37.766690</td>\n",
       "      <td>-122.452505</td>\n",
       "      <td>0</td>\n",
       "      <td>1</td>\n",
       "      <td>2.0</td>\n",
       "      <td>4.0</td>\n",
       "      <td>1.0</td>\n",
       "      <td>1.0</td>\n",
       "      <td>0</td>\n",
       "      <td>32.0</td>\n",
       "      <td>17.0</td>\n",
       "      <td>85.0</td>\n",
       "      <td>8.0</td>\n",
       "      <td>8.0</td>\n",
       "      <td>9.0</td>\n",
       "      <td>9.0</td>\n",
       "      <td>9.0</td>\n",
       "      <td>8.0</td>\n",
       "      <td>65.0</td>\n",
       "    </tr>\n",
       "    <tr>\n",
       "      <th>3</th>\n",
       "      <td>4.0</td>\n",
       "      <td>3</td>\n",
       "      <td>2</td>\n",
       "      <td>37.730746</td>\n",
       "      <td>-122.448409</td>\n",
       "      <td>1</td>\n",
       "      <td>1</td>\n",
       "      <td>1.0</td>\n",
       "      <td>2.0</td>\n",
       "      <td>1.0</td>\n",
       "      <td>1.0</td>\n",
       "      <td>0</td>\n",
       "      <td>3.0</td>\n",
       "      <td>76.0</td>\n",
       "      <td>95.0</td>\n",
       "      <td>9.0</td>\n",
       "      <td>9.0</td>\n",
       "      <td>10.0</td>\n",
       "      <td>10.0</td>\n",
       "      <td>9.0</td>\n",
       "      <td>9.0</td>\n",
       "      <td>60.0</td>\n",
       "    </tr>\n",
       "    <tr>\n",
       "      <th>4</th>\n",
       "      <td>10.0</td>\n",
       "      <td>2</td>\n",
       "      <td>0</td>\n",
       "      <td>37.764872</td>\n",
       "      <td>-122.451828</td>\n",
       "      <td>1</td>\n",
       "      <td>1</td>\n",
       "      <td>2.0</td>\n",
       "      <td>4.0</td>\n",
       "      <td>1.0</td>\n",
       "      <td>1.0</td>\n",
       "      <td>0</td>\n",
       "      <td>32.0</td>\n",
       "      <td>7.0</td>\n",
       "      <td>91.0</td>\n",
       "      <td>9.0</td>\n",
       "      <td>9.0</td>\n",
       "      <td>9.0</td>\n",
       "      <td>9.0</td>\n",
       "      <td>9.0</td>\n",
       "      <td>9.0</td>\n",
       "      <td>65.0</td>\n",
       "    </tr>\n",
       "  </tbody>\n",
       "</table>\n",
       "</div>"
      ],
      "text/plain": [
       "   host_total_listings_count  ...  price\n",
       "0                        1.0  ...  170.0\n",
       "1                        2.0  ...  235.0\n",
       "2                       10.0  ...   65.0\n",
       "3                        4.0  ...   60.0\n",
       "4                       10.0  ...   65.0\n",
       "\n",
       "[5 rows x 22 columns]"
      ]
     },
     "execution_count": 13,
     "metadata": {},
     "output_type": "execute_result"
    }
   ],
   "source": [
    "# load the data\n",
    "dataset = Utils.load_data(\"https://github.com/dmatrix/tutorials/raw/master/mlflow/labs/data/airbnb-cleaned-mlflow.csv\")\n",
    "dataset.head()"
   ]
  },
  {
   "cell_type": "code",
   "execution_count": 0,
   "metadata": {
    "application/vnd.databricks.v1+cell": {
     "cellMetadata": {
      "byteLimit": 2048000,
      "rowLimit": 10000
     },
     "inputWidgets": {},
     "nuid": "1484958d-77b5-4186-8d21-128240a222ff",
     "showTitle": false,
     "tableResultSettingsMap": {},
     "title": ""
    }
   },
   "outputs": [
    {
     "output_type": "execute_result",
     "data": {
      "text/html": [
       "<div>\n",
       "<style scoped>\n",
       "    .dataframe tbody tr th:only-of-type {\n",
       "        vertical-align: middle;\n",
       "    }\n",
       "\n",
       "    .dataframe tbody tr th {\n",
       "        vertical-align: top;\n",
       "    }\n",
       "\n",
       "    .dataframe thead th {\n",
       "        text-align: right;\n",
       "    }\n",
       "</style>\n",
       "<table border=\"1\" class=\"dataframe\">\n",
       "  <thead>\n",
       "    <tr style=\"text-align: right;\">\n",
       "      <th></th>\n",
       "      <th>host_total_listings_count</th>\n",
       "      <th>neighbourhood_cleansed</th>\n",
       "      <th>zipcode</th>\n",
       "      <th>latitude</th>\n",
       "      <th>longitude</th>\n",
       "      <th>property_type</th>\n",
       "      <th>room_type</th>\n",
       "      <th>accommodates</th>\n",
       "      <th>bathrooms</th>\n",
       "      <th>bedrooms</th>\n",
       "      <th>beds</th>\n",
       "      <th>bed_type</th>\n",
       "      <th>minimum_nights</th>\n",
       "      <th>number_of_reviews</th>\n",
       "      <th>review_scores_rating</th>\n",
       "      <th>review_scores_accuracy</th>\n",
       "      <th>review_scores_cleanliness</th>\n",
       "      <th>review_scores_checkin</th>\n",
       "      <th>review_scores_communication</th>\n",
       "      <th>review_scores_location</th>\n",
       "      <th>review_scores_value</th>\n",
       "      <th>price</th>\n",
       "    </tr>\n",
       "  </thead>\n",
       "  <tbody>\n",
       "    <tr>\n",
       "      <th>count</th>\n",
       "      <td>4707.000000</td>\n",
       "      <td>4707.000000</td>\n",
       "      <td>4707.000000</td>\n",
       "      <td>4707.000000</td>\n",
       "      <td>4707.000000</td>\n",
       "      <td>4707.000000</td>\n",
       "      <td>4707.000000</td>\n",
       "      <td>4707.000000</td>\n",
       "      <td>4707.000000</td>\n",
       "      <td>4707.000000</td>\n",
       "      <td>4707.000000</td>\n",
       "      <td>4707.000000</td>\n",
       "      <td>4707.000000</td>\n",
       "      <td>4707.000000</td>\n",
       "      <td>4707.000000</td>\n",
       "      <td>4707.000000</td>\n",
       "      <td>4707.000000</td>\n",
       "      <td>4707.000000</td>\n",
       "      <td>4707.000000</td>\n",
       "      <td>4707.000000</td>\n",
       "      <td>4707.000000</td>\n",
       "      <td>4707.000000</td>\n",
       "    </tr>\n",
       "    <tr>\n",
       "      <th>mean</th>\n",
       "      <td>5.973019</td>\n",
       "      <td>11.582749</td>\n",
       "      <td>8.316550</td>\n",
       "      <td>37.763363</td>\n",
       "      <td>-122.432648</td>\n",
       "      <td>2.411302</td>\n",
       "      <td>0.445932</td>\n",
       "      <td>3.376673</td>\n",
       "      <td>1.358084</td>\n",
       "      <td>1.431273</td>\n",
       "      <td>1.865519</td>\n",
       "      <td>0.032292</td>\n",
       "      <td>7.100064</td>\n",
       "      <td>50.621840</td>\n",
       "      <td>95.898874</td>\n",
       "      <td>9.814107</td>\n",
       "      <td>9.702996</td>\n",
       "      <td>9.900361</td>\n",
       "      <td>9.894200</td>\n",
       "      <td>9.665604</td>\n",
       "      <td>9.543658</td>\n",
       "      <td>198.085617</td>\n",
       "    </tr>\n",
       "    <tr>\n",
       "      <th>std</th>\n",
       "      <td>19.851679</td>\n",
       "      <td>9.589187</td>\n",
       "      <td>6.651043</td>\n",
       "      <td>0.022808</td>\n",
       "      <td>0.026865</td>\n",
       "      <td>4.333174</td>\n",
       "      <td>0.532215</td>\n",
       "      <td>2.166230</td>\n",
       "      <td>1.229827</td>\n",
       "      <td>1.381571</td>\n",
       "      <td>1.533163</td>\n",
       "      <td>0.279294</td>\n",
       "      <td>13.422551</td>\n",
       "      <td>68.679245</td>\n",
       "      <td>5.080354</td>\n",
       "      <td>0.475123</td>\n",
       "      <td>0.605048</td>\n",
       "      <td>0.377960</td>\n",
       "      <td>0.366265</td>\n",
       "      <td>0.596715</td>\n",
       "      <td>0.630332</td>\n",
       "      <td>147.134192</td>\n",
       "    </tr>\n",
       "    <tr>\n",
       "      <th>min</th>\n",
       "      <td>0.000000</td>\n",
       "      <td>0.000000</td>\n",
       "      <td>0.000000</td>\n",
       "      <td>37.704783</td>\n",
       "      <td>-122.511500</td>\n",
       "      <td>0.000000</td>\n",
       "      <td>0.000000</td>\n",
       "      <td>1.000000</td>\n",
       "      <td>0.000000</td>\n",
       "      <td>0.000000</td>\n",
       "      <td>0.000000</td>\n",
       "      <td>0.000000</td>\n",
       "      <td>1.000000</td>\n",
       "      <td>0.000000</td>\n",
       "      <td>20.000000</td>\n",
       "      <td>2.000000</td>\n",
       "      <td>2.000000</td>\n",
       "      <td>2.000000</td>\n",
       "      <td>2.000000</td>\n",
       "      <td>3.000000</td>\n",
       "      <td>2.000000</td>\n",
       "      <td>10.000000</td>\n",
       "    </tr>\n",
       "    <tr>\n",
       "      <th>25%</th>\n",
       "      <td>1.000000</td>\n",
       "      <td>4.000000</td>\n",
       "      <td>2.000000</td>\n",
       "      <td>37.747890</td>\n",
       "      <td>-122.445374</td>\n",
       "      <td>0.000000</td>\n",
       "      <td>0.000000</td>\n",
       "      <td>2.000000</td>\n",
       "      <td>1.000000</td>\n",
       "      <td>1.000000</td>\n",
       "      <td>1.000000</td>\n",
       "      <td>0.000000</td>\n",
       "      <td>1.000000</td>\n",
       "      <td>6.000000</td>\n",
       "      <td>95.000000</td>\n",
       "      <td>10.000000</td>\n",
       "      <td>10.000000</td>\n",
       "      <td>10.000000</td>\n",
       "      <td>10.000000</td>\n",
       "      <td>9.000000</td>\n",
       "      <td>9.000000</td>\n",
       "      <td>100.000000</td>\n",
       "    </tr>\n",
       "    <tr>\n",
       "      <th>50%</th>\n",
       "      <td>2.000000</td>\n",
       "      <td>8.000000</td>\n",
       "      <td>7.000000</td>\n",
       "      <td>37.762951</td>\n",
       "      <td>-122.428226</td>\n",
       "      <td>1.000000</td>\n",
       "      <td>0.000000</td>\n",
       "      <td>2.000000</td>\n",
       "      <td>1.000000</td>\n",
       "      <td>1.000000</td>\n",
       "      <td>1.000000</td>\n",
       "      <td>0.000000</td>\n",
       "      <td>2.000000</td>\n",
       "      <td>23.000000</td>\n",
       "      <td>97.000000</td>\n",
       "      <td>10.000000</td>\n",
       "      <td>10.000000</td>\n",
       "      <td>10.000000</td>\n",
       "      <td>10.000000</td>\n",
       "      <td>10.000000</td>\n",
       "      <td>10.000000</td>\n",
       "      <td>150.000000</td>\n",
       "    </tr>\n",
       "    <tr>\n",
       "      <th>75%</th>\n",
       "      <td>3.000000</td>\n",
       "      <td>18.000000</td>\n",
       "      <td>13.000000</td>\n",
       "      <td>37.780932</td>\n",
       "      <td>-122.412364</td>\n",
       "      <td>1.500000</td>\n",
       "      <td>1.000000</td>\n",
       "      <td>4.000000</td>\n",
       "      <td>1.500000</td>\n",
       "      <td>2.000000</td>\n",
       "      <td>2.000000</td>\n",
       "      <td>0.000000</td>\n",
       "      <td>4.000000</td>\n",
       "      <td>67.000000</td>\n",
       "      <td>99.000000</td>\n",
       "      <td>10.000000</td>\n",
       "      <td>10.000000</td>\n",
       "      <td>10.000000</td>\n",
       "      <td>10.000000</td>\n",
       "      <td>10.000000</td>\n",
       "      <td>10.000000</td>\n",
       "      <td>249.000000</td>\n",
       "    </tr>\n",
       "    <tr>\n",
       "      <th>max</th>\n",
       "      <td>964.000000</td>\n",
       "      <td>35.000000</td>\n",
       "      <td>27.000000</td>\n",
       "      <td>37.810306</td>\n",
       "      <td>-122.370427</td>\n",
       "      <td>24.000000</td>\n",
       "      <td>2.000000</td>\n",
       "      <td>16.000000</td>\n",
       "      <td>15.000000</td>\n",
       "      <td>15.000000</td>\n",
       "      <td>15.000000</td>\n",
       "      <td>4.000000</td>\n",
       "      <td>365.000000</td>\n",
       "      <td>568.000000</td>\n",
       "      <td>100.000000</td>\n",
       "      <td>10.000000</td>\n",
       "      <td>10.000000</td>\n",
       "      <td>10.000000</td>\n",
       "      <td>10.000000</td>\n",
       "      <td>10.000000</td>\n",
       "      <td>10.000000</td>\n",
       "      <td>995.000000</td>\n",
       "    </tr>\n",
       "  </tbody>\n",
       "</table>\n",
       "</div>"
      ],
      "text/plain": [
       "       host_total_listings_count  ...        price\n",
       "count                4707.000000  ...  4707.000000\n",
       "mean                    5.973019  ...   198.085617\n",
       "std                    19.851679  ...   147.134192\n",
       "min                     0.000000  ...    10.000000\n",
       "25%                     1.000000  ...   100.000000\n",
       "50%                     2.000000  ...   150.000000\n",
       "75%                     3.000000  ...   249.000000\n",
       "max                   964.000000  ...   995.000000\n",
       "\n",
       "[8 rows x 22 columns]"
      ]
     },
     "execution_count": 14,
     "metadata": {},
     "output_type": "execute_result"
    }
   ],
   "source": [
    "dataset.describe()"
   ]
  },
  {
   "cell_type": "code",
   "execution_count": 0,
   "metadata": {
    "application/vnd.databricks.v1+cell": {
     "cellMetadata": {},
     "inputWidgets": {},
     "nuid": "5824c9df-416f-4b87-88f4-7f48906cecdb",
     "showTitle": false,
     "tableResultSettingsMap": {},
     "title": ""
    }
   },
   "outputs": [
    {
     "output_type": "display_data",
     "data": {
      "image/png": "[encoded data removed]"
     },
     "metadata": {
      "application/vnd.databricks.v1+output": {
       "addedWidgets": {},
       "arguments": {},
       "data": "data:image/png;base64,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",
       "datasetInfos": [],
       "metadata": {},
       "removedWidgets": [],
       "type": "image"
      }
     },
     "output_type": "display_data"
    }
   ],
   "source": [
    "# To try different experiment runs, each with its own instance of model with the supplied parameters, \n",
    "# add more parameters to this dictionary list to experiment different parameters and their\n",
    "# effects on evaluation metrics.\n",
    "params_list = [ {\"n_estimators\": 75,\"max_depth\": 6, \"random_state\": 42}]\n",
    "# run these experiments, each with its own instance of model with the supplied parameters.\n",
    "for params in params_list:\n",
    "  rfr = RFFExperimentModel.new_instance(params)  \n",
    "  experiment = \"Experiment with {} trees\".format(params['n_estimators'])\n",
    "  (experimentID, runID) = rfr.mlflow_run(dataset, r_name=experiment)\n",
    "  print(\"MLflow Run completed with run_id {} and experiment_id {}\".format(runID, experimentID))\n",
    "  print(\"-\" * 100)"
   ]
  },
  {
   "cell_type": "markdown",
   "metadata": {
    "application/vnd.databricks.v1+cell": {
     "cellMetadata": {},
     "inputWidgets": {},
     "nuid": "ea4f3896-17bf-4591-be98-9d2356985ea2",
     "showTitle": false,
     "tableResultSettingsMap": {},
     "title": ""
    }
   },
   "source": [
    "#### Lab/Homework for Some Experimental runs\n",
    "\n",
    " 1. Consult [RandomForestRegressor](https://scikit-learn.org/stable/modules/generated/sklearn.ensemble.RandomForestRegressor.html) documentation to see what hyperparameters you can specify\n",
    "  * Change or add parameters, such as depth of the tree\n",
    " 2. Change or alter the range of runs and increments of n_estimators\n",
    " 3. Use [scikit-learn cross validation](https://scikit-learn.org/stable/modules/generated/sklearn.model_selection.cross_validate.html) to see any difference in metrics"
   ]
  }
 ],
 "metadata": {
  "application/vnd.databricks.v1+notebook": {
   "computePreferences": null,
   "dashboards": [],
   "environmentMetadata": null,
   "inputWidgetPreferences": null,
   "language": "python",
   "notebookMetadata": {
    "pythonIndentUnit": 2
   },
   "notebookName": "3_airbnb_random_forest_lab",
   "widgets": {}
  },
  "language_info": {
   "name": "python"
  }
 },
 "nbformat": 4,
 "nbformat_minor": 0
}